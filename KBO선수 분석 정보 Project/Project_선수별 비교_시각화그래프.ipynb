{
 "cells": [
  {
   "cell_type": "code",
   "execution_count": 1,
   "id": "161e4dac-c8da-452f-9bac-e1f0f6baa41b",
   "metadata": {},
   "outputs": [],
   "source": [
    "import pandas as pd\n",
    "import numpy as np\n",
    "import plotly.express as px\n",
    "import plotly.graph_objects as go\n",
    "from plotly.subplots import make_subplots\n",
    "from sklearn.preprocessing import MinMaxScaler, StandardScaler\n",
    "import matplotlib.pyplot as plt"
   ]
  },
  {
   "cell_type": "code",
   "execution_count": 2,
   "id": "36e9f202-bdb3-4790-8e78-aac4bbc115dd",
   "metadata": {},
   "outputs": [],
   "source": [
    "import warnings\n",
    "warnings.filterwarnings('ignore')"
   ]
  },
  {
   "cell_type": "code",
   "execution_count": 3,
   "id": "363676e4-ce47-467a-be31-43e751c798fc",
   "metadata": {},
   "outputs": [],
   "source": [
    "# 파이썬 시각화 패키지 불러오기\n",
    "import matplotlib.pyplot as plt\n",
    "%matplotlib inline\n",
    "# 사용자 운영체제 확인\n",
    "import platform\n",
    "platform.system()\n",
    "# 운영체제별 한글 폰트 설정\n",
    "if platform.system() == 'Darwin': # Mac 환경 폰트 설정\n",
    "    plt.rc('font', family='AppleGothic')\n",
    "elif platform.system() == 'Windows': # Windows 환경 폰트 설정\n",
    "    plt.rc('font', family='Malgun Gothic')\n",
    "plt.rc('axes', unicode_minus=False) # 마이너스 폰트 설정\n",
    "# 글씨 선명하게 출력하는 설정\n",
    "%config InlineBackend.figure_format = 'retina'"
   ]
  },
  {
   "cell_type": "code",
   "execution_count": 3,
   "id": "eb33db49-56e5-45d9-a8c7-3b346823e489",
   "metadata": {},
   "outputs": [
    {
     "data": {
      "text/html": [
       "<div>\n",
       "<style scoped>\n",
       "    .dataframe tbody tr th:only-of-type {\n",
       "        vertical-align: middle;\n",
       "    }\n",
       "\n",
       "    .dataframe tbody tr th {\n",
       "        vertical-align: top;\n",
       "    }\n",
       "\n",
       "    .dataframe thead th {\n",
       "        text-align: right;\n",
       "    }\n",
       "</style>\n",
       "<table border=\"1\" class=\"dataframe\">\n",
       "  <thead>\n",
       "    <tr style=\"text-align: right;\">\n",
       "      <th></th>\n",
       "      <th>code</th>\n",
       "      <th>avg</th>\n",
       "      <th>slg</th>\n",
       "      <th>bbk</th>\n",
       "      <th>wpa</th>\n",
       "      <th>re24</th>\n",
       "      <th>obp</th>\n",
       "    </tr>\n",
       "  </thead>\n",
       "  <tbody>\n",
       "    <tr>\n",
       "      <th>0</th>\n",
       "      <td>50066</td>\n",
       "      <td>0.226</td>\n",
       "      <td>0.343</td>\n",
       "      <td>0.214</td>\n",
       "      <td>0.000</td>\n",
       "      <td>0.000</td>\n",
       "      <td>0.259</td>\n",
       "    </tr>\n",
       "    <tr>\n",
       "      <th>1</th>\n",
       "      <td>50165</td>\n",
       "      <td>0.268</td>\n",
       "      <td>0.545</td>\n",
       "      <td>0.405</td>\n",
       "      <td>-0.007</td>\n",
       "      <td>0.050</td>\n",
       "      <td>0.355</td>\n",
       "    </tr>\n",
       "    <tr>\n",
       "      <th>2</th>\n",
       "      <td>50202</td>\n",
       "      <td>0.291</td>\n",
       "      <td>0.350</td>\n",
       "      <td>0.633</td>\n",
       "      <td>0.000</td>\n",
       "      <td>0.000</td>\n",
       "      <td>0.355</td>\n",
       "    </tr>\n",
       "    <tr>\n",
       "      <th>3</th>\n",
       "      <td>50293</td>\n",
       "      <td>0.239</td>\n",
       "      <td>0.310</td>\n",
       "      <td>0.400</td>\n",
       "      <td>-0.002</td>\n",
       "      <td>-0.120</td>\n",
       "      <td>0.321</td>\n",
       "    </tr>\n",
       "    <tr>\n",
       "      <th>4</th>\n",
       "      <td>50350</td>\n",
       "      <td>0.268</td>\n",
       "      <td>0.364</td>\n",
       "      <td>0.513</td>\n",
       "      <td>-0.014</td>\n",
       "      <td>-0.200</td>\n",
       "      <td>0.328</td>\n",
       "    </tr>\n",
       "    <tr>\n",
       "      <th>...</th>\n",
       "      <td>...</td>\n",
       "      <td>...</td>\n",
       "      <td>...</td>\n",
       "      <td>...</td>\n",
       "      <td>...</td>\n",
       "      <td>...</td>\n",
       "      <td>...</td>\n",
       "    </tr>\n",
       "    <tr>\n",
       "      <th>297</th>\n",
       "      <td>79465</td>\n",
       "      <td>0.245</td>\n",
       "      <td>0.286</td>\n",
       "      <td>0.457</td>\n",
       "      <td>-0.001</td>\n",
       "      <td>-0.245</td>\n",
       "      <td>0.335</td>\n",
       "    </tr>\n",
       "    <tr>\n",
       "      <th>298</th>\n",
       "      <td>79608</td>\n",
       "      <td>0.302</td>\n",
       "      <td>0.441</td>\n",
       "      <td>0.867</td>\n",
       "      <td>0.003</td>\n",
       "      <td>-0.070</td>\n",
       "      <td>0.368</td>\n",
       "    </tr>\n",
       "    <tr>\n",
       "      <th>299</th>\n",
       "      <td>79705</td>\n",
       "      <td>0.241</td>\n",
       "      <td>0.392</td>\n",
       "      <td>0.431</td>\n",
       "      <td>0.000</td>\n",
       "      <td>0.000</td>\n",
       "      <td>0.319</td>\n",
       "    </tr>\n",
       "    <tr>\n",
       "      <th>300</th>\n",
       "      <td>99606</td>\n",
       "      <td>0.293</td>\n",
       "      <td>0.418</td>\n",
       "      <td>0.327</td>\n",
       "      <td>0.000</td>\n",
       "      <td>-0.260</td>\n",
       "      <td>0.367</td>\n",
       "    </tr>\n",
       "    <tr>\n",
       "      <th>301</th>\n",
       "      <td>99810</td>\n",
       "      <td>0.318</td>\n",
       "      <td>0.417</td>\n",
       "      <td>0.714</td>\n",
       "      <td>-0.001</td>\n",
       "      <td>-0.035</td>\n",
       "      <td>0.371</td>\n",
       "    </tr>\n",
       "  </tbody>\n",
       "</table>\n",
       "<p>302 rows × 7 columns</p>\n",
       "</div>"
      ],
      "text/plain": [
       "      code    avg    slg    bbk    wpa   re24    obp\n",
       "0    50066  0.226  0.343  0.214  0.000  0.000  0.259\n",
       "1    50165  0.268  0.545  0.405 -0.007  0.050  0.355\n",
       "2    50202  0.291  0.350  0.633  0.000  0.000  0.355\n",
       "3    50293  0.239  0.310  0.400 -0.002 -0.120  0.321\n",
       "4    50350  0.268  0.364  0.513 -0.014 -0.200  0.328\n",
       "..     ...    ...    ...    ...    ...    ...    ...\n",
       "297  79465  0.245  0.286  0.457 -0.001 -0.245  0.335\n",
       "298  79608  0.302  0.441  0.867  0.003 -0.070  0.368\n",
       "299  79705  0.241  0.392  0.431  0.000  0.000  0.319\n",
       "300  99606  0.293  0.418  0.327  0.000 -0.260  0.367\n",
       "301  99810  0.318  0.417  0.714 -0.001 -0.035  0.371\n",
       "\n",
       "[302 rows x 7 columns]"
      ]
     },
     "execution_count": 3,
     "metadata": {},
     "output_type": "execute_result"
    }
   ],
   "source": [
    "total_hit = pd.read_csv('hit_total.csv', index_col=False).drop('idx', axis=1)\n",
    "total_hit"
   ]
  },
  {
   "cell_type": "code",
   "execution_count": null,
   "id": "706af084-2122-4cde-9caf-ac7b8aa715c9",
   "metadata": {},
   "outputs": [],
   "source": []
  },
  {
   "cell_type": "markdown",
   "id": "f6efc6b4-9e59-4698-a28a-d24ee1b853e8",
   "metadata": {
    "tags": []
   },
   "source": [
    "### 선수 3명 비교 가능한 Radar Chart"
   ]
  },
  {
   "cell_type": "code",
   "execution_count": 365,
   "id": "0a902181-74ad-46be-86b7-c25cc5b49eb4",
   "metadata": {
    "tags": []
   },
   "outputs": [
    {
     "name": "stdout",
     "output_type": "stream",
     "text": [
      "['A', 'B', 'C']\n"
     ]
    },
    {
     "data": {
      "application/vnd.plotly.v1+json": {
       "config": {
        "plotlyServerURL": "https://plot.ly"
       },
       "data": [
        {
         "fill": "toself",
         "hovertemplate": "r=%{r}<br>theta=%{theta}<extra></extra>",
         "legendgroup": "",
         "line": {
          "color": "Green",
          "dash": "solid"
         },
         "marker": {
          "symbol": "circle"
         },
         "mode": "lines",
         "name": "",
         "opacity": 0.3333333333333333,
         "r": [
          9,
          9,
          1,
          9,
          9,
          8.92,
          9
         ],
         "showlegend": false,
         "subplot": "polar",
         "theta": [
          "avg",
          "slg",
          "bbk",
          "wpa",
          "re24",
          "obp",
          "avg"
         ],
         "type": "scatterpolar",
         "visible": true
        },
        {
         "fill": "toself",
         "hovertemplate": "r=%{r}<br>theta=%{theta}<extra></extra>",
         "legendgroup": "",
         "line": {
          "color": "Red",
          "dash": "solid"
         },
         "marker": {
          "symbol": "circle"
         },
         "mode": "lines",
         "name": "",
         "opacity": 0.6666666666666666,
         "r": [
          1,
          1,
          2.35,
          1,
          9,
          1,
          1
         ],
         "showlegend": false,
         "subplot": "polar",
         "theta": [
          "avg",
          "slg",
          "bbk",
          "wpa",
          "re24",
          "obp",
          "avg"
         ],
         "type": "scatterpolar"
        },
        {
         "fill": "toself",
         "hovertemplate": "r=%{r}<br>theta=%{theta}<extra></extra>",
         "legendgroup": "",
         "line": {
          "color": "blue",
          "dash": "solid"
         },
         "marker": {
          "symbol": "circle"
         },
         "mode": "lines",
         "name": "",
         "opacity": 0.6666666666666666,
         "r": [
          8.44,
          3.74,
          8.55,
          1,
          1,
          9,
          8.44
         ],
         "showlegend": false,
         "subplot": "polar",
         "theta": [
          "avg",
          "slg",
          "bbk",
          "wpa",
          "re24",
          "obp",
          "avg"
         ],
         "type": "scatterpolar"
        }
       ],
       "layout": {
        "autosize": true,
        "legend": {
         "tracegroupgap": 0
        },
        "margin": {
         "t": 60
        },
        "polar": {
         "angularaxis": {
          "direction": "clockwise",
          "rotation": 90,
          "type": "category"
         },
         "domain": {
          "x": [
           0,
           1
          ],
          "y": [
           0,
           1
          ]
         },
         "radialaxis": {
          "autorange": false,
          "range": [
           0,
           10
          ],
          "showticklabels": false,
          "type": "linear",
          "visible": true
         }
        },
        "showlegend": true,
        "template": {
         "data": {
          "pie": [
           {
            "automargin": true,
            "type": "pie"
           }
          ],
          "scatter": [
           {
            "line": {
             "width": 3
            },
            "marker": {
             "size": 9
            },
            "type": "scatter"
           }
          ],
          "scatter3d": [
           {
            "line": {
             "width": 3
            },
            "marker": {
             "size": 9
            },
            "type": "scatter3d"
           }
          ],
          "scattergeo": [
           {
            "line": {
             "width": 3
            },
            "marker": {
             "size": 9
            },
            "type": "scattergeo"
           }
          ],
          "scattergl": [
           {
            "line": {
             "width": 3
            },
            "marker": {
             "size": 9
            },
            "type": "scattergl"
           }
          ],
          "scatterpolar": [
           {
            "line": {
             "width": 3
            },
            "marker": {
             "size": 9
            },
            "type": "scatterpolar"
           }
          ],
          "scatterpolargl": [
           {
            "line": {
             "width": 3
            },
            "marker": {
             "size": 9
            },
            "type": "scatterpolargl"
           }
          ],
          "scatterternary": [
           {
            "line": {
             "width": 3
            },
            "marker": {
             "size": 9
            },
            "type": "scatterternary"
           }
          ],
          "table": [
           {
            "cells": {
             "height": 30
            },
            "header": {
             "height": 36
            },
            "type": "table"
           }
          ]
         },
         "layout": {
          "font": {
           "size": 18
          },
          "xaxis": {
           "title": {
            "standoff": 15
           }
          },
          "yaxis": {
           "title": {
            "standoff": 15
           }
          }
         }
        }
       }
      },
      "image/png": "[encoded data removed]",
      "text/html": [
       "<div>                            <div id=\"88372d30-83a6-4cd7-87c8-ea46df7ffcae\" class=\"plotly-graph-div\" style=\"height:525px; width:100%;\"></div>            <script type=\"text/javascript\">                require([\"plotly\"], function(Plotly) {                    window.PLOTLYENV=window.PLOTLYENV || {};                                    if (document.getElementById(\"88372d30-83a6-4cd7-87c8-ea46df7ffcae\")) {                    Plotly.newPlot(                        \"88372d30-83a6-4cd7-87c8-ea46df7ffcae\",                        [{\"hovertemplate\":\"r=%{r}<br>theta=%{theta}<extra></extra>\",\"legendgroup\":\"\",\"line\":{\"color\":\"Green\",\"dash\":\"solid\"},\"marker\":{\"symbol\":\"circle\"},\"mode\":\"lines\",\"name\":\"\",\"r\":[9.0,9.0,1.0,9.0,9.0,8.92,9.0],\"showlegend\":false,\"subplot\":\"polar\",\"theta\":[\"avg\",\"slg\",\"bbk\",\"wpa\",\"re24\",\"obp\",\"avg\"],\"type\":\"scatterpolar\",\"fill\":\"toself\",\"opacity\":0.3333333333333333,\"visible\":true},{\"fill\":\"toself\",\"hovertemplate\":\"r=%{r}<br>theta=%{theta}<extra></extra>\",\"legendgroup\":\"\",\"line\":{\"color\":\"Red\",\"dash\":\"solid\"},\"marker\":{\"symbol\":\"circle\"},\"mode\":\"lines\",\"name\":\"\",\"opacity\":0.6666666666666666,\"r\":[1.0,1.0,2.35,1.0,9.0,1.0,1.0],\"showlegend\":false,\"subplot\":\"polar\",\"theta\":[\"avg\",\"slg\",\"bbk\",\"wpa\",\"re24\",\"obp\",\"avg\"],\"type\":\"scatterpolar\"},{\"fill\":\"toself\",\"hovertemplate\":\"r=%{r}<br>theta=%{theta}<extra></extra>\",\"legendgroup\":\"\",\"line\":{\"color\":\"blue\",\"dash\":\"solid\"},\"marker\":{\"symbol\":\"circle\"},\"mode\":\"lines\",\"name\":\"\",\"opacity\":0.6666666666666666,\"r\":[8.44,3.74,8.55,1.0,1.0,9.0,8.44],\"showlegend\":false,\"subplot\":\"polar\",\"theta\":[\"avg\",\"slg\",\"bbk\",\"wpa\",\"re24\",\"obp\",\"avg\"],\"type\":\"scatterpolar\"}],                        {\"template\":{\"data\":{\"pie\":[{\"automargin\":true,\"type\":\"pie\"}],\"scatter3d\":[{\"line\":{\"width\":3},\"marker\":{\"size\":9},\"type\":\"scatter3d\"}],\"scattergeo\":[{\"line\":{\"width\":3},\"marker\":{\"size\":9},\"type\":\"scattergeo\"}],\"scattergl\":[{\"line\":{\"width\":3},\"marker\":{\"size\":9},\"type\":\"scattergl\"}],\"scatterpolargl\":[{\"line\":{\"width\":3},\"marker\":{\"size\":9},\"type\":\"scatterpolargl\"}],\"scatterpolar\":[{\"line\":{\"width\":3},\"marker\":{\"size\":9},\"type\":\"scatterpolar\"}],\"scatter\":[{\"line\":{\"width\":3},\"marker\":{\"size\":9},\"type\":\"scatter\"}],\"scatterternary\":[{\"line\":{\"width\":3},\"marker\":{\"size\":9},\"type\":\"scatterternary\"}],\"table\":[{\"cells\":{\"height\":30},\"header\":{\"height\":36},\"type\":\"table\"}]},\"layout\":{\"font\":{\"size\":18},\"xaxis\":{\"title\":{\"standoff\":15}},\"yaxis\":{\"title\":{\"standoff\":15}}}},\"polar\":{\"domain\":{\"x\":[0.0,1.0],\"y\":[0.0,1.0]},\"angularaxis\":{\"direction\":\"clockwise\",\"rotation\":90},\"radialaxis\":{\"range\":[0,10],\"showticklabels\":false,\"visible\":true}},\"legend\":{\"tracegroupgap\":0},\"margin\":{\"t\":60},\"showlegend\":true},                        {\"responsive\": true}                    ).then(function(){\n",
       "                            \n",
       "var gd = document.getElementById('88372d30-83a6-4cd7-87c8-ea46df7ffcae');\n",
       "var x = new MutationObserver(function (mutations, observer) {{\n",
       "        var display = window.getComputedStyle(gd).display;\n",
       "        if (!display || display === 'none') {{\n",
       "            console.log([gd, 'removed!']);\n",
       "            Plotly.purge(gd);\n",
       "            observer.disconnect();\n",
       "        }}\n",
       "}});\n",
       "\n",
       "// Listen for the removal of the full notebook cells\n",
       "var notebookContainer = gd.closest('#notebook-container');\n",
       "if (notebookContainer) {{\n",
       "    x.observe(notebookContainer, {childList: true});\n",
       "}}\n",
       "\n",
       "// Listen for the clearing of the current output cell\n",
       "var outputEl = gd.closest('.output');\n",
       "if (outputEl) {{\n",
       "    x.observe(outputEl, {childList: true});\n",
       "}}\n",
       "\n",
       "                        })                };                });            </script>        </div>"
      ]
     },
     "metadata": {},
     "output_type": "display_data"
    }
   ],
   "source": [
    "# Radar Chart 동적 코딩 (범례 X)\n",
    "\n",
    "import pandas as pd\n",
    "import numpy as np\n",
    "import matplotlib.pyplot as plt\n",
    "\n",
    "import plotly.express as px\n",
    "import plotly.graph_objects as go\n",
    "import plotly.io as pio\n",
    "\n",
    "import math\n",
    "import scipy.stats as stats\n",
    "from math import pi\n",
    "from matplotlib.path import Path\n",
    "from matplotlib.spines import Spine\n",
    "from matplotlib.transforms import Affine2D\n",
    "from sklearn.preprocessing import StandardScaler, MinMaxScaler\n",
    "import sys\n",
    "import warnings\n",
    "warnings.filterwarnings('ignore')\n",
    "\n",
    "def convert_to_float(lst):\n",
    "    return [float(x) for x in lst]\n",
    "\n",
    "def visualize(L):\n",
    "    pithit = L[1]\n",
    "    lenL = int((len(L)-2) / 7)\n",
    "    inputs = []\n",
    "    for split in range(lenL):\n",
    "        smallL = L[2+(split*7):9+(split*7)]\n",
    "        inputs.append(smallL)\n",
    "    \n",
    "    names = []\n",
    "    \n",
    "    if pithit == 'hit':\n",
    "        max = [ 0.300, 0.478, 0.780, 0, 0, 0.376]\n",
    "        min = [ 0.214, 0.288, 0.242, -0.013, -0.245, 0.272]\n",
    "        \n",
    "        sc = []\n",
    "        \n",
    "        for playerinput in inputs:\n",
    "            playerlist = convert_to_float(playerinput[:6])\n",
    "            name = playerinput[6]\n",
    "            for i, n in enumerate(playerlist):\n",
    "                if n < min[i]:\n",
    "                    n = min[i]\n",
    "                elif n > max[i]:\n",
    "                    n = max[i]\n",
    "                \n",
    "                x = round((n- min[i]) * (8 / (max[i] - min[i])) + 1, 2)\n",
    "                sc.append(x)\n",
    "            names.append(name)\n",
    "    #######################################\n",
    "    else:\n",
    "        \n",
    "        max = [ 6.409 , 0.056, 3.434, 0.0743, 1.33, 1.8138]\n",
    "        min = [ 3.156, 0.032, 1.12, -0.0839, -0.495, 1.2461]\n",
    "        \n",
    "        sc = []\n",
    "        \n",
    "        for playerinput in inputs:\n",
    "            playerlist = convert_to_float(playerinput[:6])\n",
    "            name = playerinput[6]\n",
    "            for i, n in enumerate(playerlist):\n",
    "                if n < min[i]:\n",
    "                    n = min[i]\n",
    "                elif n > max[i]:\n",
    "                    n = max[i]\n",
    "                \n",
    "                x = round((n- min[i]) * (8 / (max[i] - min[i])) + 1, 2)\n",
    "                sc.append(x)\n",
    "            names.append(name)\n",
    "    #######################################\n",
    "    \n",
    "    numsc = int(len(sc) / 6)\n",
    "    if pithit == 'pit':    \n",
    "        for num in range(numsc):\n",
    "            sc[num*6]  =  10 - sc[num*6]\n",
    "            sc[5+num*6]  =  10 - sc[5+num*6]\n",
    "    \n",
    "    #######################################\n",
    "    \n",
    "    if not pithit == 'hit': \n",
    "        colnames = ['era', 'kpit', 'kbb', 'wpa', 're24', 'whip']\n",
    "    else:\n",
    "        colnames = ['avg', 'slg', 'bbk', 'wpa', 're24', 'obp']\n",
    "    \n",
    "    fig = px.line_polar(r = sc[:6], \n",
    "                       theta = colnames,\n",
    "                        \n",
    "                       template = 'presentation', # presentation, gridon\n",
    "                       color_discrete_sequence=['Green'],\n",
    "                      range_r = [0, 10],\n",
    "                       line_close = True,     \n",
    "                    )\n",
    "    \n",
    "    fig.update_traces(fill='toself',\n",
    "                      opacity=1/(numsc),\n",
    "                     visible=True,\n",
    "\n",
    "                     )\n",
    "    \n",
    "    \n",
    "    colors = ['Red','blue' ]\n",
    "    for i in range(1, numsc):\n",
    "        fig2 = px.line_polar(r = sc[i*6:(i+1)*6], \n",
    "                       theta = colnames,\n",
    "                      \n",
    "                       template = 'presentation', \n",
    "                       color_discrete_sequence=[colors[i-1]], #Plasma_r,\n",
    "                       range_r = [0, 10],\n",
    "                       line_close = True,\n",
    "                        \n",
    "                            )\n",
    "        \n",
    "        fig2.update_traces(fill='toself',opacity=2/(numsc),)\n",
    "        \n",
    "        fig.add_traces(fig2.data)\n",
    "    \n",
    "    fig.update_layout(\n",
    "    polar=dict(\n",
    "        radialaxis_showticklabels=False,\n",
    "        radialaxis=dict(visible = True, showticklabels = False)\n",
    "        #radialaxis_visible=False,  # 반지름 축 보이기 \n",
    "        #angularaxis=dict(visible=False)  # 각도 축 숨기기\n",
    "    ),\n",
    "    showlegend=True  # 범례 숨기기\n",
    "\n",
    "    # paper_bgcolor='rgba(0,0,0,0)'  # 종이 배경 색상 설정 (투명)\n",
    "    )\n",
    "\n",
    "    \n",
    "    print(names)\n",
    "    fig.show()\n",
    "\n",
    "L = ['visualize.py', 'hit',\n",
    "0.375,0.958,0.0,0.063,1.03,0.375,'A',\n",
    "0.211,0.263,0.333,-0.024,0.1,0.25,'B',\n",
    "0.294,0.353,0.75,-0.027,-0.37,0.381, 'C']\n",
    "\n",
    "visualize(L)"
   ]
  },
  {
   "cell_type": "code",
   "execution_count": null,
   "id": "bdd6970f-33af-47a4-a37f-4eee03a02acb",
   "metadata": {},
   "outputs": [],
   "source": []
  },
  {
   "cell_type": "code",
   "execution_count": 154,
   "id": "64c11235-f025-4125-824d-d460c9f6a043",
   "metadata": {},
   "outputs": [
    {
     "name": "stdout",
     "output_type": "stream",
     "text": [
      "['안치홍', '양현종', '최형우']\n"
     ]
    },
    {
     "data": {
      "application/vnd.plotly.v1+json": {
       "config": {
        "plotlyServerURL": "https://plot.ly"
       },
       "data": [
        {
         "fill": "toself",
         "hovertemplate": "r=%{r}<br>theta=%{theta}<extra></extra>",
         "legendgroup": "",
         "line": {
          "color": "Green",
          "dash": "solid"
         },
         "marker": {
          "symbol": "circle"
         },
         "mode": "lines",
         "name": "안치홍",
         "opacity": 0.3333333333333333,
         "r": [
          9,
          9,
          1,
          9,
          9,
          8.92,
          9
         ],
         "showlegend": true,
         "subplot": "polar",
         "theta": [
          "avg",
          "slg",
          "bbk",
          "wpa",
          "re24",
          "obp",
          "avg"
         ],
         "type": "scatterpolar",
         "visible": true
        },
        {
         "fill": "toself",
         "hovertemplate": "r=%{r}<br>theta=%{theta}<extra></extra>",
         "legendgroup": "",
         "line": {
          "color": "Red",
          "dash": "solid"
         },
         "marker": {
          "symbol": "circle"
         },
         "mode": "lines",
         "name": "양현종",
         "opacity": 0.6666666666666666,
         "r": [
          1,
          1,
          2.35,
          1,
          9,
          1,
          1
         ],
         "showlegend": true,
         "subplot": "polar",
         "theta": [
          "avg",
          "slg",
          "bbk",
          "wpa",
          "re24",
          "obp",
          "avg"
         ],
         "type": "scatterpolar"
        },
        {
         "fill": "toself",
         "hovertemplate": "r=%{r}<br>theta=%{theta}<extra></extra>",
         "legendgroup": "",
         "line": {
          "color": "blue",
          "dash": "solid"
         },
         "marker": {
          "symbol": "circle"
         },
         "mode": "lines",
         "name": "최형우",
         "opacity": 0.6666666666666666,
         "r": [
          8.44,
          3.74,
          8.55,
          1,
          1,
          9,
          8.44
         ],
         "showlegend": true,
         "subplot": "polar",
         "theta": [
          "avg",
          "slg",
          "bbk",
          "wpa",
          "re24",
          "obp",
          "avg"
         ],
         "type": "scatterpolar"
        }
       ],
       "layout": {
        "autosize": true,
        "legend": {
         "font": {
          "color": "black",
          "size": 13
         },
         "tracegroupgap": 0,
         "x": 0.9,
         "xanchor": "right",
         "y": 1,
         "yanchor": "auto"
        },
        "margin": {
         "t": 60
        },
        "polar": {
         "angularaxis": {
          "direction": "clockwise",
          "rotation": 90,
          "type": "category"
         },
         "domain": {
          "x": [
           0,
           1
          ],
          "y": [
           0,
           1
          ]
         },
         "radialaxis": {
          "autorange": false,
          "range": [
           0,
           10
          ],
          "showticklabels": false,
          "type": "linear",
          "visible": true
         }
        },
        "showlegend": true,
        "template": {
         "data": {
          "pie": [
           {
            "automargin": true,
            "type": "pie"
           }
          ],
          "scatter": [
           {
            "line": {
             "width": 3
            },
            "marker": {
             "size": 9
            },
            "type": "scatter"
           }
          ],
          "scatter3d": [
           {
            "line": {
             "width": 3
            },
            "marker": {
             "size": 9
            },
            "type": "scatter3d"
           }
          ],
          "scattergeo": [
           {
            "line": {
             "width": 3
            },
            "marker": {
             "size": 9
            },
            "type": "scattergeo"
           }
          ],
          "scattergl": [
           {
            "line": {
             "width": 3
            },
            "marker": {
             "size": 9
            },
            "type": "scattergl"
           }
          ],
          "scatterpolar": [
           {
            "line": {
             "width": 3
            },
            "marker": {
             "size": 9
            },
            "type": "scatterpolar"
           }
          ],
          "scatterpolargl": [
           {
            "line": {
             "width": 3
            },
            "marker": {
             "size": 9
            },
            "type": "scatterpolargl"
           }
          ],
          "scatterternary": [
           {
            "line": {
             "width": 3
            },
            "marker": {
             "size": 9
            },
            "type": "scatterternary"
           }
          ],
          "table": [
           {
            "cells": {
             "height": 30
            },
            "header": {
             "height": 36
            },
            "type": "table"
           }
          ]
         },
         "layout": {
          "font": {
           "size": 18
          },
          "xaxis": {
           "title": {
            "standoff": 15
           }
          },
          "yaxis": {
           "title": {
            "standoff": 15
           }
          }
         }
        }
       }
      },
      "image/png": "[encoded data removed]",
      "text/html": [
       "<div>                            <div id=\"e31683cd-be96-467e-b383-bb83b8cdedc1\" class=\"plotly-graph-div\" style=\"height:525px; width:100%;\"></div>            <script type=\"text/javascript\">                require([\"plotly\"], function(Plotly) {                    window.PLOTLYENV=window.PLOTLYENV || {};                                    if (document.getElementById(\"e31683cd-be96-467e-b383-bb83b8cdedc1\")) {                    Plotly.newPlot(                        \"e31683cd-be96-467e-b383-bb83b8cdedc1\",                        [{\"hovertemplate\":\"r=%{r}<br>theta=%{theta}<extra></extra>\",\"legendgroup\":\"\",\"line\":{\"color\":\"Green\",\"dash\":\"solid\"},\"marker\":{\"symbol\":\"circle\"},\"mode\":\"lines\",\"name\":\"\\uc548\\uce58\\ud64d\",\"r\":[9.0,9.0,1.0,9.0,9.0,8.92,9.0],\"showlegend\":true,\"subplot\":\"polar\",\"theta\":[\"avg\",\"slg\",\"bbk\",\"wpa\",\"re24\",\"obp\",\"avg\"],\"type\":\"scatterpolar\",\"fill\":\"toself\",\"opacity\":0.3333333333333333,\"visible\":true},{\"fill\":\"toself\",\"hovertemplate\":\"r=%{r}<br>theta=%{theta}<extra></extra>\",\"legendgroup\":\"\",\"line\":{\"color\":\"Red\",\"dash\":\"solid\"},\"marker\":{\"symbol\":\"circle\"},\"mode\":\"lines\",\"name\":\"\\uc591\\ud604\\uc885\",\"opacity\":0.6666666666666666,\"r\":[1.0,1.0,2.35,1.0,9.0,1.0,1.0],\"showlegend\":true,\"subplot\":\"polar\",\"theta\":[\"avg\",\"slg\",\"bbk\",\"wpa\",\"re24\",\"obp\",\"avg\"],\"type\":\"scatterpolar\"},{\"fill\":\"toself\",\"hovertemplate\":\"r=%{r}<br>theta=%{theta}<extra></extra>\",\"legendgroup\":\"\",\"line\":{\"color\":\"blue\",\"dash\":\"solid\"},\"marker\":{\"symbol\":\"circle\"},\"mode\":\"lines\",\"name\":\"\\ucd5c\\ud615\\uc6b0\",\"opacity\":0.6666666666666666,\"r\":[8.44,3.74,8.55,1.0,1.0,9.0,8.44],\"showlegend\":true,\"subplot\":\"polar\",\"theta\":[\"avg\",\"slg\",\"bbk\",\"wpa\",\"re24\",\"obp\",\"avg\"],\"type\":\"scatterpolar\"}],                        {\"template\":{\"data\":{\"pie\":[{\"automargin\":true,\"type\":\"pie\"}],\"scatter3d\":[{\"line\":{\"width\":3},\"marker\":{\"size\":9},\"type\":\"scatter3d\"}],\"scattergeo\":[{\"line\":{\"width\":3},\"marker\":{\"size\":9},\"type\":\"scattergeo\"}],\"scattergl\":[{\"line\":{\"width\":3},\"marker\":{\"size\":9},\"type\":\"scattergl\"}],\"scatterpolargl\":[{\"line\":{\"width\":3},\"marker\":{\"size\":9},\"type\":\"scatterpolargl\"}],\"scatterpolar\":[{\"line\":{\"width\":3},\"marker\":{\"size\":9},\"type\":\"scatterpolar\"}],\"scatter\":[{\"line\":{\"width\":3},\"marker\":{\"size\":9},\"type\":\"scatter\"}],\"scatterternary\":[{\"line\":{\"width\":3},\"marker\":{\"size\":9},\"type\":\"scatterternary\"}],\"table\":[{\"cells\":{\"height\":30},\"header\":{\"height\":36},\"type\":\"table\"}]},\"layout\":{\"font\":{\"size\":18},\"xaxis\":{\"title\":{\"standoff\":15}},\"yaxis\":{\"title\":{\"standoff\":15}}}},\"polar\":{\"domain\":{\"x\":[0.0,1.0],\"y\":[0.0,1.0]},\"angularaxis\":{\"direction\":\"clockwise\",\"rotation\":90},\"radialaxis\":{\"range\":[0,10],\"showticklabels\":false,\"visible\":true}},\"legend\":{\"tracegroupgap\":0,\"font\":{\"size\":13,\"color\":\"black\"},\"x\":0.9,\"y\":1,\"xanchor\":\"right\",\"yanchor\":\"auto\"},\"margin\":{\"t\":60},\"showlegend\":true},                        {\"responsive\": true}                    ).then(function(){\n",
       "                            \n",
       "var gd = document.getElementById('e31683cd-be96-467e-b383-bb83b8cdedc1');\n",
       "var x = new MutationObserver(function (mutations, observer) {{\n",
       "        var display = window.getComputedStyle(gd).display;\n",
       "        if (!display || display === 'none') {{\n",
       "            console.log([gd, 'removed!']);\n",
       "            Plotly.purge(gd);\n",
       "            observer.disconnect();\n",
       "        }}\n",
       "}});\n",
       "\n",
       "// Listen for the removal of the full notebook cells\n",
       "var notebookContainer = gd.closest('#notebook-container');\n",
       "if (notebookContainer) {{\n",
       "    x.observe(notebookContainer, {childList: true});\n",
       "}}\n",
       "\n",
       "// Listen for the clearing of the current output cell\n",
       "var outputEl = gd.closest('.output');\n",
       "if (outputEl) {{\n",
       "    x.observe(outputEl, {childList: true});\n",
       "}}\n",
       "\n",
       "                        })                };                });            </script>        </div>"
      ]
     },
     "metadata": {},
     "output_type": "display_data"
    }
   ],
   "source": [
    "# Line_polar 동적 코딩 (범례 추가)\n",
    "\n",
    "import pandas as pd\n",
    "import numpy as np\n",
    "import matplotlib.pyplot as plt\n",
    "\n",
    "import plotly.express as px\n",
    "import plotly.graph_objects as go\n",
    "import plotly.io as pio\n",
    "\n",
    "import math\n",
    "import scipy.stats as stats\n",
    "from math import pi\n",
    "from matplotlib.path import Path\n",
    "from matplotlib.spines import Spine\n",
    "from matplotlib.transforms import Affine2D\n",
    "from sklearn.preprocessing import StandardScaler, MinMaxScaler\n",
    "import sys\n",
    "import warnings\n",
    "warnings.filterwarnings('ignore')\n",
    "\n",
    "def convert_to_float(lst):\n",
    "    return [float(x) for x in lst]\n",
    "\n",
    "def visualize(L):\n",
    "    pithit = L[1]\n",
    "    lenL = int((len(L)-2) / 7)\n",
    "    inputs = []\n",
    "    for split in range(lenL):\n",
    "        smallL = L[2+(split*7):9+(split*7)]\n",
    "        inputs.append(smallL)\n",
    "    \n",
    "    names = []\n",
    "    \n",
    "    if pithit == 'hit':\n",
    "        max = [ 0.300, 0.478, 0.780, 0, 0, 0.376]\n",
    "        min = [ 0.214, 0.288, 0.242, -0.013, -0.245, 0.272]\n",
    "        \n",
    "        sc = []\n",
    "        \n",
    "        for playerinput in inputs:\n",
    "            playerlist = convert_to_float(playerinput[:6])\n",
    "            name = playerinput[6]\n",
    "            for i, n in enumerate(playerlist):\n",
    "                if n < min[i]:\n",
    "                    n = min[i]\n",
    "                elif n > max[i]:\n",
    "                    n = max[i]\n",
    "                \n",
    "                x = round((n- min[i]) * (8 / (max[i] - min[i])) + 1, 2)\n",
    "                sc.append(x)\n",
    "            names.append(name)\n",
    "    #######################################\n",
    "    else:\n",
    "        \n",
    "        max = [ 6.409 , 0.056, 3.434, 0.0743, 1.33, 1.8138]\n",
    "        min = [ 3.156, 0.032, 1.12, -0.0839, -0.495, 1.2461]\n",
    "        \n",
    "        sc = []\n",
    "        \n",
    "        for playerinput in inputs:\n",
    "            playerlist = convert_to_float(playerinput[:6])\n",
    "            name = playerinput[6]\n",
    "            for i, n in enumerate(playerlist):\n",
    "                if n < min[i]:\n",
    "                    n = min[i]\n",
    "                elif n > max[i]:\n",
    "                    n = max[i]\n",
    "                \n",
    "                x = round((n- min[i]) * (8 / (max[i] - min[i])) + 1, 2)\n",
    "                sc.append(x)\n",
    "            names.append(name)\n",
    "    #######################################\n",
    "    \n",
    "    numsc = int(len(sc) / 6)\n",
    "    if pithit == 'pit':    \n",
    "        for num in range(numsc):\n",
    "            sc[num*6]  =  10 - sc[num*6]\n",
    "            sc[5+num*6]  =  10 - sc[5+num*6]\n",
    "    \n",
    "    #######################################\n",
    "    \n",
    "    if not pithit == 'hit': \n",
    "        colnames = ['era', 'kpit', 'kbb', 'wpa', 're24', 'whip']\n",
    "    else:\n",
    "        colnames = ['avg', 'slg', 'bbk', 'wpa', 're24', 'obp']\n",
    "    \n",
    "    fig = px.line_polar(r = sc[:6], \n",
    "                       theta = colnames,\n",
    "                        \n",
    "                       template = 'presentation', # presentation, gridon\n",
    "                       color_discrete_sequence=['Green'],\n",
    "                      range_r = [0, 10],\n",
    "                       line_close = True,\n",
    "                    )\n",
    "    \n",
    "    fig.update_traces(fill='toself',\n",
    "                      opacity=1/(numsc),\n",
    "                     visible=True,\n",
    "                      showlegend=True,\n",
    "                      name=names[0]\n",
    "\n",
    "                     )\n",
    "    \n",
    "    \n",
    "    colors = ['Red','blue' ]\n",
    "    for i in range(1, numsc):\n",
    "        fig2 = px.line_polar(r = sc[i*6:(i+1)*6], \n",
    "                       theta = colnames,\n",
    "                       template = 'presentation', \n",
    "                       color_discrete_sequence=[colors[i-1]], #Plasma_r,\n",
    "                       range_r = [0, 10],\n",
    "                       line_close = True \n",
    "                            )\n",
    "        \n",
    "        fig2.update_traces(fill='toself',opacity=2/(numsc), name=names[i], showlegend=True)\n",
    "        \n",
    "        fig.add_traces(fig2.data)\n",
    "    \n",
    "    fig.update_layout(\n",
    "        polar=dict(\n",
    "        radialaxis_showticklabels=False,\n",
    "        radialaxis=dict(visible = True, showticklabels = False)\n",
    "        #radialaxis_visible=False,  # 반지름 축 보이기 \n",
    "        #angularaxis=dict(visible=False)  # 각도 축 숨기기\n",
    "        ),\n",
    "        showlegend=True,  # 범례 숨기기\n",
    "        legend=dict(x=0.9, y=1, font=dict(size=13, color='black'),\n",
    "                   xanchor='right',\n",
    "                   yanchor='auto')\n",
    "\n",
    "        # paper_bgcolor='white'  # 종이 배경 색상 설정 (투명)\n",
    "        )\n",
    "\n",
    "    print(names)\n",
    "    fig.show()\n",
    "    \n",
    "L = ['visualize.py', 'hit',\n",
    "0.375,0.958,0.0,0.063,1.03,0.375,'안치홍',\n",
    "0.211,0.263,0.333,-0.024,0.1,0.25,'양현종',\n",
    "0.294,0.353,0.75,-0.027,-0.37,0.381, '최형우']\n",
    "\n",
    "visualize(L)"
   ]
  },
  {
   "cell_type": "code",
   "execution_count": 368,
   "id": "93ba2f7a-52a4-47ac-92b6-61a155fb26e0",
   "metadata": {},
   "outputs": [
    {
     "data": {
      "text/plain": [
       "23"
      ]
     },
     "execution_count": 368,
     "metadata": {},
     "output_type": "execute_result"
    }
   ],
   "source": [
    "L = ['visualize.py', 'hit',\n",
    "0.375,0.958,0.0,0.063,1.03,0.375,'A',\n",
    "0.211,0.263,0.333,-0.024,0.1,0.25,'B',\n",
    "0.294,0.353,0.75,-0.027,-0.37,0.381, 'C']\n",
    "len(L)"
   ]
  },
  {
   "cell_type": "code",
   "execution_count": null,
   "id": "f9ec213b-0728-477e-b57c-e2a02da76916",
   "metadata": {},
   "outputs": [],
   "source": [
    "comparison_by_hit([0.226,0.343,0.214,0.000,0.000,0.259], [0.291,0.350,0.633,0.000,0.000,0.355], [0.241,0.392,0.431,0.000,0.000,0.319])"
   ]
  },
  {
   "cell_type": "markdown",
   "id": "9fc1ed18-ff24-4961-8ff8-c4d32e6849bd",
   "metadata": {},
   "source": [
    "### 선수 별 비교 page - 각 선수 별 통산 타율, 장타율, 출루율 bar 그래프"
   ]
  },
  {
   "cell_type": "code",
   "execution_count": 73,
   "id": "6cd533bf-9286-4528-983b-a980960c4568",
   "metadata": {},
   "outputs": [
    {
     "data": {
      "application/vnd.plotly.v1+json": {
       "config": {
        "plotlyServerURL": "https://plot.ly"
       },
       "data": [
        {
         "marker": {
          "color": 1,
          "line": {
           "color": "gray",
           "width": 0.22
          }
         },
         "name": "1",
         "orientation": "h",
         "type": "bar",
         "width": 0.22,
         "x": [
          0.226,
          0.343,
          0.259
         ],
         "y": [
          "타율",
          "장타율",
          "출루율"
         ]
        },
        {
         "marker": {
          "color": 2,
          "line": {
           "color": "gray",
           "width": 0.22
          }
         },
         "name": "2",
         "orientation": "h",
         "type": "bar",
         "width": 0.22,
         "x": [
          0.291,
          0.35,
          0.355
         ],
         "y": [
          "타율",
          "장타율",
          "출루율"
         ]
        },
        {
         "marker": {
          "color": 3,
          "line": {
           "color": "gray",
           "width": 0.22
          }
         },
         "name": "3",
         "orientation": "h",
         "type": "bar",
         "width": 0.22,
         "x": [
          0.241,
          0.392,
          0.319
         ],
         "y": [
          "타율",
          "장타율",
          "출루율"
         ]
        }
       ],
       "layout": {
        "autosize": true,
        "barmode": "group",
        "legend": {
         "borderwidth": 0.1,
         "orientation": "h",
         "x": 1,
         "xanchor": "right",
         "y": 1.01,
         "yanchor": "bottom"
        },
        "template": {
         "data": {
          "bar": [
           {
            "error_x": {
             "color": "#2a3f5f"
            },
            "error_y": {
             "color": "#2a3f5f"
            },
            "marker": {
             "line": {
              "color": "#E5ECF6",
              "width": 0.5
             },
             "pattern": {
              "fillmode": "overlay",
              "size": 10,
              "solidity": 0.2
             }
            },
            "type": "bar"
           }
          ],
          "barpolar": [
           {
            "marker": {
             "line": {
              "color": "#E5ECF6",
              "width": 0.5
             },
             "pattern": {
              "fillmode": "overlay",
              "size": 10,
              "solidity": 0.2
             }
            },
            "type": "barpolar"
           }
          ],
          "carpet": [
           {
            "aaxis": {
             "endlinecolor": "#2a3f5f",
             "gridcolor": "white",
             "linecolor": "white",
             "minorgridcolor": "white",
             "startlinecolor": "#2a3f5f"
            },
            "baxis": {
             "endlinecolor": "#2a3f5f",
             "gridcolor": "white",
             "linecolor": "white",
             "minorgridcolor": "white",
             "startlinecolor": "#2a3f5f"
            },
            "type": "carpet"
           }
          ],
          "choropleth": [
           {
            "colorbar": {
             "outlinewidth": 0,
             "ticks": ""
            },
            "type": "choropleth"
           }
          ],
          "contour": [
           {
            "colorbar": {
             "outlinewidth": 0,
             "ticks": ""
            },
            "colorscale": [
             [
              0,
              "#0d0887"
             ],
             [
              0.1111111111111111,
              "#46039f"
             ],
             [
              0.2222222222222222,
              "#7201a8"
             ],
             [
              0.3333333333333333,
              "#9c179e"
             ],
             [
              0.4444444444444444,
              "#bd3786"
             ],
             [
              0.5555555555555556,
              "#d8576b"
             ],
             [
              0.6666666666666666,
              "#ed7953"
             ],
             [
              0.7777777777777778,
              "#fb9f3a"
             ],
             [
              0.8888888888888888,
              "#fdca26"
             ],
             [
              1,
              "#f0f921"
             ]
            ],
            "type": "contour"
           }
          ],
          "contourcarpet": [
           {
            "colorbar": {
             "outlinewidth": 0,
             "ticks": ""
            },
            "type": "contourcarpet"
           }
          ],
          "heatmap": [
           {
            "colorbar": {
             "outlinewidth": 0,
             "ticks": ""
            },
            "colorscale": [
             [
              0,
              "#0d0887"
             ],
             [
              0.1111111111111111,
              "#46039f"
             ],
             [
              0.2222222222222222,
              "#7201a8"
             ],
             [
              0.3333333333333333,
              "#9c179e"
             ],
             [
              0.4444444444444444,
              "#bd3786"
             ],
             [
              0.5555555555555556,
              "#d8576b"
             ],
             [
              0.6666666666666666,
              "#ed7953"
             ],
             [
              0.7777777777777778,
              "#fb9f3a"
             ],
             [
              0.8888888888888888,
              "#fdca26"
             ],
             [
              1,
              "#f0f921"
             ]
            ],
            "type": "heatmap"
           }
          ],
          "heatmapgl": [
           {
            "colorbar": {
             "outlinewidth": 0,
             "ticks": ""
            },
            "colorscale": [
             [
              0,
              "#0d0887"
             ],
             [
              0.1111111111111111,
              "#46039f"
             ],
             [
              0.2222222222222222,
              "#7201a8"
             ],
             [
              0.3333333333333333,
              "#9c179e"
             ],
             [
              0.4444444444444444,
              "#bd3786"
             ],
             [
              0.5555555555555556,
              "#d8576b"
             ],
             [
              0.6666666666666666,
              "#ed7953"
             ],
             [
              0.7777777777777778,
              "#fb9f3a"
             ],
             [
              0.8888888888888888,
              "#fdca26"
             ],
             [
              1,
              "#f0f921"
             ]
            ],
            "type": "heatmapgl"
           }
          ],
          "histogram": [
           {
            "marker": {
             "pattern": {
              "fillmode": "overlay",
              "size": 10,
              "solidity": 0.2
             }
            },
            "type": "histogram"
           }
          ],
          "histogram2d": [
           {
            "colorbar": {
             "outlinewidth": 0,
             "ticks": ""
            },
            "colorscale": [
             [
              0,
              "#0d0887"
             ],
             [
              0.1111111111111111,
              "#46039f"
             ],
             [
              0.2222222222222222,
              "#7201a8"
             ],
             [
              0.3333333333333333,
              "#9c179e"
             ],
             [
              0.4444444444444444,
              "#bd3786"
             ],
             [
              0.5555555555555556,
              "#d8576b"
             ],
             [
              0.6666666666666666,
              "#ed7953"
             ],
             [
              0.7777777777777778,
              "#fb9f3a"
             ],
             [
              0.8888888888888888,
              "#fdca26"
             ],
             [
              1,
              "#f0f921"
             ]
            ],
            "type": "histogram2d"
           }
          ],
          "histogram2dcontour": [
           {
            "colorbar": {
             "outlinewidth": 0,
             "ticks": ""
            },
            "colorscale": [
             [
              0,
              "#0d0887"
             ],
             [
              0.1111111111111111,
              "#46039f"
             ],
             [
              0.2222222222222222,
              "#7201a8"
             ],
             [
              0.3333333333333333,
              "#9c179e"
             ],
             [
              0.4444444444444444,
              "#bd3786"
             ],
             [
              0.5555555555555556,
              "#d8576b"
             ],
             [
              0.6666666666666666,
              "#ed7953"
             ],
             [
              0.7777777777777778,
              "#fb9f3a"
             ],
             [
              0.8888888888888888,
              "#fdca26"
             ],
             [
              1,
              "#f0f921"
             ]
            ],
            "type": "histogram2dcontour"
           }
          ],
          "mesh3d": [
           {
            "colorbar": {
             "outlinewidth": 0,
             "ticks": ""
            },
            "type": "mesh3d"
           }
          ],
          "parcoords": [
           {
            "line": {
             "colorbar": {
              "outlinewidth": 0,
              "ticks": ""
             }
            },
            "type": "parcoords"
           }
          ],
          "pie": [
           {
            "automargin": true,
            "type": "pie"
           }
          ],
          "scatter": [
           {
            "fillpattern": {
             "fillmode": "overlay",
             "size": 10,
             "solidity": 0.2
            },
            "type": "scatter"
           }
          ],
          "scatter3d": [
           {
            "line": {
             "colorbar": {
              "outlinewidth": 0,
              "ticks": ""
             }
            },
            "marker": {
             "colorbar": {
              "outlinewidth": 0,
              "ticks": ""
             }
            },
            "type": "scatter3d"
           }
          ],
          "scattercarpet": [
           {
            "marker": {
             "colorbar": {
              "outlinewidth": 0,
              "ticks": ""
             }
            },
            "type": "scattercarpet"
           }
          ],
          "scattergeo": [
           {
            "marker": {
             "colorbar": {
              "outlinewidth": 0,
              "ticks": ""
             }
            },
            "type": "scattergeo"
           }
          ],
          "scattergl": [
           {
            "marker": {
             "colorbar": {
              "outlinewidth": 0,
              "ticks": ""
             }
            },
            "type": "scattergl"
           }
          ],
          "scattermapbox": [
           {
            "marker": {
             "colorbar": {
              "outlinewidth": 0,
              "ticks": ""
             }
            },
            "type": "scattermapbox"
           }
          ],
          "scatterpolar": [
           {
            "marker": {
             "colorbar": {
              "outlinewidth": 0,
              "ticks": ""
             }
            },
            "type": "scatterpolar"
           }
          ],
          "scatterpolargl": [
           {
            "marker": {
             "colorbar": {
              "outlinewidth": 0,
              "ticks": ""
             }
            },
            "type": "scatterpolargl"
           }
          ],
          "scatterternary": [
           {
            "marker": {
             "colorbar": {
              "outlinewidth": 0,
              "ticks": ""
             }
            },
            "type": "scatterternary"
           }
          ],
          "surface": [
           {
            "colorbar": {
             "outlinewidth": 0,
             "ticks": ""
            },
            "colorscale": [
             [
              0,
              "#0d0887"
             ],
             [
              0.1111111111111111,
              "#46039f"
             ],
             [
              0.2222222222222222,
              "#7201a8"
             ],
             [
              0.3333333333333333,
              "#9c179e"
             ],
             [
              0.4444444444444444,
              "#bd3786"
             ],
             [
              0.5555555555555556,
              "#d8576b"
             ],
             [
              0.6666666666666666,
              "#ed7953"
             ],
             [
              0.7777777777777778,
              "#fb9f3a"
             ],
             [
              0.8888888888888888,
              "#fdca26"
             ],
             [
              1,
              "#f0f921"
             ]
            ],
            "type": "surface"
           }
          ],
          "table": [
           {
            "cells": {
             "fill": {
              "color": "#EBF0F8"
             },
             "line": {
              "color": "white"
             }
            },
            "header": {
             "fill": {
              "color": "#C8D4E3"
             },
             "line": {
              "color": "white"
             }
            },
            "type": "table"
           }
          ]
         },
         "layout": {
          "annotationdefaults": {
           "arrowcolor": "#2a3f5f",
           "arrowhead": 0,
           "arrowwidth": 1
          },
          "autotypenumbers": "strict",
          "coloraxis": {
           "colorbar": {
            "outlinewidth": 0,
            "ticks": ""
           }
          },
          "colorscale": {
           "diverging": [
            [
             0,
             "#8e0152"
            ],
            [
             0.1,
             "#c51b7d"
            ],
            [
             0.2,
             "#de77ae"
            ],
            [
             0.3,
             "#f1b6da"
            ],
            [
             0.4,
             "#fde0ef"
            ],
            [
             0.5,
             "#f7f7f7"
            ],
            [
             0.6,
             "#e6f5d0"
            ],
            [
             0.7,
             "#b8e186"
            ],
            [
             0.8,
             "#7fbc41"
            ],
            [
             0.9,
             "#4d9221"
            ],
            [
             1,
             "#276419"
            ]
           ],
           "sequential": [
            [
             0,
             "#0d0887"
            ],
            [
             0.1111111111111111,
             "#46039f"
            ],
            [
             0.2222222222222222,
             "#7201a8"
            ],
            [
             0.3333333333333333,
             "#9c179e"
            ],
            [
             0.4444444444444444,
             "#bd3786"
            ],
            [
             0.5555555555555556,
             "#d8576b"
            ],
            [
             0.6666666666666666,
             "#ed7953"
            ],
            [
             0.7777777777777778,
             "#fb9f3a"
            ],
            [
             0.8888888888888888,
             "#fdca26"
            ],
            [
             1,
             "#f0f921"
            ]
           ],
           "sequentialminus": [
            [
             0,
             "#0d0887"
            ],
            [
             0.1111111111111111,
             "#46039f"
            ],
            [
             0.2222222222222222,
             "#7201a8"
            ],
            [
             0.3333333333333333,
             "#9c179e"
            ],
            [
             0.4444444444444444,
             "#bd3786"
            ],
            [
             0.5555555555555556,
             "#d8576b"
            ],
            [
             0.6666666666666666,
             "#ed7953"
            ],
            [
             0.7777777777777778,
             "#fb9f3a"
            ],
            [
             0.8888888888888888,
             "#fdca26"
            ],
            [
             1,
             "#f0f921"
            ]
           ]
          },
          "colorway": [
           "#636efa",
           "#EF553B",
           "#00cc96",
           "#ab63fa",
           "#FFA15A",
           "#19d3f3",
           "#FF6692",
           "#B6E880",
           "#FF97FF",
           "#FECB52"
          ],
          "font": {
           "color": "#2a3f5f"
          },
          "geo": {
           "bgcolor": "white",
           "lakecolor": "white",
           "landcolor": "#E5ECF6",
           "showlakes": true,
           "showland": true,
           "subunitcolor": "white"
          },
          "hoverlabel": {
           "align": "left"
          },
          "hovermode": "closest",
          "mapbox": {
           "style": "light"
          },
          "paper_bgcolor": "white",
          "plot_bgcolor": "#E5ECF6",
          "polar": {
           "angularaxis": {
            "gridcolor": "white",
            "linecolor": "white",
            "ticks": ""
           },
           "bgcolor": "#E5ECF6",
           "radialaxis": {
            "gridcolor": "white",
            "linecolor": "white",
            "ticks": ""
           }
          },
          "scene": {
           "xaxis": {
            "backgroundcolor": "#E5ECF6",
            "gridcolor": "white",
            "gridwidth": 2,
            "linecolor": "white",
            "showbackground": true,
            "ticks": "",
            "zerolinecolor": "white"
           },
           "yaxis": {
            "backgroundcolor": "#E5ECF6",
            "gridcolor": "white",
            "gridwidth": 2,
            "linecolor": "white",
            "showbackground": true,
            "ticks": "",
            "zerolinecolor": "white"
           },
           "zaxis": {
            "backgroundcolor": "#E5ECF6",
            "gridcolor": "white",
            "gridwidth": 2,
            "linecolor": "white",
            "showbackground": true,
            "ticks": "",
            "zerolinecolor": "white"
           }
          },
          "shapedefaults": {
           "line": {
            "color": "#2a3f5f"
           }
          },
          "ternary": {
           "aaxis": {
            "gridcolor": "white",
            "linecolor": "white",
            "ticks": ""
           },
           "baxis": {
            "gridcolor": "white",
            "linecolor": "white",
            "ticks": ""
           },
           "bgcolor": "#E5ECF6",
           "caxis": {
            "gridcolor": "white",
            "linecolor": "white",
            "ticks": ""
           }
          },
          "title": {
           "x": 0.05
          },
          "xaxis": {
           "automargin": true,
           "gridcolor": "white",
           "linecolor": "white",
           "ticks": "",
           "title": {
            "standoff": 15
           },
           "zerolinecolor": "white",
           "zerolinewidth": 2
          },
          "yaxis": {
           "automargin": true,
           "gridcolor": "white",
           "linecolor": "white",
           "ticks": "",
           "title": {
            "standoff": 15
           },
           "zerolinecolor": "white",
           "zerolinewidth": 2
          }
         }
        },
        "xaxis": {
         "autorange": true,
         "range": [
          0,
          0.41263157894736846
         ],
         "title": {
          "text": "%"
         },
         "type": "linear"
        },
        "yaxis": {
         "autorange": true,
         "range": [
          -0.5,
          2.5
         ],
         "title": {
          "text": "선수 지표 비교"
         },
         "type": "category"
        }
       }
      },
      "image/png": "[encoded data removed]",
      "text/html": [
       "<div>                            <div id=\"8de1fff5-2a82-4862-b974-d8234c6f2627\" class=\"plotly-graph-div\" style=\"height:525px; width:100%;\"></div>            <script type=\"text/javascript\">                require([\"plotly\"], function(Plotly) {                    window.PLOTLYENV=window.PLOTLYENV || {};                                    if (document.getElementById(\"8de1fff5-2a82-4862-b974-d8234c6f2627\")) {                    Plotly.newPlot(                        \"8de1fff5-2a82-4862-b974-d8234c6f2627\",                        [{\"marker\":{\"color\":1,\"line\":{\"color\":\"gray\",\"width\":0.22}},\"name\":\"1\",\"orientation\":\"h\",\"width\":0.22,\"x\":[0.226,0.343,0.259],\"y\":[\"\\ud0c0\\uc728\",\"\\uc7a5\\ud0c0\\uc728\",\"\\ucd9c\\ub8e8\\uc728\"],\"type\":\"bar\"},{\"marker\":{\"color\":2,\"line\":{\"color\":\"gray\",\"width\":0.22}},\"name\":\"2\",\"orientation\":\"h\",\"width\":0.22,\"x\":[0.291,0.35,0.355],\"y\":[\"\\ud0c0\\uc728\",\"\\uc7a5\\ud0c0\\uc728\",\"\\ucd9c\\ub8e8\\uc728\"],\"type\":\"bar\"},{\"marker\":{\"color\":3,\"line\":{\"color\":\"gray\",\"width\":0.22}},\"name\":\"3\",\"orientation\":\"h\",\"width\":0.22,\"x\":[0.241,0.392,0.319],\"y\":[\"\\ud0c0\\uc728\",\"\\uc7a5\\ud0c0\\uc728\",\"\\ucd9c\\ub8e8\\uc728\"],\"type\":\"bar\"}],                        {\"template\":{\"data\":{\"histogram2dcontour\":[{\"type\":\"histogram2dcontour\",\"colorbar\":{\"outlinewidth\":0,\"ticks\":\"\"},\"colorscale\":[[0.0,\"#0d0887\"],[0.1111111111111111,\"#46039f\"],[0.2222222222222222,\"#7201a8\"],[0.3333333333333333,\"#9c179e\"],[0.4444444444444444,\"#bd3786\"],[0.5555555555555556,\"#d8576b\"],[0.6666666666666666,\"#ed7953\"],[0.7777777777777778,\"#fb9f3a\"],[0.8888888888888888,\"#fdca26\"],[1.0,\"#f0f921\"]]}],\"choropleth\":[{\"type\":\"choropleth\",\"colorbar\":{\"outlinewidth\":0,\"ticks\":\"\"}}],\"histogram2d\":[{\"type\":\"histogram2d\",\"colorbar\":{\"outlinewidth\":0,\"ticks\":\"\"},\"colorscale\":[[0.0,\"#0d0887\"],[0.1111111111111111,\"#46039f\"],[0.2222222222222222,\"#7201a8\"],[0.3333333333333333,\"#9c179e\"],[0.4444444444444444,\"#bd3786\"],[0.5555555555555556,\"#d8576b\"],[0.6666666666666666,\"#ed7953\"],[0.7777777777777778,\"#fb9f3a\"],[0.8888888888888888,\"#fdca26\"],[1.0,\"#f0f921\"]]}],\"heatmap\":[{\"type\":\"heatmap\",\"colorbar\":{\"outlinewidth\":0,\"ticks\":\"\"},\"colorscale\":[[0.0,\"#0d0887\"],[0.1111111111111111,\"#46039f\"],[0.2222222222222222,\"#7201a8\"],[0.3333333333333333,\"#9c179e\"],[0.4444444444444444,\"#bd3786\"],[0.5555555555555556,\"#d8576b\"],[0.6666666666666666,\"#ed7953\"],[0.7777777777777778,\"#fb9f3a\"],[0.8888888888888888,\"#fdca26\"],[1.0,\"#f0f921\"]]}],\"heatmapgl\":[{\"type\":\"heatmapgl\",\"colorbar\":{\"outlinewidth\":0,\"ticks\":\"\"},\"colorscale\":[[0.0,\"#0d0887\"],[0.1111111111111111,\"#46039f\"],[0.2222222222222222,\"#7201a8\"],[0.3333333333333333,\"#9c179e\"],[0.4444444444444444,\"#bd3786\"],[0.5555555555555556,\"#d8576b\"],[0.6666666666666666,\"#ed7953\"],[0.7777777777777778,\"#fb9f3a\"],[0.8888888888888888,\"#fdca26\"],[1.0,\"#f0f921\"]]}],\"contourcarpet\":[{\"type\":\"contourcarpet\",\"colorbar\":{\"outlinewidth\":0,\"ticks\":\"\"}}],\"contour\":[{\"type\":\"contour\",\"colorbar\":{\"outlinewidth\":0,\"ticks\":\"\"},\"colorscale\":[[0.0,\"#0d0887\"],[0.1111111111111111,\"#46039f\"],[0.2222222222222222,\"#7201a8\"],[0.3333333333333333,\"#9c179e\"],[0.4444444444444444,\"#bd3786\"],[0.5555555555555556,\"#d8576b\"],[0.6666666666666666,\"#ed7953\"],[0.7777777777777778,\"#fb9f3a\"],[0.8888888888888888,\"#fdca26\"],[1.0,\"#f0f921\"]]}],\"surface\":[{\"type\":\"surface\",\"colorbar\":{\"outlinewidth\":0,\"ticks\":\"\"},\"colorscale\":[[0.0,\"#0d0887\"],[0.1111111111111111,\"#46039f\"],[0.2222222222222222,\"#7201a8\"],[0.3333333333333333,\"#9c179e\"],[0.4444444444444444,\"#bd3786\"],[0.5555555555555556,\"#d8576b\"],[0.6666666666666666,\"#ed7953\"],[0.7777777777777778,\"#fb9f3a\"],[0.8888888888888888,\"#fdca26\"],[1.0,\"#f0f921\"]]}],\"mesh3d\":[{\"type\":\"mesh3d\",\"colorbar\":{\"outlinewidth\":0,\"ticks\":\"\"}}],\"scatter\":[{\"fillpattern\":{\"fillmode\":\"overlay\",\"size\":10,\"solidity\":0.2},\"type\":\"scatter\"}],\"parcoords\":[{\"type\":\"parcoords\",\"line\":{\"colorbar\":{\"outlinewidth\":0,\"ticks\":\"\"}}}],\"scatterpolargl\":[{\"type\":\"scatterpolargl\",\"marker\":{\"colorbar\":{\"outlinewidth\":0,\"ticks\":\"\"}}}],\"bar\":[{\"error_x\":{\"color\":\"#2a3f5f\"},\"error_y\":{\"color\":\"#2a3f5f\"},\"marker\":{\"line\":{\"color\":\"#E5ECF6\",\"width\":0.5},\"pattern\":{\"fillmode\":\"overlay\",\"size\":10,\"solidity\":0.2}},\"type\":\"bar\"}],\"scattergeo\":[{\"type\":\"scattergeo\",\"marker\":{\"colorbar\":{\"outlinewidth\":0,\"ticks\":\"\"}}}],\"scatterpolar\":[{\"type\":\"scatterpolar\",\"marker\":{\"colorbar\":{\"outlinewidth\":0,\"ticks\":\"\"}}}],\"histogram\":[{\"marker\":{\"pattern\":{\"fillmode\":\"overlay\",\"size\":10,\"solidity\":0.2}},\"type\":\"histogram\"}],\"scattergl\":[{\"type\":\"scattergl\",\"marker\":{\"colorbar\":{\"outlinewidth\":0,\"ticks\":\"\"}}}],\"scatter3d\":[{\"type\":\"scatter3d\",\"line\":{\"colorbar\":{\"outlinewidth\":0,\"ticks\":\"\"}},\"marker\":{\"colorbar\":{\"outlinewidth\":0,\"ticks\":\"\"}}}],\"scattermapbox\":[{\"type\":\"scattermapbox\",\"marker\":{\"colorbar\":{\"outlinewidth\":0,\"ticks\":\"\"}}}],\"scatterternary\":[{\"type\":\"scatterternary\",\"marker\":{\"colorbar\":{\"outlinewidth\":0,\"ticks\":\"\"}}}],\"scattercarpet\":[{\"type\":\"scattercarpet\",\"marker\":{\"colorbar\":{\"outlinewidth\":0,\"ticks\":\"\"}}}],\"carpet\":[{\"aaxis\":{\"endlinecolor\":\"#2a3f5f\",\"gridcolor\":\"white\",\"linecolor\":\"white\",\"minorgridcolor\":\"white\",\"startlinecolor\":\"#2a3f5f\"},\"baxis\":{\"endlinecolor\":\"#2a3f5f\",\"gridcolor\":\"white\",\"linecolor\":\"white\",\"minorgridcolor\":\"white\",\"startlinecolor\":\"#2a3f5f\"},\"type\":\"carpet\"}],\"table\":[{\"cells\":{\"fill\":{\"color\":\"#EBF0F8\"},\"line\":{\"color\":\"white\"}},\"header\":{\"fill\":{\"color\":\"#C8D4E3\"},\"line\":{\"color\":\"white\"}},\"type\":\"table\"}],\"barpolar\":[{\"marker\":{\"line\":{\"color\":\"#E5ECF6\",\"width\":0.5},\"pattern\":{\"fillmode\":\"overlay\",\"size\":10,\"solidity\":0.2}},\"type\":\"barpolar\"}],\"pie\":[{\"automargin\":true,\"type\":\"pie\"}]},\"layout\":{\"autotypenumbers\":\"strict\",\"colorway\":[\"#636efa\",\"#EF553B\",\"#00cc96\",\"#ab63fa\",\"#FFA15A\",\"#19d3f3\",\"#FF6692\",\"#B6E880\",\"#FF97FF\",\"#FECB52\"],\"font\":{\"color\":\"#2a3f5f\"},\"hovermode\":\"closest\",\"hoverlabel\":{\"align\":\"left\"},\"paper_bgcolor\":\"white\",\"plot_bgcolor\":\"#E5ECF6\",\"polar\":{\"bgcolor\":\"#E5ECF6\",\"angularaxis\":{\"gridcolor\":\"white\",\"linecolor\":\"white\",\"ticks\":\"\"},\"radialaxis\":{\"gridcolor\":\"white\",\"linecolor\":\"white\",\"ticks\":\"\"}},\"ternary\":{\"bgcolor\":\"#E5ECF6\",\"aaxis\":{\"gridcolor\":\"white\",\"linecolor\":\"white\",\"ticks\":\"\"},\"baxis\":{\"gridcolor\":\"white\",\"linecolor\":\"white\",\"ticks\":\"\"},\"caxis\":{\"gridcolor\":\"white\",\"linecolor\":\"white\",\"ticks\":\"\"}},\"coloraxis\":{\"colorbar\":{\"outlinewidth\":0,\"ticks\":\"\"}},\"colorscale\":{\"sequential\":[[0.0,\"#0d0887\"],[0.1111111111111111,\"#46039f\"],[0.2222222222222222,\"#7201a8\"],[0.3333333333333333,\"#9c179e\"],[0.4444444444444444,\"#bd3786\"],[0.5555555555555556,\"#d8576b\"],[0.6666666666666666,\"#ed7953\"],[0.7777777777777778,\"#fb9f3a\"],[0.8888888888888888,\"#fdca26\"],[1.0,\"#f0f921\"]],\"sequentialminus\":[[0.0,\"#0d0887\"],[0.1111111111111111,\"#46039f\"],[0.2222222222222222,\"#7201a8\"],[0.3333333333333333,\"#9c179e\"],[0.4444444444444444,\"#bd3786\"],[0.5555555555555556,\"#d8576b\"],[0.6666666666666666,\"#ed7953\"],[0.7777777777777778,\"#fb9f3a\"],[0.8888888888888888,\"#fdca26\"],[1.0,\"#f0f921\"]],\"diverging\":[[0,\"#8e0152\"],[0.1,\"#c51b7d\"],[0.2,\"#de77ae\"],[0.3,\"#f1b6da\"],[0.4,\"#fde0ef\"],[0.5,\"#f7f7f7\"],[0.6,\"#e6f5d0\"],[0.7,\"#b8e186\"],[0.8,\"#7fbc41\"],[0.9,\"#4d9221\"],[1,\"#276419\"]]},\"xaxis\":{\"gridcolor\":\"white\",\"linecolor\":\"white\",\"ticks\":\"\",\"title\":{\"standoff\":15},\"zerolinecolor\":\"white\",\"automargin\":true,\"zerolinewidth\":2},\"yaxis\":{\"gridcolor\":\"white\",\"linecolor\":\"white\",\"ticks\":\"\",\"title\":{\"standoff\":15},\"zerolinecolor\":\"white\",\"automargin\":true,\"zerolinewidth\":2},\"scene\":{\"xaxis\":{\"backgroundcolor\":\"#E5ECF6\",\"gridcolor\":\"white\",\"linecolor\":\"white\",\"showbackground\":true,\"ticks\":\"\",\"zerolinecolor\":\"white\",\"gridwidth\":2},\"yaxis\":{\"backgroundcolor\":\"#E5ECF6\",\"gridcolor\":\"white\",\"linecolor\":\"white\",\"showbackground\":true,\"ticks\":\"\",\"zerolinecolor\":\"white\",\"gridwidth\":2},\"zaxis\":{\"backgroundcolor\":\"#E5ECF6\",\"gridcolor\":\"white\",\"linecolor\":\"white\",\"showbackground\":true,\"ticks\":\"\",\"zerolinecolor\":\"white\",\"gridwidth\":2}},\"shapedefaults\":{\"line\":{\"color\":\"#2a3f5f\"}},\"annotationdefaults\":{\"arrowcolor\":\"#2a3f5f\",\"arrowhead\":0,\"arrowwidth\":1},\"geo\":{\"bgcolor\":\"white\",\"landcolor\":\"#E5ECF6\",\"subunitcolor\":\"white\",\"showland\":true,\"showlakes\":true,\"lakecolor\":\"white\"},\"title\":{\"x\":0.05},\"mapbox\":{\"style\":\"light\"}}},\"legend\":{\"orientation\":\"h\",\"borderwidth\":0.1,\"x\":1,\"y\":1.01,\"xanchor\":\"right\",\"yanchor\":\"bottom\"},\"barmode\":\"group\",\"xaxis\":{\"title\":{\"text\":\"%\"}},\"yaxis\":{\"title\":{\"text\":\"\\uc120\\uc218 \\uc9c0\\ud45c \\ube44\\uad50\"}}},                        {\"responsive\": true}                    ).then(function(){\n",
       "                            \n",
       "var gd = document.getElementById('8de1fff5-2a82-4862-b974-d8234c6f2627');\n",
       "var x = new MutationObserver(function (mutations, observer) {{\n",
       "        var display = window.getComputedStyle(gd).display;\n",
       "        if (!display || display === 'none') {{\n",
       "            console.log([gd, 'removed!']);\n",
       "            Plotly.purge(gd);\n",
       "            observer.disconnect();\n",
       "        }}\n",
       "}});\n",
       "\n",
       "// Listen for the removal of the full notebook cells\n",
       "var notebookContainer = gd.closest('#notebook-container');\n",
       "if (notebookContainer) {{\n",
       "    x.observe(notebookContainer, {childList: true});\n",
       "}}\n",
       "\n",
       "// Listen for the clearing of the current output cell\n",
       "var outputEl = gd.closest('.output');\n",
       "if (outputEl) {{\n",
       "    x.observe(outputEl, {childList: true});\n",
       "}}\n",
       "\n",
       "                        })                };                });            </script>        </div>"
      ]
     },
     "metadata": {},
     "output_type": "display_data"
    }
   ],
   "source": [
    "# 타자\n",
    "\n",
    "def vs_hit_bar(*stat_list):\n",
    "\n",
    "    players = [1, 2, 3]\n",
    "    indicators = ['타율', '장타율', '출루율']\n",
    "    \n",
    "    fig = go.Figure()    \n",
    "    bar_width = 0.22\n",
    "    stat_list1 = [stat_list[k][:2] + stat_list[k][5:] for k in range(len(stat_list))]\n",
    "\n",
    "    for i, player in enumerate(players):\n",
    "        fig.add_trace(go.Bar(x=stat_list1[i], \n",
    "                            y=indicators,\n",
    "                            name=player,\n",
    "                            orientation='h',\n",
    "                            width=bar_width,\n",
    "                            marker=dict(color=player,\n",
    "                                       line=dict(color='gray', width=bar_width))))\n",
    "    \n",
    "    fig.update_layout(barmode='group',\n",
    "                      xaxis_title='%',\n",
    "                      yaxis_title='선수 지표 비교',\n",
    "                      legend=dict(orientation='h',\n",
    "                                  borderwidth=0.1,\n",
    "                                  x=1,\n",
    "                                  y=1.01,\n",
    "                                  xanchor='right',\n",
    "                                  yanchor='bottom',\n",
    "                                 ))\n",
    "    \n",
    "    \n",
    "    \n",
    "    fig.show()\n",
    "    \n",
    "vs_hit_bar([0.226,0.343,0.214,0.000,0.000,0.259], [0.291,0.350,0.633,0.000,0.000,0.355], [0.241,0.392,0.431,0.000,0.000,0.319])"
   ]
  },
  {
   "cell_type": "code",
   "execution_count": null,
   "id": "0f943648-5d21-4561-b3de-c0ffc1d58901",
   "metadata": {},
   "outputs": [],
   "source": []
  },
  {
   "cell_type": "code",
   "execution_count": 219,
   "id": "55ac9617-6a4c-4e1a-9ffd-ad51b99ba767",
   "metadata": {},
   "outputs": [
    {
     "data": {
      "text/html": [
       "<div>\n",
       "<style scoped>\n",
       "    .dataframe tbody tr th:only-of-type {\n",
       "        vertical-align: middle;\n",
       "    }\n",
       "\n",
       "    .dataframe tbody tr th {\n",
       "        vertical-align: top;\n",
       "    }\n",
       "\n",
       "    .dataframe thead th {\n",
       "        text-align: right;\n",
       "    }\n",
       "</style>\n",
       "<table border=\"1\" class=\"dataframe\">\n",
       "  <thead>\n",
       "    <tr style=\"text-align: right;\">\n",
       "      <th></th>\n",
       "      <th>code</th>\n",
       "      <th>era</th>\n",
       "      <th>kpit</th>\n",
       "      <th>kbb</th>\n",
       "      <th>wpa</th>\n",
       "      <th>re24</th>\n",
       "      <th>whip</th>\n",
       "    </tr>\n",
       "  </thead>\n",
       "  <tbody>\n",
       "    <tr>\n",
       "      <th>0</th>\n",
       "      <td>50030</td>\n",
       "      <td>3.48</td>\n",
       "      <td>0.044</td>\n",
       "      <td>2.203</td>\n",
       "      <td>0.033</td>\n",
       "      <td>0.860</td>\n",
       "      <td>1.332</td>\n",
       "    </tr>\n",
       "    <tr>\n",
       "      <th>1</th>\n",
       "      <td>50040</td>\n",
       "      <td>4.11</td>\n",
       "      <td>0.045</td>\n",
       "      <td>2.246</td>\n",
       "      <td>0.036</td>\n",
       "      <td>0.760</td>\n",
       "      <td>1.483</td>\n",
       "    </tr>\n",
       "    <tr>\n",
       "      <th>2</th>\n",
       "      <td>50126</td>\n",
       "      <td>4.59</td>\n",
       "      <td>0.042</td>\n",
       "      <td>1.821</td>\n",
       "      <td>0.007</td>\n",
       "      <td>0.560</td>\n",
       "      <td>1.500</td>\n",
       "    </tr>\n",
       "    <tr>\n",
       "      <th>3</th>\n",
       "      <td>50157</td>\n",
       "      <td>4.52</td>\n",
       "      <td>0.041</td>\n",
       "      <td>1.926</td>\n",
       "      <td>0.012</td>\n",
       "      <td>0.560</td>\n",
       "      <td>1.539</td>\n",
       "    </tr>\n",
       "    <tr>\n",
       "      <th>4</th>\n",
       "      <td>50234</td>\n",
       "      <td>2.79</td>\n",
       "      <td>0.068</td>\n",
       "      <td>4.432</td>\n",
       "      <td>0.080</td>\n",
       "      <td>1.055</td>\n",
       "      <td>1.097</td>\n",
       "    </tr>\n",
       "    <tr>\n",
       "      <th>...</th>\n",
       "      <td>...</td>\n",
       "      <td>...</td>\n",
       "      <td>...</td>\n",
       "      <td>...</td>\n",
       "      <td>...</td>\n",
       "      <td>...</td>\n",
       "      <td>...</td>\n",
       "    </tr>\n",
       "    <tr>\n",
       "      <th>233</th>\n",
       "      <td>79229</td>\n",
       "      <td>5.31</td>\n",
       "      <td>0.026</td>\n",
       "      <td>1.514</td>\n",
       "      <td>-0.106</td>\n",
       "      <td>-0.670</td>\n",
       "      <td>1.655</td>\n",
       "    </tr>\n",
       "    <tr>\n",
       "      <th>234</th>\n",
       "      <td>79764</td>\n",
       "      <td>4.81</td>\n",
       "      <td>0.043</td>\n",
       "      <td>2.508</td>\n",
       "      <td>-0.000</td>\n",
       "      <td>0.525</td>\n",
       "      <td>1.475</td>\n",
       "    </tr>\n",
       "    <tr>\n",
       "      <th>235</th>\n",
       "      <td>79847</td>\n",
       "      <td>4.96</td>\n",
       "      <td>0.053</td>\n",
       "      <td>1.812</td>\n",
       "      <td>0.006</td>\n",
       "      <td>0.560</td>\n",
       "      <td>1.497</td>\n",
       "    </tr>\n",
       "    <tr>\n",
       "      <th>236</th>\n",
       "      <td>95657</td>\n",
       "      <td>5.48</td>\n",
       "      <td>0.054</td>\n",
       "      <td>2.897</td>\n",
       "      <td>0.031</td>\n",
       "      <td>0.500</td>\n",
       "      <td>1.552</td>\n",
       "    </tr>\n",
       "    <tr>\n",
       "      <th>237</th>\n",
       "      <td>99563</td>\n",
       "      <td>5.76</td>\n",
       "      <td>0.044</td>\n",
       "      <td>3.500</td>\n",
       "      <td>-0.002</td>\n",
       "      <td>0.030</td>\n",
       "      <td>1.522</td>\n",
       "    </tr>\n",
       "  </tbody>\n",
       "</table>\n",
       "<p>238 rows × 7 columns</p>\n",
       "</div>"
      ],
      "text/plain": [
       "      code   era   kpit    kbb    wpa   re24   whip\n",
       "0    50030  3.48  0.044  2.203  0.033  0.860  1.332\n",
       "1    50040  4.11  0.045  2.246  0.036  0.760  1.483\n",
       "2    50126  4.59  0.042  1.821  0.007  0.560  1.500\n",
       "3    50157  4.52  0.041  1.926  0.012  0.560  1.539\n",
       "4    50234  2.79  0.068  4.432  0.080  1.055  1.097\n",
       "..     ...   ...    ...    ...    ...    ...    ...\n",
       "233  79229  5.31  0.026  1.514 -0.106 -0.670  1.655\n",
       "234  79764  4.81  0.043  2.508 -0.000  0.525  1.475\n",
       "235  79847  4.96  0.053  1.812  0.006  0.560  1.497\n",
       "236  95657  5.48  0.054  2.897  0.031  0.500  1.552\n",
       "237  99563  5.76  0.044  3.500 -0.002  0.030  1.522\n",
       "\n",
       "[238 rows x 7 columns]"
      ]
     },
     "execution_count": 219,
     "metadata": {},
     "output_type": "execute_result"
    }
   ],
   "source": [
    "total_pit = pd.read_csv('pit_total.csv', index_col=False).drop('idx', axis=1)\n",
    "total_pit"
   ]
  },
  {
   "cell_type": "code",
   "execution_count": 247,
   "id": "3be191d6-a19a-4f6a-8844-4cb276b56dca",
   "metadata": {
    "tags": []
   },
   "outputs": [
    {
     "data": {
      "application/vnd.plotly.v1+json": {
       "config": {
        "plotlyServerURL": "https://plot.ly"
       },
       "data": [
        {
         "marker": {
          "color": 1,
          "line": {
           "color": "gray",
           "width": 0.22
          }
         },
         "name": "1",
         "orientation": "h",
         "type": "bar",
         "width": 0.22,
         "x": [
          3.48,
          2.203,
          1.332
         ],
         "y": [
          "평균자책점",
          "삼진볼넷비율",
          "이닝당출루허용률"
         ]
        },
        {
         "marker": {
          "color": 2,
          "line": {
           "color": "gray",
           "width": 0.22
          }
         },
         "name": "2",
         "orientation": "h",
         "type": "bar",
         "width": 0.22,
         "x": [
          2.79,
          4.432,
          1.097
         ],
         "y": [
          "평균자책점",
          "삼진볼넷비율",
          "이닝당출루허용률"
         ]
        },
        {
         "marker": {
          "color": 3,
          "line": {
           "color": "gray",
           "width": 0.22
          }
         },
         "name": "3",
         "orientation": "h",
         "type": "bar",
         "width": 0.22,
         "x": [
          5.48,
          2.897,
          1.552
         ],
         "y": [
          "평균자책점",
          "삼진볼넷비율",
          "이닝당출루허용률"
         ]
        }
       ],
       "layout": {
        "autosize": true,
        "barmode": "group",
        "legend": {
         "orientation": "h",
         "x": 0.5,
         "y": 1.2
        },
        "template": {
         "data": {
          "bar": [
           {
            "error_x": {
             "color": "#2a3f5f"
            },
            "error_y": {
             "color": "#2a3f5f"
            },
            "marker": {
             "line": {
              "color": "#E5ECF6",
              "width": 0.5
             },
             "pattern": {
              "fillmode": "overlay",
              "size": 10,
              "solidity": 0.2
             }
            },
            "type": "bar"
           }
          ],
          "barpolar": [
           {
            "marker": {
             "line": {
              "color": "#E5ECF6",
              "width": 0.5
             },
             "pattern": {
              "fillmode": "overlay",
              "size": 10,
              "solidity": 0.2
             }
            },
            "type": "barpolar"
           }
          ],
          "carpet": [
           {
            "aaxis": {
             "endlinecolor": "#2a3f5f",
             "gridcolor": "white",
             "linecolor": "white",
             "minorgridcolor": "white",
             "startlinecolor": "#2a3f5f"
            },
            "baxis": {
             "endlinecolor": "#2a3f5f",
             "gridcolor": "white",
             "linecolor": "white",
             "minorgridcolor": "white",
             "startlinecolor": "#2a3f5f"
            },
            "type": "carpet"
           }
          ],
          "choropleth": [
           {
            "colorbar": {
             "outlinewidth": 0,
             "ticks": ""
            },
            "type": "choropleth"
           }
          ],
          "contour": [
           {
            "colorbar": {
             "outlinewidth": 0,
             "ticks": ""
            },
            "colorscale": [
             [
              0,
              "#0d0887"
             ],
             [
              0.1111111111111111,
              "#46039f"
             ],
             [
              0.2222222222222222,
              "#7201a8"
             ],
             [
              0.3333333333333333,
              "#9c179e"
             ],
             [
              0.4444444444444444,
              "#bd3786"
             ],
             [
              0.5555555555555556,
              "#d8576b"
             ],
             [
              0.6666666666666666,
              "#ed7953"
             ],
             [
              0.7777777777777778,
              "#fb9f3a"
             ],
             [
              0.8888888888888888,
              "#fdca26"
             ],
             [
              1,
              "#f0f921"
             ]
            ],
            "type": "contour"
           }
          ],
          "contourcarpet": [
           {
            "colorbar": {
             "outlinewidth": 0,
             "ticks": ""
            },
            "type": "contourcarpet"
           }
          ],
          "heatmap": [
           {
            "colorbar": {
             "outlinewidth": 0,
             "ticks": ""
            },
            "colorscale": [
             [
              0,
              "#0d0887"
             ],
             [
              0.1111111111111111,
              "#46039f"
             ],
             [
              0.2222222222222222,
              "#7201a8"
             ],
             [
              0.3333333333333333,
              "#9c179e"
             ],
             [
              0.4444444444444444,
              "#bd3786"
             ],
             [
              0.5555555555555556,
              "#d8576b"
             ],
             [
              0.6666666666666666,
              "#ed7953"
             ],
             [
              0.7777777777777778,
              "#fb9f3a"
             ],
             [
              0.8888888888888888,
              "#fdca26"
             ],
             [
              1,
              "#f0f921"
             ]
            ],
            "type": "heatmap"
           }
          ],
          "heatmapgl": [
           {
            "colorbar": {
             "outlinewidth": 0,
             "ticks": ""
            },
            "colorscale": [
             [
              0,
              "#0d0887"
             ],
             [
              0.1111111111111111,
              "#46039f"
             ],
             [
              0.2222222222222222,
              "#7201a8"
             ],
             [
              0.3333333333333333,
              "#9c179e"
             ],
             [
              0.4444444444444444,
              "#bd3786"
             ],
             [
              0.5555555555555556,
              "#d8576b"
             ],
             [
              0.6666666666666666,
              "#ed7953"
             ],
             [
              0.7777777777777778,
              "#fb9f3a"
             ],
             [
              0.8888888888888888,
              "#fdca26"
             ],
             [
              1,
              "#f0f921"
             ]
            ],
            "type": "heatmapgl"
           }
          ],
          "histogram": [
           {
            "marker": {
             "pattern": {
              "fillmode": "overlay",
              "size": 10,
              "solidity": 0.2
             }
            },
            "type": "histogram"
           }
          ],
          "histogram2d": [
           {
            "colorbar": {
             "outlinewidth": 0,
             "ticks": ""
            },
            "colorscale": [
             [
              0,
              "#0d0887"
             ],
             [
              0.1111111111111111,
              "#46039f"
             ],
             [
              0.2222222222222222,
              "#7201a8"
             ],
             [
              0.3333333333333333,
              "#9c179e"
             ],
             [
              0.4444444444444444,
              "#bd3786"
             ],
             [
              0.5555555555555556,
              "#d8576b"
             ],
             [
              0.6666666666666666,
              "#ed7953"
             ],
             [
              0.7777777777777778,
              "#fb9f3a"
             ],
             [
              0.8888888888888888,
              "#fdca26"
             ],
             [
              1,
              "#f0f921"
             ]
            ],
            "type": "histogram2d"
           }
          ],
          "histogram2dcontour": [
           {
            "colorbar": {
             "outlinewidth": 0,
             "ticks": ""
            },
            "colorscale": [
             [
              0,
              "#0d0887"
             ],
             [
              0.1111111111111111,
              "#46039f"
             ],
             [
              0.2222222222222222,
              "#7201a8"
             ],
             [
              0.3333333333333333,
              "#9c179e"
             ],
             [
              0.4444444444444444,
              "#bd3786"
             ],
             [
              0.5555555555555556,
              "#d8576b"
             ],
             [
              0.6666666666666666,
              "#ed7953"
             ],
             [
              0.7777777777777778,
              "#fb9f3a"
             ],
             [
              0.8888888888888888,
              "#fdca26"
             ],
             [
              1,
              "#f0f921"
             ]
            ],
            "type": "histogram2dcontour"
           }
          ],
          "mesh3d": [
           {
            "colorbar": {
             "outlinewidth": 0,
             "ticks": ""
            },
            "type": "mesh3d"
           }
          ],
          "parcoords": [
           {
            "line": {
             "colorbar": {
              "outlinewidth": 0,
              "ticks": ""
             }
            },
            "type": "parcoords"
           }
          ],
          "pie": [
           {
            "automargin": true,
            "type": "pie"
           }
          ],
          "scatter": [
           {
            "fillpattern": {
             "fillmode": "overlay",
             "size": 10,
             "solidity": 0.2
            },
            "type": "scatter"
           }
          ],
          "scatter3d": [
           {
            "line": {
             "colorbar": {
              "outlinewidth": 0,
              "ticks": ""
             }
            },
            "marker": {
             "colorbar": {
              "outlinewidth": 0,
              "ticks": ""
             }
            },
            "type": "scatter3d"
           }
          ],
          "scattercarpet": [
           {
            "marker": {
             "colorbar": {
              "outlinewidth": 0,
              "ticks": ""
             }
            },
            "type": "scattercarpet"
           }
          ],
          "scattergeo": [
           {
            "marker": {
             "colorbar": {
              "outlinewidth": 0,
              "ticks": ""
             }
            },
            "type": "scattergeo"
           }
          ],
          "scattergl": [
           {
            "marker": {
             "colorbar": {
              "outlinewidth": 0,
              "ticks": ""
             }
            },
            "type": "scattergl"
           }
          ],
          "scattermapbox": [
           {
            "marker": {
             "colorbar": {
              "outlinewidth": 0,
              "ticks": ""
             }
            },
            "type": "scattermapbox"
           }
          ],
          "scatterpolar": [
           {
            "marker": {
             "colorbar": {
              "outlinewidth": 0,
              "ticks": ""
             }
            },
            "type": "scatterpolar"
           }
          ],
          "scatterpolargl": [
           {
            "marker": {
             "colorbar": {
              "outlinewidth": 0,
              "ticks": ""
             }
            },
            "type": "scatterpolargl"
           }
          ],
          "scatterternary": [
           {
            "marker": {
             "colorbar": {
              "outlinewidth": 0,
              "ticks": ""
             }
            },
            "type": "scatterternary"
           }
          ],
          "surface": [
           {
            "colorbar": {
             "outlinewidth": 0,
             "ticks": ""
            },
            "colorscale": [
             [
              0,
              "#0d0887"
             ],
             [
              0.1111111111111111,
              "#46039f"
             ],
             [
              0.2222222222222222,
              "#7201a8"
             ],
             [
              0.3333333333333333,
              "#9c179e"
             ],
             [
              0.4444444444444444,
              "#bd3786"
             ],
             [
              0.5555555555555556,
              "#d8576b"
             ],
             [
              0.6666666666666666,
              "#ed7953"
             ],
             [
              0.7777777777777778,
              "#fb9f3a"
             ],
             [
              0.8888888888888888,
              "#fdca26"
             ],
             [
              1,
              "#f0f921"
             ]
            ],
            "type": "surface"
           }
          ],
          "table": [
           {
            "cells": {
             "fill": {
              "color": "#EBF0F8"
             },
             "line": {
              "color": "white"
             }
            },
            "header": {
             "fill": {
              "color": "#C8D4E3"
             },
             "line": {
              "color": "white"
             }
            },
            "type": "table"
           }
          ]
         },
         "layout": {
          "annotationdefaults": {
           "arrowcolor": "#2a3f5f",
           "arrowhead": 0,
           "arrowwidth": 1
          },
          "autotypenumbers": "strict",
          "coloraxis": {
           "colorbar": {
            "outlinewidth": 0,
            "ticks": ""
           }
          },
          "colorscale": {
           "diverging": [
            [
             0,
             "#8e0152"
            ],
            [
             0.1,
             "#c51b7d"
            ],
            [
             0.2,
             "#de77ae"
            ],
            [
             0.3,
             "#f1b6da"
            ],
            [
             0.4,
             "#fde0ef"
            ],
            [
             0.5,
             "#f7f7f7"
            ],
            [
             0.6,
             "#e6f5d0"
            ],
            [
             0.7,
             "#b8e186"
            ],
            [
             0.8,
             "#7fbc41"
            ],
            [
             0.9,
             "#4d9221"
            ],
            [
             1,
             "#276419"
            ]
           ],
           "sequential": [
            [
             0,
             "#0d0887"
            ],
            [
             0.1111111111111111,
             "#46039f"
            ],
            [
             0.2222222222222222,
             "#7201a8"
            ],
            [
             0.3333333333333333,
             "#9c179e"
            ],
            [
             0.4444444444444444,
             "#bd3786"
            ],
            [
             0.5555555555555556,
             "#d8576b"
            ],
            [
             0.6666666666666666,
             "#ed7953"
            ],
            [
             0.7777777777777778,
             "#fb9f3a"
            ],
            [
             0.8888888888888888,
             "#fdca26"
            ],
            [
             1,
             "#f0f921"
            ]
           ],
           "sequentialminus": [
            [
             0,
             "#0d0887"
            ],
            [
             0.1111111111111111,
             "#46039f"
            ],
            [
             0.2222222222222222,
             "#7201a8"
            ],
            [
             0.3333333333333333,
             "#9c179e"
            ],
            [
             0.4444444444444444,
             "#bd3786"
            ],
            [
             0.5555555555555556,
             "#d8576b"
            ],
            [
             0.6666666666666666,
             "#ed7953"
            ],
            [
             0.7777777777777778,
             "#fb9f3a"
            ],
            [
             0.8888888888888888,
             "#fdca26"
            ],
            [
             1,
             "#f0f921"
            ]
           ]
          },
          "colorway": [
           "#636efa",
           "#EF553B",
           "#00cc96",
           "#ab63fa",
           "#FFA15A",
           "#19d3f3",
           "#FF6692",
           "#B6E880",
           "#FF97FF",
           "#FECB52"
          ],
          "font": {
           "color": "#2a3f5f"
          },
          "geo": {
           "bgcolor": "white",
           "lakecolor": "white",
           "landcolor": "#E5ECF6",
           "showlakes": true,
           "showland": true,
           "subunitcolor": "white"
          },
          "hoverlabel": {
           "align": "left"
          },
          "hovermode": "closest",
          "mapbox": {
           "style": "light"
          },
          "paper_bgcolor": "white",
          "plot_bgcolor": "#E5ECF6",
          "polar": {
           "angularaxis": {
            "gridcolor": "white",
            "linecolor": "white",
            "ticks": ""
           },
           "bgcolor": "#E5ECF6",
           "radialaxis": {
            "gridcolor": "white",
            "linecolor": "white",
            "ticks": ""
           }
          },
          "scene": {
           "xaxis": {
            "backgroundcolor": "#E5ECF6",
            "gridcolor": "white",
            "gridwidth": 2,
            "linecolor": "white",
            "showbackground": true,
            "ticks": "",
            "zerolinecolor": "white"
           },
           "yaxis": {
            "backgroundcolor": "#E5ECF6",
            "gridcolor": "white",
            "gridwidth": 2,
            "linecolor": "white",
            "showbackground": true,
            "ticks": "",
            "zerolinecolor": "white"
           },
           "zaxis": {
            "backgroundcolor": "#E5ECF6",
            "gridcolor": "white",
            "gridwidth": 2,
            "linecolor": "white",
            "showbackground": true,
            "ticks": "",
            "zerolinecolor": "white"
           }
          },
          "shapedefaults": {
           "line": {
            "color": "#2a3f5f"
           }
          },
          "ternary": {
           "aaxis": {
            "gridcolor": "white",
            "linecolor": "white",
            "ticks": ""
           },
           "baxis": {
            "gridcolor": "white",
            "linecolor": "white",
            "ticks": ""
           },
           "bgcolor": "#E5ECF6",
           "caxis": {
            "gridcolor": "white",
            "linecolor": "white",
            "ticks": ""
           }
          },
          "title": {
           "x": 0.05
          },
          "xaxis": {
           "automargin": true,
           "gridcolor": "white",
           "linecolor": "white",
           "ticks": "",
           "title": {
            "standoff": 15
           },
           "zerolinecolor": "white",
           "zerolinewidth": 2
          },
          "yaxis": {
           "automargin": true,
           "gridcolor": "white",
           "linecolor": "white",
           "ticks": "",
           "title": {
            "standoff": 15
           },
           "zerolinecolor": "white",
           "zerolinewidth": 2
          }
         }
        },
        "xaxis": {
         "autorange": true,
         "range": [
          0,
          5.768421052631579
         ],
         "title": {
          "text": "%"
         },
         "type": "linear"
        },
        "yaxis": {
         "autorange": true,
         "range": [
          -0.5,
          2.5
         ],
         "title": {
          "text": "선수 지표 비교"
         },
         "type": "category"
        }
       }
      },
      "image/png": "[encoded data removed]",
      "text/html": [
       "<div>                            <div id=\"0ee1a070-abfd-42bf-b584-8d8bf4c9ec40\" class=\"plotly-graph-div\" style=\"height:525px; width:100%;\"></div>            <script type=\"text/javascript\">                require([\"plotly\"], function(Plotly) {                    window.PLOTLYENV=window.PLOTLYENV || {};                                    if (document.getElementById(\"0ee1a070-abfd-42bf-b584-8d8bf4c9ec40\")) {                    Plotly.newPlot(                        \"0ee1a070-abfd-42bf-b584-8d8bf4c9ec40\",                        [{\"marker\":{\"color\":1,\"line\":{\"color\":\"gray\",\"width\":0.22}},\"name\":\"1\",\"orientation\":\"h\",\"width\":0.22,\"x\":[3.48,2.203,1.332],\"y\":[\"\\ud3c9\\uade0\\uc790\\ucc45\\uc810\",\"\\uc0bc\\uc9c4\\ubcfc\\ub137\\ube44\\uc728\",\"\\uc774\\ub2dd\\ub2f9\\ucd9c\\ub8e8\\ud5c8\\uc6a9\\ub960\"],\"type\":\"bar\"},{\"marker\":{\"color\":2,\"line\":{\"color\":\"gray\",\"width\":0.22}},\"name\":\"2\",\"orientation\":\"h\",\"width\":0.22,\"x\":[2.79,4.432,1.097],\"y\":[\"\\ud3c9\\uade0\\uc790\\ucc45\\uc810\",\"\\uc0bc\\uc9c4\\ubcfc\\ub137\\ube44\\uc728\",\"\\uc774\\ub2dd\\ub2f9\\ucd9c\\ub8e8\\ud5c8\\uc6a9\\ub960\"],\"type\":\"bar\"},{\"marker\":{\"color\":3,\"line\":{\"color\":\"gray\",\"width\":0.22}},\"name\":\"3\",\"orientation\":\"h\",\"width\":0.22,\"x\":[5.48,2.897,1.552],\"y\":[\"\\ud3c9\\uade0\\uc790\\ucc45\\uc810\",\"\\uc0bc\\uc9c4\\ubcfc\\ub137\\ube44\\uc728\",\"\\uc774\\ub2dd\\ub2f9\\ucd9c\\ub8e8\\ud5c8\\uc6a9\\ub960\"],\"type\":\"bar\"}],                        {\"template\":{\"data\":{\"histogram2dcontour\":[{\"type\":\"histogram2dcontour\",\"colorbar\":{\"outlinewidth\":0,\"ticks\":\"\"},\"colorscale\":[[0.0,\"#0d0887\"],[0.1111111111111111,\"#46039f\"],[0.2222222222222222,\"#7201a8\"],[0.3333333333333333,\"#9c179e\"],[0.4444444444444444,\"#bd3786\"],[0.5555555555555556,\"#d8576b\"],[0.6666666666666666,\"#ed7953\"],[0.7777777777777778,\"#fb9f3a\"],[0.8888888888888888,\"#fdca26\"],[1.0,\"#f0f921\"]]}],\"choropleth\":[{\"type\":\"choropleth\",\"colorbar\":{\"outlinewidth\":0,\"ticks\":\"\"}}],\"histogram2d\":[{\"type\":\"histogram2d\",\"colorbar\":{\"outlinewidth\":0,\"ticks\":\"\"},\"colorscale\":[[0.0,\"#0d0887\"],[0.1111111111111111,\"#46039f\"],[0.2222222222222222,\"#7201a8\"],[0.3333333333333333,\"#9c179e\"],[0.4444444444444444,\"#bd3786\"],[0.5555555555555556,\"#d8576b\"],[0.6666666666666666,\"#ed7953\"],[0.7777777777777778,\"#fb9f3a\"],[0.8888888888888888,\"#fdca26\"],[1.0,\"#f0f921\"]]}],\"heatmap\":[{\"type\":\"heatmap\",\"colorbar\":{\"outlinewidth\":0,\"ticks\":\"\"},\"colorscale\":[[0.0,\"#0d0887\"],[0.1111111111111111,\"#46039f\"],[0.2222222222222222,\"#7201a8\"],[0.3333333333333333,\"#9c179e\"],[0.4444444444444444,\"#bd3786\"],[0.5555555555555556,\"#d8576b\"],[0.6666666666666666,\"#ed7953\"],[0.7777777777777778,\"#fb9f3a\"],[0.8888888888888888,\"#fdca26\"],[1.0,\"#f0f921\"]]}],\"heatmapgl\":[{\"type\":\"heatmapgl\",\"colorbar\":{\"outlinewidth\":0,\"ticks\":\"\"},\"colorscale\":[[0.0,\"#0d0887\"],[0.1111111111111111,\"#46039f\"],[0.2222222222222222,\"#7201a8\"],[0.3333333333333333,\"#9c179e\"],[0.4444444444444444,\"#bd3786\"],[0.5555555555555556,\"#d8576b\"],[0.6666666666666666,\"#ed7953\"],[0.7777777777777778,\"#fb9f3a\"],[0.8888888888888888,\"#fdca26\"],[1.0,\"#f0f921\"]]}],\"contourcarpet\":[{\"type\":\"contourcarpet\",\"colorbar\":{\"outlinewidth\":0,\"ticks\":\"\"}}],\"contour\":[{\"type\":\"contour\",\"colorbar\":{\"outlinewidth\":0,\"ticks\":\"\"},\"colorscale\":[[0.0,\"#0d0887\"],[0.1111111111111111,\"#46039f\"],[0.2222222222222222,\"#7201a8\"],[0.3333333333333333,\"#9c179e\"],[0.4444444444444444,\"#bd3786\"],[0.5555555555555556,\"#d8576b\"],[0.6666666666666666,\"#ed7953\"],[0.7777777777777778,\"#fb9f3a\"],[0.8888888888888888,\"#fdca26\"],[1.0,\"#f0f921\"]]}],\"surface\":[{\"type\":\"surface\",\"colorbar\":{\"outlinewidth\":0,\"ticks\":\"\"},\"colorscale\":[[0.0,\"#0d0887\"],[0.1111111111111111,\"#46039f\"],[0.2222222222222222,\"#7201a8\"],[0.3333333333333333,\"#9c179e\"],[0.4444444444444444,\"#bd3786\"],[0.5555555555555556,\"#d8576b\"],[0.6666666666666666,\"#ed7953\"],[0.7777777777777778,\"#fb9f3a\"],[0.8888888888888888,\"#fdca26\"],[1.0,\"#f0f921\"]]}],\"mesh3d\":[{\"type\":\"mesh3d\",\"colorbar\":{\"outlinewidth\":0,\"ticks\":\"\"}}],\"scatter\":[{\"fillpattern\":{\"fillmode\":\"overlay\",\"size\":10,\"solidity\":0.2},\"type\":\"scatter\"}],\"parcoords\":[{\"type\":\"parcoords\",\"line\":{\"colorbar\":{\"outlinewidth\":0,\"ticks\":\"\"}}}],\"scatterpolargl\":[{\"type\":\"scatterpolargl\",\"marker\":{\"colorbar\":{\"outlinewidth\":0,\"ticks\":\"\"}}}],\"bar\":[{\"error_x\":{\"color\":\"#2a3f5f\"},\"error_y\":{\"color\":\"#2a3f5f\"},\"marker\":{\"line\":{\"color\":\"#E5ECF6\",\"width\":0.5},\"pattern\":{\"fillmode\":\"overlay\",\"size\":10,\"solidity\":0.2}},\"type\":\"bar\"}],\"scattergeo\":[{\"type\":\"scattergeo\",\"marker\":{\"colorbar\":{\"outlinewidth\":0,\"ticks\":\"\"}}}],\"scatterpolar\":[{\"type\":\"scatterpolar\",\"marker\":{\"colorbar\":{\"outlinewidth\":0,\"ticks\":\"\"}}}],\"histogram\":[{\"marker\":{\"pattern\":{\"fillmode\":\"overlay\",\"size\":10,\"solidity\":0.2}},\"type\":\"histogram\"}],\"scattergl\":[{\"type\":\"scattergl\",\"marker\":{\"colorbar\":{\"outlinewidth\":0,\"ticks\":\"\"}}}],\"scatter3d\":[{\"type\":\"scatter3d\",\"line\":{\"colorbar\":{\"outlinewidth\":0,\"ticks\":\"\"}},\"marker\":{\"colorbar\":{\"outlinewidth\":0,\"ticks\":\"\"}}}],\"scattermapbox\":[{\"type\":\"scattermapbox\",\"marker\":{\"colorbar\":{\"outlinewidth\":0,\"ticks\":\"\"}}}],\"scatterternary\":[{\"type\":\"scatterternary\",\"marker\":{\"colorbar\":{\"outlinewidth\":0,\"ticks\":\"\"}}}],\"scattercarpet\":[{\"type\":\"scattercarpet\",\"marker\":{\"colorbar\":{\"outlinewidth\":0,\"ticks\":\"\"}}}],\"carpet\":[{\"aaxis\":{\"endlinecolor\":\"#2a3f5f\",\"gridcolor\":\"white\",\"linecolor\":\"white\",\"minorgridcolor\":\"white\",\"startlinecolor\":\"#2a3f5f\"},\"baxis\":{\"endlinecolor\":\"#2a3f5f\",\"gridcolor\":\"white\",\"linecolor\":\"white\",\"minorgridcolor\":\"white\",\"startlinecolor\":\"#2a3f5f\"},\"type\":\"carpet\"}],\"table\":[{\"cells\":{\"fill\":{\"color\":\"#EBF0F8\"},\"line\":{\"color\":\"white\"}},\"header\":{\"fill\":{\"color\":\"#C8D4E3\"},\"line\":{\"color\":\"white\"}},\"type\":\"table\"}],\"barpolar\":[{\"marker\":{\"line\":{\"color\":\"#E5ECF6\",\"width\":0.5},\"pattern\":{\"fillmode\":\"overlay\",\"size\":10,\"solidity\":0.2}},\"type\":\"barpolar\"}],\"pie\":[{\"automargin\":true,\"type\":\"pie\"}]},\"layout\":{\"autotypenumbers\":\"strict\",\"colorway\":[\"#636efa\",\"#EF553B\",\"#00cc96\",\"#ab63fa\",\"#FFA15A\",\"#19d3f3\",\"#FF6692\",\"#B6E880\",\"#FF97FF\",\"#FECB52\"],\"font\":{\"color\":\"#2a3f5f\"},\"hovermode\":\"closest\",\"hoverlabel\":{\"align\":\"left\"},\"paper_bgcolor\":\"white\",\"plot_bgcolor\":\"#E5ECF6\",\"polar\":{\"bgcolor\":\"#E5ECF6\",\"angularaxis\":{\"gridcolor\":\"white\",\"linecolor\":\"white\",\"ticks\":\"\"},\"radialaxis\":{\"gridcolor\":\"white\",\"linecolor\":\"white\",\"ticks\":\"\"}},\"ternary\":{\"bgcolor\":\"#E5ECF6\",\"aaxis\":{\"gridcolor\":\"white\",\"linecolor\":\"white\",\"ticks\":\"\"},\"baxis\":{\"gridcolor\":\"white\",\"linecolor\":\"white\",\"ticks\":\"\"},\"caxis\":{\"gridcolor\":\"white\",\"linecolor\":\"white\",\"ticks\":\"\"}},\"coloraxis\":{\"colorbar\":{\"outlinewidth\":0,\"ticks\":\"\"}},\"colorscale\":{\"sequential\":[[0.0,\"#0d0887\"],[0.1111111111111111,\"#46039f\"],[0.2222222222222222,\"#7201a8\"],[0.3333333333333333,\"#9c179e\"],[0.4444444444444444,\"#bd3786\"],[0.5555555555555556,\"#d8576b\"],[0.6666666666666666,\"#ed7953\"],[0.7777777777777778,\"#fb9f3a\"],[0.8888888888888888,\"#fdca26\"],[1.0,\"#f0f921\"]],\"sequentialminus\":[[0.0,\"#0d0887\"],[0.1111111111111111,\"#46039f\"],[0.2222222222222222,\"#7201a8\"],[0.3333333333333333,\"#9c179e\"],[0.4444444444444444,\"#bd3786\"],[0.5555555555555556,\"#d8576b\"],[0.6666666666666666,\"#ed7953\"],[0.7777777777777778,\"#fb9f3a\"],[0.8888888888888888,\"#fdca26\"],[1.0,\"#f0f921\"]],\"diverging\":[[0,\"#8e0152\"],[0.1,\"#c51b7d\"],[0.2,\"#de77ae\"],[0.3,\"#f1b6da\"],[0.4,\"#fde0ef\"],[0.5,\"#f7f7f7\"],[0.6,\"#e6f5d0\"],[0.7,\"#b8e186\"],[0.8,\"#7fbc41\"],[0.9,\"#4d9221\"],[1,\"#276419\"]]},\"xaxis\":{\"gridcolor\":\"white\",\"linecolor\":\"white\",\"ticks\":\"\",\"title\":{\"standoff\":15},\"zerolinecolor\":\"white\",\"automargin\":true,\"zerolinewidth\":2},\"yaxis\":{\"gridcolor\":\"white\",\"linecolor\":\"white\",\"ticks\":\"\",\"title\":{\"standoff\":15},\"zerolinecolor\":\"white\",\"automargin\":true,\"zerolinewidth\":2},\"scene\":{\"xaxis\":{\"backgroundcolor\":\"#E5ECF6\",\"gridcolor\":\"white\",\"linecolor\":\"white\",\"showbackground\":true,\"ticks\":\"\",\"zerolinecolor\":\"white\",\"gridwidth\":2},\"yaxis\":{\"backgroundcolor\":\"#E5ECF6\",\"gridcolor\":\"white\",\"linecolor\":\"white\",\"showbackground\":true,\"ticks\":\"\",\"zerolinecolor\":\"white\",\"gridwidth\":2},\"zaxis\":{\"backgroundcolor\":\"#E5ECF6\",\"gridcolor\":\"white\",\"linecolor\":\"white\",\"showbackground\":true,\"ticks\":\"\",\"zerolinecolor\":\"white\",\"gridwidth\":2}},\"shapedefaults\":{\"line\":{\"color\":\"#2a3f5f\"}},\"annotationdefaults\":{\"arrowcolor\":\"#2a3f5f\",\"arrowhead\":0,\"arrowwidth\":1},\"geo\":{\"bgcolor\":\"white\",\"landcolor\":\"#E5ECF6\",\"subunitcolor\":\"white\",\"showland\":true,\"showlakes\":true,\"lakecolor\":\"white\"},\"title\":{\"x\":0.05},\"mapbox\":{\"style\":\"light\"}}},\"legend\":{\"orientation\":\"h\",\"x\":0.5,\"y\":1.2},\"barmode\":\"group\",\"xaxis\":{\"title\":{\"text\":\"%\"}},\"yaxis\":{\"title\":{\"text\":\"\\uc120\\uc218 \\uc9c0\\ud45c \\ube44\\uad50\"}}},                        {\"responsive\": true}                    ).then(function(){\n",
       "                            \n",
       "var gd = document.getElementById('0ee1a070-abfd-42bf-b584-8d8bf4c9ec40');\n",
       "var x = new MutationObserver(function (mutations, observer) {{\n",
       "        var display = window.getComputedStyle(gd).display;\n",
       "        if (!display || display === 'none') {{\n",
       "            console.log([gd, 'removed!']);\n",
       "            Plotly.purge(gd);\n",
       "            observer.disconnect();\n",
       "        }}\n",
       "}});\n",
       "\n",
       "// Listen for the removal of the full notebook cells\n",
       "var notebookContainer = gd.closest('#notebook-container');\n",
       "if (notebookContainer) {{\n",
       "    x.observe(notebookContainer, {childList: true});\n",
       "}}\n",
       "\n",
       "// Listen for the clearing of the current output cell\n",
       "var outputEl = gd.closest('.output');\n",
       "if (outputEl) {{\n",
       "    x.observe(outputEl, {childList: true});\n",
       "}}\n",
       "\n",
       "                        })                };                });            </script>        </div>"
      ]
     },
     "metadata": {},
     "output_type": "display_data"
    }
   ],
   "source": [
    "# 투수\n",
    "\n",
    "def vs_pit_bar(*stat_list):\n",
    "\n",
    "    players = [1, 2, 3]\n",
    "    indicators = ['평균자책점', '삼진볼넷비율', '이닝당출루허용률']\n",
    "    \n",
    "    fig = go.Figure()\n",
    "    bar_width = 0.22\n",
    "    \n",
    "    stat_list1 = [stat_list[k][:1] + stat_list[k][2:3] + stat_list[k][5:] for k in range(len(stat_list))]\n",
    "\n",
    "    for i, player in enumerate(players):\n",
    "        fig.add_trace(go.Bar(x=stat_list1[i], \n",
    "                            y=indicators,\n",
    "                            name=player,\n",
    "                            orientation='h',\n",
    "                            width=bar_width,\n",
    "                            marker=dict(color=player,\n",
    "                                       line=dict(color='gray', width=bar_width))))\n",
    "\n",
    "    \n",
    "    fig.update_layout(barmode='group',\n",
    "                      xaxis_title='%',\n",
    "                      yaxis_title='선수 지표 비교',\n",
    "                      legend=dict(orientation='h',\n",
    "                                 x=0.5,\n",
    "                                 y=1.2,))\n",
    "    \n",
    "    fig.show()\n",
    "    \n",
    "vs_pit_bar([3.48,0.044,2.203,0.033,0.860,1.332], [2.79,0.068,4.432,0.080,1.055,1.097], [5.48,0.054,2.897,0.031,0.500,1.552])"
   ]
  },
  {
   "cell_type": "code",
   "execution_count": null,
   "id": "06c1102c-8376-4135-a09f-3807c20eb78d",
   "metadata": {},
   "outputs": [],
   "source": []
  },
  {
   "cell_type": "code",
   "execution_count": null,
   "id": "89c4c352-31fa-43a5-a560-c7d40cbfc8f6",
   "metadata": {},
   "outputs": [],
   "source": []
  },
  {
   "cell_type": "markdown",
   "id": "1f2ee2eb-fe79-45a5-91f9-4e48420578d0",
   "metadata": {},
   "source": [
    "### 선수 별 지표 비교 Bar plot 동적 코딩 및 그래프, 범례 세부 조정"
   ]
  },
  {
   "cell_type": "code",
   "execution_count": 162,
   "id": "4e3de360-c125-4fd6-a650-599267979865",
   "metadata": {},
   "outputs": [
    {
     "data": {
      "application/vnd.plotly.v1+json": {
       "config": {
        "plotlyServerURL": "https://plot.ly"
       },
       "data": [
        {
         "hovertemplate": "%{x:.3f}",
         "marker": {
          "color": "blue",
          "line": {
           "color": "gray",
           "width": 0.22
          }
         },
         "name": "<b>C</b>",
         "opacity": 0.3333333333333333,
         "orientation": "h",
         "showlegend": false,
         "type": "bar",
         "width": 0.22,
         "x": [
          0.31
         ],
         "xaxis": "x",
         "yaxis": "y"
        },
        {
         "hovertemplate": "%{x:.3f}",
         "marker": {
          "color": "Red",
          "line": {
           "color": "gray",
           "width": 0.22
          }
         },
         "name": "<b>B</b>",
         "opacity": 0.3333333333333333,
         "orientation": "h",
         "showlegend": false,
         "type": "bar",
         "width": 0.22,
         "x": [
          0.32
         ],
         "xaxis": "x",
         "yaxis": "y"
        },
        {
         "hovertemplate": "%{x:.3f}",
         "marker": {
          "color": "Green",
          "line": {
           "color": "gray",
           "width": 0.22
          }
         },
         "name": "<b>A</b>",
         "opacity": 0.3333333333333333,
         "orientation": "h",
         "showlegend": false,
         "type": "bar",
         "width": 0.22,
         "x": [
          0.29
         ],
         "xaxis": "x",
         "yaxis": "y"
        },
        {
         "hovertemplate": "%{x:.3f}",
         "marker": {
          "color": "blue",
          "line": {
           "color": "gray",
           "width": 0.22
          }
         },
         "name": "<b>C</b>",
         "opacity": 0.3333333333333333,
         "orientation": "h",
         "showlegend": false,
         "type": "bar",
         "width": 0.22,
         "x": [
          0.31
         ],
         "xaxis": "x2",
         "yaxis": "y2"
        },
        {
         "hovertemplate": "%{x:.3f}",
         "marker": {
          "color": "Red",
          "line": {
           "color": "gray",
           "width": 0.22
          }
         },
         "name": "<b>B</b>",
         "opacity": 0.3333333333333333,
         "orientation": "h",
         "showlegend": false,
         "type": "bar",
         "width": 0.22,
         "x": [
          0.55
         ],
         "xaxis": "x2",
         "yaxis": "y2"
        },
        {
         "hovertemplate": "%{x:.3f}",
         "marker": {
          "color": "Green",
          "line": {
           "color": "gray",
           "width": 0.22
          }
         },
         "name": "<b>A</b>",
         "opacity": 0.3333333333333333,
         "orientation": "h",
         "showlegend": false,
         "type": "bar",
         "width": 0.22,
         "x": [
          0.45
         ],
         "xaxis": "x2",
         "yaxis": "y2"
        },
        {
         "hovertemplate": "%{x:.3f}",
         "marker": {
          "color": "blue",
          "line": {
           "color": "gray",
           "width": 0.22
          }
         },
         "name": "<b>C</b>",
         "opacity": 0.3333333333333333,
         "orientation": "h",
         "showlegend": false,
         "type": "bar",
         "width": 0.22,
         "x": [
          0.34
         ],
         "xaxis": "x3",
         "yaxis": "y3"
        },
        {
         "hovertemplate": "%{x:.3f}",
         "marker": {
          "color": "Red",
          "line": {
           "color": "gray",
           "width": 0.22
          }
         },
         "name": "<b>B</b>",
         "opacity": 0.3333333333333333,
         "orientation": "h",
         "showlegend": false,
         "type": "bar",
         "width": 0.22,
         "x": [
          0.38
         ],
         "xaxis": "x3",
         "yaxis": "y3"
        },
        {
         "hovertemplate": "%{x:.3f}",
         "marker": {
          "color": "Green",
          "line": {
           "color": "gray",
           "width": 0.22
          }
         },
         "name": "<b>A</b>",
         "opacity": 0.3333333333333333,
         "orientation": "h",
         "showlegend": false,
         "type": "bar",
         "width": 0.22,
         "x": [
          0.68
         ],
         "xaxis": "x3",
         "yaxis": "y3"
        },
        {
         "hovertemplate": "%{x:.3f}",
         "marker": {
          "color": "blue",
          "line": {
           "color": "gray",
           "width": 0.22
          }
         },
         "name": "<b>C</b>",
         "opacity": 0.3333333333333333,
         "orientation": "h",
         "showlegend": false,
         "type": "bar",
         "width": 0.22,
         "x": [
          0.764
         ],
         "xaxis": "x4",
         "yaxis": "y4"
        },
        {
         "hovertemplate": "%{x:.3f}",
         "marker": {
          "color": "Red",
          "line": {
           "color": "gray",
           "width": 0.22
          }
         },
         "name": "<b>B</b>",
         "opacity": 0.3333333333333333,
         "orientation": "h",
         "showlegend": false,
         "type": "bar",
         "width": 0.22,
         "x": [
          0.194
         ],
         "xaxis": "x4",
         "yaxis": "y4"
        },
        {
         "hovertemplate": "%{x:.3f}",
         "marker": {
          "color": "Green",
          "line": {
           "color": "gray",
           "width": 0.22
          }
         },
         "name": "<b>A</b>",
         "opacity": 0.3333333333333333,
         "orientation": "h",
         "showlegend": false,
         "type": "bar",
         "width": 0.22,
         "x": [
          0.374
         ],
         "xaxis": "x4",
         "yaxis": "y4"
        },
        {
         "hovertemplate": "%{x:.3f}",
         "marker": {
          "color": "blue",
          "line": {
           "color": "gray",
           "width": 0.22
          }
         },
         "name": "<b>C</b>",
         "opacity": 0.3333333333333333,
         "orientation": "h",
         "showlegend": false,
         "type": "bar",
         "width": 0.22,
         "x": [
          0.03
         ],
         "xaxis": "x5",
         "y": [
          -1
         ],
         "yaxis": "y5"
        },
        {
         "hovertemplate": "%{x:.3f}",
         "marker": {
          "color": "Red",
          "line": {
           "color": "gray",
           "width": 0.22
          }
         },
         "name": "<b>B</b>",
         "opacity": 0.3333333333333333,
         "orientation": "h",
         "showlegend": false,
         "type": "bar",
         "width": 0.22,
         "x": [
          -0.02
         ],
         "xaxis": "x5",
         "y": [
          -1
         ],
         "yaxis": "y5"
        },
        {
         "hovertemplate": "%{x:.3f}",
         "marker": {
          "color": "Green",
          "line": {
           "color": "gray",
           "width": 0.22
          }
         },
         "name": "<b>A</b>",
         "opacity": 0.3333333333333333,
         "orientation": "h",
         "showlegend": false,
         "type": "bar",
         "width": 0.22,
         "x": [
          -0.01
         ],
         "xaxis": "x5",
         "y": [
          -1
         ],
         "yaxis": "y5"
        },
        {
         "hovertemplate": "%{x:.3f}",
         "marker": {
          "color": "blue",
          "line": {
           "color": "gray",
           "width": 0.22
          }
         },
         "name": "<b>C</b>",
         "opacity": 0.3333333333333333,
         "orientation": "h",
         "showlegend": false,
         "type": "bar",
         "width": 0.22,
         "x": [
          0.001
         ],
         "xaxis": "x6",
         "y": [
          -1
         ],
         "yaxis": "y6"
        },
        {
         "hovertemplate": "%{x:.3f}",
         "marker": {
          "color": "Red",
          "line": {
           "color": "gray",
           "width": 0.22
          }
         },
         "name": "<b>B</b>",
         "opacity": 0.3333333333333333,
         "orientation": "h",
         "showlegend": false,
         "type": "bar",
         "width": 0.22,
         "x": [
          0.004
         ],
         "xaxis": "x6",
         "y": [
          -1
         ],
         "yaxis": "y6"
        },
        {
         "hovertemplate": "%{x:.3f}",
         "marker": {
          "color": "Green",
          "line": {
           "color": "gray",
           "width": 0.22
          }
         },
         "name": "<b>A</b>",
         "opacity": 0.3333333333333333,
         "orientation": "h",
         "showlegend": false,
         "type": "bar",
         "width": 0.22,
         "x": [
          -0.001
         ],
         "xaxis": "x6",
         "y": [
          -1
         ],
         "yaxis": "y6"
        },
        {
         "marker": {
          "color": "Green",
          "line": {
           "color": "gray",
           "width": 1
          },
          "opacity": 0.3333333333333333,
          "size": 10
         },
         "mode": "markers",
         "name": "<b>A</b>",
         "type": "scatter",
         "x": [
          null
         ],
         "y": [
          null
         ]
        },
        {
         "marker": {
          "color": "Red",
          "line": {
           "color": "gray",
           "width": 1
          },
          "opacity": 0.3333333333333333,
          "size": 10
         },
         "mode": "markers",
         "name": "<b>B</b>",
         "type": "scatter",
         "x": [
          null
         ],
         "y": [
          null
         ]
        },
        {
         "marker": {
          "color": "blue",
          "line": {
           "color": "gray",
           "width": 1
          },
          "opacity": 0.3333333333333333,
          "size": 10
         },
         "mode": "markers",
         "name": "<b>C</b>",
         "type": "scatter",
         "x": [
          null
         ],
         "y": [
          null
         ]
        }
       ],
       "layout": {
        "annotations": [
         {
          "font": {
           "size": 16
          },
          "showarrow": false,
          "text": "<b>타율</b>",
          "x": 0.5,
          "xanchor": "center",
          "xref": "paper",
          "y": 1,
          "yanchor": "bottom",
          "yref": "paper"
         },
         {
          "font": {
           "size": 16
          },
          "showarrow": false,
          "text": "<b>장타율</b>",
          "x": 0.5,
          "xanchor": "center",
          "xref": "paper",
          "y": 0.8116666666666666,
          "yanchor": "bottom",
          "yref": "paper"
         },
         {
          "font": {
           "size": 16
          },
          "showarrow": false,
          "text": "<b>선구안</b>",
          "x": 0.5,
          "xanchor": "center",
          "xref": "paper",
          "y": 0.6233333333333333,
          "yanchor": "bottom",
          "yref": "paper"
         },
         {
          "font": {
           "size": 16
          },
          "showarrow": false,
          "text": "<b>출루율</b>",
          "x": 0.5,
          "xanchor": "center",
          "xref": "paper",
          "y": 0.435,
          "yanchor": "bottom",
          "yref": "paper"
         },
         {
          "font": {
           "size": 16
          },
          "showarrow": false,
          "text": "<b>게임기여</b>",
          "x": 0.5,
          "xanchor": "center",
          "xref": "paper",
          "y": 0.24666666666666665,
          "yanchor": "bottom",
          "yref": "paper"
         },
         {
          "font": {
           "size": 16
          },
          "showarrow": false,
          "text": "<b>클러치</b>",
          "x": 0.5,
          "xanchor": "center",
          "xref": "paper",
          "y": 0.05833333333333333,
          "yanchor": "bottom",
          "yref": "paper"
         }
        ],
        "autosize": true,
        "barmode": "group",
        "legend": {
         "font": {
          "size": 12
         },
         "x": 1,
         "xanchor": "left",
         "y": 1,
         "yanchor": "auto"
        },
        "paper_bgcolor": "rgba(0, 0, 0, 0)",
        "plot_bgcolor": "rgba(0, 0, 0, 0)",
        "showlegend": true,
        "template": {
         "data": {
          "bar": [
           {
            "error_x": {
             "color": "#2a3f5f"
            },
            "error_y": {
             "color": "#2a3f5f"
            },
            "marker": {
             "line": {
              "color": "#E5ECF6",
              "width": 0.5
             },
             "pattern": {
              "fillmode": "overlay",
              "size": 10,
              "solidity": 0.2
             }
            },
            "type": "bar"
           }
          ],
          "barpolar": [
           {
            "marker": {
             "line": {
              "color": "#E5ECF6",
              "width": 0.5
             },
             "pattern": {
              "fillmode": "overlay",
              "size": 10,
              "solidity": 0.2
             }
            },
            "type": "barpolar"
           }
          ],
          "carpet": [
           {
            "aaxis": {
             "endlinecolor": "#2a3f5f",
             "gridcolor": "white",
             "linecolor": "white",
             "minorgridcolor": "white",
             "startlinecolor": "#2a3f5f"
            },
            "baxis": {
             "endlinecolor": "#2a3f5f",
             "gridcolor": "white",
             "linecolor": "white",
             "minorgridcolor": "white",
             "startlinecolor": "#2a3f5f"
            },
            "type": "carpet"
           }
          ],
          "choropleth": [
           {
            "colorbar": {
             "outlinewidth": 0,
             "ticks": ""
            },
            "type": "choropleth"
           }
          ],
          "contour": [
           {
            "colorbar": {
             "outlinewidth": 0,
             "ticks": ""
            },
            "colorscale": [
             [
              0,
              "#0d0887"
             ],
             [
              0.1111111111111111,
              "#46039f"
             ],
             [
              0.2222222222222222,
              "#7201a8"
             ],
             [
              0.3333333333333333,
              "#9c179e"
             ],
             [
              0.4444444444444444,
              "#bd3786"
             ],
             [
              0.5555555555555556,
              "#d8576b"
             ],
             [
              0.6666666666666666,
              "#ed7953"
             ],
             [
              0.7777777777777778,
              "#fb9f3a"
             ],
             [
              0.8888888888888888,
              "#fdca26"
             ],
             [
              1,
              "#f0f921"
             ]
            ],
            "type": "contour"
           }
          ],
          "contourcarpet": [
           {
            "colorbar": {
             "outlinewidth": 0,
             "ticks": ""
            },
            "type": "contourcarpet"
           }
          ],
          "heatmap": [
           {
            "colorbar": {
             "outlinewidth": 0,
             "ticks": ""
            },
            "colorscale": [
             [
              0,
              "#0d0887"
             ],
             [
              0.1111111111111111,
              "#46039f"
             ],
             [
              0.2222222222222222,
              "#7201a8"
             ],
             [
              0.3333333333333333,
              "#9c179e"
             ],
             [
              0.4444444444444444,
              "#bd3786"
             ],
             [
              0.5555555555555556,
              "#d8576b"
             ],
             [
              0.6666666666666666,
              "#ed7953"
             ],
             [
              0.7777777777777778,
              "#fb9f3a"
             ],
             [
              0.8888888888888888,
              "#fdca26"
             ],
             [
              1,
              "#f0f921"
             ]
            ],
            "type": "heatmap"
           }
          ],
          "heatmapgl": [
           {
            "colorbar": {
             "outlinewidth": 0,
             "ticks": ""
            },
            "colorscale": [
             [
              0,
              "#0d0887"
             ],
             [
              0.1111111111111111,
              "#46039f"
             ],
             [
              0.2222222222222222,
              "#7201a8"
             ],
             [
              0.3333333333333333,
              "#9c179e"
             ],
             [
              0.4444444444444444,
              "#bd3786"
             ],
             [
              0.5555555555555556,
              "#d8576b"
             ],
             [
              0.6666666666666666,
              "#ed7953"
             ],
             [
              0.7777777777777778,
              "#fb9f3a"
             ],
             [
              0.8888888888888888,
              "#fdca26"
             ],
             [
              1,
              "#f0f921"
             ]
            ],
            "type": "heatmapgl"
           }
          ],
          "histogram": [
           {
            "marker": {
             "pattern": {
              "fillmode": "overlay",
              "size": 10,
              "solidity": 0.2
             }
            },
            "type": "histogram"
           }
          ],
          "histogram2d": [
           {
            "colorbar": {
             "outlinewidth": 0,
             "ticks": ""
            },
            "colorscale": [
             [
              0,
              "#0d0887"
             ],
             [
              0.1111111111111111,
              "#46039f"
             ],
             [
              0.2222222222222222,
              "#7201a8"
             ],
             [
              0.3333333333333333,
              "#9c179e"
             ],
             [
              0.4444444444444444,
              "#bd3786"
             ],
             [
              0.5555555555555556,
              "#d8576b"
             ],
             [
              0.6666666666666666,
              "#ed7953"
             ],
             [
              0.7777777777777778,
              "#fb9f3a"
             ],
             [
              0.8888888888888888,
              "#fdca26"
             ],
             [
              1,
              "#f0f921"
             ]
            ],
            "type": "histogram2d"
           }
          ],
          "histogram2dcontour": [
           {
            "colorbar": {
             "outlinewidth": 0,
             "ticks": ""
            },
            "colorscale": [
             [
              0,
              "#0d0887"
             ],
             [
              0.1111111111111111,
              "#46039f"
             ],
             [
              0.2222222222222222,
              "#7201a8"
             ],
             [
              0.3333333333333333,
              "#9c179e"
             ],
             [
              0.4444444444444444,
              "#bd3786"
             ],
             [
              0.5555555555555556,
              "#d8576b"
             ],
             [
              0.6666666666666666,
              "#ed7953"
             ],
             [
              0.7777777777777778,
              "#fb9f3a"
             ],
             [
              0.8888888888888888,
              "#fdca26"
             ],
             [
              1,
              "#f0f921"
             ]
            ],
            "type": "histogram2dcontour"
           }
          ],
          "mesh3d": [
           {
            "colorbar": {
             "outlinewidth": 0,
             "ticks": ""
            },
            "type": "mesh3d"
           }
          ],
          "parcoords": [
           {
            "line": {
             "colorbar": {
              "outlinewidth": 0,
              "ticks": ""
             }
            },
            "type": "parcoords"
           }
          ],
          "pie": [
           {
            "automargin": true,
            "type": "pie"
           }
          ],
          "scatter": [
           {
            "fillpattern": {
             "fillmode": "overlay",
             "size": 10,
             "solidity": 0.2
            },
            "type": "scatter"
           }
          ],
          "scatter3d": [
           {
            "line": {
             "colorbar": {
              "outlinewidth": 0,
              "ticks": ""
             }
            },
            "marker": {
             "colorbar": {
              "outlinewidth": 0,
              "ticks": ""
             }
            },
            "type": "scatter3d"
           }
          ],
          "scattercarpet": [
           {
            "marker": {
             "colorbar": {
              "outlinewidth": 0,
              "ticks": ""
             }
            },
            "type": "scattercarpet"
           }
          ],
          "scattergeo": [
           {
            "marker": {
             "colorbar": {
              "outlinewidth": 0,
              "ticks": ""
             }
            },
            "type": "scattergeo"
           }
          ],
          "scattergl": [
           {
            "marker": {
             "colorbar": {
              "outlinewidth": 0,
              "ticks": ""
             }
            },
            "type": "scattergl"
           }
          ],
          "scattermapbox": [
           {
            "marker": {
             "colorbar": {
              "outlinewidth": 0,
              "ticks": ""
             }
            },
            "type": "scattermapbox"
           }
          ],
          "scatterpolar": [
           {
            "marker": {
             "colorbar": {
              "outlinewidth": 0,
              "ticks": ""
             }
            },
            "type": "scatterpolar"
           }
          ],
          "scatterpolargl": [
           {
            "marker": {
             "colorbar": {
              "outlinewidth": 0,
              "ticks": ""
             }
            },
            "type": "scatterpolargl"
           }
          ],
          "scatterternary": [
           {
            "marker": {
             "colorbar": {
              "outlinewidth": 0,
              "ticks": ""
             }
            },
            "type": "scatterternary"
           }
          ],
          "surface": [
           {
            "colorbar": {
             "outlinewidth": 0,
             "ticks": ""
            },
            "colorscale": [
             [
              0,
              "#0d0887"
             ],
             [
              0.1111111111111111,
              "#46039f"
             ],
             [
              0.2222222222222222,
              "#7201a8"
             ],
             [
              0.3333333333333333,
              "#9c179e"
             ],
             [
              0.4444444444444444,
              "#bd3786"
             ],
             [
              0.5555555555555556,
              "#d8576b"
             ],
             [
              0.6666666666666666,
              "#ed7953"
             ],
             [
              0.7777777777777778,
              "#fb9f3a"
             ],
             [
              0.8888888888888888,
              "#fdca26"
             ],
             [
              1,
              "#f0f921"
             ]
            ],
            "type": "surface"
           }
          ],
          "table": [
           {
            "cells": {
             "fill": {
              "color": "#EBF0F8"
             },
             "line": {
              "color": "white"
             }
            },
            "header": {
             "fill": {
              "color": "#C8D4E3"
             },
             "line": {
              "color": "white"
             }
            },
            "type": "table"
           }
          ]
         },
         "layout": {
          "annotationdefaults": {
           "arrowcolor": "#2a3f5f",
           "arrowhead": 0,
           "arrowwidth": 1
          },
          "autotypenumbers": "strict",
          "coloraxis": {
           "colorbar": {
            "outlinewidth": 0,
            "ticks": ""
           }
          },
          "colorscale": {
           "diverging": [
            [
             0,
             "#8e0152"
            ],
            [
             0.1,
             "#c51b7d"
            ],
            [
             0.2,
             "#de77ae"
            ],
            [
             0.3,
             "#f1b6da"
            ],
            [
             0.4,
             "#fde0ef"
            ],
            [
             0.5,
             "#f7f7f7"
            ],
            [
             0.6,
             "#e6f5d0"
            ],
            [
             0.7,
             "#b8e186"
            ],
            [
             0.8,
             "#7fbc41"
            ],
            [
             0.9,
             "#4d9221"
            ],
            [
             1,
             "#276419"
            ]
           ],
           "sequential": [
            [
             0,
             "#0d0887"
            ],
            [
             0.1111111111111111,
             "#46039f"
            ],
            [
             0.2222222222222222,
             "#7201a8"
            ],
            [
             0.3333333333333333,
             "#9c179e"
            ],
            [
             0.4444444444444444,
             "#bd3786"
            ],
            [
             0.5555555555555556,
             "#d8576b"
            ],
            [
             0.6666666666666666,
             "#ed7953"
            ],
            [
             0.7777777777777778,
             "#fb9f3a"
            ],
            [
             0.8888888888888888,
             "#fdca26"
            ],
            [
             1,
             "#f0f921"
            ]
           ],
           "sequentialminus": [
            [
             0,
             "#0d0887"
            ],
            [
             0.1111111111111111,
             "#46039f"
            ],
            [
             0.2222222222222222,
             "#7201a8"
            ],
            [
             0.3333333333333333,
             "#9c179e"
            ],
            [
             0.4444444444444444,
             "#bd3786"
            ],
            [
             0.5555555555555556,
             "#d8576b"
            ],
            [
             0.6666666666666666,
             "#ed7953"
            ],
            [
             0.7777777777777778,
             "#fb9f3a"
            ],
            [
             0.8888888888888888,
             "#fdca26"
            ],
            [
             1,
             "#f0f921"
            ]
           ]
          },
          "colorway": [
           "#636efa",
           "#EF553B",
           "#00cc96",
           "#ab63fa",
           "#FFA15A",
           "#19d3f3",
           "#FF6692",
           "#B6E880",
           "#FF97FF",
           "#FECB52"
          ],
          "font": {
           "color": "#2a3f5f"
          },
          "geo": {
           "bgcolor": "white",
           "lakecolor": "white",
           "landcolor": "#E5ECF6",
           "showlakes": true,
           "showland": true,
           "subunitcolor": "white"
          },
          "hoverlabel": {
           "align": "left"
          },
          "hovermode": "closest",
          "mapbox": {
           "style": "light"
          },
          "paper_bgcolor": "white",
          "plot_bgcolor": "#E5ECF6",
          "polar": {
           "angularaxis": {
            "gridcolor": "white",
            "linecolor": "white",
            "ticks": ""
           },
           "bgcolor": "#E5ECF6",
           "radialaxis": {
            "gridcolor": "white",
            "linecolor": "white",
            "ticks": ""
           }
          },
          "scene": {
           "xaxis": {
            "backgroundcolor": "#E5ECF6",
            "gridcolor": "white",
            "gridwidth": 2,
            "linecolor": "white",
            "showbackground": true,
            "ticks": "",
            "zerolinecolor": "white"
           },
           "yaxis": {
            "backgroundcolor": "#E5ECF6",
            "gridcolor": "white",
            "gridwidth": 2,
            "linecolor": "white",
            "showbackground": true,
            "ticks": "",
            "zerolinecolor": "white"
           },
           "zaxis": {
            "backgroundcolor": "#E5ECF6",
            "gridcolor": "white",
            "gridwidth": 2,
            "linecolor": "white",
            "showbackground": true,
            "ticks": "",
            "zerolinecolor": "white"
           }
          },
          "shapedefaults": {
           "line": {
            "color": "#2a3f5f"
           }
          },
          "ternary": {
           "aaxis": {
            "gridcolor": "white",
            "linecolor": "white",
            "ticks": ""
           },
           "baxis": {
            "gridcolor": "white",
            "linecolor": "white",
            "ticks": ""
           },
           "bgcolor": "#E5ECF6",
           "caxis": {
            "gridcolor": "white",
            "linecolor": "white",
            "ticks": ""
           }
          },
          "title": {
           "x": 0.05
          },
          "xaxis": {
           "automargin": true,
           "gridcolor": "white",
           "linecolor": "white",
           "ticks": "",
           "title": {
            "standoff": 15
           },
           "zerolinecolor": "white",
           "zerolinewidth": 2
          },
          "yaxis": {
           "automargin": true,
           "gridcolor": "white",
           "linecolor": "white",
           "ticks": "",
           "title": {
            "standoff": 15
           },
           "zerolinecolor": "white",
           "zerolinewidth": 2
          }
         }
        },
        "xaxis": {
         "anchor": "y",
         "autorange": true,
         "domain": [
          0,
          1
         ],
         "dtick": 0.05,
         "range": [
          0,
          0.3368421052631579
         ],
         "showgrid": false,
         "tickmode": "linear",
         "type": "linear",
         "visible": true
        },
        "xaxis2": {
         "anchor": "y2",
         "autorange": true,
         "domain": [
          0,
          1
         ],
         "range": [
          0,
          0.5789473684210527
         ],
         "showgrid": false,
         "type": "linear",
         "visible": true
        },
        "xaxis3": {
         "anchor": "y3",
         "autorange": true,
         "domain": [
          0,
          1
         ],
         "range": [
          0,
          0.7157894736842105
         ],
         "showgrid": false,
         "type": "linear",
         "visible": true
        },
        "xaxis4": {
         "anchor": "y4",
         "autorange": true,
         "domain": [
          0,
          1
         ],
         "range": [
          0,
          0.8042105263157895
         ],
         "showgrid": false,
         "type": "linear",
         "visible": true
        },
        "xaxis5": {
         "anchor": "y5",
         "domain": [
          0,
          1
         ],
         "range": [
          -0.03,
          0.03
         ],
         "showgrid": false,
         "type": "linear"
        },
        "xaxis6": {
         "anchor": "y6",
         "domain": [
          0,
          1
         ],
         "range": [
          -0.004,
          0.004
         ],
         "showgrid": false,
         "type": "linear"
        },
        "yaxis": {
         "anchor": "x",
         "autorange": true,
         "domain": [
          0.9416666666666667,
          1
         ],
         "range": [
          -0.5,
          0.5
         ],
         "visible": false
        },
        "yaxis2": {
         "anchor": "x2",
         "autorange": true,
         "domain": [
          0.7533333333333333,
          0.8116666666666666
         ],
         "range": [
          -0.5,
          0.5
         ],
         "visible": false
        },
        "yaxis3": {
         "anchor": "x3",
         "autorange": true,
         "domain": [
          0.565,
          0.6233333333333333
         ],
         "range": [
          -0.5,
          0.5
         ],
         "visible": false
        },
        "yaxis4": {
         "anchor": "x4",
         "autorange": true,
         "domain": [
          0.37666666666666665,
          0.435
         ],
         "range": [
          -0.5,
          0.5
         ],
         "visible": false
        },
        "yaxis5": {
         "anchor": "x5",
         "autorange": true,
         "domain": [
          0.18833333333333332,
          0.24666666666666665
         ],
         "range": [
          -1.5,
          -0.5
         ],
         "type": "linear",
         "visible": false
        },
        "yaxis6": {
         "anchor": "x6",
         "autorange": true,
         "domain": [
          0,
          0.05833333333333333
         ],
         "range": [
          -1.5,
          -0.5
         ],
         "type": "linear",
         "visible": false
        }
       }
      },
      "image/png": "[encoded data removed]",
      "text/html": [
       "<div>                            <div id=\"3e4ab52a-c05d-45f3-b179-a1eb460ce137\" class=\"plotly-graph-div\" style=\"height:600px; width:100%;\"></div>            <script type=\"text/javascript\">                require([\"plotly\"], function(Plotly) {                    window.PLOTLYENV=window.PLOTLYENV || {};                                    if (document.getElementById(\"3e4ab52a-c05d-45f3-b179-a1eb460ce137\")) {                    Plotly.newPlot(                        \"3e4ab52a-c05d-45f3-b179-a1eb460ce137\",                        [{\"marker\":{\"color\":\"blue\",\"line\":{\"color\":\"gray\",\"width\":0.22}},\"name\":\"<b>C</b>\",\"opacity\":0.3333333333333333,\"orientation\":\"h\",\"showlegend\":false,\"width\":0.22,\"x\":[0.31],\"type\":\"bar\",\"xaxis\":\"x\",\"yaxis\":\"y\",\"hovertemplate\":\"%{x:.3f}\"},{\"marker\":{\"color\":\"Red\",\"line\":{\"color\":\"gray\",\"width\":0.22}},\"name\":\"<b>B</b>\",\"opacity\":0.3333333333333333,\"orientation\":\"h\",\"showlegend\":false,\"width\":0.22,\"x\":[0.32],\"type\":\"bar\",\"xaxis\":\"x\",\"yaxis\":\"y\",\"hovertemplate\":\"%{x:.3f}\"},{\"marker\":{\"color\":\"Green\",\"line\":{\"color\":\"gray\",\"width\":0.22}},\"name\":\"<b>A</b>\",\"opacity\":0.3333333333333333,\"orientation\":\"h\",\"showlegend\":false,\"width\":0.22,\"x\":[0.29],\"type\":\"bar\",\"xaxis\":\"x\",\"yaxis\":\"y\",\"hovertemplate\":\"%{x:.3f}\"},{\"marker\":{\"color\":\"blue\",\"line\":{\"color\":\"gray\",\"width\":0.22}},\"name\":\"<b>C</b>\",\"opacity\":0.3333333333333333,\"orientation\":\"h\",\"showlegend\":false,\"width\":0.22,\"x\":[0.31],\"type\":\"bar\",\"xaxis\":\"x2\",\"yaxis\":\"y2\",\"hovertemplate\":\"%{x:.3f}\"},{\"marker\":{\"color\":\"Red\",\"line\":{\"color\":\"gray\",\"width\":0.22}},\"name\":\"<b>B</b>\",\"opacity\":0.3333333333333333,\"orientation\":\"h\",\"showlegend\":false,\"width\":0.22,\"x\":[0.55],\"type\":\"bar\",\"xaxis\":\"x2\",\"yaxis\":\"y2\",\"hovertemplate\":\"%{x:.3f}\"},{\"marker\":{\"color\":\"Green\",\"line\":{\"color\":\"gray\",\"width\":0.22}},\"name\":\"<b>A</b>\",\"opacity\":0.3333333333333333,\"orientation\":\"h\",\"showlegend\":false,\"width\":0.22,\"x\":[0.45],\"type\":\"bar\",\"xaxis\":\"x2\",\"yaxis\":\"y2\",\"hovertemplate\":\"%{x:.3f}\"},{\"marker\":{\"color\":\"blue\",\"line\":{\"color\":\"gray\",\"width\":0.22}},\"name\":\"<b>C</b>\",\"opacity\":0.3333333333333333,\"orientation\":\"h\",\"showlegend\":false,\"width\":0.22,\"x\":[0.34],\"type\":\"bar\",\"xaxis\":\"x3\",\"yaxis\":\"y3\",\"hovertemplate\":\"%{x:.3f}\"},{\"marker\":{\"color\":\"Red\",\"line\":{\"color\":\"gray\",\"width\":0.22}},\"name\":\"<b>B</b>\",\"opacity\":0.3333333333333333,\"orientation\":\"h\",\"showlegend\":false,\"width\":0.22,\"x\":[0.38],\"type\":\"bar\",\"xaxis\":\"x3\",\"yaxis\":\"y3\",\"hovertemplate\":\"%{x:.3f}\"},{\"marker\":{\"color\":\"Green\",\"line\":{\"color\":\"gray\",\"width\":0.22}},\"name\":\"<b>A</b>\",\"opacity\":0.3333333333333333,\"orientation\":\"h\",\"showlegend\":false,\"width\":0.22,\"x\":[0.68],\"type\":\"bar\",\"xaxis\":\"x3\",\"yaxis\":\"y3\",\"hovertemplate\":\"%{x:.3f}\"},{\"marker\":{\"color\":\"blue\",\"line\":{\"color\":\"gray\",\"width\":0.22}},\"name\":\"<b>C</b>\",\"opacity\":0.3333333333333333,\"orientation\":\"h\",\"showlegend\":false,\"width\":0.22,\"x\":[0.764],\"type\":\"bar\",\"xaxis\":\"x4\",\"yaxis\":\"y4\",\"hovertemplate\":\"%{x:.3f}\"},{\"marker\":{\"color\":\"Red\",\"line\":{\"color\":\"gray\",\"width\":0.22}},\"name\":\"<b>B</b>\",\"opacity\":0.3333333333333333,\"orientation\":\"h\",\"showlegend\":false,\"width\":0.22,\"x\":[0.194],\"type\":\"bar\",\"xaxis\":\"x4\",\"yaxis\":\"y4\",\"hovertemplate\":\"%{x:.3f}\"},{\"marker\":{\"color\":\"Green\",\"line\":{\"color\":\"gray\",\"width\":0.22}},\"name\":\"<b>A</b>\",\"opacity\":0.3333333333333333,\"orientation\":\"h\",\"showlegend\":false,\"width\":0.22,\"x\":[0.374],\"type\":\"bar\",\"xaxis\":\"x4\",\"yaxis\":\"y4\",\"hovertemplate\":\"%{x:.3f}\"},{\"marker\":{\"color\":\"blue\",\"line\":{\"color\":\"gray\",\"width\":0.22}},\"name\":\"<b>C</b>\",\"opacity\":0.3333333333333333,\"orientation\":\"h\",\"showlegend\":false,\"width\":0.22,\"x\":[0.03],\"y\":[-1],\"type\":\"bar\",\"xaxis\":\"x5\",\"yaxis\":\"y5\",\"hovertemplate\":\"%{x:.3f}\"},{\"marker\":{\"color\":\"Red\",\"line\":{\"color\":\"gray\",\"width\":0.22}},\"name\":\"<b>B</b>\",\"opacity\":0.3333333333333333,\"orientation\":\"h\",\"showlegend\":false,\"width\":0.22,\"x\":[-0.02],\"y\":[-1],\"type\":\"bar\",\"xaxis\":\"x5\",\"yaxis\":\"y5\",\"hovertemplate\":\"%{x:.3f}\"},{\"marker\":{\"color\":\"Green\",\"line\":{\"color\":\"gray\",\"width\":0.22}},\"name\":\"<b>A</b>\",\"opacity\":0.3333333333333333,\"orientation\":\"h\",\"showlegend\":false,\"width\":0.22,\"x\":[-0.01],\"y\":[-1],\"type\":\"bar\",\"xaxis\":\"x5\",\"yaxis\":\"y5\",\"hovertemplate\":\"%{x:.3f}\"},{\"marker\":{\"color\":\"blue\",\"line\":{\"color\":\"gray\",\"width\":0.22}},\"name\":\"<b>C</b>\",\"opacity\":0.3333333333333333,\"orientation\":\"h\",\"showlegend\":false,\"width\":0.22,\"x\":[0.001],\"y\":[-1],\"type\":\"bar\",\"xaxis\":\"x6\",\"yaxis\":\"y6\",\"hovertemplate\":\"%{x:.3f}\"},{\"marker\":{\"color\":\"Red\",\"line\":{\"color\":\"gray\",\"width\":0.22}},\"name\":\"<b>B</b>\",\"opacity\":0.3333333333333333,\"orientation\":\"h\",\"showlegend\":false,\"width\":0.22,\"x\":[0.004],\"y\":[-1],\"type\":\"bar\",\"xaxis\":\"x6\",\"yaxis\":\"y6\",\"hovertemplate\":\"%{x:.3f}\"},{\"marker\":{\"color\":\"Green\",\"line\":{\"color\":\"gray\",\"width\":0.22}},\"name\":\"<b>A</b>\",\"opacity\":0.3333333333333333,\"orientation\":\"h\",\"showlegend\":false,\"width\":0.22,\"x\":[-0.001],\"y\":[-1],\"type\":\"bar\",\"xaxis\":\"x6\",\"yaxis\":\"y6\",\"hovertemplate\":\"%{x:.3f}\"},{\"marker\":{\"color\":\"Green\",\"line\":{\"color\":\"gray\",\"width\":1},\"opacity\":0.3333333333333333,\"size\":10},\"mode\":\"markers\",\"name\":\"<b>A</b>\",\"x\":[null],\"y\":[null],\"type\":\"scatter\"},{\"marker\":{\"color\":\"Red\",\"line\":{\"color\":\"gray\",\"width\":1},\"opacity\":0.3333333333333333,\"size\":10},\"mode\":\"markers\",\"name\":\"<b>B</b>\",\"x\":[null],\"y\":[null],\"type\":\"scatter\"},{\"marker\":{\"color\":\"blue\",\"line\":{\"color\":\"gray\",\"width\":1},\"opacity\":0.3333333333333333,\"size\":10},\"mode\":\"markers\",\"name\":\"<b>C</b>\",\"x\":[null],\"y\":[null],\"type\":\"scatter\"}],                        {\"template\":{\"data\":{\"histogram2dcontour\":[{\"type\":\"histogram2dcontour\",\"colorbar\":{\"outlinewidth\":0,\"ticks\":\"\"},\"colorscale\":[[0.0,\"#0d0887\"],[0.1111111111111111,\"#46039f\"],[0.2222222222222222,\"#7201a8\"],[0.3333333333333333,\"#9c179e\"],[0.4444444444444444,\"#bd3786\"],[0.5555555555555556,\"#d8576b\"],[0.6666666666666666,\"#ed7953\"],[0.7777777777777778,\"#fb9f3a\"],[0.8888888888888888,\"#fdca26\"],[1.0,\"#f0f921\"]]}],\"choropleth\":[{\"type\":\"choropleth\",\"colorbar\":{\"outlinewidth\":0,\"ticks\":\"\"}}],\"histogram2d\":[{\"type\":\"histogram2d\",\"colorbar\":{\"outlinewidth\":0,\"ticks\":\"\"},\"colorscale\":[[0.0,\"#0d0887\"],[0.1111111111111111,\"#46039f\"],[0.2222222222222222,\"#7201a8\"],[0.3333333333333333,\"#9c179e\"],[0.4444444444444444,\"#bd3786\"],[0.5555555555555556,\"#d8576b\"],[0.6666666666666666,\"#ed7953\"],[0.7777777777777778,\"#fb9f3a\"],[0.8888888888888888,\"#fdca26\"],[1.0,\"#f0f921\"]]}],\"heatmap\":[{\"type\":\"heatmap\",\"colorbar\":{\"outlinewidth\":0,\"ticks\":\"\"},\"colorscale\":[[0.0,\"#0d0887\"],[0.1111111111111111,\"#46039f\"],[0.2222222222222222,\"#7201a8\"],[0.3333333333333333,\"#9c179e\"],[0.4444444444444444,\"#bd3786\"],[0.5555555555555556,\"#d8576b\"],[0.6666666666666666,\"#ed7953\"],[0.7777777777777778,\"#fb9f3a\"],[0.8888888888888888,\"#fdca26\"],[1.0,\"#f0f921\"]]}],\"heatmapgl\":[{\"type\":\"heatmapgl\",\"colorbar\":{\"outlinewidth\":0,\"ticks\":\"\"},\"colorscale\":[[0.0,\"#0d0887\"],[0.1111111111111111,\"#46039f\"],[0.2222222222222222,\"#7201a8\"],[0.3333333333333333,\"#9c179e\"],[0.4444444444444444,\"#bd3786\"],[0.5555555555555556,\"#d8576b\"],[0.6666666666666666,\"#ed7953\"],[0.7777777777777778,\"#fb9f3a\"],[0.8888888888888888,\"#fdca26\"],[1.0,\"#f0f921\"]]}],\"contourcarpet\":[{\"type\":\"contourcarpet\",\"colorbar\":{\"outlinewidth\":0,\"ticks\":\"\"}}],\"contour\":[{\"type\":\"contour\",\"colorbar\":{\"outlinewidth\":0,\"ticks\":\"\"},\"colorscale\":[[0.0,\"#0d0887\"],[0.1111111111111111,\"#46039f\"],[0.2222222222222222,\"#7201a8\"],[0.3333333333333333,\"#9c179e\"],[0.4444444444444444,\"#bd3786\"],[0.5555555555555556,\"#d8576b\"],[0.6666666666666666,\"#ed7953\"],[0.7777777777777778,\"#fb9f3a\"],[0.8888888888888888,\"#fdca26\"],[1.0,\"#f0f921\"]]}],\"surface\":[{\"type\":\"surface\",\"colorbar\":{\"outlinewidth\":0,\"ticks\":\"\"},\"colorscale\":[[0.0,\"#0d0887\"],[0.1111111111111111,\"#46039f\"],[0.2222222222222222,\"#7201a8\"],[0.3333333333333333,\"#9c179e\"],[0.4444444444444444,\"#bd3786\"],[0.5555555555555556,\"#d8576b\"],[0.6666666666666666,\"#ed7953\"],[0.7777777777777778,\"#fb9f3a\"],[0.8888888888888888,\"#fdca26\"],[1.0,\"#f0f921\"]]}],\"mesh3d\":[{\"type\":\"mesh3d\",\"colorbar\":{\"outlinewidth\":0,\"ticks\":\"\"}}],\"scatter\":[{\"fillpattern\":{\"fillmode\":\"overlay\",\"size\":10,\"solidity\":0.2},\"type\":\"scatter\"}],\"parcoords\":[{\"type\":\"parcoords\",\"line\":{\"colorbar\":{\"outlinewidth\":0,\"ticks\":\"\"}}}],\"scatterpolargl\":[{\"type\":\"scatterpolargl\",\"marker\":{\"colorbar\":{\"outlinewidth\":0,\"ticks\":\"\"}}}],\"bar\":[{\"error_x\":{\"color\":\"#2a3f5f\"},\"error_y\":{\"color\":\"#2a3f5f\"},\"marker\":{\"line\":{\"color\":\"#E5ECF6\",\"width\":0.5},\"pattern\":{\"fillmode\":\"overlay\",\"size\":10,\"solidity\":0.2}},\"type\":\"bar\"}],\"scattergeo\":[{\"type\":\"scattergeo\",\"marker\":{\"colorbar\":{\"outlinewidth\":0,\"ticks\":\"\"}}}],\"scatterpolar\":[{\"type\":\"scatterpolar\",\"marker\":{\"colorbar\":{\"outlinewidth\":0,\"ticks\":\"\"}}}],\"histogram\":[{\"marker\":{\"pattern\":{\"fillmode\":\"overlay\",\"size\":10,\"solidity\":0.2}},\"type\":\"histogram\"}],\"scattergl\":[{\"type\":\"scattergl\",\"marker\":{\"colorbar\":{\"outlinewidth\":0,\"ticks\":\"\"}}}],\"scatter3d\":[{\"type\":\"scatter3d\",\"line\":{\"colorbar\":{\"outlinewidth\":0,\"ticks\":\"\"}},\"marker\":{\"colorbar\":{\"outlinewidth\":0,\"ticks\":\"\"}}}],\"scattermapbox\":[{\"type\":\"scattermapbox\",\"marker\":{\"colorbar\":{\"outlinewidth\":0,\"ticks\":\"\"}}}],\"scatterternary\":[{\"type\":\"scatterternary\",\"marker\":{\"colorbar\":{\"outlinewidth\":0,\"ticks\":\"\"}}}],\"scattercarpet\":[{\"type\":\"scattercarpet\",\"marker\":{\"colorbar\":{\"outlinewidth\":0,\"ticks\":\"\"}}}],\"carpet\":[{\"aaxis\":{\"endlinecolor\":\"#2a3f5f\",\"gridcolor\":\"white\",\"linecolor\":\"white\",\"minorgridcolor\":\"white\",\"startlinecolor\":\"#2a3f5f\"},\"baxis\":{\"endlinecolor\":\"#2a3f5f\",\"gridcolor\":\"white\",\"linecolor\":\"white\",\"minorgridcolor\":\"white\",\"startlinecolor\":\"#2a3f5f\"},\"type\":\"carpet\"}],\"table\":[{\"cells\":{\"fill\":{\"color\":\"#EBF0F8\"},\"line\":{\"color\":\"white\"}},\"header\":{\"fill\":{\"color\":\"#C8D4E3\"},\"line\":{\"color\":\"white\"}},\"type\":\"table\"}],\"barpolar\":[{\"marker\":{\"line\":{\"color\":\"#E5ECF6\",\"width\":0.5},\"pattern\":{\"fillmode\":\"overlay\",\"size\":10,\"solidity\":0.2}},\"type\":\"barpolar\"}],\"pie\":[{\"automargin\":true,\"type\":\"pie\"}]},\"layout\":{\"autotypenumbers\":\"strict\",\"colorway\":[\"#636efa\",\"#EF553B\",\"#00cc96\",\"#ab63fa\",\"#FFA15A\",\"#19d3f3\",\"#FF6692\",\"#B6E880\",\"#FF97FF\",\"#FECB52\"],\"font\":{\"color\":\"#2a3f5f\"},\"hovermode\":\"closest\",\"hoverlabel\":{\"align\":\"left\"},\"paper_bgcolor\":\"white\",\"plot_bgcolor\":\"#E5ECF6\",\"polar\":{\"bgcolor\":\"#E5ECF6\",\"angularaxis\":{\"gridcolor\":\"white\",\"linecolor\":\"white\",\"ticks\":\"\"},\"radialaxis\":{\"gridcolor\":\"white\",\"linecolor\":\"white\",\"ticks\":\"\"}},\"ternary\":{\"bgcolor\":\"#E5ECF6\",\"aaxis\":{\"gridcolor\":\"white\",\"linecolor\":\"white\",\"ticks\":\"\"},\"baxis\":{\"gridcolor\":\"white\",\"linecolor\":\"white\",\"ticks\":\"\"},\"caxis\":{\"gridcolor\":\"white\",\"linecolor\":\"white\",\"ticks\":\"\"}},\"coloraxis\":{\"colorbar\":{\"outlinewidth\":0,\"ticks\":\"\"}},\"colorscale\":{\"sequential\":[[0.0,\"#0d0887\"],[0.1111111111111111,\"#46039f\"],[0.2222222222222222,\"#7201a8\"],[0.3333333333333333,\"#9c179e\"],[0.4444444444444444,\"#bd3786\"],[0.5555555555555556,\"#d8576b\"],[0.6666666666666666,\"#ed7953\"],[0.7777777777777778,\"#fb9f3a\"],[0.8888888888888888,\"#fdca26\"],[1.0,\"#f0f921\"]],\"sequentialminus\":[[0.0,\"#0d0887\"],[0.1111111111111111,\"#46039f\"],[0.2222222222222222,\"#7201a8\"],[0.3333333333333333,\"#9c179e\"],[0.4444444444444444,\"#bd3786\"],[0.5555555555555556,\"#d8576b\"],[0.6666666666666666,\"#ed7953\"],[0.7777777777777778,\"#fb9f3a\"],[0.8888888888888888,\"#fdca26\"],[1.0,\"#f0f921\"]],\"diverging\":[[0,\"#8e0152\"],[0.1,\"#c51b7d\"],[0.2,\"#de77ae\"],[0.3,\"#f1b6da\"],[0.4,\"#fde0ef\"],[0.5,\"#f7f7f7\"],[0.6,\"#e6f5d0\"],[0.7,\"#b8e186\"],[0.8,\"#7fbc41\"],[0.9,\"#4d9221\"],[1,\"#276419\"]]},\"xaxis\":{\"gridcolor\":\"white\",\"linecolor\":\"white\",\"ticks\":\"\",\"title\":{\"standoff\":15},\"zerolinecolor\":\"white\",\"automargin\":true,\"zerolinewidth\":2},\"yaxis\":{\"gridcolor\":\"white\",\"linecolor\":\"white\",\"ticks\":\"\",\"title\":{\"standoff\":15},\"zerolinecolor\":\"white\",\"automargin\":true,\"zerolinewidth\":2},\"scene\":{\"xaxis\":{\"backgroundcolor\":\"#E5ECF6\",\"gridcolor\":\"white\",\"linecolor\":\"white\",\"showbackground\":true,\"ticks\":\"\",\"zerolinecolor\":\"white\",\"gridwidth\":2},\"yaxis\":{\"backgroundcolor\":\"#E5ECF6\",\"gridcolor\":\"white\",\"linecolor\":\"white\",\"showbackground\":true,\"ticks\":\"\",\"zerolinecolor\":\"white\",\"gridwidth\":2},\"zaxis\":{\"backgroundcolor\":\"#E5ECF6\",\"gridcolor\":\"white\",\"linecolor\":\"white\",\"showbackground\":true,\"ticks\":\"\",\"zerolinecolor\":\"white\",\"gridwidth\":2}},\"shapedefaults\":{\"line\":{\"color\":\"#2a3f5f\"}},\"annotationdefaults\":{\"arrowcolor\":\"#2a3f5f\",\"arrowhead\":0,\"arrowwidth\":1},\"geo\":{\"bgcolor\":\"white\",\"landcolor\":\"#E5ECF6\",\"subunitcolor\":\"white\",\"showland\":true,\"showlakes\":true,\"lakecolor\":\"white\"},\"title\":{\"x\":0.05},\"mapbox\":{\"style\":\"light\"}}},\"xaxis\":{\"anchor\":\"y\",\"domain\":[0.0,1.0],\"showgrid\":false,\"visible\":true,\"tickmode\":\"linear\",\"dtick\":0.05},\"yaxis\":{\"anchor\":\"x\",\"domain\":[0.9416666666666667,1.0],\"visible\":false},\"xaxis2\":{\"anchor\":\"y2\",\"domain\":[0.0,1.0],\"showgrid\":false,\"visible\":true},\"yaxis2\":{\"anchor\":\"x2\",\"domain\":[0.7533333333333333,0.8116666666666666],\"visible\":false},\"xaxis3\":{\"anchor\":\"y3\",\"domain\":[0.0,1.0],\"showgrid\":false,\"visible\":true},\"yaxis3\":{\"anchor\":\"x3\",\"domain\":[0.565,0.6233333333333333],\"visible\":false},\"xaxis4\":{\"anchor\":\"y4\",\"domain\":[0.0,1.0],\"showgrid\":false,\"visible\":true},\"yaxis4\":{\"anchor\":\"x4\",\"domain\":[0.37666666666666665,0.435],\"visible\":false},\"xaxis5\":{\"anchor\":\"y5\",\"domain\":[0.0,1.0],\"showgrid\":false,\"range\":[-0.03,0.03]},\"yaxis5\":{\"anchor\":\"x5\",\"domain\":[0.18833333333333332,0.24666666666666665],\"visible\":false},\"xaxis6\":{\"anchor\":\"y6\",\"domain\":[0.0,1.0],\"showgrid\":false,\"range\":[-0.004,0.004]},\"yaxis6\":{\"anchor\":\"x6\",\"domain\":[0.0,0.05833333333333333],\"visible\":false},\"annotations\":[{\"font\":{\"size\":16},\"showarrow\":false,\"text\":\"<b>\\ud0c0\\uc728</b>\",\"x\":0.5,\"xanchor\":\"center\",\"xref\":\"paper\",\"y\":1.0,\"yanchor\":\"bottom\",\"yref\":\"paper\"},{\"font\":{\"size\":16},\"showarrow\":false,\"text\":\"<b>\\uc7a5\\ud0c0\\uc728</b>\",\"x\":0.5,\"xanchor\":\"center\",\"xref\":\"paper\",\"y\":0.8116666666666666,\"yanchor\":\"bottom\",\"yref\":\"paper\"},{\"font\":{\"size\":16},\"showarrow\":false,\"text\":\"<b>\\uc120\\uad6c\\uc548</b>\",\"x\":0.5,\"xanchor\":\"center\",\"xref\":\"paper\",\"y\":0.6233333333333333,\"yanchor\":\"bottom\",\"yref\":\"paper\"},{\"font\":{\"size\":16},\"showarrow\":false,\"text\":\"<b>\\ucd9c\\ub8e8\\uc728</b>\",\"x\":0.5,\"xanchor\":\"center\",\"xref\":\"paper\",\"y\":0.435,\"yanchor\":\"bottom\",\"yref\":\"paper\"},{\"font\":{\"size\":16},\"showarrow\":false,\"text\":\"<b>\\uac8c\\uc784\\uae30\\uc5ec</b>\",\"x\":0.5,\"xanchor\":\"center\",\"xref\":\"paper\",\"y\":0.24666666666666665,\"yanchor\":\"bottom\",\"yref\":\"paper\"},{\"font\":{\"size\":16},\"showarrow\":false,\"text\":\"<b>\\ud074\\ub7ec\\uce58</b>\",\"x\":0.5,\"xanchor\":\"center\",\"xref\":\"paper\",\"y\":0.05833333333333333,\"yanchor\":\"bottom\",\"yref\":\"paper\"}],\"barmode\":\"group\",\"plot_bgcolor\":\"rgba(0, 0, 0, 0)\",\"paper_bgcolor\":\"rgba(0, 0, 0, 0)\",\"height\":600,\"showlegend\":true,\"legend\":{\"font\":{\"size\":12},\"x\":1,\"y\":1,\"xanchor\":\"left\",\"yanchor\":\"auto\"}},                        {\"responsive\": true}                    ).then(function(){\n",
       "                            \n",
       "var gd = document.getElementById('3e4ab52a-c05d-45f3-b179-a1eb460ce137');\n",
       "var x = new MutationObserver(function (mutations, observer) {{\n",
       "        var display = window.getComputedStyle(gd).display;\n",
       "        if (!display || display === 'none') {{\n",
       "            console.log([gd, 'removed!']);\n",
       "            Plotly.purge(gd);\n",
       "            observer.disconnect();\n",
       "        }}\n",
       "}});\n",
       "\n",
       "// Listen for the removal of the full notebook cells\n",
       "var notebookContainer = gd.closest('#notebook-container');\n",
       "if (notebookContainer) {{\n",
       "    x.observe(notebookContainer, {childList: true});\n",
       "}}\n",
       "\n",
       "// Listen for the clearing of the current output cell\n",
       "var outputEl = gd.closest('.output');\n",
       "if (outputEl) {{\n",
       "    x.observe(outputEl, {childList: true});\n",
       "}}\n",
       "\n",
       "                        })                };                });            </script>        </div>"
      ]
     },
     "metadata": {},
     "output_type": "display_data"
    }
   ],
   "source": [
    "# 타자\n",
    "\n",
    "import pandas as pd\n",
    "import numpy as np\n",
    "import matplotlib.pyplot as plt\n",
    "\n",
    "import plotly.express as px\n",
    "import plotly.graph_objects as go\n",
    "import plotly.io as pio\n",
    "\n",
    "import math\n",
    "import scipy.stats as stats\n",
    "from math import pi\n",
    "from matplotlib.path import Path\n",
    "from matplotlib.spines import Spine\n",
    "from matplotlib.transforms import Affine2D\n",
    "from sklearn.preprocessing import StandardScaler, MinMaxScaler\n",
    "import sys\n",
    "import warnings\n",
    "from plotly.subplots import make_subplots\n",
    "\n",
    "warnings.filterwarnings('ignore')\n",
    "\n",
    "def convert_to_float(lst):\n",
    "    return [float(x) for x in lst]\n",
    "\n",
    "def move_item(lst):\n",
    "    item = lst.pop(5)  # 5번째 항목 추출\n",
    "    lst.insert(3, item)  # 4번째 자리에 삽입\n",
    "    \n",
    "    rest = lst[5:]  # 5번째 항목 이후의 항목 추출\n",
    "    del lst[5:]  # 추출한 항목들 삭제\n",
    "    lst.extend(rest)  # 추출한 항목들을 뒤로 이동\n",
    "    \n",
    "    return lst\n",
    "\n",
    "def visualize(L):\n",
    "    global indices\n",
    "    colors = ['Green', 'Red', 'blue']\n",
    "    pithit = L[1]\n",
    "    lenL = int((len(L)-2) / 7)\n",
    "    inputs = []\n",
    "    for split in range(lenL):\n",
    "        smallL = L[2+(split*7):9+(split*7)]\n",
    "        inputs.append(smallL)\n",
    "    \n",
    "    names = []\n",
    "    sc = []\n",
    "    for input in inputs:\n",
    "        sc.append(move_item(convert_to_float(input[:6])))\n",
    "        names.append(input[-1])\n",
    "    \n",
    "    if not pithit == 'hit': \n",
    "        colnames = ['평균자책점', '구위', '제구력', '출루허용률', '게임기여', '클러치' ]\n",
    "\n",
    "    else:\n",
    "        colnames = ['타율', '장타율', '선구안', '출루율', '게임기여', '클러치' ]\n",
    "    \n",
    "    subplot_titles = [f\"<b>{title}</b>\" for title in colnames]\n",
    "    names = [f\"<b>{title}</b>\" for title in names]\n",
    "    fig = make_subplots(rows=len(colnames), cols=1, subplot_titles=subplot_titles, vertical_spacing = 0.13)\n",
    "    \n",
    "\n",
    "    bar_width = 0.22\n",
    "   \n",
    "    for i, col in enumerate(colnames):\n",
    "        col = colnames[i]\n",
    "        for j in range(len(sc)-1, -1, -1):\n",
    "            player = sc[j]\n",
    "            if i == 4 or i == 5:  # Check if it's the 5th or 6th column\n",
    "                fig.add_trace(go.Bar(\n",
    "                    x=[sc[j][i]],\n",
    "                    y=[-1],  # Set the y-value to -1 to position the bar above the other bars\n",
    "                    name=names[j],\n",
    "                    orientation='h',\n",
    "                    width=bar_width,\n",
    "                    showlegend=False,\n",
    "                    opacity=1 / (len(sc)),\n",
    "                    marker=dict(color=colors[j], line=dict(color='gray', width=bar_width))\n",
    "                ), row=i + 1, col=1)\n",
    "            else:\n",
    "                fig.add_trace(go.Bar(\n",
    "                    x=[sc[j][i]],\n",
    "                    name=names[j],\n",
    "                    orientation='h',\n",
    "                    width=bar_width,\n",
    "                    showlegend=False,\n",
    "                    opacity=1 / (len(sc)),\n",
    "                    marker=dict(color=colors[j], line=dict(color='gray', width=bar_width))\n",
    "                ), row=i + 1, col=1)\n",
    "    \n",
    "            fig.update_yaxes(visible=False, row=i + 1, col=1)\n",
    "    \n",
    "            if i == 4 or i == 5:  # Check if it's the 5th or 6th column\n",
    "                sc_values = [item[i] for item in sc]  # Extract the values from the specific column\n",
    "                max_value = max(abs(value) for value in sc_values)  # Find the maximum absolute value\n",
    "                fig.update_xaxes(showgrid = False, range=[-max_value, max_value], row=i + 1, col=1)  # Set x-axis range to -max to max\n",
    "            else:\n",
    "                fig.update_xaxes(showgrid = False, visible=True, row=i + 1, col=1)  # Keep the default x-axis range\n",
    "\n",
    "    if pithit == 'hit':\n",
    "        fig.update_layout(\n",
    "            barmode='group',\n",
    "            xaxis=dict(\n",
    "                tickmode='linear',\n",
    "                dtick=0.05\n",
    "                #color='grey'\n",
    "            ),\n",
    "            plot_bgcolor='rgba(0, 0, 0, 0)',\n",
    "            paper_bgcolor='rgba(0, 0, 0, 0)',\n",
    "            height=100 * len(colnames),\n",
    "            showlegend=False\n",
    "        )\n",
    "    else:\n",
    "        fig.update_layout(\n",
    "            barmode='group',\n",
    "            xaxis=dict(\n",
    "                tickmode='linear'\n",
    "                #dtick=0.05\n",
    "                #color='grey'\n",
    "            ),\n",
    "            plot_bgcolor='rgba(0, 0, 0, 0)',\n",
    "            paper_bgcolor='rgba(0, 0, 0, 0)',\n",
    "            height=100 * len(colnames),\n",
    "            showlegend=False\n",
    "        )\n",
    "    \n",
    "    fig.update_traces(hovertemplate='%{x:.3f}')\n",
    "    \n",
    "      # Create custom legend\n",
    "    legend_labels = names\n",
    "    legend_colors = colors[:len(names)]\n",
    "    custom_legend = [go.Scatter(\n",
    "            x=[None], y=[None],  # Use dummy values\n",
    "            mode='markers',\n",
    "            marker=dict(\n",
    "            color=color,\n",
    "            opacity=1/(len(sc)),\n",
    "            size=10,\n",
    "            line=dict(color='gray', width=1)\n",
    "        ),\n",
    "        name=label\n",
    "    ) for color, label in zip(legend_colors, legend_labels)]\n",
    "\n",
    "    fig.add_traces(custom_legend)\n",
    "\n",
    "    fig.update_layout(\n",
    "        showlegend=True,  # Show the custom legend\n",
    "        legend=dict(\n",
    "            x=1,  # Adjust the x position of the custom legend\n",
    "            y=1,  # Adjust the y position of the custom legend\n",
    "            font=dict(size=12),  # Adjust the font size of the custom legend\n",
    "            xanchor='left',\n",
    "            yanchor='auto',\n",
    "        )\n",
    "    )\n",
    "\n",
    "    fig.show()\n",
    "\n",
    "#L = ['hex_visualize.py', 'pit', '3.48','0.044','2.203','0.033','0.860','1.332', '양현종', '2.79','0.068','4.432','0.080','1.055','1.097', '김광현' , '5.48','0.054','2.897','0.031','0.500','1.552', '류현진']\n",
    "L = ['hex_visualize.py', 'hit', '0.290', '0.450', '0.680', '-0.01', '-0.001', '0.374', 'A', '0.320', '0.550', '0.380', '-0.02', '+0.004', '0.194', 'B' , '0.310', '0.310', '0.340', '0.03', '+0.001', '0.764', 'C']\n",
    "visualize(L)"
   ]
  }
 ],
 "metadata": {
  "kernelspec": {
   "display_name": "Python 3 (ipykernel)",
   "language": "python",
   "name": "python3"
  },
  "language_info": {
   "codemirror_mode": {
    "name": "ipython",
    "version": 3
   },
   "file_extension": ".py",
   "mimetype": "text/x-python",
   "name": "python",
   "nbconvert_exporter": "python",
   "pygments_lexer": "ipython3",
   "version": "3.10.7"
  }
 },
 "nbformat": 4,
 "nbformat_minor": 5
}
