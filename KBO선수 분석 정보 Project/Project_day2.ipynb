{
 "cells": [
  {
   "cell_type": "markdown",
   "id": "0d6dc806-1fc8-4615-b20c-4ba050532c38",
   "metadata": {},
   "source": [
    "## 각 시즌 별 선수 기록 데이터 프레임 추출 후 시각화"
   ]
  },
  {
   "cell_type": "code",
   "execution_count": 65,
   "id": "35d5be48-e32b-4ecc-888d-3f4bfa524c61",
   "metadata": {},
   "outputs": [],
   "source": [
    "import pandas as pd\n",
    "import numpy as np\n",
    "from sklearn.preprocessing import MinMaxScaler, StandardScaler\n",
    "import plotly.graph_objects as go\n",
    "import plotly.express as px\n",
    "import math"
   ]
  },
  {
   "cell_type": "code",
   "execution_count": 2,
   "id": "afe25d2b-9bed-495d-aa6e-504e5cd5c869",
   "metadata": {},
   "outputs": [],
   "source": [
    "import warnings\n",
    "warnings.filterwarnings('ignore')"
   ]
  },
  {
   "cell_type": "code",
   "execution_count": 3,
   "id": "38696dd4-4cc1-41b3-a516-5f626a08dede",
   "metadata": {},
   "outputs": [],
   "source": [
    "# 파이썬 시각화 패키지 불러오기\n",
    "import matplotlib.pyplot as plt\n",
    "%matplotlib inline\n",
    "# 사용자 운영체제 확인\n",
    "import platform\n",
    "platform.system()\n",
    "# 운영체제별 한글 폰트 설정\n",
    "if platform.system() == 'Darwin': # Mac 환경 폰트 설정\n",
    "    plt.rc('font', family='AppleGothic')\n",
    "elif platform.system() == 'Windows': # Windows 환경 폰트 설정\n",
    "    plt.rc('font', family='Malgun Gothic')\n",
    "plt.rc('axes', unicode_minus=False) # 마이너스 폰트 설정\n",
    "# 글씨 선명하게 출력하는 설정\n",
    "%config InlineBackend.figure_format = 'retina'"
   ]
  },
  {
   "cell_type": "code",
   "execution_count": 39,
   "id": "d5fe776b-c6ea-48e9-b5da-b16057e1780b",
   "metadata": {
    "tags": []
   },
   "outputs": [
    {
     "data": {
      "text/html": [
       "<div>\n",
       "<style scoped>\n",
       "    .dataframe tbody tr th:only-of-type {\n",
       "        vertical-align: middle;\n",
       "    }\n",
       "\n",
       "    .dataframe tbody tr th {\n",
       "        vertical-align: top;\n",
       "    }\n",
       "\n",
       "    .dataframe thead th {\n",
       "        text-align: right;\n",
       "    }\n",
       "</style>\n",
       "<table border=\"1\" class=\"dataframe\">\n",
       "  <thead>\n",
       "    <tr style=\"text-align: right;\">\n",
       "      <th></th>\n",
       "      <th>idx</th>\n",
       "      <th>code</th>\n",
       "      <th>year</th>\n",
       "      <th>date</th>\n",
       "      <th>result</th>\n",
       "      <th>h_order</th>\n",
       "      <th>position</th>\n",
       "      <th>startup</th>\n",
       "      <th>pa</th>\n",
       "      <th>run</th>\n",
       "      <th>...</th>\n",
       "      <th>sh</th>\n",
       "      <th>sf</th>\n",
       "      <th>avg</th>\n",
       "      <th>obp</th>\n",
       "      <th>slg</th>\n",
       "      <th>ops</th>\n",
       "      <th>pit</th>\n",
       "      <th>avli</th>\n",
       "      <th>re24</th>\n",
       "      <th>wpa</th>\n",
       "    </tr>\n",
       "  </thead>\n",
       "  <tbody>\n",
       "    <tr>\n",
       "      <th>0</th>\n",
       "      <td>0</td>\n",
       "      <td>78168</td>\n",
       "      <td>2018</td>\n",
       "      <td>03-24</td>\n",
       "      <td>W 6:3</td>\n",
       "      <td>1</td>\n",
       "      <td>2B</td>\n",
       "      <td>1</td>\n",
       "      <td>5</td>\n",
       "      <td>0</td>\n",
       "      <td>...</td>\n",
       "      <td>0</td>\n",
       "      <td>0</td>\n",
       "      <td>0.200</td>\n",
       "      <td>0.200</td>\n",
       "      <td>0.200</td>\n",
       "      <td>0.400</td>\n",
       "      <td>24</td>\n",
       "      <td>0.73</td>\n",
       "      <td>-0.78</td>\n",
       "      <td>-0.032</td>\n",
       "    </tr>\n",
       "    <tr>\n",
       "      <th>1</th>\n",
       "      <td>1</td>\n",
       "      <td>78168</td>\n",
       "      <td>2018</td>\n",
       "      <td>03-25</td>\n",
       "      <td>L 1:4</td>\n",
       "      <td>1</td>\n",
       "      <td>2B</td>\n",
       "      <td>1</td>\n",
       "      <td>4</td>\n",
       "      <td>0</td>\n",
       "      <td>...</td>\n",
       "      <td>0</td>\n",
       "      <td>0</td>\n",
       "      <td>0.111</td>\n",
       "      <td>0.111</td>\n",
       "      <td>0.111</td>\n",
       "      <td>0.222</td>\n",
       "      <td>13</td>\n",
       "      <td>1.00</td>\n",
       "      <td>-1.27</td>\n",
       "      <td>-0.127</td>\n",
       "    </tr>\n",
       "    <tr>\n",
       "      <th>2</th>\n",
       "      <td>2</td>\n",
       "      <td>78168</td>\n",
       "      <td>2018</td>\n",
       "      <td>03-27</td>\n",
       "      <td>W 5:4</td>\n",
       "      <td>3</td>\n",
       "      <td>2B</td>\n",
       "      <td>1</td>\n",
       "      <td>5</td>\n",
       "      <td>2</td>\n",
       "      <td>...</td>\n",
       "      <td>0</td>\n",
       "      <td>0</td>\n",
       "      <td>0.286</td>\n",
       "      <td>0.286</td>\n",
       "      <td>0.357</td>\n",
       "      <td>0.643</td>\n",
       "      <td>21</td>\n",
       "      <td>1.51</td>\n",
       "      <td>0.90</td>\n",
       "      <td>0.118</td>\n",
       "    </tr>\n",
       "    <tr>\n",
       "      <th>3</th>\n",
       "      <td>3</td>\n",
       "      <td>78168</td>\n",
       "      <td>2018</td>\n",
       "      <td>03-28</td>\n",
       "      <td>L 3:9</td>\n",
       "      <td>3</td>\n",
       "      <td>2B</td>\n",
       "      <td>1</td>\n",
       "      <td>3</td>\n",
       "      <td>1</td>\n",
       "      <td>...</td>\n",
       "      <td>0</td>\n",
       "      <td>0</td>\n",
       "      <td>0.235</td>\n",
       "      <td>0.278</td>\n",
       "      <td>0.294</td>\n",
       "      <td>0.572</td>\n",
       "      <td>13</td>\n",
       "      <td>1.11</td>\n",
       "      <td>-0.91</td>\n",
       "      <td>-0.073</td>\n",
       "    </tr>\n",
       "    <tr>\n",
       "      <th>4</th>\n",
       "      <td>4</td>\n",
       "      <td>78168</td>\n",
       "      <td>2018</td>\n",
       "      <td>03-29</td>\n",
       "      <td>W 9:4</td>\n",
       "      <td>3</td>\n",
       "      <td>2B</td>\n",
       "      <td>1</td>\n",
       "      <td>3</td>\n",
       "      <td>1</td>\n",
       "      <td>...</td>\n",
       "      <td>0</td>\n",
       "      <td>0</td>\n",
       "      <td>0.250</td>\n",
       "      <td>0.348</td>\n",
       "      <td>0.300</td>\n",
       "      <td>0.648</td>\n",
       "      <td>16</td>\n",
       "      <td>0.73</td>\n",
       "      <td>0.79</td>\n",
       "      <td>0.016</td>\n",
       "    </tr>\n",
       "    <tr>\n",
       "      <th>...</th>\n",
       "      <td>...</td>\n",
       "      <td>...</td>\n",
       "      <td>...</td>\n",
       "      <td>...</td>\n",
       "      <td>...</td>\n",
       "      <td>...</td>\n",
       "      <td>...</td>\n",
       "      <td>...</td>\n",
       "      <td>...</td>\n",
       "      <td>...</td>\n",
       "      <td>...</td>\n",
       "      <td>...</td>\n",
       "      <td>...</td>\n",
       "      <td>...</td>\n",
       "      <td>...</td>\n",
       "      <td>...</td>\n",
       "      <td>...</td>\n",
       "      <td>...</td>\n",
       "      <td>...</td>\n",
       "      <td>...</td>\n",
       "      <td>...</td>\n",
       "    </tr>\n",
       "    <tr>\n",
       "      <th>99181</th>\n",
       "      <td>99181</td>\n",
       "      <td>65132</td>\n",
       "      <td>2023</td>\n",
       "      <td>06-28</td>\n",
       "      <td>L 6:9</td>\n",
       "      <td>6</td>\n",
       "      <td>C</td>\n",
       "      <td>0</td>\n",
       "      <td>0</td>\n",
       "      <td>0</td>\n",
       "      <td>...</td>\n",
       "      <td>0</td>\n",
       "      <td>0</td>\n",
       "      <td>0.238</td>\n",
       "      <td>0.385</td>\n",
       "      <td>0.310</td>\n",
       "      <td>0.694</td>\n",
       "      <td>0</td>\n",
       "      <td>0.00</td>\n",
       "      <td>0.00</td>\n",
       "      <td>0.000</td>\n",
       "    </tr>\n",
       "    <tr>\n",
       "      <th>99182</th>\n",
       "      <td>99182</td>\n",
       "      <td>65132</td>\n",
       "      <td>2023</td>\n",
       "      <td>06-30</td>\n",
       "      <td>D :</td>\n",
       "      <td>8</td>\n",
       "      <td>PH</td>\n",
       "      <td>0</td>\n",
       "      <td>2</td>\n",
       "      <td>0</td>\n",
       "      <td>...</td>\n",
       "      <td>0</td>\n",
       "      <td>0</td>\n",
       "      <td>0.227</td>\n",
       "      <td>0.370</td>\n",
       "      <td>0.295</td>\n",
       "      <td>0.666</td>\n",
       "      <td>8</td>\n",
       "      <td>0.17</td>\n",
       "      <td>-0.72</td>\n",
       "      <td>-0.009</td>\n",
       "    </tr>\n",
       "    <tr>\n",
       "      <th>99183</th>\n",
       "      <td>99183</td>\n",
       "      <td>65132</td>\n",
       "      <td>2023</td>\n",
       "      <td>07-01</td>\n",
       "      <td>D :</td>\n",
       "      <td>4</td>\n",
       "      <td>C</td>\n",
       "      <td>0</td>\n",
       "      <td>1</td>\n",
       "      <td>0</td>\n",
       "      <td>...</td>\n",
       "      <td>0</td>\n",
       "      <td>0</td>\n",
       "      <td>0.244</td>\n",
       "      <td>0.382</td>\n",
       "      <td>0.311</td>\n",
       "      <td>0.693</td>\n",
       "      <td>4</td>\n",
       "      <td>0.01</td>\n",
       "      <td>0.22</td>\n",
       "      <td>0.000</td>\n",
       "    </tr>\n",
       "    <tr>\n",
       "      <th>99184</th>\n",
       "      <td>99184</td>\n",
       "      <td>65132</td>\n",
       "      <td>2023</td>\n",
       "      <td>07-02</td>\n",
       "      <td>D :</td>\n",
       "      <td>5</td>\n",
       "      <td>DH</td>\n",
       "      <td>1</td>\n",
       "      <td>3</td>\n",
       "      <td>0</td>\n",
       "      <td>...</td>\n",
       "      <td>0</td>\n",
       "      <td>0</td>\n",
       "      <td>0.229</td>\n",
       "      <td>0.362</td>\n",
       "      <td>0.292</td>\n",
       "      <td>0.654</td>\n",
       "      <td>12</td>\n",
       "      <td>1.59</td>\n",
       "      <td>-1.45</td>\n",
       "      <td>-0.119</td>\n",
       "    </tr>\n",
       "    <tr>\n",
       "      <th>99185</th>\n",
       "      <td>99185</td>\n",
       "      <td>50293</td>\n",
       "      <td>2023</td>\n",
       "      <td>07-02</td>\n",
       "      <td>W 4:2</td>\n",
       "      <td>8</td>\n",
       "      <td>RF</td>\n",
       "      <td>1</td>\n",
       "      <td>3</td>\n",
       "      <td>0</td>\n",
       "      <td>...</td>\n",
       "      <td>0</td>\n",
       "      <td>0</td>\n",
       "      <td>0.239</td>\n",
       "      <td>0.321</td>\n",
       "      <td>0.310</td>\n",
       "      <td>0.631</td>\n",
       "      <td>20</td>\n",
       "      <td>1.29</td>\n",
       "      <td>-1.25</td>\n",
       "      <td>-0.121</td>\n",
       "    </tr>\n",
       "  </tbody>\n",
       "</table>\n",
       "<p>99186 rows × 33 columns</p>\n",
       "</div>"
      ],
      "text/plain": [
       "         idx   code  year   date result  h_order position  startup  pa  run  \\\n",
       "0          0  78168  2018  03-24  W 6:3        1       2B        1   5    0   \n",
       "1          1  78168  2018  03-25  L 1:4        1       2B        1   4    0   \n",
       "2          2  78168  2018  03-27  W 5:4        3       2B        1   5    2   \n",
       "3          3  78168  2018  03-28  L 3:9        3       2B        1   3    1   \n",
       "4          4  78168  2018  03-29  W 9:4        3       2B        1   3    1   \n",
       "...      ...    ...   ...    ...    ...      ...      ...      ...  ..  ...   \n",
       "99181  99181  65132  2023  06-28  L 6:9        6        C        0   0    0   \n",
       "99182  99182  65132  2023  06-30    D :        8       PH        0   2    0   \n",
       "99183  99183  65132  2023  07-01    D :        4        C        0   1    0   \n",
       "99184  99184  65132  2023  07-02    D :        5       DH        1   3    0   \n",
       "99185  99185  50293  2023  07-02  W 4:2        8       RF        1   3    0   \n",
       "\n",
       "       ...  sh  sf    avg    obp    slg    ops  pit  avli  re24    wpa  \n",
       "0      ...   0   0  0.200  0.200  0.200  0.400   24  0.73 -0.78 -0.032  \n",
       "1      ...   0   0  0.111  0.111  0.111  0.222   13  1.00 -1.27 -0.127  \n",
       "2      ...   0   0  0.286  0.286  0.357  0.643   21  1.51  0.90  0.118  \n",
       "3      ...   0   0  0.235  0.278  0.294  0.572   13  1.11 -0.91 -0.073  \n",
       "4      ...   0   0  0.250  0.348  0.300  0.648   16  0.73  0.79  0.016  \n",
       "...    ...  ..  ..    ...    ...    ...    ...  ...   ...   ...    ...  \n",
       "99181  ...   0   0  0.238  0.385  0.310  0.694    0  0.00  0.00  0.000  \n",
       "99182  ...   0   0  0.227  0.370  0.295  0.666    8  0.17 -0.72 -0.009  \n",
       "99183  ...   0   0  0.244  0.382  0.311  0.693    4  0.01  0.22  0.000  \n",
       "99184  ...   0   0  0.229  0.362  0.292  0.654   12  1.59 -1.45 -0.119  \n",
       "99185  ...   0   0  0.239  0.321  0.310  0.631   20  1.29 -1.25 -0.121  \n",
       "\n",
       "[99186 rows x 33 columns]"
      ]
     },
     "execution_count": 39,
     "metadata": {},
     "output_type": "execute_result"
    }
   ],
   "source": [
    "df = pd.read_csv('DB_hit.csv', index_col=False)\n",
    "df"
   ]
  },
  {
   "cell_type": "code",
   "execution_count": 131,
   "id": "1ee6a6ba-1d41-4570-b10f-0d16f82e577b",
   "metadata": {
    "tags": []
   },
   "outputs": [
    {
     "data": {
      "text/html": [
       "<div>\n",
       "<style scoped>\n",
       "    .dataframe tbody tr th:only-of-type {\n",
       "        vertical-align: middle;\n",
       "    }\n",
       "\n",
       "    .dataframe tbody tr th {\n",
       "        vertical-align: top;\n",
       "    }\n",
       "\n",
       "    .dataframe thead th {\n",
       "        text-align: right;\n",
       "    }\n",
       "</style>\n",
       "<table border=\"1\" class=\"dataframe\">\n",
       "  <thead>\n",
       "    <tr style=\"text-align: right;\">\n",
       "      <th></th>\n",
       "      <th>code</th>\n",
       "      <th>year</th>\n",
       "      <th>pa</th>\n",
       "      <th>hit</th>\n",
       "      <th>second</th>\n",
       "      <th>third</th>\n",
       "      <th>homerun</th>\n",
       "      <th>luta</th>\n",
       "      <th>bb</th>\n",
       "      <th>hbp</th>\n",
       "      <th>ibb</th>\n",
       "      <th>k</th>\n",
       "      <th>dp</th>\n",
       "      <th>sh</th>\n",
       "      <th>sf</th>\n",
       "      <th>re24</th>\n",
       "      <th>wpa</th>\n",
       "    </tr>\n",
       "  </thead>\n",
       "  <tbody>\n",
       "    <tr>\n",
       "      <th>0</th>\n",
       "      <td>78168</td>\n",
       "      <td>2018</td>\n",
       "      <td>5</td>\n",
       "      <td>1</td>\n",
       "      <td>0</td>\n",
       "      <td>0</td>\n",
       "      <td>0</td>\n",
       "      <td>1</td>\n",
       "      <td>0</td>\n",
       "      <td>0</td>\n",
       "      <td>0</td>\n",
       "      <td>1</td>\n",
       "      <td>0</td>\n",
       "      <td>0</td>\n",
       "      <td>0</td>\n",
       "      <td>-0.78</td>\n",
       "      <td>-0.032</td>\n",
       "    </tr>\n",
       "    <tr>\n",
       "      <th>1</th>\n",
       "      <td>78168</td>\n",
       "      <td>2018</td>\n",
       "      <td>4</td>\n",
       "      <td>0</td>\n",
       "      <td>0</td>\n",
       "      <td>0</td>\n",
       "      <td>0</td>\n",
       "      <td>0</td>\n",
       "      <td>0</td>\n",
       "      <td>0</td>\n",
       "      <td>0</td>\n",
       "      <td>1</td>\n",
       "      <td>0</td>\n",
       "      <td>0</td>\n",
       "      <td>0</td>\n",
       "      <td>-1.27</td>\n",
       "      <td>-0.127</td>\n",
       "    </tr>\n",
       "    <tr>\n",
       "      <th>2</th>\n",
       "      <td>78168</td>\n",
       "      <td>2018</td>\n",
       "      <td>5</td>\n",
       "      <td>3</td>\n",
       "      <td>1</td>\n",
       "      <td>0</td>\n",
       "      <td>0</td>\n",
       "      <td>4</td>\n",
       "      <td>0</td>\n",
       "      <td>0</td>\n",
       "      <td>0</td>\n",
       "      <td>0</td>\n",
       "      <td>0</td>\n",
       "      <td>0</td>\n",
       "      <td>0</td>\n",
       "      <td>0.90</td>\n",
       "      <td>0.118</td>\n",
       "    </tr>\n",
       "    <tr>\n",
       "      <th>3</th>\n",
       "      <td>78168</td>\n",
       "      <td>2018</td>\n",
       "      <td>3</td>\n",
       "      <td>0</td>\n",
       "      <td>0</td>\n",
       "      <td>0</td>\n",
       "      <td>0</td>\n",
       "      <td>0</td>\n",
       "      <td>1</td>\n",
       "      <td>0</td>\n",
       "      <td>0</td>\n",
       "      <td>1</td>\n",
       "      <td>0</td>\n",
       "      <td>0</td>\n",
       "      <td>0</td>\n",
       "      <td>-0.91</td>\n",
       "      <td>-0.073</td>\n",
       "    </tr>\n",
       "    <tr>\n",
       "      <th>4</th>\n",
       "      <td>78168</td>\n",
       "      <td>2018</td>\n",
       "      <td>3</td>\n",
       "      <td>1</td>\n",
       "      <td>0</td>\n",
       "      <td>0</td>\n",
       "      <td>0</td>\n",
       "      <td>1</td>\n",
       "      <td>2</td>\n",
       "      <td>0</td>\n",
       "      <td>0</td>\n",
       "      <td>0</td>\n",
       "      <td>0</td>\n",
       "      <td>0</td>\n",
       "      <td>0</td>\n",
       "      <td>0.79</td>\n",
       "      <td>0.016</td>\n",
       "    </tr>\n",
       "    <tr>\n",
       "      <th>...</th>\n",
       "      <td>...</td>\n",
       "      <td>...</td>\n",
       "      <td>...</td>\n",
       "      <td>...</td>\n",
       "      <td>...</td>\n",
       "      <td>...</td>\n",
       "      <td>...</td>\n",
       "      <td>...</td>\n",
       "      <td>...</td>\n",
       "      <td>...</td>\n",
       "      <td>...</td>\n",
       "      <td>...</td>\n",
       "      <td>...</td>\n",
       "      <td>...</td>\n",
       "      <td>...</td>\n",
       "      <td>...</td>\n",
       "      <td>...</td>\n",
       "    </tr>\n",
       "    <tr>\n",
       "      <th>99181</th>\n",
       "      <td>65132</td>\n",
       "      <td>2023</td>\n",
       "      <td>0</td>\n",
       "      <td>0</td>\n",
       "      <td>0</td>\n",
       "      <td>0</td>\n",
       "      <td>0</td>\n",
       "      <td>0</td>\n",
       "      <td>0</td>\n",
       "      <td>0</td>\n",
       "      <td>0</td>\n",
       "      <td>0</td>\n",
       "      <td>0</td>\n",
       "      <td>0</td>\n",
       "      <td>0</td>\n",
       "      <td>0.00</td>\n",
       "      <td>0.000</td>\n",
       "    </tr>\n",
       "    <tr>\n",
       "      <th>99182</th>\n",
       "      <td>65132</td>\n",
       "      <td>2023</td>\n",
       "      <td>2</td>\n",
       "      <td>0</td>\n",
       "      <td>0</td>\n",
       "      <td>0</td>\n",
       "      <td>0</td>\n",
       "      <td>0</td>\n",
       "      <td>0</td>\n",
       "      <td>0</td>\n",
       "      <td>0</td>\n",
       "      <td>0</td>\n",
       "      <td>0</td>\n",
       "      <td>0</td>\n",
       "      <td>0</td>\n",
       "      <td>-0.72</td>\n",
       "      <td>-0.009</td>\n",
       "    </tr>\n",
       "    <tr>\n",
       "      <th>99183</th>\n",
       "      <td>65132</td>\n",
       "      <td>2023</td>\n",
       "      <td>1</td>\n",
       "      <td>1</td>\n",
       "      <td>0</td>\n",
       "      <td>0</td>\n",
       "      <td>0</td>\n",
       "      <td>1</td>\n",
       "      <td>0</td>\n",
       "      <td>0</td>\n",
       "      <td>0</td>\n",
       "      <td>0</td>\n",
       "      <td>0</td>\n",
       "      <td>0</td>\n",
       "      <td>0</td>\n",
       "      <td>0.22</td>\n",
       "      <td>0.000</td>\n",
       "    </tr>\n",
       "    <tr>\n",
       "      <th>99184</th>\n",
       "      <td>65132</td>\n",
       "      <td>2023</td>\n",
       "      <td>3</td>\n",
       "      <td>0</td>\n",
       "      <td>0</td>\n",
       "      <td>0</td>\n",
       "      <td>0</td>\n",
       "      <td>0</td>\n",
       "      <td>0</td>\n",
       "      <td>0</td>\n",
       "      <td>0</td>\n",
       "      <td>2</td>\n",
       "      <td>0</td>\n",
       "      <td>0</td>\n",
       "      <td>0</td>\n",
       "      <td>-1.45</td>\n",
       "      <td>-0.119</td>\n",
       "    </tr>\n",
       "    <tr>\n",
       "      <th>99185</th>\n",
       "      <td>50293</td>\n",
       "      <td>2023</td>\n",
       "      <td>3</td>\n",
       "      <td>0</td>\n",
       "      <td>0</td>\n",
       "      <td>0</td>\n",
       "      <td>0</td>\n",
       "      <td>0</td>\n",
       "      <td>1</td>\n",
       "      <td>0</td>\n",
       "      <td>0</td>\n",
       "      <td>1</td>\n",
       "      <td>0</td>\n",
       "      <td>0</td>\n",
       "      <td>0</td>\n",
       "      <td>-1.25</td>\n",
       "      <td>-0.121</td>\n",
       "    </tr>\n",
       "  </tbody>\n",
       "</table>\n",
       "<p>99186 rows × 17 columns</p>\n",
       "</div>"
      ],
      "text/plain": [
       "        code  year  pa  hit  second  third  homerun  luta  bb  hbp  ibb  k  \\\n",
       "0      78168  2018   5    1       0      0        0     1   0    0    0  1   \n",
       "1      78168  2018   4    0       0      0        0     0   0    0    0  1   \n",
       "2      78168  2018   5    3       1      0        0     4   0    0    0  0   \n",
       "3      78168  2018   3    0       0      0        0     0   1    0    0  1   \n",
       "4      78168  2018   3    1       0      0        0     1   2    0    0  0   \n",
       "...      ...   ...  ..  ...     ...    ...      ...   ...  ..  ...  ... ..   \n",
       "99181  65132  2023   0    0       0      0        0     0   0    0    0  0   \n",
       "99182  65132  2023   2    0       0      0        0     0   0    0    0  0   \n",
       "99183  65132  2023   1    1       0      0        0     1   0    0    0  0   \n",
       "99184  65132  2023   3    0       0      0        0     0   0    0    0  2   \n",
       "99185  50293  2023   3    0       0      0        0     0   1    0    0  1   \n",
       "\n",
       "       dp  sh  sf  re24    wpa  \n",
       "0       0   0   0 -0.78 -0.032  \n",
       "1       0   0   0 -1.27 -0.127  \n",
       "2       0   0   0  0.90  0.118  \n",
       "3       0   0   0 -0.91 -0.073  \n",
       "4       0   0   0  0.79  0.016  \n",
       "...    ..  ..  ..   ...    ...  \n",
       "99181   0   0   0  0.00  0.000  \n",
       "99182   0   0   0 -0.72 -0.009  \n",
       "99183   0   0   0  0.22  0.000  \n",
       "99184   0   0   0 -1.45 -0.119  \n",
       "99185   0   0   0 -1.25 -0.121  \n",
       "\n",
       "[99186 rows x 17 columns]"
      ]
     },
     "execution_count": 131,
     "metadata": {},
     "output_type": "execute_result"
    }
   ],
   "source": [
    "# 필요 없는 컬럼을 제거한 dataframe \n",
    "\n",
    "hit_drop = df.drop(['idx', 'date', 'result', 'h_order', 'position',\n",
    "       'startup','run', 'rbi','sb_s', 'sb_f', 'avg', 'obp', 'slg', 'ops', 'pit', 'avli'], axis=1)\n",
    "hit_drop"
   ]
  },
  {
   "cell_type": "code",
   "execution_count": null,
   "id": "387d1ef8-d52d-446e-89c3-7f124685dedd",
   "metadata": {},
   "outputs": [],
   "source": []
  },
  {
   "cell_type": "markdown",
   "id": "bb3c92a1-4b04-4396-a6e8-911f447df18e",
   "metadata": {},
   "source": [
    "### 시즌 별 기록 Line_polar return하는 함수 생성"
   ]
  },
  {
   "cell_type": "code",
   "execution_count": 145,
   "id": "9e3d7ac7-15b8-4bac-82ef-f1a7c0f2feb4",
   "metadata": {},
   "outputs": [],
   "source": [
    "# 시즌 별 데이터 프레임 return하는 함수 생성\n",
    "\n",
    "def season_dataframe(hit_drop, year):\n",
    "    hit_season = hit_drop[hit_drop['year'] == year]\n",
    "    return hit_season"
   ]
  },
  {
   "cell_type": "code",
   "execution_count": 146,
   "id": "1264ae56-7963-4f6d-a52a-f29d83211dc6",
   "metadata": {
    "tags": []
   },
   "outputs": [
    {
     "data": {
      "text/html": [
       "<div>\n",
       "<style scoped>\n",
       "    .dataframe tbody tr th:only-of-type {\n",
       "        vertical-align: middle;\n",
       "    }\n",
       "\n",
       "    .dataframe tbody tr th {\n",
       "        vertical-align: top;\n",
       "    }\n",
       "\n",
       "    .dataframe thead th {\n",
       "        text-align: right;\n",
       "    }\n",
       "</style>\n",
       "<table border=\"1\" class=\"dataframe\">\n",
       "  <thead>\n",
       "    <tr style=\"text-align: right;\">\n",
       "      <th></th>\n",
       "      <th>code</th>\n",
       "      <th>year</th>\n",
       "      <th>pa</th>\n",
       "      <th>hit</th>\n",
       "      <th>second</th>\n",
       "      <th>third</th>\n",
       "      <th>homerun</th>\n",
       "      <th>luta</th>\n",
       "      <th>bb</th>\n",
       "      <th>hbp</th>\n",
       "      <th>ibb</th>\n",
       "      <th>k</th>\n",
       "      <th>dp</th>\n",
       "      <th>sh</th>\n",
       "      <th>sf</th>\n",
       "      <th>re24</th>\n",
       "      <th>wpa</th>\n",
       "    </tr>\n",
       "  </thead>\n",
       "  <tbody>\n",
       "    <tr>\n",
       "      <th>18024</th>\n",
       "      <td>79240</td>\n",
       "      <td>2019</td>\n",
       "      <td>4</td>\n",
       "      <td>0</td>\n",
       "      <td>0</td>\n",
       "      <td>0</td>\n",
       "      <td>0</td>\n",
       "      <td>0</td>\n",
       "      <td>0</td>\n",
       "      <td>0</td>\n",
       "      <td>0</td>\n",
       "      <td>0</td>\n",
       "      <td>0</td>\n",
       "      <td>0</td>\n",
       "      <td>0</td>\n",
       "      <td>-0.74</td>\n",
       "      <td>-0.076</td>\n",
       "    </tr>\n",
       "    <tr>\n",
       "      <th>18025</th>\n",
       "      <td>79240</td>\n",
       "      <td>2019</td>\n",
       "      <td>4</td>\n",
       "      <td>1</td>\n",
       "      <td>0</td>\n",
       "      <td>0</td>\n",
       "      <td>0</td>\n",
       "      <td>1</td>\n",
       "      <td>0</td>\n",
       "      <td>0</td>\n",
       "      <td>0</td>\n",
       "      <td>0</td>\n",
       "      <td>1</td>\n",
       "      <td>0</td>\n",
       "      <td>0</td>\n",
       "      <td>-0.93</td>\n",
       "      <td>0.020</td>\n",
       "    </tr>\n",
       "    <tr>\n",
       "      <th>18026</th>\n",
       "      <td>79240</td>\n",
       "      <td>2019</td>\n",
       "      <td>3</td>\n",
       "      <td>0</td>\n",
       "      <td>0</td>\n",
       "      <td>0</td>\n",
       "      <td>0</td>\n",
       "      <td>0</td>\n",
       "      <td>0</td>\n",
       "      <td>0</td>\n",
       "      <td>0</td>\n",
       "      <td>1</td>\n",
       "      <td>0</td>\n",
       "      <td>0</td>\n",
       "      <td>0</td>\n",
       "      <td>-0.70</td>\n",
       "      <td>-0.080</td>\n",
       "    </tr>\n",
       "    <tr>\n",
       "      <th>18027</th>\n",
       "      <td>79240</td>\n",
       "      <td>2019</td>\n",
       "      <td>5</td>\n",
       "      <td>3</td>\n",
       "      <td>1</td>\n",
       "      <td>0</td>\n",
       "      <td>0</td>\n",
       "      <td>4</td>\n",
       "      <td>0</td>\n",
       "      <td>0</td>\n",
       "      <td>0</td>\n",
       "      <td>0</td>\n",
       "      <td>1</td>\n",
       "      <td>0</td>\n",
       "      <td>0</td>\n",
       "      <td>0.48</td>\n",
       "      <td>0.031</td>\n",
       "    </tr>\n",
       "    <tr>\n",
       "      <th>18028</th>\n",
       "      <td>79240</td>\n",
       "      <td>2019</td>\n",
       "      <td>5</td>\n",
       "      <td>2</td>\n",
       "      <td>0</td>\n",
       "      <td>0</td>\n",
       "      <td>0</td>\n",
       "      <td>2</td>\n",
       "      <td>0</td>\n",
       "      <td>0</td>\n",
       "      <td>0</td>\n",
       "      <td>0</td>\n",
       "      <td>1</td>\n",
       "      <td>0</td>\n",
       "      <td>0</td>\n",
       "      <td>-0.88</td>\n",
       "      <td>0.060</td>\n",
       "    </tr>\n",
       "    <tr>\n",
       "      <th>...</th>\n",
       "      <td>...</td>\n",
       "      <td>...</td>\n",
       "      <td>...</td>\n",
       "      <td>...</td>\n",
       "      <td>...</td>\n",
       "      <td>...</td>\n",
       "      <td>...</td>\n",
       "      <td>...</td>\n",
       "      <td>...</td>\n",
       "      <td>...</td>\n",
       "      <td>...</td>\n",
       "      <td>...</td>\n",
       "      <td>...</td>\n",
       "      <td>...</td>\n",
       "      <td>...</td>\n",
       "      <td>...</td>\n",
       "      <td>...</td>\n",
       "    </tr>\n",
       "    <tr>\n",
       "      <th>35449</th>\n",
       "      <td>65132</td>\n",
       "      <td>2019</td>\n",
       "      <td>2</td>\n",
       "      <td>0</td>\n",
       "      <td>0</td>\n",
       "      <td>0</td>\n",
       "      <td>0</td>\n",
       "      <td>0</td>\n",
       "      <td>1</td>\n",
       "      <td>0</td>\n",
       "      <td>0</td>\n",
       "      <td>1</td>\n",
       "      <td>0</td>\n",
       "      <td>0</td>\n",
       "      <td>0</td>\n",
       "      <td>-0.16</td>\n",
       "      <td>-0.030</td>\n",
       "    </tr>\n",
       "    <tr>\n",
       "      <th>35450</th>\n",
       "      <td>68330</td>\n",
       "      <td>2019</td>\n",
       "      <td>3</td>\n",
       "      <td>0</td>\n",
       "      <td>0</td>\n",
       "      <td>0</td>\n",
       "      <td>0</td>\n",
       "      <td>0</td>\n",
       "      <td>1</td>\n",
       "      <td>0</td>\n",
       "      <td>0</td>\n",
       "      <td>1</td>\n",
       "      <td>0</td>\n",
       "      <td>0</td>\n",
       "      <td>0</td>\n",
       "      <td>-0.55</td>\n",
       "      <td>0.016</td>\n",
       "    </tr>\n",
       "    <tr>\n",
       "      <th>35451</th>\n",
       "      <td>68330</td>\n",
       "      <td>2019</td>\n",
       "      <td>3</td>\n",
       "      <td>1</td>\n",
       "      <td>1</td>\n",
       "      <td>0</td>\n",
       "      <td>0</td>\n",
       "      <td>2</td>\n",
       "      <td>1</td>\n",
       "      <td>0</td>\n",
       "      <td>0</td>\n",
       "      <td>2</td>\n",
       "      <td>0</td>\n",
       "      <td>0</td>\n",
       "      <td>0</td>\n",
       "      <td>1.10</td>\n",
       "      <td>0.052</td>\n",
       "    </tr>\n",
       "    <tr>\n",
       "      <th>35452</th>\n",
       "      <td>68330</td>\n",
       "      <td>2019</td>\n",
       "      <td>0</td>\n",
       "      <td>0</td>\n",
       "      <td>0</td>\n",
       "      <td>0</td>\n",
       "      <td>0</td>\n",
       "      <td>0</td>\n",
       "      <td>0</td>\n",
       "      <td>0</td>\n",
       "      <td>0</td>\n",
       "      <td>0</td>\n",
       "      <td>0</td>\n",
       "      <td>0</td>\n",
       "      <td>0</td>\n",
       "      <td>0.00</td>\n",
       "      <td>0.000</td>\n",
       "    </tr>\n",
       "    <tr>\n",
       "      <th>35453</th>\n",
       "      <td>68330</td>\n",
       "      <td>2019</td>\n",
       "      <td>0</td>\n",
       "      <td>0</td>\n",
       "      <td>0</td>\n",
       "      <td>0</td>\n",
       "      <td>0</td>\n",
       "      <td>0</td>\n",
       "      <td>0</td>\n",
       "      <td>0</td>\n",
       "      <td>0</td>\n",
       "      <td>0</td>\n",
       "      <td>0</td>\n",
       "      <td>0</td>\n",
       "      <td>0</td>\n",
       "      <td>0.00</td>\n",
       "      <td>0.000</td>\n",
       "    </tr>\n",
       "  </tbody>\n",
       "</table>\n",
       "<p>17430 rows × 17 columns</p>\n",
       "</div>"
      ],
      "text/plain": [
       "        code  year  pa  hit  second  third  homerun  luta  bb  hbp  ibb  k  \\\n",
       "18024  79240  2019   4    0       0      0        0     0   0    0    0  0   \n",
       "18025  79240  2019   4    1       0      0        0     1   0    0    0  0   \n",
       "18026  79240  2019   3    0       0      0        0     0   0    0    0  1   \n",
       "18027  79240  2019   5    3       1      0        0     4   0    0    0  0   \n",
       "18028  79240  2019   5    2       0      0        0     2   0    0    0  0   \n",
       "...      ...   ...  ..  ...     ...    ...      ...   ...  ..  ...  ... ..   \n",
       "35449  65132  2019   2    0       0      0        0     0   1    0    0  1   \n",
       "35450  68330  2019   3    0       0      0        0     0   1    0    0  1   \n",
       "35451  68330  2019   3    1       1      0        0     2   1    0    0  2   \n",
       "35452  68330  2019   0    0       0      0        0     0   0    0    0  0   \n",
       "35453  68330  2019   0    0       0      0        0     0   0    0    0  0   \n",
       "\n",
       "       dp  sh  sf  re24    wpa  \n",
       "18024   0   0   0 -0.74 -0.076  \n",
       "18025   1   0   0 -0.93  0.020  \n",
       "18026   0   0   0 -0.70 -0.080  \n",
       "18027   1   0   0  0.48  0.031  \n",
       "18028   1   0   0 -0.88  0.060  \n",
       "...    ..  ..  ..   ...    ...  \n",
       "35449   0   0   0 -0.16 -0.030  \n",
       "35450   0   0   0 -0.55  0.016  \n",
       "35451   0   0   0  1.10  0.052  \n",
       "35452   0   0   0  0.00  0.000  \n",
       "35453   0   0   0  0.00  0.000  \n",
       "\n",
       "[17430 rows x 17 columns]"
      ]
     },
     "execution_count": 146,
     "metadata": {},
     "output_type": "execute_result"
    }
   ],
   "source": [
    "season_dataframe(hit_drop, 2019)"
   ]
  },
  {
   "cell_type": "code",
   "execution_count": 122,
   "id": "cc84fa59-2491-49c2-b372-a8a6d75403af",
   "metadata": {
    "collapsed": true,
    "jupyter": {
     "outputs_hidden": true,
     "source_hidden": true
    },
    "tags": []
   },
   "outputs": [
    {
     "data": {
      "text/html": [
       "<div>\n",
       "<style scoped>\n",
       "    .dataframe tbody tr th:only-of-type {\n",
       "        vertical-align: middle;\n",
       "    }\n",
       "\n",
       "    .dataframe tbody tr th {\n",
       "        vertical-align: top;\n",
       "    }\n",
       "\n",
       "    .dataframe thead th {\n",
       "        text-align: right;\n",
       "    }\n",
       "</style>\n",
       "<table border=\"1\" class=\"dataframe\">\n",
       "  <thead>\n",
       "    <tr style=\"text-align: right;\">\n",
       "      <th></th>\n",
       "      <th>code</th>\n",
       "      <th>타율</th>\n",
       "      <th>출루율</th>\n",
       "      <th>장타율</th>\n",
       "      <th>BB/K</th>\n",
       "      <th>RE24</th>\n",
       "      <th>WPA</th>\n",
       "    </tr>\n",
       "  </thead>\n",
       "  <tbody>\n",
       "    <tr>\n",
       "      <th>0</th>\n",
       "      <td>60184</td>\n",
       "      <td>4.00</td>\n",
       "      <td>3.200</td>\n",
       "      <td>4.043127</td>\n",
       "      <td>0.000000</td>\n",
       "      <td>2.101784</td>\n",
       "      <td>2.243369</td>\n",
       "    </tr>\n",
       "    <tr>\n",
       "      <th>1</th>\n",
       "      <td>60343</td>\n",
       "      <td>4.32</td>\n",
       "      <td>4.256</td>\n",
       "      <td>5.242588</td>\n",
       "      <td>1.406385</td>\n",
       "      <td>1.552991</td>\n",
       "      <td>1.389318</td>\n",
       "    </tr>\n",
       "    <tr>\n",
       "      <th>2</th>\n",
       "      <td>60456</td>\n",
       "      <td>10.00</td>\n",
       "      <td>10.000</td>\n",
       "      <td>6.738544</td>\n",
       "      <td>8.628128</td>\n",
       "      <td>2.623295</td>\n",
       "      <td>2.422981</td>\n",
       "    </tr>\n",
       "    <tr>\n",
       "      <th>3</th>\n",
       "      <td>60523</td>\n",
       "      <td>6.10</td>\n",
       "      <td>5.824</td>\n",
       "      <td>6.657682</td>\n",
       "      <td>3.537532</td>\n",
       "      <td>2.636936</td>\n",
       "      <td>1.847270</td>\n",
       "    </tr>\n",
       "    <tr>\n",
       "      <th>4</th>\n",
       "      <td>60558</td>\n",
       "      <td>5.08</td>\n",
       "      <td>4.960</td>\n",
       "      <td>5.673854</td>\n",
       "      <td>2.251941</td>\n",
       "      <td>1.418678</td>\n",
       "      <td>2.180326</td>\n",
       "    </tr>\n",
       "    <tr>\n",
       "      <th>...</th>\n",
       "      <td>...</td>\n",
       "      <td>...</td>\n",
       "      <td>...</td>\n",
       "      <td>...</td>\n",
       "      <td>...</td>\n",
       "      <td>...</td>\n",
       "      <td>...</td>\n",
       "    </tr>\n",
       "    <tr>\n",
       "      <th>233</th>\n",
       "      <td>79530</td>\n",
       "      <td>5.72</td>\n",
       "      <td>5.328</td>\n",
       "      <td>5.781671</td>\n",
       "      <td>1.725626</td>\n",
       "      <td>2.228751</td>\n",
       "      <td>2.158915</td>\n",
       "    </tr>\n",
       "    <tr>\n",
       "      <th>234</th>\n",
       "      <td>79608</td>\n",
       "      <td>6.82</td>\n",
       "      <td>6.272</td>\n",
       "      <td>7.547170</td>\n",
       "      <td>5.452977</td>\n",
       "      <td>6.960126</td>\n",
       "      <td>7.023909</td>\n",
       "    </tr>\n",
       "    <tr>\n",
       "      <th>235</th>\n",
       "      <td>79705</td>\n",
       "      <td>5.06</td>\n",
       "      <td>5.584</td>\n",
       "      <td>5.822102</td>\n",
       "      <td>3.511648</td>\n",
       "      <td>2.673662</td>\n",
       "      <td>2.301653</td>\n",
       "    </tr>\n",
       "    <tr>\n",
       "      <th>236</th>\n",
       "      <td>99606</td>\n",
       "      <td>5.86</td>\n",
       "      <td>5.872</td>\n",
       "      <td>5.633423</td>\n",
       "      <td>2.821398</td>\n",
       "      <td>2.075551</td>\n",
       "      <td>1.819912</td>\n",
       "    </tr>\n",
       "    <tr>\n",
       "      <th>237</th>\n",
       "      <td>99810</td>\n",
       "      <td>6.36</td>\n",
       "      <td>5.952</td>\n",
       "      <td>5.619946</td>\n",
       "      <td>6.160483</td>\n",
       "      <td>3.328437</td>\n",
       "      <td>3.946711</td>\n",
       "    </tr>\n",
       "  </tbody>\n",
       "</table>\n",
       "<p>238 rows × 7 columns</p>\n",
       "</div>"
      ],
      "text/plain": [
       "      code     타율     출루율       장타율      BB/K      RE24       WPA\n",
       "0    60184   4.00   3.200  4.043127  0.000000  2.101784  2.243369\n",
       "1    60343   4.32   4.256  5.242588  1.406385  1.552991  1.389318\n",
       "2    60456  10.00  10.000  6.738544  8.628128  2.623295  2.422981\n",
       "3    60523   6.10   5.824  6.657682  3.537532  2.636936  1.847270\n",
       "4    60558   5.08   4.960  5.673854  2.251941  1.418678  2.180326\n",
       "..     ...    ...     ...       ...       ...       ...       ...\n",
       "233  79530   5.72   5.328  5.781671  1.725626  2.228751  2.158915\n",
       "234  79608   6.82   6.272  7.547170  5.452977  6.960126  7.023909\n",
       "235  79705   5.06   5.584  5.822102  3.511648  2.673662  2.301653\n",
       "236  99606   5.86   5.872  5.633423  2.821398  2.075551  1.819912\n",
       "237  99810   6.36   5.952  5.619946  6.160483  3.328437  3.946711\n",
       "\n",
       "[238 rows x 7 columns]"
      ]
     },
     "execution_count": 122,
     "metadata": {},
     "output_type": "execute_result"
    }
   ],
   "source": [
    "# # hit_df_season = hit_drop[hit_drop['year'] == 2018] # (hit_drop['code']==72443) & \n",
    "# # hit_drop_season = hit_df_season.drop(['year', 'dp', 'sh'], axis=1)\n",
    "# hit_sum_season = hit_2018.groupby('code').sum()\n",
    "\n",
    "# # 타율(avg)\n",
    "# hit_avg = hit_sum_season['hit'] / hit_sum_season['pa']\n",
    "# hit_sum_season['타율'] = round(hit_avg, 3)\n",
    "\n",
    "# # 출루율(obp) / 출루율 = (안타 + 볼넷 + 사구) ÷ (타수 + 볼넷 + 사구 + 희생플라이)\n",
    "# hit_obp = (hit_sum_season['hit']+ hit_sum_season['bb'] + hit_sum_season['hbp'] + hit_sum_season['ibb']) / (hit_sum_season['pa'] + hit_sum_season['bb'] + hit_sum_season['hbp'] + hit_sum_season['ibb'] + hit_sum_season['sf'])\n",
    "# hit_sum_season['출루율'] = round(hit_obp, 3)\n",
    "\n",
    "# # 장타율(slg)\n",
    "# hit_slg = (hit_sum_season['hit'] + hit_sum_season['second'] + 2*hit_sum_season['third'] + 3*hit_sum_season['homerun']) / hit_sum_season['pa']\n",
    "# hit_sum_season['장타율'] = round(hit_slg, 3)\n",
    "\n",
    "# # 볼삼비(BB/K) - 볼넷이 0인 경우 볼삼비 infinity가 발생 -> 처리 필요\n",
    "# hit_bbk = hit_sum_season['bb'] / hit_sum_season['k']\n",
    "# hit_sum_season['BB/K'] = round(hit_bbk, 3)\n",
    "# hit_sum_season.loc[(hit_sum['bb'] >= 1) & (hit_sum_season['k'] == 0), 'BB/K'] = 1\n",
    "\n",
    "# # hit_sum['BB/K'] = hit_sum['BB/K'].astype(int) \n",
    "# # 컬럼명 대문자로 변경\n",
    "# hit_sum_season['RE24'] = round(hit_sum_season['re24'], 3) \n",
    "# hit_sum_season['WPA'] = round(hit_sum_season['wpa'], 3) \n",
    "\n",
    "# df_2018_hit = hit_sum_season.drop(['year', 'pa', 'hit', 'second', 'third', 'homerun', 'luta', 'bb', 'hbp', 'ibb', 'k', 'dp', 'sh', 'sf', 're24', 'wpa'], axis=1)\n",
    "\n",
    "# # 시각화위해 scaling\n",
    "\n",
    "# scaler = MinMaxScaler()\n",
    "# hit_scaled_2018 = pd.DataFrame(scaler.fit_transform(df_2018_hit), columns=df_2018_hit.columns, index=df_2018_hit.index)*10\n",
    "# hit_scaled_2018.reset_index(inplace=True)\n",
    "# hit_scaled_2018"
   ]
  },
  {
   "cell_type": "code",
   "execution_count": 144,
   "id": "ca2233a4-1f73-41d7-b268-0fe299b77287",
   "metadata": {
    "collapsed": true,
    "jupyter": {
     "outputs_hidden": true,
     "source_hidden": true
    },
    "tags": []
   },
   "outputs": [
    {
     "data": {
      "application/vnd.plotly.v1+json": {
       "config": {
        "plotlyServerURL": "https://plot.ly"
       },
       "data": [
        {
         "fill": "toself",
         "hovertemplate": "r=%{r}<br>theta=%{theta}<extra></extra>",
         "legendgroup": "",
         "line": {
          "color": "#f0f921",
          "dash": "solid"
         },
         "marker": {
          "symbol": "circle"
         },
         "mode": "lines",
         "name": "",
         "r": [
          6.548748921484037,
          7.4616998950682065,
          9.055548947305816,
          7.358490566037736,
          6.704,
          6.760000000000001,
          6.548748921484037
         ],
         "showlegend": false,
         "subplot": "polar",
         "theta": [
          "타율",
          "출루율",
          "장타율",
          "BB/K",
          "RE24",
          "WPA",
          "타율"
         ],
         "type": "scatterpolar"
        }
       ],
       "layout": {
        "autosize": true,
        "legend": {
         "tracegroupgap": 0
        },
        "polar": {
         "angularaxis": {
          "direction": "counterclockwise",
          "rotation": 90,
          "type": "category"
         },
         "domain": {
          "x": [
           0,
           1
          ],
          "y": [
           0,
           1
          ]
         },
         "radialaxis": {
          "autorange": false,
          "range": [
           0,
           10
          ],
          "type": "linear"
         }
        },
        "template": {
         "data": {
          "bar": [
           {
            "error_x": {
             "color": "#f2f5fa"
            },
            "error_y": {
             "color": "#f2f5fa"
            },
            "marker": {
             "line": {
              "color": "rgb(17,17,17)",
              "width": 0.5
             },
             "pattern": {
              "fillmode": "overlay",
              "size": 10,
              "solidity": 0.2
             }
            },
            "type": "bar"
           }
          ],
          "barpolar": [
           {
            "marker": {
             "line": {
              "color": "rgb(17,17,17)",
              "width": 0.5
             },
             "pattern": {
              "fillmode": "overlay",
              "size": 10,
              "solidity": 0.2
             }
            },
            "type": "barpolar"
           }
          ],
          "carpet": [
           {
            "aaxis": {
             "endlinecolor": "#A2B1C6",
             "gridcolor": "#506784",
             "linecolor": "#506784",
             "minorgridcolor": "#506784",
             "startlinecolor": "#A2B1C6"
            },
            "baxis": {
             "endlinecolor": "#A2B1C6",
             "gridcolor": "#506784",
             "linecolor": "#506784",
             "minorgridcolor": "#506784",
             "startlinecolor": "#A2B1C6"
            },
            "type": "carpet"
           }
          ],
          "choropleth": [
           {
            "colorbar": {
             "outlinewidth": 0,
             "ticks": ""
            },
            "type": "choropleth"
           }
          ],
          "contour": [
           {
            "colorbar": {
             "outlinewidth": 0,
             "ticks": ""
            },
            "colorscale": [
             [
              0,
              "#0d0887"
             ],
             [
              0.1111111111111111,
              "#46039f"
             ],
             [
              0.2222222222222222,
              "#7201a8"
             ],
             [
              0.3333333333333333,
              "#9c179e"
             ],
             [
              0.4444444444444444,
              "#bd3786"
             ],
             [
              0.5555555555555556,
              "#d8576b"
             ],
             [
              0.6666666666666666,
              "#ed7953"
             ],
             [
              0.7777777777777778,
              "#fb9f3a"
             ],
             [
              0.8888888888888888,
              "#fdca26"
             ],
             [
              1,
              "#f0f921"
             ]
            ],
            "type": "contour"
           }
          ],
          "contourcarpet": [
           {
            "colorbar": {
             "outlinewidth": 0,
             "ticks": ""
            },
            "type": "contourcarpet"
           }
          ],
          "heatmap": [
           {
            "colorbar": {
             "outlinewidth": 0,
             "ticks": ""
            },
            "colorscale": [
             [
              0,
              "#0d0887"
             ],
             [
              0.1111111111111111,
              "#46039f"
             ],
             [
              0.2222222222222222,
              "#7201a8"
             ],
             [
              0.3333333333333333,
              "#9c179e"
             ],
             [
              0.4444444444444444,
              "#bd3786"
             ],
             [
              0.5555555555555556,
              "#d8576b"
             ],
             [
              0.6666666666666666,
              "#ed7953"
             ],
             [
              0.7777777777777778,
              "#fb9f3a"
             ],
             [
              0.8888888888888888,
              "#fdca26"
             ],
             [
              1,
              "#f0f921"
             ]
            ],
            "type": "heatmap"
           }
          ],
          "heatmapgl": [
           {
            "colorbar": {
             "outlinewidth": 0,
             "ticks": ""
            },
            "colorscale": [
             [
              0,
              "#0d0887"
             ],
             [
              0.1111111111111111,
              "#46039f"
             ],
             [
              0.2222222222222222,
              "#7201a8"
             ],
             [
              0.3333333333333333,
              "#9c179e"
             ],
             [
              0.4444444444444444,
              "#bd3786"
             ],
             [
              0.5555555555555556,
              "#d8576b"
             ],
             [
              0.6666666666666666,
              "#ed7953"
             ],
             [
              0.7777777777777778,
              "#fb9f3a"
             ],
             [
              0.8888888888888888,
              "#fdca26"
             ],
             [
              1,
              "#f0f921"
             ]
            ],
            "type": "heatmapgl"
           }
          ],
          "histogram": [
           {
            "marker": {
             "pattern": {
              "fillmode": "overlay",
              "size": 10,
              "solidity": 0.2
             }
            },
            "type": "histogram"
           }
          ],
          "histogram2d": [
           {
            "colorbar": {
             "outlinewidth": 0,
             "ticks": ""
            },
            "colorscale": [
             [
              0,
              "#0d0887"
             ],
             [
              0.1111111111111111,
              "#46039f"
             ],
             [
              0.2222222222222222,
              "#7201a8"
             ],
             [
              0.3333333333333333,
              "#9c179e"
             ],
             [
              0.4444444444444444,
              "#bd3786"
             ],
             [
              0.5555555555555556,
              "#d8576b"
             ],
             [
              0.6666666666666666,
              "#ed7953"
             ],
             [
              0.7777777777777778,
              "#fb9f3a"
             ],
             [
              0.8888888888888888,
              "#fdca26"
             ],
             [
              1,
              "#f0f921"
             ]
            ],
            "type": "histogram2d"
           }
          ],
          "histogram2dcontour": [
           {
            "colorbar": {
             "outlinewidth": 0,
             "ticks": ""
            },
            "colorscale": [
             [
              0,
              "#0d0887"
             ],
             [
              0.1111111111111111,
              "#46039f"
             ],
             [
              0.2222222222222222,
              "#7201a8"
             ],
             [
              0.3333333333333333,
              "#9c179e"
             ],
             [
              0.4444444444444444,
              "#bd3786"
             ],
             [
              0.5555555555555556,
              "#d8576b"
             ],
             [
              0.6666666666666666,
              "#ed7953"
             ],
             [
              0.7777777777777778,
              "#fb9f3a"
             ],
             [
              0.8888888888888888,
              "#fdca26"
             ],
             [
              1,
              "#f0f921"
             ]
            ],
            "type": "histogram2dcontour"
           }
          ],
          "mesh3d": [
           {
            "colorbar": {
             "outlinewidth": 0,
             "ticks": ""
            },
            "type": "mesh3d"
           }
          ],
          "parcoords": [
           {
            "line": {
             "colorbar": {
              "outlinewidth": 0,
              "ticks": ""
             }
            },
            "type": "parcoords"
           }
          ],
          "pie": [
           {
            "automargin": true,
            "type": "pie"
           }
          ],
          "scatter": [
           {
            "marker": {
             "line": {
              "color": "#283442"
             }
            },
            "type": "scatter"
           }
          ],
          "scatter3d": [
           {
            "line": {
             "colorbar": {
              "outlinewidth": 0,
              "ticks": ""
             }
            },
            "marker": {
             "colorbar": {
              "outlinewidth": 0,
              "ticks": ""
             }
            },
            "type": "scatter3d"
           }
          ],
          "scattercarpet": [
           {
            "marker": {
             "colorbar": {
              "outlinewidth": 0,
              "ticks": ""
             }
            },
            "type": "scattercarpet"
           }
          ],
          "scattergeo": [
           {
            "marker": {
             "colorbar": {
              "outlinewidth": 0,
              "ticks": ""
             }
            },
            "type": "scattergeo"
           }
          ],
          "scattergl": [
           {
            "marker": {
             "line": {
              "color": "#283442"
             }
            },
            "type": "scattergl"
           }
          ],
          "scattermapbox": [
           {
            "marker": {
             "colorbar": {
              "outlinewidth": 0,
              "ticks": ""
             }
            },
            "type": "scattermapbox"
           }
          ],
          "scatterpolar": [
           {
            "marker": {
             "colorbar": {
              "outlinewidth": 0,
              "ticks": ""
             }
            },
            "type": "scatterpolar"
           }
          ],
          "scatterpolargl": [
           {
            "marker": {
             "colorbar": {
              "outlinewidth": 0,
              "ticks": ""
             }
            },
            "type": "scatterpolargl"
           }
          ],
          "scatterternary": [
           {
            "marker": {
             "colorbar": {
              "outlinewidth": 0,
              "ticks": ""
             }
            },
            "type": "scatterternary"
           }
          ],
          "surface": [
           {
            "colorbar": {
             "outlinewidth": 0,
             "ticks": ""
            },
            "colorscale": [
             [
              0,
              "#0d0887"
             ],
             [
              0.1111111111111111,
              "#46039f"
             ],
             [
              0.2222222222222222,
              "#7201a8"
             ],
             [
              0.3333333333333333,
              "#9c179e"
             ],
             [
              0.4444444444444444,
              "#bd3786"
             ],
             [
              0.5555555555555556,
              "#d8576b"
             ],
             [
              0.6666666666666666,
              "#ed7953"
             ],
             [
              0.7777777777777778,
              "#fb9f3a"
             ],
             [
              0.8888888888888888,
              "#fdca26"
             ],
             [
              1,
              "#f0f921"
             ]
            ],
            "type": "surface"
           }
          ],
          "table": [
           {
            "cells": {
             "fill": {
              "color": "#506784"
             },
             "line": {
              "color": "rgb(17,17,17)"
             }
            },
            "header": {
             "fill": {
              "color": "#2a3f5f"
             },
             "line": {
              "color": "rgb(17,17,17)"
             }
            },
            "type": "table"
           }
          ]
         },
         "layout": {
          "annotationdefaults": {
           "arrowcolor": "#f2f5fa",
           "arrowhead": 0,
           "arrowwidth": 1
          },
          "autotypenumbers": "strict",
          "coloraxis": {
           "colorbar": {
            "outlinewidth": 0,
            "ticks": ""
           }
          },
          "colorscale": {
           "diverging": [
            [
             0,
             "#8e0152"
            ],
            [
             0.1,
             "#c51b7d"
            ],
            [
             0.2,
             "#de77ae"
            ],
            [
             0.3,
             "#f1b6da"
            ],
            [
             0.4,
             "#fde0ef"
            ],
            [
             0.5,
             "#f7f7f7"
            ],
            [
             0.6,
             "#e6f5d0"
            ],
            [
             0.7,
             "#b8e186"
            ],
            [
             0.8,
             "#7fbc41"
            ],
            [
             0.9,
             "#4d9221"
            ],
            [
             1,
             "#276419"
            ]
           ],
           "sequential": [
            [
             0,
             "#0d0887"
            ],
            [
             0.1111111111111111,
             "#46039f"
            ],
            [
             0.2222222222222222,
             "#7201a8"
            ],
            [
             0.3333333333333333,
             "#9c179e"
            ],
            [
             0.4444444444444444,
             "#bd3786"
            ],
            [
             0.5555555555555556,
             "#d8576b"
            ],
            [
             0.6666666666666666,
             "#ed7953"
            ],
            [
             0.7777777777777778,
             "#fb9f3a"
            ],
            [
             0.8888888888888888,
             "#fdca26"
            ],
            [
             1,
             "#f0f921"
            ]
           ],
           "sequentialminus": [
            [
             0,
             "#0d0887"
            ],
            [
             0.1111111111111111,
             "#46039f"
            ],
            [
             0.2222222222222222,
             "#7201a8"
            ],
            [
             0.3333333333333333,
             "#9c179e"
            ],
            [
             0.4444444444444444,
             "#bd3786"
            ],
            [
             0.5555555555555556,
             "#d8576b"
            ],
            [
             0.6666666666666666,
             "#ed7953"
            ],
            [
             0.7777777777777778,
             "#fb9f3a"
            ],
            [
             0.8888888888888888,
             "#fdca26"
            ],
            [
             1,
             "#f0f921"
            ]
           ]
          },
          "colorway": [
           "#636efa",
           "#EF553B",
           "#00cc96",
           "#ab63fa",
           "#FFA15A",
           "#19d3f3",
           "#FF6692",
           "#B6E880",
           "#FF97FF",
           "#FECB52"
          ],
          "font": {
           "color": "#f2f5fa"
          },
          "geo": {
           "bgcolor": "rgb(17,17,17)",
           "lakecolor": "rgb(17,17,17)",
           "landcolor": "rgb(17,17,17)",
           "showlakes": true,
           "showland": true,
           "subunitcolor": "#506784"
          },
          "hoverlabel": {
           "align": "left"
          },
          "hovermode": "closest",
          "mapbox": {
           "style": "dark"
          },
          "paper_bgcolor": "rgb(17,17,17)",
          "plot_bgcolor": "rgb(17,17,17)",
          "polar": {
           "angularaxis": {
            "gridcolor": "#506784",
            "linecolor": "#506784",
            "ticks": ""
           },
           "bgcolor": "rgb(17,17,17)",
           "radialaxis": {
            "gridcolor": "#506784",
            "linecolor": "#506784",
            "ticks": ""
           }
          },
          "scene": {
           "xaxis": {
            "backgroundcolor": "rgb(17,17,17)",
            "gridcolor": "#506784",
            "gridwidth": 2,
            "linecolor": "#506784",
            "showbackground": true,
            "ticks": "",
            "zerolinecolor": "#C8D4E3"
           },
           "yaxis": {
            "backgroundcolor": "rgb(17,17,17)",
            "gridcolor": "#506784",
            "gridwidth": 2,
            "linecolor": "#506784",
            "showbackground": true,
            "ticks": "",
            "zerolinecolor": "#C8D4E3"
           },
           "zaxis": {
            "backgroundcolor": "rgb(17,17,17)",
            "gridcolor": "#506784",
            "gridwidth": 2,
            "linecolor": "#506784",
            "showbackground": true,
            "ticks": "",
            "zerolinecolor": "#C8D4E3"
           }
          },
          "shapedefaults": {
           "line": {
            "color": "#f2f5fa"
           }
          },
          "sliderdefaults": {
           "bgcolor": "#C8D4E3",
           "bordercolor": "rgb(17,17,17)",
           "borderwidth": 1,
           "tickwidth": 0
          },
          "ternary": {
           "aaxis": {
            "gridcolor": "#506784",
            "linecolor": "#506784",
            "ticks": ""
           },
           "baxis": {
            "gridcolor": "#506784",
            "linecolor": "#506784",
            "ticks": ""
           },
           "bgcolor": "rgb(17,17,17)",
           "caxis": {
            "gridcolor": "#506784",
            "linecolor": "#506784",
            "ticks": ""
           }
          },
          "title": {
           "x": 0.05
          },
          "updatemenudefaults": {
           "bgcolor": "#506784",
           "borderwidth": 0
          },
          "xaxis": {
           "automargin": true,
           "gridcolor": "#283442",
           "linecolor": "#506784",
           "ticks": "",
           "title": {
            "standoff": 15
           },
           "zerolinecolor": "#283442",
           "zerolinewidth": 2
          },
          "yaxis": {
           "automargin": true,
           "gridcolor": "#283442",
           "linecolor": "#506784",
           "ticks": "",
           "title": {
            "standoff": 15
           },
           "zerolinecolor": "#283442",
           "zerolinewidth": 2
          }
         }
        },
        "title": {
         "text": "72443통산기록 "
        }
       }
      },
      "image/png": "[encoded data removed]",
      "text/html": [
       "<div>                            <div id=\"b58bac5d-24f1-4e9e-be51-34b63b6244f2\" class=\"plotly-graph-div\" style=\"height:525px; width:100%;\"></div>            <script type=\"text/javascript\">                require([\"plotly\"], function(Plotly) {                    window.PLOTLYENV=window.PLOTLYENV || {};                                    if (document.getElementById(\"b58bac5d-24f1-4e9e-be51-34b63b6244f2\")) {                    Plotly.newPlot(                        \"b58bac5d-24f1-4e9e-be51-34b63b6244f2\",                        [{\"hovertemplate\":\"r=%{r}<br>theta=%{theta}<extra></extra>\",\"legendgroup\":\"\",\"line\":{\"color\":\"#f0f921\",\"dash\":\"solid\"},\"marker\":{\"symbol\":\"circle\"},\"mode\":\"lines\",\"name\":\"\",\"r\":[6.548748921484037,7.4616998950682065,9.055548947305816,7.358490566037736,6.704,6.760000000000001,6.548748921484037],\"showlegend\":false,\"subplot\":\"polar\",\"theta\":[\"\\ud0c0\\uc728\",\"\\ucd9c\\ub8e8\\uc728\",\"\\uc7a5\\ud0c0\\uc728\",\"BB/K\",\"RE24\",\"WPA\",\"\\ud0c0\\uc728\"],\"type\":\"scatterpolar\",\"fill\":\"toself\"}],                        {\"template\":{\"data\":{\"barpolar\":[{\"marker\":{\"line\":{\"color\":\"rgb(17,17,17)\",\"width\":0.5},\"pattern\":{\"fillmode\":\"overlay\",\"size\":10,\"solidity\":0.2}},\"type\":\"barpolar\"}],\"bar\":[{\"error_x\":{\"color\":\"#f2f5fa\"},\"error_y\":{\"color\":\"#f2f5fa\"},\"marker\":{\"line\":{\"color\":\"rgb(17,17,17)\",\"width\":0.5},\"pattern\":{\"fillmode\":\"overlay\",\"size\":10,\"solidity\":0.2}},\"type\":\"bar\"}],\"carpet\":[{\"aaxis\":{\"endlinecolor\":\"#A2B1C6\",\"gridcolor\":\"#506784\",\"linecolor\":\"#506784\",\"minorgridcolor\":\"#506784\",\"startlinecolor\":\"#A2B1C6\"},\"baxis\":{\"endlinecolor\":\"#A2B1C6\",\"gridcolor\":\"#506784\",\"linecolor\":\"#506784\",\"minorgridcolor\":\"#506784\",\"startlinecolor\":\"#A2B1C6\"},\"type\":\"carpet\"}],\"choropleth\":[{\"colorbar\":{\"outlinewidth\":0,\"ticks\":\"\"},\"type\":\"choropleth\"}],\"contourcarpet\":[{\"colorbar\":{\"outlinewidth\":0,\"ticks\":\"\"},\"type\":\"contourcarpet\"}],\"contour\":[{\"colorbar\":{\"outlinewidth\":0,\"ticks\":\"\"},\"colorscale\":[[0.0,\"#0d0887\"],[0.1111111111111111,\"#46039f\"],[0.2222222222222222,\"#7201a8\"],[0.3333333333333333,\"#9c179e\"],[0.4444444444444444,\"#bd3786\"],[0.5555555555555556,\"#d8576b\"],[0.6666666666666666,\"#ed7953\"],[0.7777777777777778,\"#fb9f3a\"],[0.8888888888888888,\"#fdca26\"],[1.0,\"#f0f921\"]],\"type\":\"contour\"}],\"heatmapgl\":[{\"colorbar\":{\"outlinewidth\":0,\"ticks\":\"\"},\"colorscale\":[[0.0,\"#0d0887\"],[0.1111111111111111,\"#46039f\"],[0.2222222222222222,\"#7201a8\"],[0.3333333333333333,\"#9c179e\"],[0.4444444444444444,\"#bd3786\"],[0.5555555555555556,\"#d8576b\"],[0.6666666666666666,\"#ed7953\"],[0.7777777777777778,\"#fb9f3a\"],[0.8888888888888888,\"#fdca26\"],[1.0,\"#f0f921\"]],\"type\":\"heatmapgl\"}],\"heatmap\":[{\"colorbar\":{\"outlinewidth\":0,\"ticks\":\"\"},\"colorscale\":[[0.0,\"#0d0887\"],[0.1111111111111111,\"#46039f\"],[0.2222222222222222,\"#7201a8\"],[0.3333333333333333,\"#9c179e\"],[0.4444444444444444,\"#bd3786\"],[0.5555555555555556,\"#d8576b\"],[0.6666666666666666,\"#ed7953\"],[0.7777777777777778,\"#fb9f3a\"],[0.8888888888888888,\"#fdca26\"],[1.0,\"#f0f921\"]],\"type\":\"heatmap\"}],\"histogram2dcontour\":[{\"colorbar\":{\"outlinewidth\":0,\"ticks\":\"\"},\"colorscale\":[[0.0,\"#0d0887\"],[0.1111111111111111,\"#46039f\"],[0.2222222222222222,\"#7201a8\"],[0.3333333333333333,\"#9c179e\"],[0.4444444444444444,\"#bd3786\"],[0.5555555555555556,\"#d8576b\"],[0.6666666666666666,\"#ed7953\"],[0.7777777777777778,\"#fb9f3a\"],[0.8888888888888888,\"#fdca26\"],[1.0,\"#f0f921\"]],\"type\":\"histogram2dcontour\"}],\"histogram2d\":[{\"colorbar\":{\"outlinewidth\":0,\"ticks\":\"\"},\"colorscale\":[[0.0,\"#0d0887\"],[0.1111111111111111,\"#46039f\"],[0.2222222222222222,\"#7201a8\"],[0.3333333333333333,\"#9c179e\"],[0.4444444444444444,\"#bd3786\"],[0.5555555555555556,\"#d8576b\"],[0.6666666666666666,\"#ed7953\"],[0.7777777777777778,\"#fb9f3a\"],[0.8888888888888888,\"#fdca26\"],[1.0,\"#f0f921\"]],\"type\":\"histogram2d\"}],\"histogram\":[{\"marker\":{\"pattern\":{\"fillmode\":\"overlay\",\"size\":10,\"solidity\":0.2}},\"type\":\"histogram\"}],\"mesh3d\":[{\"colorbar\":{\"outlinewidth\":0,\"ticks\":\"\"},\"type\":\"mesh3d\"}],\"parcoords\":[{\"line\":{\"colorbar\":{\"outlinewidth\":0,\"ticks\":\"\"}},\"type\":\"parcoords\"}],\"pie\":[{\"automargin\":true,\"type\":\"pie\"}],\"scatter3d\":[{\"line\":{\"colorbar\":{\"outlinewidth\":0,\"ticks\":\"\"}},\"marker\":{\"colorbar\":{\"outlinewidth\":0,\"ticks\":\"\"}},\"type\":\"scatter3d\"}],\"scattercarpet\":[{\"marker\":{\"colorbar\":{\"outlinewidth\":0,\"ticks\":\"\"}},\"type\":\"scattercarpet\"}],\"scattergeo\":[{\"marker\":{\"colorbar\":{\"outlinewidth\":0,\"ticks\":\"\"}},\"type\":\"scattergeo\"}],\"scattergl\":[{\"marker\":{\"line\":{\"color\":\"#283442\"}},\"type\":\"scattergl\"}],\"scattermapbox\":[{\"marker\":{\"colorbar\":{\"outlinewidth\":0,\"ticks\":\"\"}},\"type\":\"scattermapbox\"}],\"scatterpolargl\":[{\"marker\":{\"colorbar\":{\"outlinewidth\":0,\"ticks\":\"\"}},\"type\":\"scatterpolargl\"}],\"scatterpolar\":[{\"marker\":{\"colorbar\":{\"outlinewidth\":0,\"ticks\":\"\"}},\"type\":\"scatterpolar\"}],\"scatter\":[{\"marker\":{\"line\":{\"color\":\"#283442\"}},\"type\":\"scatter\"}],\"scatterternary\":[{\"marker\":{\"colorbar\":{\"outlinewidth\":0,\"ticks\":\"\"}},\"type\":\"scatterternary\"}],\"surface\":[{\"colorbar\":{\"outlinewidth\":0,\"ticks\":\"\"},\"colorscale\":[[0.0,\"#0d0887\"],[0.1111111111111111,\"#46039f\"],[0.2222222222222222,\"#7201a8\"],[0.3333333333333333,\"#9c179e\"],[0.4444444444444444,\"#bd3786\"],[0.5555555555555556,\"#d8576b\"],[0.6666666666666666,\"#ed7953\"],[0.7777777777777778,\"#fb9f3a\"],[0.8888888888888888,\"#fdca26\"],[1.0,\"#f0f921\"]],\"type\":\"surface\"}],\"table\":[{\"cells\":{\"fill\":{\"color\":\"#506784\"},\"line\":{\"color\":\"rgb(17,17,17)\"}},\"header\":{\"fill\":{\"color\":\"#2a3f5f\"},\"line\":{\"color\":\"rgb(17,17,17)\"}},\"type\":\"table\"}]},\"layout\":{\"annotationdefaults\":{\"arrowcolor\":\"#f2f5fa\",\"arrowhead\":0,\"arrowwidth\":1},\"autotypenumbers\":\"strict\",\"coloraxis\":{\"colorbar\":{\"outlinewidth\":0,\"ticks\":\"\"}},\"colorscale\":{\"diverging\":[[0,\"#8e0152\"],[0.1,\"#c51b7d\"],[0.2,\"#de77ae\"],[0.3,\"#f1b6da\"],[0.4,\"#fde0ef\"],[0.5,\"#f7f7f7\"],[0.6,\"#e6f5d0\"],[0.7,\"#b8e186\"],[0.8,\"#7fbc41\"],[0.9,\"#4d9221\"],[1,\"#276419\"]],\"sequential\":[[0.0,\"#0d0887\"],[0.1111111111111111,\"#46039f\"],[0.2222222222222222,\"#7201a8\"],[0.3333333333333333,\"#9c179e\"],[0.4444444444444444,\"#bd3786\"],[0.5555555555555556,\"#d8576b\"],[0.6666666666666666,\"#ed7953\"],[0.7777777777777778,\"#fb9f3a\"],[0.8888888888888888,\"#fdca26\"],[1.0,\"#f0f921\"]],\"sequentialminus\":[[0.0,\"#0d0887\"],[0.1111111111111111,\"#46039f\"],[0.2222222222222222,\"#7201a8\"],[0.3333333333333333,\"#9c179e\"],[0.4444444444444444,\"#bd3786\"],[0.5555555555555556,\"#d8576b\"],[0.6666666666666666,\"#ed7953\"],[0.7777777777777778,\"#fb9f3a\"],[0.8888888888888888,\"#fdca26\"],[1.0,\"#f0f921\"]]},\"colorway\":[\"#636efa\",\"#EF553B\",\"#00cc96\",\"#ab63fa\",\"#FFA15A\",\"#19d3f3\",\"#FF6692\",\"#B6E880\",\"#FF97FF\",\"#FECB52\"],\"font\":{\"color\":\"#f2f5fa\"},\"geo\":{\"bgcolor\":\"rgb(17,17,17)\",\"lakecolor\":\"rgb(17,17,17)\",\"landcolor\":\"rgb(17,17,17)\",\"showlakes\":true,\"showland\":true,\"subunitcolor\":\"#506784\"},\"hoverlabel\":{\"align\":\"left\"},\"hovermode\":\"closest\",\"mapbox\":{\"style\":\"dark\"},\"paper_bgcolor\":\"rgb(17,17,17)\",\"plot_bgcolor\":\"rgb(17,17,17)\",\"polar\":{\"angularaxis\":{\"gridcolor\":\"#506784\",\"linecolor\":\"#506784\",\"ticks\":\"\"},\"bgcolor\":\"rgb(17,17,17)\",\"radialaxis\":{\"gridcolor\":\"#506784\",\"linecolor\":\"#506784\",\"ticks\":\"\"}},\"scene\":{\"xaxis\":{\"backgroundcolor\":\"rgb(17,17,17)\",\"gridcolor\":\"#506784\",\"gridwidth\":2,\"linecolor\":\"#506784\",\"showbackground\":true,\"ticks\":\"\",\"zerolinecolor\":\"#C8D4E3\"},\"yaxis\":{\"backgroundcolor\":\"rgb(17,17,17)\",\"gridcolor\":\"#506784\",\"gridwidth\":2,\"linecolor\":\"#506784\",\"showbackground\":true,\"ticks\":\"\",\"zerolinecolor\":\"#C8D4E3\"},\"zaxis\":{\"backgroundcolor\":\"rgb(17,17,17)\",\"gridcolor\":\"#506784\",\"gridwidth\":2,\"linecolor\":\"#506784\",\"showbackground\":true,\"ticks\":\"\",\"zerolinecolor\":\"#C8D4E3\"}},\"shapedefaults\":{\"line\":{\"color\":\"#f2f5fa\"}},\"sliderdefaults\":{\"bgcolor\":\"#C8D4E3\",\"bordercolor\":\"rgb(17,17,17)\",\"borderwidth\":1,\"tickwidth\":0},\"ternary\":{\"aaxis\":{\"gridcolor\":\"#506784\",\"linecolor\":\"#506784\",\"ticks\":\"\"},\"baxis\":{\"gridcolor\":\"#506784\",\"linecolor\":\"#506784\",\"ticks\":\"\"},\"bgcolor\":\"rgb(17,17,17)\",\"caxis\":{\"gridcolor\":\"#506784\",\"linecolor\":\"#506784\",\"ticks\":\"\"}},\"title\":{\"x\":0.05},\"updatemenudefaults\":{\"bgcolor\":\"#506784\",\"borderwidth\":0},\"xaxis\":{\"automargin\":true,\"gridcolor\":\"#283442\",\"linecolor\":\"#506784\",\"ticks\":\"\",\"title\":{\"standoff\":15},\"zerolinecolor\":\"#283442\",\"zerolinewidth\":2},\"yaxis\":{\"automargin\":true,\"gridcolor\":\"#283442\",\"linecolor\":\"#506784\",\"ticks\":\"\",\"title\":{\"standoff\":15},\"zerolinecolor\":\"#283442\",\"zerolinewidth\":2}}},\"polar\":{\"domain\":{\"x\":[0.0,1.0],\"y\":[0.0,1.0]},\"angularaxis\":{\"direction\":\"counterclockwise\",\"rotation\":90},\"radialaxis\":{\"range\":[0,10.0]}},\"legend\":{\"tracegroupgap\":0},\"title\":{\"text\":\"72443\\ud1b5\\uc0b0\\uae30\\ub85d \"}},                        {\"responsive\": true}                    ).then(function(){\n",
       "                            \n",
       "var gd = document.getElementById('b58bac5d-24f1-4e9e-be51-34b63b6244f2');\n",
       "var x = new MutationObserver(function (mutations, observer) {{\n",
       "        var display = window.getComputedStyle(gd).display;\n",
       "        if (!display || display === 'none') {{\n",
       "            console.log([gd, 'removed!']);\n",
       "            Plotly.purge(gd);\n",
       "            observer.disconnect();\n",
       "        }}\n",
       "}});\n",
       "\n",
       "// Listen for the removal of the full notebook cells\n",
       "var notebookContainer = gd.closest('#notebook-container');\n",
       "if (notebookContainer) {{\n",
       "    x.observe(notebookContainer, {childList: true});\n",
       "}}\n",
       "\n",
       "// Listen for the clearing of the current output cell\n",
       "var outputEl = gd.closest('.output');\n",
       "if (outputEl) {{\n",
       "    x.observe(outputEl, {childList: true});\n",
       "}}\n",
       "\n",
       "                        })                };                });            </script>        </div>"
      ]
     },
     "metadata": {},
     "output_type": "display_data"
    }
   ],
   "source": [
    "# df_2018_player = hit_scaled_2018[hit_scaled_2018['code'] == 72443]\n",
    "# fig = px.line_polar(df_2018_player, r = list(hit_scaled_2018[hit_scaled_2018['code'] == 72443][hit_scaled_2018.columns.difference(['code'])].iloc[0]),\n",
    "#                    theta = hit_scaled_season.columns[0:], line_close=True, color_discrete_sequence=px.colors.sequential.Plasma_r,\n",
    "#                    template='plotly_dark', range_r = [0, 10.0], title=f\"{72443}통산기록 \",\n",
    "#                    direction=\"counterclockwise\", start_angle=90)\n",
    "# fig.update_traces(fill='toself')\n",
    "fig.show()"
   ]
  },
  {
   "cell_type": "code",
   "execution_count": null,
   "id": "1a82aaa5-8994-443d-8a1a-5fbeeb755a2f",
   "metadata": {},
   "outputs": [],
   "source": []
  },
  {
   "cell_type": "code",
   "execution_count": 197,
   "id": "fb2ea4f0-9260-4e41-b12c-866517e961a1",
   "metadata": {},
   "outputs": [],
   "source": [
    "# 선수 별 시즌 기록을 시각화하는 함수 생성 코드\n",
    "\n",
    "def extract_season_records(player_code, year):\n",
    "    try:\n",
    "        # def season_dataframe(hit_drop, year):\n",
    "        hit_season = hit_drop[hit_drop['year'] == year]\n",
    "\n",
    "        hit_drop_season = hit_season.drop(['year', 'dp', 'sh'], axis=1)\n",
    "        hit_sum_season = hit_drop_season.groupby('code').sum()\n",
    "\n",
    "        # 타율(avg)\n",
    "        hit_avg = hit_sum_season['hit'] / hit_sum_season['pa']\n",
    "        hit_sum_season['타율'] = round(hit_avg, 3)\n",
    "\n",
    "        # 출루율(obp) / 출루율 = (안타 + 볼넷 + 사구) ÷ (타수 + 볼넷 + 사구 + 희생플라이)\n",
    "        hit_obp = (hit_sum_season['hit']+ hit_sum_season['bb'] + hit_sum_season['hbp'] + hit_sum_season['ibb']) / (hit_sum_season['pa'] + hit_sum_season['bb'] + hit_sum_season['hbp'] + hit_sum_season['ibb'] + hit_sum_season['sf'])\n",
    "        hit_sum_season['출루율'] = round(hit_obp, 3)\n",
    "\n",
    "        # 장타율(slg)\n",
    "        hit_slg = (hit_sum_season['hit'] + hit_sum_season['second'] + 2*hit_sum_season['third'] + 3*hit_sum_season['homerun']) / hit_sum_season['pa']\n",
    "        hit_sum_season['장타율'] = round(hit_slg, 3)\n",
    "\n",
    "        # 볼삼비(BB/K) - 볼넷이 0인 경우 볼삼비 infinity가 발생 -> 처리 필요\n",
    "        hit_bbk = hit_sum_season['bb'] / hit_sum_season['k']\n",
    "        hit_sum_season['BB/K'] = round(hit_bbk, 3)\n",
    "        hit_sum_season.loc[(hit_sum_season['bb']>=1) & (hit_sum_season['k']==0), 'BB/K'] = 1\n",
    " \n",
    "        # 컬럼명 대문자로 변경  -> 시각화 그래프에서 보기 쉽게 한글로 표현하는 것이 좋다고 판단.\n",
    "        hit_sum_season['RE24'] = round(hit_sum_season['re24'], 3) \n",
    "        hit_sum_season['WPA'] = round(hit_sum_season['wpa'], 3) \n",
    "\n",
    "        df_season_hit = hit_sum_season.drop(['pa', 'hit', 'second', 'third', 'homerun', 'luta', 'bb', 'hbp', 'ibb',\n",
    "           'k', 'sf', 're24', 'wpa'], axis=1)\n",
    "\n",
    "        # 시각화위해 scaling\n",
    "        hit_scaled_season = pd.DataFrame(scaler.fit_transform(df_season_hit), columns=df_season_hit.columns, index=df_season_hit.index)*10\n",
    "        hit_scaled_season.reset_index(inplace=True)\n",
    "    \n",
    "        # 시각화\n",
    "        df_player = hit_scaled_season[hit_scaled_season['code'] == player_code]\n",
    "        fig = px.line_polar(df_player, r = list(hit_scaled_season[hit_scaled_season['code'] == player_code][hit_scaled_season.columns.difference(['code'])].iloc[0]),\n",
    "                           theta = hit_scaled_season.columns[1:], line_close=True, color_discrete_sequence=px.colors.sequential.Plasma_r,\n",
    "                           template='plotly_dark', range_r = [0, 10.0], title=f\"{player_code}통산기록 \",\n",
    "                           direction=\"counterclockwise\", start_angle=90)\n",
    "        fig.update_traces(fill='toself')\n",
    "\n",
    "        return fig.show()\n",
    "    \n",
    "    except IndexError:\n",
    "        print(f\"No data found for player {player_code}\")"
   ]
  },
  {
   "cell_type": "code",
   "execution_count": 198,
   "id": "31b2bcf9-a333-4ae1-a8c7-db59472e4619",
   "metadata": {
    "tags": []
   },
   "outputs": [
    {
     "data": {
      "application/vnd.plotly.v1+json": {
       "config": {
        "plotlyServerURL": "https://plot.ly"
       },
       "data": [
        {
         "fill": "toself",
         "hovertemplate": "r=%{r}<br>theta=%{theta}<extra></extra>",
         "legendgroup": "",
         "line": {
          "color": "#f0f921",
          "dash": "solid"
         },
         "marker": {
          "symbol": "circle"
         },
         "mode": "lines",
         "name": "",
         "r": [
          1.7496303597831444,
          2.3960578995996302,
          1.9094866862407618,
          3.62,
          4.16,
          3.1599999999999993,
          1.7496303597831444
         ],
         "showlegend": false,
         "subplot": "polar",
         "theta": [
          "타율",
          "출루율",
          "장타율",
          "BB/K",
          "RE24",
          "WPA",
          "타율"
         ],
         "type": "scatterpolar"
        }
       ],
       "layout": {
        "autosize": true,
        "legend": {
         "tracegroupgap": 0
        },
        "polar": {
         "angularaxis": {
          "direction": "counterclockwise",
          "rotation": 90,
          "type": "category"
         },
         "domain": {
          "x": [
           0,
           1
          ],
          "y": [
           0,
           1
          ]
         },
         "radialaxis": {
          "autorange": false,
          "range": [
           0,
           10
          ],
          "type": "linear"
         }
        },
        "template": {
         "data": {
          "bar": [
           {
            "error_x": {
             "color": "#f2f5fa"
            },
            "error_y": {
             "color": "#f2f5fa"
            },
            "marker": {
             "line": {
              "color": "rgb(17,17,17)",
              "width": 0.5
             },
             "pattern": {
              "fillmode": "overlay",
              "size": 10,
              "solidity": 0.2
             }
            },
            "type": "bar"
           }
          ],
          "barpolar": [
           {
            "marker": {
             "line": {
              "color": "rgb(17,17,17)",
              "width": 0.5
             },
             "pattern": {
              "fillmode": "overlay",
              "size": 10,
              "solidity": 0.2
             }
            },
            "type": "barpolar"
           }
          ],
          "carpet": [
           {
            "aaxis": {
             "endlinecolor": "#A2B1C6",
             "gridcolor": "#506784",
             "linecolor": "#506784",
             "minorgridcolor": "#506784",
             "startlinecolor": "#A2B1C6"
            },
            "baxis": {
             "endlinecolor": "#A2B1C6",
             "gridcolor": "#506784",
             "linecolor": "#506784",
             "minorgridcolor": "#506784",
             "startlinecolor": "#A2B1C6"
            },
            "type": "carpet"
           }
          ],
          "choropleth": [
           {
            "colorbar": {
             "outlinewidth": 0,
             "ticks": ""
            },
            "type": "choropleth"
           }
          ],
          "contour": [
           {
            "colorbar": {
             "outlinewidth": 0,
             "ticks": ""
            },
            "colorscale": [
             [
              0,
              "#0d0887"
             ],
             [
              0.1111111111111111,
              "#46039f"
             ],
             [
              0.2222222222222222,
              "#7201a8"
             ],
             [
              0.3333333333333333,
              "#9c179e"
             ],
             [
              0.4444444444444444,
              "#bd3786"
             ],
             [
              0.5555555555555556,
              "#d8576b"
             ],
             [
              0.6666666666666666,
              "#ed7953"
             ],
             [
              0.7777777777777778,
              "#fb9f3a"
             ],
             [
              0.8888888888888888,
              "#fdca26"
             ],
             [
              1,
              "#f0f921"
             ]
            ],
            "type": "contour"
           }
          ],
          "contourcarpet": [
           {
            "colorbar": {
             "outlinewidth": 0,
             "ticks": ""
            },
            "type": "contourcarpet"
           }
          ],
          "heatmap": [
           {
            "colorbar": {
             "outlinewidth": 0,
             "ticks": ""
            },
            "colorscale": [
             [
              0,
              "#0d0887"
             ],
             [
              0.1111111111111111,
              "#46039f"
             ],
             [
              0.2222222222222222,
              "#7201a8"
             ],
             [
              0.3333333333333333,
              "#9c179e"
             ],
             [
              0.4444444444444444,
              "#bd3786"
             ],
             [
              0.5555555555555556,
              "#d8576b"
             ],
             [
              0.6666666666666666,
              "#ed7953"
             ],
             [
              0.7777777777777778,
              "#fb9f3a"
             ],
             [
              0.8888888888888888,
              "#fdca26"
             ],
             [
              1,
              "#f0f921"
             ]
            ],
            "type": "heatmap"
           }
          ],
          "heatmapgl": [
           {
            "colorbar": {
             "outlinewidth": 0,
             "ticks": ""
            },
            "colorscale": [
             [
              0,
              "#0d0887"
             ],
             [
              0.1111111111111111,
              "#46039f"
             ],
             [
              0.2222222222222222,
              "#7201a8"
             ],
             [
              0.3333333333333333,
              "#9c179e"
             ],
             [
              0.4444444444444444,
              "#bd3786"
             ],
             [
              0.5555555555555556,
              "#d8576b"
             ],
             [
              0.6666666666666666,
              "#ed7953"
             ],
             [
              0.7777777777777778,
              "#fb9f3a"
             ],
             [
              0.8888888888888888,
              "#fdca26"
             ],
             [
              1,
              "#f0f921"
             ]
            ],
            "type": "heatmapgl"
           }
          ],
          "histogram": [
           {
            "marker": {
             "pattern": {
              "fillmode": "overlay",
              "size": 10,
              "solidity": 0.2
             }
            },
            "type": "histogram"
           }
          ],
          "histogram2d": [
           {
            "colorbar": {
             "outlinewidth": 0,
             "ticks": ""
            },
            "colorscale": [
             [
              0,
              "#0d0887"
             ],
             [
              0.1111111111111111,
              "#46039f"
             ],
             [
              0.2222222222222222,
              "#7201a8"
             ],
             [
              0.3333333333333333,
              "#9c179e"
             ],
             [
              0.4444444444444444,
              "#bd3786"
             ],
             [
              0.5555555555555556,
              "#d8576b"
             ],
             [
              0.6666666666666666,
              "#ed7953"
             ],
             [
              0.7777777777777778,
              "#fb9f3a"
             ],
             [
              0.8888888888888888,
              "#fdca26"
             ],
             [
              1,
              "#f0f921"
             ]
            ],
            "type": "histogram2d"
           }
          ],
          "histogram2dcontour": [
           {
            "colorbar": {
             "outlinewidth": 0,
             "ticks": ""
            },
            "colorscale": [
             [
              0,
              "#0d0887"
             ],
             [
              0.1111111111111111,
              "#46039f"
             ],
             [
              0.2222222222222222,
              "#7201a8"
             ],
             [
              0.3333333333333333,
              "#9c179e"
             ],
             [
              0.4444444444444444,
              "#bd3786"
             ],
             [
              0.5555555555555556,
              "#d8576b"
             ],
             [
              0.6666666666666666,
              "#ed7953"
             ],
             [
              0.7777777777777778,
              "#fb9f3a"
             ],
             [
              0.8888888888888888,
              "#fdca26"
             ],
             [
              1,
              "#f0f921"
             ]
            ],
            "type": "histogram2dcontour"
           }
          ],
          "mesh3d": [
           {
            "colorbar": {
             "outlinewidth": 0,
             "ticks": ""
            },
            "type": "mesh3d"
           }
          ],
          "parcoords": [
           {
            "line": {
             "colorbar": {
              "outlinewidth": 0,
              "ticks": ""
             }
            },
            "type": "parcoords"
           }
          ],
          "pie": [
           {
            "automargin": true,
            "type": "pie"
           }
          ],
          "scatter": [
           {
            "marker": {
             "line": {
              "color": "#283442"
             }
            },
            "type": "scatter"
           }
          ],
          "scatter3d": [
           {
            "line": {
             "colorbar": {
              "outlinewidth": 0,
              "ticks": ""
             }
            },
            "marker": {
             "colorbar": {
              "outlinewidth": 0,
              "ticks": ""
             }
            },
            "type": "scatter3d"
           }
          ],
          "scattercarpet": [
           {
            "marker": {
             "colorbar": {
              "outlinewidth": 0,
              "ticks": ""
             }
            },
            "type": "scattercarpet"
           }
          ],
          "scattergeo": [
           {
            "marker": {
             "colorbar": {
              "outlinewidth": 0,
              "ticks": ""
             }
            },
            "type": "scattergeo"
           }
          ],
          "scattergl": [
           {
            "marker": {
             "line": {
              "color": "#283442"
             }
            },
            "type": "scattergl"
           }
          ],
          "scattermapbox": [
           {
            "marker": {
             "colorbar": {
              "outlinewidth": 0,
              "ticks": ""
             }
            },
            "type": "scattermapbox"
           }
          ],
          "scatterpolar": [
           {
            "marker": {
             "colorbar": {
              "outlinewidth": 0,
              "ticks": ""
             }
            },
            "type": "scatterpolar"
           }
          ],
          "scatterpolargl": [
           {
            "marker": {
             "colorbar": {
              "outlinewidth": 0,
              "ticks": ""
             }
            },
            "type": "scatterpolargl"
           }
          ],
          "scatterternary": [
           {
            "marker": {
             "colorbar": {
              "outlinewidth": 0,
              "ticks": ""
             }
            },
            "type": "scatterternary"
           }
          ],
          "surface": [
           {
            "colorbar": {
             "outlinewidth": 0,
             "ticks": ""
            },
            "colorscale": [
             [
              0,
              "#0d0887"
             ],
             [
              0.1111111111111111,
              "#46039f"
             ],
             [
              0.2222222222222222,
              "#7201a8"
             ],
             [
              0.3333333333333333,
              "#9c179e"
             ],
             [
              0.4444444444444444,
              "#bd3786"
             ],
             [
              0.5555555555555556,
              "#d8576b"
             ],
             [
              0.6666666666666666,
              "#ed7953"
             ],
             [
              0.7777777777777778,
              "#fb9f3a"
             ],
             [
              0.8888888888888888,
              "#fdca26"
             ],
             [
              1,
              "#f0f921"
             ]
            ],
            "type": "surface"
           }
          ],
          "table": [
           {
            "cells": {
             "fill": {
              "color": "#506784"
             },
             "line": {
              "color": "rgb(17,17,17)"
             }
            },
            "header": {
             "fill": {
              "color": "#2a3f5f"
             },
             "line": {
              "color": "rgb(17,17,17)"
             }
            },
            "type": "table"
           }
          ]
         },
         "layout": {
          "annotationdefaults": {
           "arrowcolor": "#f2f5fa",
           "arrowhead": 0,
           "arrowwidth": 1
          },
          "autotypenumbers": "strict",
          "coloraxis": {
           "colorbar": {
            "outlinewidth": 0,
            "ticks": ""
           }
          },
          "colorscale": {
           "diverging": [
            [
             0,
             "#8e0152"
            ],
            [
             0.1,
             "#c51b7d"
            ],
            [
             0.2,
             "#de77ae"
            ],
            [
             0.3,
             "#f1b6da"
            ],
            [
             0.4,
             "#fde0ef"
            ],
            [
             0.5,
             "#f7f7f7"
            ],
            [
             0.6,
             "#e6f5d0"
            ],
            [
             0.7,
             "#b8e186"
            ],
            [
             0.8,
             "#7fbc41"
            ],
            [
             0.9,
             "#4d9221"
            ],
            [
             1,
             "#276419"
            ]
           ],
           "sequential": [
            [
             0,
             "#0d0887"
            ],
            [
             0.1111111111111111,
             "#46039f"
            ],
            [
             0.2222222222222222,
             "#7201a8"
            ],
            [
             0.3333333333333333,
             "#9c179e"
            ],
            [
             0.4444444444444444,
             "#bd3786"
            ],
            [
             0.5555555555555556,
             "#d8576b"
            ],
            [
             0.6666666666666666,
             "#ed7953"
            ],
            [
             0.7777777777777778,
             "#fb9f3a"
            ],
            [
             0.8888888888888888,
             "#fdca26"
            ],
            [
             1,
             "#f0f921"
            ]
           ],
           "sequentialminus": [
            [
             0,
             "#0d0887"
            ],
            [
             0.1111111111111111,
             "#46039f"
            ],
            [
             0.2222222222222222,
             "#7201a8"
            ],
            [
             0.3333333333333333,
             "#9c179e"
            ],
            [
             0.4444444444444444,
             "#bd3786"
            ],
            [
             0.5555555555555556,
             "#d8576b"
            ],
            [
             0.6666666666666666,
             "#ed7953"
            ],
            [
             0.7777777777777778,
             "#fb9f3a"
            ],
            [
             0.8888888888888888,
             "#fdca26"
            ],
            [
             1,
             "#f0f921"
            ]
           ]
          },
          "colorway": [
           "#636efa",
           "#EF553B",
           "#00cc96",
           "#ab63fa",
           "#FFA15A",
           "#19d3f3",
           "#FF6692",
           "#B6E880",
           "#FF97FF",
           "#FECB52"
          ],
          "font": {
           "color": "#f2f5fa"
          },
          "geo": {
           "bgcolor": "rgb(17,17,17)",
           "lakecolor": "rgb(17,17,17)",
           "landcolor": "rgb(17,17,17)",
           "showlakes": true,
           "showland": true,
           "subunitcolor": "#506784"
          },
          "hoverlabel": {
           "align": "left"
          },
          "hovermode": "closest",
          "mapbox": {
           "style": "dark"
          },
          "paper_bgcolor": "rgb(17,17,17)",
          "plot_bgcolor": "rgb(17,17,17)",
          "polar": {
           "angularaxis": {
            "gridcolor": "#506784",
            "linecolor": "#506784",
            "ticks": ""
           },
           "bgcolor": "rgb(17,17,17)",
           "radialaxis": {
            "gridcolor": "#506784",
            "linecolor": "#506784",
            "ticks": ""
           }
          },
          "scene": {
           "xaxis": {
            "backgroundcolor": "rgb(17,17,17)",
            "gridcolor": "#506784",
            "gridwidth": 2,
            "linecolor": "#506784",
            "showbackground": true,
            "ticks": "",
            "zerolinecolor": "#C8D4E3"
           },
           "yaxis": {
            "backgroundcolor": "rgb(17,17,17)",
            "gridcolor": "#506784",
            "gridwidth": 2,
            "linecolor": "#506784",
            "showbackground": true,
            "ticks": "",
            "zerolinecolor": "#C8D4E3"
           },
           "zaxis": {
            "backgroundcolor": "rgb(17,17,17)",
            "gridcolor": "#506784",
            "gridwidth": 2,
            "linecolor": "#506784",
            "showbackground": true,
            "ticks": "",
            "zerolinecolor": "#C8D4E3"
           }
          },
          "shapedefaults": {
           "line": {
            "color": "#f2f5fa"
           }
          },
          "sliderdefaults": {
           "bgcolor": "#C8D4E3",
           "bordercolor": "rgb(17,17,17)",
           "borderwidth": 1,
           "tickwidth": 0
          },
          "ternary": {
           "aaxis": {
            "gridcolor": "#506784",
            "linecolor": "#506784",
            "ticks": ""
           },
           "baxis": {
            "gridcolor": "#506784",
            "linecolor": "#506784",
            "ticks": ""
           },
           "bgcolor": "rgb(17,17,17)",
           "caxis": {
            "gridcolor": "#506784",
            "linecolor": "#506784",
            "ticks": ""
           }
          },
          "title": {
           "x": 0.05
          },
          "updatemenudefaults": {
           "bgcolor": "#506784",
           "borderwidth": 0
          },
          "xaxis": {
           "automargin": true,
           "gridcolor": "#283442",
           "linecolor": "#506784",
           "ticks": "",
           "title": {
            "standoff": 15
           },
           "zerolinecolor": "#283442",
           "zerolinewidth": 2
          },
          "yaxis": {
           "automargin": true,
           "gridcolor": "#283442",
           "linecolor": "#506784",
           "ticks": "",
           "title": {
            "standoff": 15
           },
           "zerolinecolor": "#283442",
           "zerolinewidth": 2
          }
         }
        },
        "title": {
         "text": "52605통산기록 "
        }
       }
      },
      "image/png": "[encoded data removed]",
      "text/html": [
       "<div>                            <div id=\"2e82f5e2-73f1-4cb9-9c06-f1375bcc7cdf\" class=\"plotly-graph-div\" style=\"height:525px; width:100%;\"></div>            <script type=\"text/javascript\">                require([\"plotly\"], function(Plotly) {                    window.PLOTLYENV=window.PLOTLYENV || {};                                    if (document.getElementById(\"2e82f5e2-73f1-4cb9-9c06-f1375bcc7cdf\")) {                    Plotly.newPlot(                        \"2e82f5e2-73f1-4cb9-9c06-f1375bcc7cdf\",                        [{\"hovertemplate\":\"r=%{r}<br>theta=%{theta}<extra></extra>\",\"legendgroup\":\"\",\"line\":{\"color\":\"#f0f921\",\"dash\":\"solid\"},\"marker\":{\"symbol\":\"circle\"},\"mode\":\"lines\",\"name\":\"\",\"r\":[1.7496303597831444,2.3960578995996302,1.9094866862407618,3.62,4.16,3.1599999999999993,1.7496303597831444],\"showlegend\":false,\"subplot\":\"polar\",\"theta\":[\"\\ud0c0\\uc728\",\"\\ucd9c\\ub8e8\\uc728\",\"\\uc7a5\\ud0c0\\uc728\",\"BB/K\",\"RE24\",\"WPA\",\"\\ud0c0\\uc728\"],\"type\":\"scatterpolar\",\"fill\":\"toself\"}],                        {\"template\":{\"data\":{\"barpolar\":[{\"marker\":{\"line\":{\"color\":\"rgb(17,17,17)\",\"width\":0.5},\"pattern\":{\"fillmode\":\"overlay\",\"size\":10,\"solidity\":0.2}},\"type\":\"barpolar\"}],\"bar\":[{\"error_x\":{\"color\":\"#f2f5fa\"},\"error_y\":{\"color\":\"#f2f5fa\"},\"marker\":{\"line\":{\"color\":\"rgb(17,17,17)\",\"width\":0.5},\"pattern\":{\"fillmode\":\"overlay\",\"size\":10,\"solidity\":0.2}},\"type\":\"bar\"}],\"carpet\":[{\"aaxis\":{\"endlinecolor\":\"#A2B1C6\",\"gridcolor\":\"#506784\",\"linecolor\":\"#506784\",\"minorgridcolor\":\"#506784\",\"startlinecolor\":\"#A2B1C6\"},\"baxis\":{\"endlinecolor\":\"#A2B1C6\",\"gridcolor\":\"#506784\",\"linecolor\":\"#506784\",\"minorgridcolor\":\"#506784\",\"startlinecolor\":\"#A2B1C6\"},\"type\":\"carpet\"}],\"choropleth\":[{\"colorbar\":{\"outlinewidth\":0,\"ticks\":\"\"},\"type\":\"choropleth\"}],\"contourcarpet\":[{\"colorbar\":{\"outlinewidth\":0,\"ticks\":\"\"},\"type\":\"contourcarpet\"}],\"contour\":[{\"colorbar\":{\"outlinewidth\":0,\"ticks\":\"\"},\"colorscale\":[[0.0,\"#0d0887\"],[0.1111111111111111,\"#46039f\"],[0.2222222222222222,\"#7201a8\"],[0.3333333333333333,\"#9c179e\"],[0.4444444444444444,\"#bd3786\"],[0.5555555555555556,\"#d8576b\"],[0.6666666666666666,\"#ed7953\"],[0.7777777777777778,\"#fb9f3a\"],[0.8888888888888888,\"#fdca26\"],[1.0,\"#f0f921\"]],\"type\":\"contour\"}],\"heatmapgl\":[{\"colorbar\":{\"outlinewidth\":0,\"ticks\":\"\"},\"colorscale\":[[0.0,\"#0d0887\"],[0.1111111111111111,\"#46039f\"],[0.2222222222222222,\"#7201a8\"],[0.3333333333333333,\"#9c179e\"],[0.4444444444444444,\"#bd3786\"],[0.5555555555555556,\"#d8576b\"],[0.6666666666666666,\"#ed7953\"],[0.7777777777777778,\"#fb9f3a\"],[0.8888888888888888,\"#fdca26\"],[1.0,\"#f0f921\"]],\"type\":\"heatmapgl\"}],\"heatmap\":[{\"colorbar\":{\"outlinewidth\":0,\"ticks\":\"\"},\"colorscale\":[[0.0,\"#0d0887\"],[0.1111111111111111,\"#46039f\"],[0.2222222222222222,\"#7201a8\"],[0.3333333333333333,\"#9c179e\"],[0.4444444444444444,\"#bd3786\"],[0.5555555555555556,\"#d8576b\"],[0.6666666666666666,\"#ed7953\"],[0.7777777777777778,\"#fb9f3a\"],[0.8888888888888888,\"#fdca26\"],[1.0,\"#f0f921\"]],\"type\":\"heatmap\"}],\"histogram2dcontour\":[{\"colorbar\":{\"outlinewidth\":0,\"ticks\":\"\"},\"colorscale\":[[0.0,\"#0d0887\"],[0.1111111111111111,\"#46039f\"],[0.2222222222222222,\"#7201a8\"],[0.3333333333333333,\"#9c179e\"],[0.4444444444444444,\"#bd3786\"],[0.5555555555555556,\"#d8576b\"],[0.6666666666666666,\"#ed7953\"],[0.7777777777777778,\"#fb9f3a\"],[0.8888888888888888,\"#fdca26\"],[1.0,\"#f0f921\"]],\"type\":\"histogram2dcontour\"}],\"histogram2d\":[{\"colorbar\":{\"outlinewidth\":0,\"ticks\":\"\"},\"colorscale\":[[0.0,\"#0d0887\"],[0.1111111111111111,\"#46039f\"],[0.2222222222222222,\"#7201a8\"],[0.3333333333333333,\"#9c179e\"],[0.4444444444444444,\"#bd3786\"],[0.5555555555555556,\"#d8576b\"],[0.6666666666666666,\"#ed7953\"],[0.7777777777777778,\"#fb9f3a\"],[0.8888888888888888,\"#fdca26\"],[1.0,\"#f0f921\"]],\"type\":\"histogram2d\"}],\"histogram\":[{\"marker\":{\"pattern\":{\"fillmode\":\"overlay\",\"size\":10,\"solidity\":0.2}},\"type\":\"histogram\"}],\"mesh3d\":[{\"colorbar\":{\"outlinewidth\":0,\"ticks\":\"\"},\"type\":\"mesh3d\"}],\"parcoords\":[{\"line\":{\"colorbar\":{\"outlinewidth\":0,\"ticks\":\"\"}},\"type\":\"parcoords\"}],\"pie\":[{\"automargin\":true,\"type\":\"pie\"}],\"scatter3d\":[{\"line\":{\"colorbar\":{\"outlinewidth\":0,\"ticks\":\"\"}},\"marker\":{\"colorbar\":{\"outlinewidth\":0,\"ticks\":\"\"}},\"type\":\"scatter3d\"}],\"scattercarpet\":[{\"marker\":{\"colorbar\":{\"outlinewidth\":0,\"ticks\":\"\"}},\"type\":\"scattercarpet\"}],\"scattergeo\":[{\"marker\":{\"colorbar\":{\"outlinewidth\":0,\"ticks\":\"\"}},\"type\":\"scattergeo\"}],\"scattergl\":[{\"marker\":{\"line\":{\"color\":\"#283442\"}},\"type\":\"scattergl\"}],\"scattermapbox\":[{\"marker\":{\"colorbar\":{\"outlinewidth\":0,\"ticks\":\"\"}},\"type\":\"scattermapbox\"}],\"scatterpolargl\":[{\"marker\":{\"colorbar\":{\"outlinewidth\":0,\"ticks\":\"\"}},\"type\":\"scatterpolargl\"}],\"scatterpolar\":[{\"marker\":{\"colorbar\":{\"outlinewidth\":0,\"ticks\":\"\"}},\"type\":\"scatterpolar\"}],\"scatter\":[{\"marker\":{\"line\":{\"color\":\"#283442\"}},\"type\":\"scatter\"}],\"scatterternary\":[{\"marker\":{\"colorbar\":{\"outlinewidth\":0,\"ticks\":\"\"}},\"type\":\"scatterternary\"}],\"surface\":[{\"colorbar\":{\"outlinewidth\":0,\"ticks\":\"\"},\"colorscale\":[[0.0,\"#0d0887\"],[0.1111111111111111,\"#46039f\"],[0.2222222222222222,\"#7201a8\"],[0.3333333333333333,\"#9c179e\"],[0.4444444444444444,\"#bd3786\"],[0.5555555555555556,\"#d8576b\"],[0.6666666666666666,\"#ed7953\"],[0.7777777777777778,\"#fb9f3a\"],[0.8888888888888888,\"#fdca26\"],[1.0,\"#f0f921\"]],\"type\":\"surface\"}],\"table\":[{\"cells\":{\"fill\":{\"color\":\"#506784\"},\"line\":{\"color\":\"rgb(17,17,17)\"}},\"header\":{\"fill\":{\"color\":\"#2a3f5f\"},\"line\":{\"color\":\"rgb(17,17,17)\"}},\"type\":\"table\"}]},\"layout\":{\"annotationdefaults\":{\"arrowcolor\":\"#f2f5fa\",\"arrowhead\":0,\"arrowwidth\":1},\"autotypenumbers\":\"strict\",\"coloraxis\":{\"colorbar\":{\"outlinewidth\":0,\"ticks\":\"\"}},\"colorscale\":{\"diverging\":[[0,\"#8e0152\"],[0.1,\"#c51b7d\"],[0.2,\"#de77ae\"],[0.3,\"#f1b6da\"],[0.4,\"#fde0ef\"],[0.5,\"#f7f7f7\"],[0.6,\"#e6f5d0\"],[0.7,\"#b8e186\"],[0.8,\"#7fbc41\"],[0.9,\"#4d9221\"],[1,\"#276419\"]],\"sequential\":[[0.0,\"#0d0887\"],[0.1111111111111111,\"#46039f\"],[0.2222222222222222,\"#7201a8\"],[0.3333333333333333,\"#9c179e\"],[0.4444444444444444,\"#bd3786\"],[0.5555555555555556,\"#d8576b\"],[0.6666666666666666,\"#ed7953\"],[0.7777777777777778,\"#fb9f3a\"],[0.8888888888888888,\"#fdca26\"],[1.0,\"#f0f921\"]],\"sequentialminus\":[[0.0,\"#0d0887\"],[0.1111111111111111,\"#46039f\"],[0.2222222222222222,\"#7201a8\"],[0.3333333333333333,\"#9c179e\"],[0.4444444444444444,\"#bd3786\"],[0.5555555555555556,\"#d8576b\"],[0.6666666666666666,\"#ed7953\"],[0.7777777777777778,\"#fb9f3a\"],[0.8888888888888888,\"#fdca26\"],[1.0,\"#f0f921\"]]},\"colorway\":[\"#636efa\",\"#EF553B\",\"#00cc96\",\"#ab63fa\",\"#FFA15A\",\"#19d3f3\",\"#FF6692\",\"#B6E880\",\"#FF97FF\",\"#FECB52\"],\"font\":{\"color\":\"#f2f5fa\"},\"geo\":{\"bgcolor\":\"rgb(17,17,17)\",\"lakecolor\":\"rgb(17,17,17)\",\"landcolor\":\"rgb(17,17,17)\",\"showlakes\":true,\"showland\":true,\"subunitcolor\":\"#506784\"},\"hoverlabel\":{\"align\":\"left\"},\"hovermode\":\"closest\",\"mapbox\":{\"style\":\"dark\"},\"paper_bgcolor\":\"rgb(17,17,17)\",\"plot_bgcolor\":\"rgb(17,17,17)\",\"polar\":{\"angularaxis\":{\"gridcolor\":\"#506784\",\"linecolor\":\"#506784\",\"ticks\":\"\"},\"bgcolor\":\"rgb(17,17,17)\",\"radialaxis\":{\"gridcolor\":\"#506784\",\"linecolor\":\"#506784\",\"ticks\":\"\"}},\"scene\":{\"xaxis\":{\"backgroundcolor\":\"rgb(17,17,17)\",\"gridcolor\":\"#506784\",\"gridwidth\":2,\"linecolor\":\"#506784\",\"showbackground\":true,\"ticks\":\"\",\"zerolinecolor\":\"#C8D4E3\"},\"yaxis\":{\"backgroundcolor\":\"rgb(17,17,17)\",\"gridcolor\":\"#506784\",\"gridwidth\":2,\"linecolor\":\"#506784\",\"showbackground\":true,\"ticks\":\"\",\"zerolinecolor\":\"#C8D4E3\"},\"zaxis\":{\"backgroundcolor\":\"rgb(17,17,17)\",\"gridcolor\":\"#506784\",\"gridwidth\":2,\"linecolor\":\"#506784\",\"showbackground\":true,\"ticks\":\"\",\"zerolinecolor\":\"#C8D4E3\"}},\"shapedefaults\":{\"line\":{\"color\":\"#f2f5fa\"}},\"sliderdefaults\":{\"bgcolor\":\"#C8D4E3\",\"bordercolor\":\"rgb(17,17,17)\",\"borderwidth\":1,\"tickwidth\":0},\"ternary\":{\"aaxis\":{\"gridcolor\":\"#506784\",\"linecolor\":\"#506784\",\"ticks\":\"\"},\"baxis\":{\"gridcolor\":\"#506784\",\"linecolor\":\"#506784\",\"ticks\":\"\"},\"bgcolor\":\"rgb(17,17,17)\",\"caxis\":{\"gridcolor\":\"#506784\",\"linecolor\":\"#506784\",\"ticks\":\"\"}},\"title\":{\"x\":0.05},\"updatemenudefaults\":{\"bgcolor\":\"#506784\",\"borderwidth\":0},\"xaxis\":{\"automargin\":true,\"gridcolor\":\"#283442\",\"linecolor\":\"#506784\",\"ticks\":\"\",\"title\":{\"standoff\":15},\"zerolinecolor\":\"#283442\",\"zerolinewidth\":2},\"yaxis\":{\"automargin\":true,\"gridcolor\":\"#283442\",\"linecolor\":\"#506784\",\"ticks\":\"\",\"title\":{\"standoff\":15},\"zerolinecolor\":\"#283442\",\"zerolinewidth\":2}}},\"polar\":{\"domain\":{\"x\":[0.0,1.0],\"y\":[0.0,1.0]},\"angularaxis\":{\"direction\":\"counterclockwise\",\"rotation\":90},\"radialaxis\":{\"range\":[0,10.0]}},\"legend\":{\"tracegroupgap\":0},\"title\":{\"text\":\"52605\\ud1b5\\uc0b0\\uae30\\ub85d \"}},                        {\"responsive\": true}                    ).then(function(){\n",
       "                            \n",
       "var gd = document.getElementById('2e82f5e2-73f1-4cb9-9c06-f1375bcc7cdf');\n",
       "var x = new MutationObserver(function (mutations, observer) {{\n",
       "        var display = window.getComputedStyle(gd).display;\n",
       "        if (!display || display === 'none') {{\n",
       "            console.log([gd, 'removed!']);\n",
       "            Plotly.purge(gd);\n",
       "            observer.disconnect();\n",
       "        }}\n",
       "}});\n",
       "\n",
       "// Listen for the removal of the full notebook cells\n",
       "var notebookContainer = gd.closest('#notebook-container');\n",
       "if (notebookContainer) {{\n",
       "    x.observe(notebookContainer, {childList: true});\n",
       "}}\n",
       "\n",
       "// Listen for the clearing of the current output cell\n",
       "var outputEl = gd.closest('.output');\n",
       "if (outputEl) {{\n",
       "    x.observe(outputEl, {childList: true});\n",
       "}}\n",
       "\n",
       "                        })                };                });            </script>        </div>"
      ]
     },
     "metadata": {},
     "output_type": "display_data"
    }
   ],
   "source": [
    "extract_season_records(52605, 2022)  # 2022년 김도영 선수 확인 // 그래프 웹페이지에 표현할 때 그래프에 표현되는 숫자는 스케일링된 수치이므로 선수의 개인기록 수치가 아님"
   ]
  },
  {
   "cell_type": "code",
   "execution_count": null,
   "id": "c3a41242-e00e-4170-b26b-7e0308c397f6",
   "metadata": {},
   "outputs": [],
   "source": []
  },
  {
   "cell_type": "markdown",
   "id": "e7d16016-f4a5-4e84-8db1-047debfe05ca",
   "metadata": {},
   "source": [
    "### 팀 평균 지표 시각화"
   ]
  },
  {
   "cell_type": "code",
   "execution_count": null,
   "id": "4b4204a1-f778-44ae-9862-b8a1faa6ffa3",
   "metadata": {},
   "outputs": [],
   "source": []
  },
  {
   "cell_type": "code",
   "execution_count": 201,
   "id": "5d021a8c-e493-4ab4-9674-2422281d5ea3",
   "metadata": {},
   "outputs": [
    {
     "data": {
      "text/html": [
       "<div>\n",
       "<style scoped>\n",
       "    .dataframe tbody tr th:only-of-type {\n",
       "        vertical-align: middle;\n",
       "    }\n",
       "\n",
       "    .dataframe tbody tr th {\n",
       "        vertical-align: top;\n",
       "    }\n",
       "\n",
       "    .dataframe thead th {\n",
       "        text-align: right;\n",
       "    }\n",
       "</style>\n",
       "<table border=\"1\" class=\"dataframe\">\n",
       "  <thead>\n",
       "    <tr style=\"text-align: right;\">\n",
       "      <th></th>\n",
       "      <th>game_dates</th>\n",
       "      <th>game_infos</th>\n",
       "      <th>teams_hm</th>\n",
       "      <th>teams_aw</th>\n",
       "      <th>pitcher_hm</th>\n",
       "      <th>pitcher_aw</th>\n",
       "      <th>hitman_hm_1</th>\n",
       "      <th>hitman_hm_2</th>\n",
       "      <th>hitman_hm_3</th>\n",
       "      <th>hitman_hm_4</th>\n",
       "      <th>...</th>\n",
       "      <th>hitman_hm_9</th>\n",
       "      <th>hitman_aw_1</th>\n",
       "      <th>hitman_aw_2</th>\n",
       "      <th>hitman_aw_3</th>\n",
       "      <th>hitman_aw_4</th>\n",
       "      <th>hitman_aw_5</th>\n",
       "      <th>hitman_aw_6</th>\n",
       "      <th>hitman_aw_7</th>\n",
       "      <th>hitman_aw_8</th>\n",
       "      <th>hitman_aw_9</th>\n",
       "    </tr>\n",
       "  </thead>\n",
       "  <tbody>\n",
       "    <tr>\n",
       "      <th>0</th>\n",
       "      <td>20180525</td>\n",
       "      <td>{'gameId': '20180525HHSK02018', 'superCategory...</td>\n",
       "      <td>SK 와이번스</td>\n",
       "      <td>한화 이글스</td>\n",
       "      <td>77829</td>\n",
       "      <td>68748</td>\n",
       "      <td>63704</td>\n",
       "      <td>62895</td>\n",
       "      <td>75847</td>\n",
       "      <td>67872</td>\n",
       "      <td>...</td>\n",
       "      <td>71184</td>\n",
       "      <td>74163</td>\n",
       "      <td>75808</td>\n",
       "      <td>76753</td>\n",
       "      <td>68730</td>\n",
       "      <td>71752</td>\n",
       "      <td>73136</td>\n",
       "      <td>74729</td>\n",
       "      <td>64717</td>\n",
       "      <td>62700</td>\n",
       "    </tr>\n",
       "    <tr>\n",
       "      <th>1</th>\n",
       "      <td>20180921</td>\n",
       "      <td>{'gameId': '20180921OBLG02018', 'superCategory...</td>\n",
       "      <td>LG 트윈스</td>\n",
       "      <td>두산 베어스</td>\n",
       "      <td>76455</td>\n",
       "      <td>65543</td>\n",
       "      <td>78135</td>\n",
       "      <td>79109</td>\n",
       "      <td>72133</td>\n",
       "      <td>68103</td>\n",
       "      <td>...</td>\n",
       "      <td>78217</td>\n",
       "      <td>79240</td>\n",
       "      <td>76267</td>\n",
       "      <td>79215</td>\n",
       "      <td>78224</td>\n",
       "      <td>76232</td>\n",
       "      <td>75334</td>\n",
       "      <td>77248</td>\n",
       "      <td>62234</td>\n",
       "      <td>79231</td>\n",
       "    </tr>\n",
       "    <tr>\n",
       "      <th>2</th>\n",
       "      <td>20180324</td>\n",
       "      <td>{'gameId': '20180324HHWO02018', 'superCategory...</td>\n",
       "      <td>넥센 히어로즈</td>\n",
       "      <td>한화 이글스</td>\n",
       "      <td>65742</td>\n",
       "      <td>68748</td>\n",
       "      <td>78168</td>\n",
       "      <td>67394</td>\n",
       "      <td>76746</td>\n",
       "      <td>75125</td>\n",
       "      <td>...</td>\n",
       "      <td>79365</td>\n",
       "      <td>74163</td>\n",
       "      <td>62797</td>\n",
       "      <td>76753</td>\n",
       "      <td>71752</td>\n",
       "      <td>62700</td>\n",
       "      <td>75808</td>\n",
       "      <td>68730</td>\n",
       "      <td>78288</td>\n",
       "      <td>78756</td>\n",
       "    </tr>\n",
       "    <tr>\n",
       "      <th>3</th>\n",
       "      <td>20180324</td>\n",
       "      <td>{'gameId': '20180324KTHT02018', 'superCategory...</td>\n",
       "      <td>KIA 타이거즈</td>\n",
       "      <td>kt 위즈</td>\n",
       "      <td>66643</td>\n",
       "      <td>65331</td>\n",
       "      <td>76849</td>\n",
       "      <td>70410</td>\n",
       "      <td>67650</td>\n",
       "      <td>72443</td>\n",
       "      <td>...</td>\n",
       "      <td>78603</td>\n",
       "      <td>64006</td>\n",
       "      <td>99810</td>\n",
       "      <td>67025</td>\n",
       "      <td>74215</td>\n",
       "      <td>76313</td>\n",
       "      <td>74339</td>\n",
       "      <td>73113</td>\n",
       "      <td>68050</td>\n",
       "      <td>78548</td>\n",
       "    </tr>\n",
       "    <tr>\n",
       "      <th>4</th>\n",
       "      <td>20180324</td>\n",
       "      <td>{'gameId': '20180324LGNC02018', 'superCategory...</td>\n",
       "      <td>NC 다이노스</td>\n",
       "      <td>LG 트윈스</td>\n",
       "      <td>68948</td>\n",
       "      <td>68135</td>\n",
       "      <td>62907</td>\n",
       "      <td>62931</td>\n",
       "      <td>62947</td>\n",
       "      <td>67935</td>\n",
       "      <td>...</td>\n",
       "      <td>67944</td>\n",
       "      <td>65115</td>\n",
       "      <td>64153</td>\n",
       "      <td>72133</td>\n",
       "      <td>68103</td>\n",
       "      <td>76290</td>\n",
       "      <td>79192</td>\n",
       "      <td>63123</td>\n",
       "      <td>61102</td>\n",
       "      <td>79109</td>\n",
       "    </tr>\n",
       "    <tr>\n",
       "      <th>...</th>\n",
       "      <td>...</td>\n",
       "      <td>...</td>\n",
       "      <td>...</td>\n",
       "      <td>...</td>\n",
       "      <td>...</td>\n",
       "      <td>...</td>\n",
       "      <td>...</td>\n",
       "      <td>...</td>\n",
       "      <td>...</td>\n",
       "      <td>...</td>\n",
       "      <td>...</td>\n",
       "      <td>...</td>\n",
       "      <td>...</td>\n",
       "      <td>...</td>\n",
       "      <td>...</td>\n",
       "      <td>...</td>\n",
       "      <td>...</td>\n",
       "      <td>...</td>\n",
       "      <td>...</td>\n",
       "      <td>...</td>\n",
       "      <td>...</td>\n",
       "    </tr>\n",
       "    <tr>\n",
       "      <th>3934</th>\n",
       "      <td>20230624</td>\n",
       "      <td>{'gameId': '20230624OBWO02023', 'superCategory...</td>\n",
       "      <td>키움 히어로즈</td>\n",
       "      <td>두산 베어스</td>\n",
       "      <td>53375</td>\n",
       "      <td>52257</td>\n",
       "      <td>63920</td>\n",
       "      <td>67304</td>\n",
       "      <td>67341</td>\n",
       "      <td>78135</td>\n",
       "      <td>...</td>\n",
       "      <td>64340</td>\n",
       "      <td>79231</td>\n",
       "      <td>79240</td>\n",
       "      <td>78224</td>\n",
       "      <td>76232</td>\n",
       "      <td>63123</td>\n",
       "      <td>64153</td>\n",
       "      <td>53211</td>\n",
       "      <td>74206</td>\n",
       "      <td>69238</td>\n",
       "    </tr>\n",
       "    <tr>\n",
       "      <th>3935</th>\n",
       "      <td>20230624</td>\n",
       "      <td>{'gameId': '20230624SSSK02023', 'superCategory...</td>\n",
       "      <td>SSG 랜더스</td>\n",
       "      <td>삼성 라이온즈</td>\n",
       "      <td>53825</td>\n",
       "      <td>68419</td>\n",
       "      <td>51817</td>\n",
       "      <td>50854</td>\n",
       "      <td>75847</td>\n",
       "      <td>53827</td>\n",
       "      <td>...</td>\n",
       "      <td>62864</td>\n",
       "      <td>51417</td>\n",
       "      <td>66838</td>\n",
       "      <td>51463</td>\n",
       "      <td>74540</td>\n",
       "      <td>64610</td>\n",
       "      <td>78122</td>\n",
       "      <td>50458</td>\n",
       "      <td>52405</td>\n",
       "      <td>66406</td>\n",
       "    </tr>\n",
       "    <tr>\n",
       "      <th>3936</th>\n",
       "      <td>20230625</td>\n",
       "      <td>{'gameId': '20230625OBWO02023', 'superCategory...</td>\n",
       "      <td>키움 히어로즈</td>\n",
       "      <td>두산 베어스</td>\n",
       "      <td>53322</td>\n",
       "      <td>69045</td>\n",
       "      <td>63920</td>\n",
       "      <td>67304</td>\n",
       "      <td>67341</td>\n",
       "      <td>78135</td>\n",
       "      <td>...</td>\n",
       "      <td>53344</td>\n",
       "      <td>79240</td>\n",
       "      <td>79231</td>\n",
       "      <td>64153</td>\n",
       "      <td>76232</td>\n",
       "      <td>78224</td>\n",
       "      <td>63123</td>\n",
       "      <td>74206</td>\n",
       "      <td>63202</td>\n",
       "      <td>69238</td>\n",
       "    </tr>\n",
       "    <tr>\n",
       "      <th>3937</th>\n",
       "      <td>20230625</td>\n",
       "      <td>{'gameId': '20230625LTLG02023', 'superCategory...</td>\n",
       "      <td>LG 트윈스</td>\n",
       "      <td>롯데 자이언츠</td>\n",
       "      <td>69134</td>\n",
       "      <td>50558</td>\n",
       "      <td>66108</td>\n",
       "      <td>68119</td>\n",
       "      <td>76290</td>\n",
       "      <td>53123</td>\n",
       "      <td>...</td>\n",
       "      <td>65207</td>\n",
       "      <td>50500</td>\n",
       "      <td>52591</td>\n",
       "      <td>69517</td>\n",
       "      <td>52547</td>\n",
       "      <td>79608</td>\n",
       "      <td>68525</td>\n",
       "      <td>62802</td>\n",
       "      <td>53554</td>\n",
       "      <td>51528</td>\n",
       "    </tr>\n",
       "    <tr>\n",
       "      <th>3938</th>\n",
       "      <td>20230625</td>\n",
       "      <td>{'gameId': '20230625SSSK02023', 'superCategory...</td>\n",
       "      <td>SSG 랜더스</td>\n",
       "      <td>삼성 라이온즈</td>\n",
       "      <td>68848</td>\n",
       "      <td>50404</td>\n",
       "      <td>51817</td>\n",
       "      <td>50854</td>\n",
       "      <td>75847</td>\n",
       "      <td>53827</td>\n",
       "      <td>...</td>\n",
       "      <td>62864</td>\n",
       "      <td>51417</td>\n",
       "      <td>50458</td>\n",
       "      <td>51463</td>\n",
       "      <td>74540</td>\n",
       "      <td>66838</td>\n",
       "      <td>64610</td>\n",
       "      <td>66406</td>\n",
       "      <td>53404</td>\n",
       "      <td>52405</td>\n",
       "    </tr>\n",
       "  </tbody>\n",
       "</table>\n",
       "<p>3939 rows × 24 columns</p>\n",
       "</div>"
      ],
      "text/plain": [
       "      game_dates                                         game_infos  teams_hm  \\\n",
       "0       20180525  {'gameId': '20180525HHSK02018', 'superCategory...   SK 와이번스   \n",
       "1       20180921  {'gameId': '20180921OBLG02018', 'superCategory...    LG 트윈스   \n",
       "2       20180324  {'gameId': '20180324HHWO02018', 'superCategory...   넥센 히어로즈   \n",
       "3       20180324  {'gameId': '20180324KTHT02018', 'superCategory...  KIA 타이거즈   \n",
       "4       20180324  {'gameId': '20180324LGNC02018', 'superCategory...   NC 다이노스   \n",
       "...          ...                                                ...       ...   \n",
       "3934    20230624  {'gameId': '20230624OBWO02023', 'superCategory...   키움 히어로즈   \n",
       "3935    20230624  {'gameId': '20230624SSSK02023', 'superCategory...   SSG 랜더스   \n",
       "3936    20230625  {'gameId': '20230625OBWO02023', 'superCategory...   키움 히어로즈   \n",
       "3937    20230625  {'gameId': '20230625LTLG02023', 'superCategory...    LG 트윈스   \n",
       "3938    20230625  {'gameId': '20230625SSSK02023', 'superCategory...   SSG 랜더스   \n",
       "\n",
       "     teams_aw  pitcher_hm  pitcher_aw  hitman_hm_1  hitman_hm_2  hitman_hm_3  \\\n",
       "0      한화 이글스       77829       68748        63704        62895        75847   \n",
       "1      두산 베어스       76455       65543        78135        79109        72133   \n",
       "2      한화 이글스       65742       68748        78168        67394        76746   \n",
       "3       kt 위즈       66643       65331        76849        70410        67650   \n",
       "4      LG 트윈스       68948       68135        62907        62931        62947   \n",
       "...       ...         ...         ...          ...          ...          ...   \n",
       "3934   두산 베어스       53375       52257        63920        67304        67341   \n",
       "3935  삼성 라이온즈       53825       68419        51817        50854        75847   \n",
       "3936   두산 베어스       53322       69045        63920        67304        67341   \n",
       "3937  롯데 자이언츠       69134       50558        66108        68119        76290   \n",
       "3938  삼성 라이온즈       68848       50404        51817        50854        75847   \n",
       "\n",
       "      hitman_hm_4  ...  hitman_hm_9  hitman_aw_1  hitman_aw_2  hitman_aw_3  \\\n",
       "0           67872  ...        71184        74163        75808        76753   \n",
       "1           68103  ...        78217        79240        76267        79215   \n",
       "2           75125  ...        79365        74163        62797        76753   \n",
       "3           72443  ...        78603        64006        99810        67025   \n",
       "4           67935  ...        67944        65115        64153        72133   \n",
       "...           ...  ...          ...          ...          ...          ...   \n",
       "3934        78135  ...        64340        79231        79240        78224   \n",
       "3935        53827  ...        62864        51417        66838        51463   \n",
       "3936        78135  ...        53344        79240        79231        64153   \n",
       "3937        53123  ...        65207        50500        52591        69517   \n",
       "3938        53827  ...        62864        51417        50458        51463   \n",
       "\n",
       "      hitman_aw_4  hitman_aw_5  hitman_aw_6  hitman_aw_7  hitman_aw_8  \\\n",
       "0           68730        71752        73136        74729        64717   \n",
       "1           78224        76232        75334        77248        62234   \n",
       "2           71752        62700        75808        68730        78288   \n",
       "3           74215        76313        74339        73113        68050   \n",
       "4           68103        76290        79192        63123        61102   \n",
       "...           ...          ...          ...          ...          ...   \n",
       "3934        76232        63123        64153        53211        74206   \n",
       "3935        74540        64610        78122        50458        52405   \n",
       "3936        76232        78224        63123        74206        63202   \n",
       "3937        52547        79608        68525        62802        53554   \n",
       "3938        74540        66838        64610        66406        53404   \n",
       "\n",
       "      hitman_aw_9  \n",
       "0           62700  \n",
       "1           79231  \n",
       "2           78756  \n",
       "3           78548  \n",
       "4           79109  \n",
       "...           ...  \n",
       "3934        69238  \n",
       "3935        66406  \n",
       "3936        69238  \n",
       "3937        51528  \n",
       "3938        52405  \n",
       "\n",
       "[3939 rows x 24 columns]"
      ]
     },
     "execution_count": 201,
     "metadata": {},
     "output_type": "execute_result"
    }
   ],
   "source": [
    "# lineup data load\n",
    "\n",
    "df_lineup = pd.read_json('BASE_lineup.json')\n",
    "df_lineup"
   ]
  },
  {
   "cell_type": "code",
   "execution_count": null,
   "id": "b22dc896-21bc-48b2-b0c5-1ae7b16ba77d",
   "metadata": {},
   "outputs": [],
   "source": [
    "df_pit.columns"
   ]
  }
 ],
 "metadata": {
  "kernelspec": {
   "display_name": "Python 3 (ipykernel)",
   "language": "python",
   "name": "python3"
  },
  "language_info": {
   "codemirror_mode": {
    "name": "ipython",
    "version": 3
   },
   "file_extension": ".py",
   "mimetype": "text/x-python",
   "name": "python",
   "nbconvert_exporter": "python",
   "pygments_lexer": "ipython3",
   "version": "3.10.7"
  }
 },
 "nbformat": 4,
 "nbformat_minor": 5
}
