{
 "cells": [
  {
   "cell_type": "markdown",
   "id": "58bd5b17-0b6c-4b55-896b-1d098c1b74cf",
   "metadata": {},
   "source": [
    "# 데이터 파악"
   ]
  },
  {
   "cell_type": "code",
   "execution_count": 2,
   "id": "d9986f7e-da6a-48a9-ad17-a86508493d2b",
   "metadata": {},
   "outputs": [],
   "source": [
    "import pandas as pd\n",
    "import numpy as np"
   ]
  },
  {
   "cell_type": "code",
   "execution_count": 3,
   "id": "147f77e5-019b-40d1-8c4a-226c798901a0",
   "metadata": {},
   "outputs": [],
   "source": [
    "import warnings\n",
    "warnings.filterwarnings('ignore')"
   ]
  },
  {
   "cell_type": "code",
   "execution_count": 4,
   "id": "60117569-e845-4d83-baf9-ba82b1ee8d0c",
   "metadata": {
    "collapsed": true,
    "jupyter": {
     "outputs_hidden": true
    },
    "tags": []
   },
   "outputs": [
    {
     "data": {
      "text/html": [
       "<div>\n",
       "<style scoped>\n",
       "    .dataframe tbody tr th:only-of-type {\n",
       "        vertical-align: middle;\n",
       "    }\n",
       "\n",
       "    .dataframe tbody tr th {\n",
       "        vertical-align: top;\n",
       "    }\n",
       "\n",
       "    .dataframe thead th {\n",
       "        text-align: right;\n",
       "    }\n",
       "</style>\n",
       "<table border=\"1\" class=\"dataframe\">\n",
       "  <thead>\n",
       "    <tr style=\"text-align: right;\">\n",
       "      <th></th>\n",
       "      <th>idx</th>\n",
       "      <th>code</th>\n",
       "      <th>year</th>\n",
       "      <th>date</th>\n",
       "      <th>result</th>\n",
       "      <th>h_order</th>\n",
       "      <th>position</th>\n",
       "      <th>startup</th>\n",
       "      <th>pa</th>\n",
       "      <th>run</th>\n",
       "      <th>...</th>\n",
       "      <th>sh</th>\n",
       "      <th>sf</th>\n",
       "      <th>avg</th>\n",
       "      <th>obp</th>\n",
       "      <th>slg</th>\n",
       "      <th>ops</th>\n",
       "      <th>pit</th>\n",
       "      <th>avli</th>\n",
       "      <th>re24</th>\n",
       "      <th>wpa</th>\n",
       "    </tr>\n",
       "  </thead>\n",
       "  <tbody>\n",
       "    <tr>\n",
       "      <th>0</th>\n",
       "      <td>0</td>\n",
       "      <td>78168</td>\n",
       "      <td>2018</td>\n",
       "      <td>03-24</td>\n",
       "      <td>W 6:3</td>\n",
       "      <td>1</td>\n",
       "      <td>2B</td>\n",
       "      <td>1</td>\n",
       "      <td>5</td>\n",
       "      <td>0</td>\n",
       "      <td>...</td>\n",
       "      <td>0</td>\n",
       "      <td>0</td>\n",
       "      <td>0.200</td>\n",
       "      <td>0.200</td>\n",
       "      <td>0.200</td>\n",
       "      <td>0.400</td>\n",
       "      <td>24</td>\n",
       "      <td>0.73</td>\n",
       "      <td>-0.78</td>\n",
       "      <td>-0.032</td>\n",
       "    </tr>\n",
       "    <tr>\n",
       "      <th>1</th>\n",
       "      <td>1</td>\n",
       "      <td>78168</td>\n",
       "      <td>2018</td>\n",
       "      <td>03-25</td>\n",
       "      <td>L 1:4</td>\n",
       "      <td>1</td>\n",
       "      <td>2B</td>\n",
       "      <td>1</td>\n",
       "      <td>4</td>\n",
       "      <td>0</td>\n",
       "      <td>...</td>\n",
       "      <td>0</td>\n",
       "      <td>0</td>\n",
       "      <td>0.111</td>\n",
       "      <td>0.111</td>\n",
       "      <td>0.111</td>\n",
       "      <td>0.222</td>\n",
       "      <td>13</td>\n",
       "      <td>1.00</td>\n",
       "      <td>-1.27</td>\n",
       "      <td>-0.127</td>\n",
       "    </tr>\n",
       "    <tr>\n",
       "      <th>2</th>\n",
       "      <td>2</td>\n",
       "      <td>78168</td>\n",
       "      <td>2018</td>\n",
       "      <td>03-27</td>\n",
       "      <td>W 5:4</td>\n",
       "      <td>3</td>\n",
       "      <td>2B</td>\n",
       "      <td>1</td>\n",
       "      <td>5</td>\n",
       "      <td>2</td>\n",
       "      <td>...</td>\n",
       "      <td>0</td>\n",
       "      <td>0</td>\n",
       "      <td>0.286</td>\n",
       "      <td>0.286</td>\n",
       "      <td>0.357</td>\n",
       "      <td>0.643</td>\n",
       "      <td>21</td>\n",
       "      <td>1.51</td>\n",
       "      <td>0.90</td>\n",
       "      <td>0.118</td>\n",
       "    </tr>\n",
       "    <tr>\n",
       "      <th>3</th>\n",
       "      <td>3</td>\n",
       "      <td>78168</td>\n",
       "      <td>2018</td>\n",
       "      <td>03-28</td>\n",
       "      <td>L 3:9</td>\n",
       "      <td>3</td>\n",
       "      <td>2B</td>\n",
       "      <td>1</td>\n",
       "      <td>3</td>\n",
       "      <td>1</td>\n",
       "      <td>...</td>\n",
       "      <td>0</td>\n",
       "      <td>0</td>\n",
       "      <td>0.235</td>\n",
       "      <td>0.278</td>\n",
       "      <td>0.294</td>\n",
       "      <td>0.572</td>\n",
       "      <td>13</td>\n",
       "      <td>1.11</td>\n",
       "      <td>-0.91</td>\n",
       "      <td>-0.073</td>\n",
       "    </tr>\n",
       "    <tr>\n",
       "      <th>4</th>\n",
       "      <td>4</td>\n",
       "      <td>78168</td>\n",
       "      <td>2018</td>\n",
       "      <td>03-29</td>\n",
       "      <td>W 9:4</td>\n",
       "      <td>3</td>\n",
       "      <td>2B</td>\n",
       "      <td>1</td>\n",
       "      <td>3</td>\n",
       "      <td>1</td>\n",
       "      <td>...</td>\n",
       "      <td>0</td>\n",
       "      <td>0</td>\n",
       "      <td>0.250</td>\n",
       "      <td>0.348</td>\n",
       "      <td>0.300</td>\n",
       "      <td>0.648</td>\n",
       "      <td>16</td>\n",
       "      <td>0.73</td>\n",
       "      <td>0.79</td>\n",
       "      <td>0.016</td>\n",
       "    </tr>\n",
       "    <tr>\n",
       "      <th>...</th>\n",
       "      <td>...</td>\n",
       "      <td>...</td>\n",
       "      <td>...</td>\n",
       "      <td>...</td>\n",
       "      <td>...</td>\n",
       "      <td>...</td>\n",
       "      <td>...</td>\n",
       "      <td>...</td>\n",
       "      <td>...</td>\n",
       "      <td>...</td>\n",
       "      <td>...</td>\n",
       "      <td>...</td>\n",
       "      <td>...</td>\n",
       "      <td>...</td>\n",
       "      <td>...</td>\n",
       "      <td>...</td>\n",
       "      <td>...</td>\n",
       "      <td>...</td>\n",
       "      <td>...</td>\n",
       "      <td>...</td>\n",
       "      <td>...</td>\n",
       "    </tr>\n",
       "    <tr>\n",
       "      <th>99181</th>\n",
       "      <td>99181</td>\n",
       "      <td>65132</td>\n",
       "      <td>2023</td>\n",
       "      <td>06-28</td>\n",
       "      <td>L 6:9</td>\n",
       "      <td>6</td>\n",
       "      <td>C</td>\n",
       "      <td>0</td>\n",
       "      <td>0</td>\n",
       "      <td>0</td>\n",
       "      <td>...</td>\n",
       "      <td>0</td>\n",
       "      <td>0</td>\n",
       "      <td>0.238</td>\n",
       "      <td>0.385</td>\n",
       "      <td>0.310</td>\n",
       "      <td>0.694</td>\n",
       "      <td>0</td>\n",
       "      <td>0.00</td>\n",
       "      <td>0.00</td>\n",
       "      <td>0.000</td>\n",
       "    </tr>\n",
       "    <tr>\n",
       "      <th>99182</th>\n",
       "      <td>99182</td>\n",
       "      <td>65132</td>\n",
       "      <td>2023</td>\n",
       "      <td>06-30</td>\n",
       "      <td>D :</td>\n",
       "      <td>8</td>\n",
       "      <td>PH</td>\n",
       "      <td>0</td>\n",
       "      <td>2</td>\n",
       "      <td>0</td>\n",
       "      <td>...</td>\n",
       "      <td>0</td>\n",
       "      <td>0</td>\n",
       "      <td>0.227</td>\n",
       "      <td>0.370</td>\n",
       "      <td>0.295</td>\n",
       "      <td>0.666</td>\n",
       "      <td>8</td>\n",
       "      <td>0.17</td>\n",
       "      <td>-0.72</td>\n",
       "      <td>-0.009</td>\n",
       "    </tr>\n",
       "    <tr>\n",
       "      <th>99183</th>\n",
       "      <td>99183</td>\n",
       "      <td>65132</td>\n",
       "      <td>2023</td>\n",
       "      <td>07-01</td>\n",
       "      <td>D :</td>\n",
       "      <td>4</td>\n",
       "      <td>C</td>\n",
       "      <td>0</td>\n",
       "      <td>1</td>\n",
       "      <td>0</td>\n",
       "      <td>...</td>\n",
       "      <td>0</td>\n",
       "      <td>0</td>\n",
       "      <td>0.244</td>\n",
       "      <td>0.382</td>\n",
       "      <td>0.311</td>\n",
       "      <td>0.693</td>\n",
       "      <td>4</td>\n",
       "      <td>0.01</td>\n",
       "      <td>0.22</td>\n",
       "      <td>0.000</td>\n",
       "    </tr>\n",
       "    <tr>\n",
       "      <th>99184</th>\n",
       "      <td>99184</td>\n",
       "      <td>65132</td>\n",
       "      <td>2023</td>\n",
       "      <td>07-02</td>\n",
       "      <td>D :</td>\n",
       "      <td>5</td>\n",
       "      <td>DH</td>\n",
       "      <td>1</td>\n",
       "      <td>3</td>\n",
       "      <td>0</td>\n",
       "      <td>...</td>\n",
       "      <td>0</td>\n",
       "      <td>0</td>\n",
       "      <td>0.229</td>\n",
       "      <td>0.362</td>\n",
       "      <td>0.292</td>\n",
       "      <td>0.654</td>\n",
       "      <td>12</td>\n",
       "      <td>1.59</td>\n",
       "      <td>-1.45</td>\n",
       "      <td>-0.119</td>\n",
       "    </tr>\n",
       "    <tr>\n",
       "      <th>99185</th>\n",
       "      <td>99185</td>\n",
       "      <td>50293</td>\n",
       "      <td>2023</td>\n",
       "      <td>07-02</td>\n",
       "      <td>W 4:2</td>\n",
       "      <td>8</td>\n",
       "      <td>RF</td>\n",
       "      <td>1</td>\n",
       "      <td>3</td>\n",
       "      <td>0</td>\n",
       "      <td>...</td>\n",
       "      <td>0</td>\n",
       "      <td>0</td>\n",
       "      <td>0.239</td>\n",
       "      <td>0.321</td>\n",
       "      <td>0.310</td>\n",
       "      <td>0.631</td>\n",
       "      <td>20</td>\n",
       "      <td>1.29</td>\n",
       "      <td>-1.25</td>\n",
       "      <td>-0.121</td>\n",
       "    </tr>\n",
       "  </tbody>\n",
       "</table>\n",
       "<p>99186 rows × 33 columns</p>\n",
       "</div>"
      ],
      "text/plain": [
       "         idx   code  year   date result  h_order position  startup  pa  run  \\\n",
       "0          0  78168  2018  03-24  W 6:3        1       2B        1   5    0   \n",
       "1          1  78168  2018  03-25  L 1:4        1       2B        1   4    0   \n",
       "2          2  78168  2018  03-27  W 5:4        3       2B        1   5    2   \n",
       "3          3  78168  2018  03-28  L 3:9        3       2B        1   3    1   \n",
       "4          4  78168  2018  03-29  W 9:4        3       2B        1   3    1   \n",
       "...      ...    ...   ...    ...    ...      ...      ...      ...  ..  ...   \n",
       "99181  99181  65132  2023  06-28  L 6:9        6        C        0   0    0   \n",
       "99182  99182  65132  2023  06-30    D :        8       PH        0   2    0   \n",
       "99183  99183  65132  2023  07-01    D :        4        C        0   1    0   \n",
       "99184  99184  65132  2023  07-02    D :        5       DH        1   3    0   \n",
       "99185  99185  50293  2023  07-02  W 4:2        8       RF        1   3    0   \n",
       "\n",
       "       ...  sh  sf    avg    obp    slg    ops  pit  avli  re24    wpa  \n",
       "0      ...   0   0  0.200  0.200  0.200  0.400   24  0.73 -0.78 -0.032  \n",
       "1      ...   0   0  0.111  0.111  0.111  0.222   13  1.00 -1.27 -0.127  \n",
       "2      ...   0   0  0.286  0.286  0.357  0.643   21  1.51  0.90  0.118  \n",
       "3      ...   0   0  0.235  0.278  0.294  0.572   13  1.11 -0.91 -0.073  \n",
       "4      ...   0   0  0.250  0.348  0.300  0.648   16  0.73  0.79  0.016  \n",
       "...    ...  ..  ..    ...    ...    ...    ...  ...   ...   ...    ...  \n",
       "99181  ...   0   0  0.238  0.385  0.310  0.694    0  0.00  0.00  0.000  \n",
       "99182  ...   0   0  0.227  0.370  0.295  0.666    8  0.17 -0.72 -0.009  \n",
       "99183  ...   0   0  0.244  0.382  0.311  0.693    4  0.01  0.22  0.000  \n",
       "99184  ...   0   0  0.229  0.362  0.292  0.654   12  1.59 -1.45 -0.119  \n",
       "99185  ...   0   0  0.239  0.321  0.310  0.631   20  1.29 -1.25 -0.121  \n",
       "\n",
       "[99186 rows x 33 columns]"
      ]
     },
     "execution_count": 4,
     "metadata": {},
     "output_type": "execute_result"
    }
   ],
   "source": [
    "df = pd.read_csv('DB_hit.csv', index_col=False)\n",
    "df"
   ]
  },
  {
   "cell_type": "code",
   "execution_count": 5,
   "id": "7e466d9f-8572-4291-9809-e71f4bcdbad4",
   "metadata": {},
   "outputs": [
    {
     "data": {
      "text/plain": [
       "Index(['idx', 'code', 'year', 'date', 'result', 'h_order', 'position',\n",
       "       'startup', 'pa', 'run', 'hit', 'second', 'third', 'homerun', 'luta',\n",
       "       'rbi', 'sb_s', 'sb_f', 'bb', 'hbp', 'ibb', 'k', 'dp', 'sh', 'sf', 'avg',\n",
       "       'obp', 'slg', 'ops', 'pit', 'avli', 're24', 'wpa'],\n",
       "      dtype='object')"
      ]
     },
     "execution_count": 5,
     "metadata": {},
     "output_type": "execute_result"
    }
   ],
   "source": [
    "df.columns"
   ]
  },
  {
   "cell_type": "code",
   "execution_count": 6,
   "id": "6dcff2e8-c912-4e99-a17a-d50bb88305ae",
   "metadata": {
    "collapsed": true,
    "jupyter": {
     "outputs_hidden": true
    },
    "tags": []
   },
   "outputs": [
    {
     "data": {
      "text/html": [
       "<div>\n",
       "<style scoped>\n",
       "    .dataframe tbody tr th:only-of-type {\n",
       "        vertical-align: middle;\n",
       "    }\n",
       "\n",
       "    .dataframe tbody tr th {\n",
       "        vertical-align: top;\n",
       "    }\n",
       "\n",
       "    .dataframe thead th {\n",
       "        text-align: right;\n",
       "    }\n",
       "</style>\n",
       "<table border=\"1\" class=\"dataframe\">\n",
       "  <thead>\n",
       "    <tr style=\"text-align: right;\">\n",
       "      <th></th>\n",
       "      <th>pa</th>\n",
       "      <th>run</th>\n",
       "      <th>hit</th>\n",
       "      <th>second</th>\n",
       "      <th>third</th>\n",
       "      <th>homerun</th>\n",
       "      <th>luta</th>\n",
       "      <th>rbi</th>\n",
       "      <th>sb_s</th>\n",
       "      <th>sb_f</th>\n",
       "      <th>...</th>\n",
       "      <th>hbp</th>\n",
       "      <th>ibb</th>\n",
       "      <th>k</th>\n",
       "      <th>dp</th>\n",
       "      <th>sh</th>\n",
       "      <th>sf</th>\n",
       "      <th>pit</th>\n",
       "      <th>avli</th>\n",
       "      <th>re24</th>\n",
       "      <th>wpa</th>\n",
       "    </tr>\n",
       "    <tr>\n",
       "      <th>code</th>\n",
       "      <th></th>\n",
       "      <th></th>\n",
       "      <th></th>\n",
       "      <th></th>\n",
       "      <th></th>\n",
       "      <th></th>\n",
       "      <th></th>\n",
       "      <th></th>\n",
       "      <th></th>\n",
       "      <th></th>\n",
       "      <th></th>\n",
       "      <th></th>\n",
       "      <th></th>\n",
       "      <th></th>\n",
       "      <th></th>\n",
       "      <th></th>\n",
       "      <th></th>\n",
       "      <th></th>\n",
       "      <th></th>\n",
       "      <th></th>\n",
       "      <th></th>\n",
       "    </tr>\n",
       "  </thead>\n",
       "  <tbody>\n",
       "    <tr>\n",
       "      <th>50007</th>\n",
       "      <td>5</td>\n",
       "      <td>1</td>\n",
       "      <td>1</td>\n",
       "      <td>0</td>\n",
       "      <td>0</td>\n",
       "      <td>0</td>\n",
       "      <td>1</td>\n",
       "      <td>0</td>\n",
       "      <td>0</td>\n",
       "      <td>0</td>\n",
       "      <td>...</td>\n",
       "      <td>0</td>\n",
       "      <td>0</td>\n",
       "      <td>4</td>\n",
       "      <td>0</td>\n",
       "      <td>0</td>\n",
       "      <td>0</td>\n",
       "      <td>24</td>\n",
       "      <td>0.41</td>\n",
       "      <td>-1.70</td>\n",
       "      <td>-0.041</td>\n",
       "    </tr>\n",
       "    <tr>\n",
       "      <th>50054</th>\n",
       "      <td>111</td>\n",
       "      <td>22</td>\n",
       "      <td>26</td>\n",
       "      <td>4</td>\n",
       "      <td>0</td>\n",
       "      <td>0</td>\n",
       "      <td>30</td>\n",
       "      <td>5</td>\n",
       "      <td>2</td>\n",
       "      <td>1</td>\n",
       "      <td>...</td>\n",
       "      <td>3</td>\n",
       "      <td>0</td>\n",
       "      <td>24</td>\n",
       "      <td>0</td>\n",
       "      <td>0</td>\n",
       "      <td>0</td>\n",
       "      <td>446</td>\n",
       "      <td>67.28</td>\n",
       "      <td>-7.20</td>\n",
       "      <td>-0.159</td>\n",
       "    </tr>\n",
       "    <tr>\n",
       "      <th>50066</th>\n",
       "      <td>94</td>\n",
       "      <td>10</td>\n",
       "      <td>21</td>\n",
       "      <td>7</td>\n",
       "      <td>0</td>\n",
       "      <td>2</td>\n",
       "      <td>34</td>\n",
       "      <td>9</td>\n",
       "      <td>0</td>\n",
       "      <td>1</td>\n",
       "      <td>...</td>\n",
       "      <td>0</td>\n",
       "      <td>0</td>\n",
       "      <td>24</td>\n",
       "      <td>4</td>\n",
       "      <td>0</td>\n",
       "      <td>0</td>\n",
       "      <td>396</td>\n",
       "      <td>38.60</td>\n",
       "      <td>-8.83</td>\n",
       "      <td>-1.007</td>\n",
       "    </tr>\n",
       "    <tr>\n",
       "      <th>50150</th>\n",
       "      <td>119</td>\n",
       "      <td>25</td>\n",
       "      <td>32</td>\n",
       "      <td>2</td>\n",
       "      <td>2</td>\n",
       "      <td>4</td>\n",
       "      <td>50</td>\n",
       "      <td>20</td>\n",
       "      <td>5</td>\n",
       "      <td>3</td>\n",
       "      <td>...</td>\n",
       "      <td>1</td>\n",
       "      <td>0</td>\n",
       "      <td>23</td>\n",
       "      <td>5</td>\n",
       "      <td>1</td>\n",
       "      <td>1</td>\n",
       "      <td>472</td>\n",
       "      <td>39.47</td>\n",
       "      <td>3.92</td>\n",
       "      <td>-0.109</td>\n",
       "    </tr>\n",
       "    <tr>\n",
       "      <th>50165</th>\n",
       "      <td>627</td>\n",
       "      <td>90</td>\n",
       "      <td>168</td>\n",
       "      <td>24</td>\n",
       "      <td>3</td>\n",
       "      <td>48</td>\n",
       "      <td>342</td>\n",
       "      <td>113</td>\n",
       "      <td>2</td>\n",
       "      <td>0</td>\n",
       "      <td>...</td>\n",
       "      <td>7</td>\n",
       "      <td>5</td>\n",
       "      <td>185</td>\n",
       "      <td>9</td>\n",
       "      <td>0</td>\n",
       "      <td>4</td>\n",
       "      <td>2867</td>\n",
       "      <td>167.76</td>\n",
       "      <td>19.61</td>\n",
       "      <td>2.339</td>\n",
       "    </tr>\n",
       "    <tr>\n",
       "      <th>...</th>\n",
       "      <td>...</td>\n",
       "      <td>...</td>\n",
       "      <td>...</td>\n",
       "      <td>...</td>\n",
       "      <td>...</td>\n",
       "      <td>...</td>\n",
       "      <td>...</td>\n",
       "      <td>...</td>\n",
       "      <td>...</td>\n",
       "      <td>...</td>\n",
       "      <td>...</td>\n",
       "      <td>...</td>\n",
       "      <td>...</td>\n",
       "      <td>...</td>\n",
       "      <td>...</td>\n",
       "      <td>...</td>\n",
       "      <td>...</td>\n",
       "      <td>...</td>\n",
       "      <td>...</td>\n",
       "      <td>...</td>\n",
       "      <td>...</td>\n",
       "    </tr>\n",
       "    <tr>\n",
       "      <th>79530</th>\n",
       "      <td>58</td>\n",
       "      <td>6</td>\n",
       "      <td>10</td>\n",
       "      <td>2</td>\n",
       "      <td>1</td>\n",
       "      <td>0</td>\n",
       "      <td>14</td>\n",
       "      <td>6</td>\n",
       "      <td>0</td>\n",
       "      <td>0</td>\n",
       "      <td>...</td>\n",
       "      <td>0</td>\n",
       "      <td>0</td>\n",
       "      <td>20</td>\n",
       "      <td>4</td>\n",
       "      <td>2</td>\n",
       "      <td>1</td>\n",
       "      <td>242</td>\n",
       "      <td>17.32</td>\n",
       "      <td>-8.29</td>\n",
       "      <td>-0.805</td>\n",
       "    </tr>\n",
       "    <tr>\n",
       "      <th>79608</th>\n",
       "      <td>2428</td>\n",
       "      <td>338</td>\n",
       "      <td>738</td>\n",
       "      <td>150</td>\n",
       "      <td>8</td>\n",
       "      <td>62</td>\n",
       "      <td>1090</td>\n",
       "      <td>395</td>\n",
       "      <td>36</td>\n",
       "      <td>14</td>\n",
       "      <td>...</td>\n",
       "      <td>31</td>\n",
       "      <td>12</td>\n",
       "      <td>279</td>\n",
       "      <td>64</td>\n",
       "      <td>22</td>\n",
       "      <td>33</td>\n",
       "      <td>10315</td>\n",
       "      <td>721.70</td>\n",
       "      <td>71.37</td>\n",
       "      <td>8.549</td>\n",
       "    </tr>\n",
       "    <tr>\n",
       "      <th>79705</th>\n",
       "      <td>217</td>\n",
       "      <td>23</td>\n",
       "      <td>51</td>\n",
       "      <td>10</td>\n",
       "      <td>0</td>\n",
       "      <td>7</td>\n",
       "      <td>82</td>\n",
       "      <td>37</td>\n",
       "      <td>3</td>\n",
       "      <td>1</td>\n",
       "      <td>...</td>\n",
       "      <td>4</td>\n",
       "      <td>0</td>\n",
       "      <td>57</td>\n",
       "      <td>7</td>\n",
       "      <td>6</td>\n",
       "      <td>2</td>\n",
       "      <td>992</td>\n",
       "      <td>106.59</td>\n",
       "      <td>-3.12</td>\n",
       "      <td>0.015</td>\n",
       "    </tr>\n",
       "    <tr>\n",
       "      <th>99606</th>\n",
       "      <td>184</td>\n",
       "      <td>22</td>\n",
       "      <td>54</td>\n",
       "      <td>11</td>\n",
       "      <td>0</td>\n",
       "      <td>4</td>\n",
       "      <td>77</td>\n",
       "      <td>28</td>\n",
       "      <td>0</td>\n",
       "      <td>1</td>\n",
       "      <td>...</td>\n",
       "      <td>5</td>\n",
       "      <td>1</td>\n",
       "      <td>49</td>\n",
       "      <td>5</td>\n",
       "      <td>0</td>\n",
       "      <td>1</td>\n",
       "      <td>845</td>\n",
       "      <td>105.65</td>\n",
       "      <td>-1.70</td>\n",
       "      <td>-0.331</td>\n",
       "    </tr>\n",
       "    <tr>\n",
       "      <th>99810</th>\n",
       "      <td>283</td>\n",
       "      <td>40</td>\n",
       "      <td>90</td>\n",
       "      <td>17</td>\n",
       "      <td>1</td>\n",
       "      <td>3</td>\n",
       "      <td>118</td>\n",
       "      <td>39</td>\n",
       "      <td>2</td>\n",
       "      <td>1</td>\n",
       "      <td>...</td>\n",
       "      <td>0</td>\n",
       "      <td>1</td>\n",
       "      <td>35</td>\n",
       "      <td>3</td>\n",
       "      <td>1</td>\n",
       "      <td>3</td>\n",
       "      <td>1139</td>\n",
       "      <td>134.14</td>\n",
       "      <td>10.24</td>\n",
       "      <td>1.457</td>\n",
       "    </tr>\n",
       "  </tbody>\n",
       "</table>\n",
       "<p>506 rows × 21 columns</p>\n",
       "</div>"
      ],
      "text/plain": [
       "         pa  run  hit  second  third  homerun  luta  rbi  sb_s  sb_f  ...  \\\n",
       "code                                                                  ...   \n",
       "50007     5    1    1       0      0        0     1    0     0     0  ...   \n",
       "50054   111   22   26       4      0        0    30    5     2     1  ...   \n",
       "50066    94   10   21       7      0        2    34    9     0     1  ...   \n",
       "50150   119   25   32       2      2        4    50   20     5     3  ...   \n",
       "50165   627   90  168      24      3       48   342  113     2     0  ...   \n",
       "...     ...  ...  ...     ...    ...      ...   ...  ...   ...   ...  ...   \n",
       "79530    58    6   10       2      1        0    14    6     0     0  ...   \n",
       "79608  2428  338  738     150      8       62  1090  395    36    14  ...   \n",
       "79705   217   23   51      10      0        7    82   37     3     1  ...   \n",
       "99606   184   22   54      11      0        4    77   28     0     1  ...   \n",
       "99810   283   40   90      17      1        3   118   39     2     1  ...   \n",
       "\n",
       "       hbp  ibb    k  dp  sh  sf    pit    avli   re24    wpa  \n",
       "code                                                           \n",
       "50007    0    0    4   0   0   0     24    0.41  -1.70 -0.041  \n",
       "50054    3    0   24   0   0   0    446   67.28  -7.20 -0.159  \n",
       "50066    0    0   24   4   0   0    396   38.60  -8.83 -1.007  \n",
       "50150    1    0   23   5   1   1    472   39.47   3.92 -0.109  \n",
       "50165    7    5  185   9   0   4   2867  167.76  19.61  2.339  \n",
       "...    ...  ...  ...  ..  ..  ..    ...     ...    ...    ...  \n",
       "79530    0    0   20   4   2   1    242   17.32  -8.29 -0.805  \n",
       "79608   31   12  279  64  22  33  10315  721.70  71.37  8.549  \n",
       "79705    4    0   57   7   6   2    992  106.59  -3.12  0.015  \n",
       "99606    5    1   49   5   0   1    845  105.65  -1.70 -0.331  \n",
       "99810    0    1   35   3   1   3   1139  134.14  10.24  1.457  \n",
       "\n",
       "[506 rows x 21 columns]"
      ]
     },
     "execution_count": 6,
     "metadata": {},
     "output_type": "execute_result"
    }
   ],
   "source": [
    "# 6년치(모든 데이터) 각 선수들의 평균 지표 합산\n",
    "\n",
    "hit_drop = df.drop(['idx', 'year', 'date', 'result', 'h_order', 'position',\n",
    "       'startup', 'avg', 'obp',\t'slg', 'ops'], axis=1)\n",
    "hit_sum = hit_drop.groupby('code').sum()\n",
    "hit_sum"
   ]
  },
  {
   "cell_type": "code",
   "execution_count": 7,
   "id": "c7490cd1-861f-41e8-8fe1-72a89f21b077",
   "metadata": {
    "collapsed": true,
    "jupyter": {
     "outputs_hidden": true
    },
    "tags": []
   },
   "outputs": [
    {
     "data": {
      "text/html": [
       "<div>\n",
       "<style scoped>\n",
       "    .dataframe tbody tr th:only-of-type {\n",
       "        vertical-align: middle;\n",
       "    }\n",
       "\n",
       "    .dataframe tbody tr th {\n",
       "        vertical-align: top;\n",
       "    }\n",
       "\n",
       "    .dataframe thead th {\n",
       "        text-align: right;\n",
       "    }\n",
       "</style>\n",
       "<table border=\"1\" class=\"dataframe\">\n",
       "  <thead>\n",
       "    <tr style=\"text-align: right;\">\n",
       "      <th></th>\n",
       "      <th>pa</th>\n",
       "      <th>run</th>\n",
       "      <th>hit</th>\n",
       "      <th>second</th>\n",
       "      <th>third</th>\n",
       "      <th>homerun</th>\n",
       "      <th>luta</th>\n",
       "      <th>rbi</th>\n",
       "      <th>sb_s</th>\n",
       "      <th>sb_f</th>\n",
       "      <th>...</th>\n",
       "      <th>sh</th>\n",
       "      <th>sf</th>\n",
       "      <th>pit</th>\n",
       "      <th>avli</th>\n",
       "      <th>re24</th>\n",
       "      <th>wpa</th>\n",
       "      <th>avg</th>\n",
       "      <th>obp</th>\n",
       "      <th>slg</th>\n",
       "      <th>ops</th>\n",
       "    </tr>\n",
       "    <tr>\n",
       "      <th>code</th>\n",
       "      <th></th>\n",
       "      <th></th>\n",
       "      <th></th>\n",
       "      <th></th>\n",
       "      <th></th>\n",
       "      <th></th>\n",
       "      <th></th>\n",
       "      <th></th>\n",
       "      <th></th>\n",
       "      <th></th>\n",
       "      <th></th>\n",
       "      <th></th>\n",
       "      <th></th>\n",
       "      <th></th>\n",
       "      <th></th>\n",
       "      <th></th>\n",
       "      <th></th>\n",
       "      <th></th>\n",
       "      <th></th>\n",
       "      <th></th>\n",
       "      <th></th>\n",
       "    </tr>\n",
       "  </thead>\n",
       "  <tbody>\n",
       "    <tr>\n",
       "      <th>50007</th>\n",
       "      <td>5</td>\n",
       "      <td>1</td>\n",
       "      <td>1</td>\n",
       "      <td>0</td>\n",
       "      <td>0</td>\n",
       "      <td>0</td>\n",
       "      <td>1</td>\n",
       "      <td>0</td>\n",
       "      <td>0</td>\n",
       "      <td>0</td>\n",
       "      <td>...</td>\n",
       "      <td>0</td>\n",
       "      <td>0</td>\n",
       "      <td>24</td>\n",
       "      <td>0.41</td>\n",
       "      <td>-1.70</td>\n",
       "      <td>-0.041</td>\n",
       "      <td>0.200</td>\n",
       "      <td>0.200</td>\n",
       "      <td>0.200</td>\n",
       "      <td>0.400</td>\n",
       "    </tr>\n",
       "    <tr>\n",
       "      <th>50054</th>\n",
       "      <td>111</td>\n",
       "      <td>22</td>\n",
       "      <td>26</td>\n",
       "      <td>4</td>\n",
       "      <td>0</td>\n",
       "      <td>0</td>\n",
       "      <td>30</td>\n",
       "      <td>5</td>\n",
       "      <td>2</td>\n",
       "      <td>1</td>\n",
       "      <td>...</td>\n",
       "      <td>0</td>\n",
       "      <td>0</td>\n",
       "      <td>446</td>\n",
       "      <td>67.28</td>\n",
       "      <td>-7.20</td>\n",
       "      <td>-0.159</td>\n",
       "      <td>0.234</td>\n",
       "      <td>0.315</td>\n",
       "      <td>0.270</td>\n",
       "      <td>0.585</td>\n",
       "    </tr>\n",
       "    <tr>\n",
       "      <th>50066</th>\n",
       "      <td>94</td>\n",
       "      <td>10</td>\n",
       "      <td>21</td>\n",
       "      <td>7</td>\n",
       "      <td>0</td>\n",
       "      <td>2</td>\n",
       "      <td>34</td>\n",
       "      <td>9</td>\n",
       "      <td>0</td>\n",
       "      <td>1</td>\n",
       "      <td>...</td>\n",
       "      <td>0</td>\n",
       "      <td>0</td>\n",
       "      <td>396</td>\n",
       "      <td>38.60</td>\n",
       "      <td>-8.83</td>\n",
       "      <td>-1.007</td>\n",
       "      <td>0.223</td>\n",
       "      <td>0.263</td>\n",
       "      <td>0.362</td>\n",
       "      <td>0.624</td>\n",
       "    </tr>\n",
       "    <tr>\n",
       "      <th>50150</th>\n",
       "      <td>119</td>\n",
       "      <td>25</td>\n",
       "      <td>32</td>\n",
       "      <td>2</td>\n",
       "      <td>2</td>\n",
       "      <td>4</td>\n",
       "      <td>50</td>\n",
       "      <td>20</td>\n",
       "      <td>5</td>\n",
       "      <td>3</td>\n",
       "      <td>...</td>\n",
       "      <td>1</td>\n",
       "      <td>1</td>\n",
       "      <td>472</td>\n",
       "      <td>39.47</td>\n",
       "      <td>3.92</td>\n",
       "      <td>-0.109</td>\n",
       "      <td>0.269</td>\n",
       "      <td>0.318</td>\n",
       "      <td>0.420</td>\n",
       "      <td>0.738</td>\n",
       "    </tr>\n",
       "    <tr>\n",
       "      <th>50165</th>\n",
       "      <td>627</td>\n",
       "      <td>90</td>\n",
       "      <td>168</td>\n",
       "      <td>24</td>\n",
       "      <td>3</td>\n",
       "      <td>48</td>\n",
       "      <td>342</td>\n",
       "      <td>113</td>\n",
       "      <td>2</td>\n",
       "      <td>0</td>\n",
       "      <td>...</td>\n",
       "      <td>0</td>\n",
       "      <td>4</td>\n",
       "      <td>2867</td>\n",
       "      <td>167.76</td>\n",
       "      <td>19.61</td>\n",
       "      <td>2.339</td>\n",
       "      <td>0.268</td>\n",
       "      <td>0.355</td>\n",
       "      <td>0.545</td>\n",
       "      <td>0.901</td>\n",
       "    </tr>\n",
       "    <tr>\n",
       "      <th>...</th>\n",
       "      <td>...</td>\n",
       "      <td>...</td>\n",
       "      <td>...</td>\n",
       "      <td>...</td>\n",
       "      <td>...</td>\n",
       "      <td>...</td>\n",
       "      <td>...</td>\n",
       "      <td>...</td>\n",
       "      <td>...</td>\n",
       "      <td>...</td>\n",
       "      <td>...</td>\n",
       "      <td>...</td>\n",
       "      <td>...</td>\n",
       "      <td>...</td>\n",
       "      <td>...</td>\n",
       "      <td>...</td>\n",
       "      <td>...</td>\n",
       "      <td>...</td>\n",
       "      <td>...</td>\n",
       "      <td>...</td>\n",
       "      <td>...</td>\n",
       "    </tr>\n",
       "    <tr>\n",
       "      <th>79530</th>\n",
       "      <td>58</td>\n",
       "      <td>6</td>\n",
       "      <td>10</td>\n",
       "      <td>2</td>\n",
       "      <td>1</td>\n",
       "      <td>0</td>\n",
       "      <td>14</td>\n",
       "      <td>6</td>\n",
       "      <td>0</td>\n",
       "      <td>0</td>\n",
       "      <td>...</td>\n",
       "      <td>2</td>\n",
       "      <td>1</td>\n",
       "      <td>242</td>\n",
       "      <td>17.32</td>\n",
       "      <td>-8.29</td>\n",
       "      <td>-0.805</td>\n",
       "      <td>0.172</td>\n",
       "      <td>0.210</td>\n",
       "      <td>0.241</td>\n",
       "      <td>0.451</td>\n",
       "    </tr>\n",
       "    <tr>\n",
       "      <th>79608</th>\n",
       "      <td>2428</td>\n",
       "      <td>338</td>\n",
       "      <td>738</td>\n",
       "      <td>150</td>\n",
       "      <td>8</td>\n",
       "      <td>62</td>\n",
       "      <td>1090</td>\n",
       "      <td>395</td>\n",
       "      <td>36</td>\n",
       "      <td>14</td>\n",
       "      <td>...</td>\n",
       "      <td>22</td>\n",
       "      <td>33</td>\n",
       "      <td>10315</td>\n",
       "      <td>721.70</td>\n",
       "      <td>71.37</td>\n",
       "      <td>8.549</td>\n",
       "      <td>0.304</td>\n",
       "      <td>0.372</td>\n",
       "      <td>0.449</td>\n",
       "      <td>0.821</td>\n",
       "    </tr>\n",
       "    <tr>\n",
       "      <th>79705</th>\n",
       "      <td>217</td>\n",
       "      <td>23</td>\n",
       "      <td>51</td>\n",
       "      <td>10</td>\n",
       "      <td>0</td>\n",
       "      <td>7</td>\n",
       "      <td>82</td>\n",
       "      <td>37</td>\n",
       "      <td>3</td>\n",
       "      <td>1</td>\n",
       "      <td>...</td>\n",
       "      <td>6</td>\n",
       "      <td>2</td>\n",
       "      <td>992</td>\n",
       "      <td>106.59</td>\n",
       "      <td>-3.12</td>\n",
       "      <td>0.015</td>\n",
       "      <td>0.235</td>\n",
       "      <td>0.323</td>\n",
       "      <td>0.378</td>\n",
       "      <td>0.700</td>\n",
       "    </tr>\n",
       "    <tr>\n",
       "      <th>99606</th>\n",
       "      <td>184</td>\n",
       "      <td>22</td>\n",
       "      <td>54</td>\n",
       "      <td>11</td>\n",
       "      <td>0</td>\n",
       "      <td>4</td>\n",
       "      <td>77</td>\n",
       "      <td>28</td>\n",
       "      <td>0</td>\n",
       "      <td>1</td>\n",
       "      <td>...</td>\n",
       "      <td>0</td>\n",
       "      <td>1</td>\n",
       "      <td>845</td>\n",
       "      <td>105.65</td>\n",
       "      <td>-1.70</td>\n",
       "      <td>-0.331</td>\n",
       "      <td>0.293</td>\n",
       "      <td>0.367</td>\n",
       "      <td>0.418</td>\n",
       "      <td>0.786</td>\n",
       "    </tr>\n",
       "    <tr>\n",
       "      <th>99810</th>\n",
       "      <td>283</td>\n",
       "      <td>40</td>\n",
       "      <td>90</td>\n",
       "      <td>17</td>\n",
       "      <td>1</td>\n",
       "      <td>3</td>\n",
       "      <td>118</td>\n",
       "      <td>39</td>\n",
       "      <td>2</td>\n",
       "      <td>1</td>\n",
       "      <td>...</td>\n",
       "      <td>1</td>\n",
       "      <td>3</td>\n",
       "      <td>1139</td>\n",
       "      <td>134.14</td>\n",
       "      <td>10.24</td>\n",
       "      <td>1.457</td>\n",
       "      <td>0.318</td>\n",
       "      <td>0.372</td>\n",
       "      <td>0.417</td>\n",
       "      <td>0.789</td>\n",
       "    </tr>\n",
       "  </tbody>\n",
       "</table>\n",
       "<p>506 rows × 25 columns</p>\n",
       "</div>"
      ],
      "text/plain": [
       "         pa  run  hit  second  third  homerun  luta  rbi  sb_s  sb_f  ...  sh  \\\n",
       "code                                                                  ...       \n",
       "50007     5    1    1       0      0        0     1    0     0     0  ...   0   \n",
       "50054   111   22   26       4      0        0    30    5     2     1  ...   0   \n",
       "50066    94   10   21       7      0        2    34    9     0     1  ...   0   \n",
       "50150   119   25   32       2      2        4    50   20     5     3  ...   1   \n",
       "50165   627   90  168      24      3       48   342  113     2     0  ...   0   \n",
       "...     ...  ...  ...     ...    ...      ...   ...  ...   ...   ...  ...  ..   \n",
       "79530    58    6   10       2      1        0    14    6     0     0  ...   2   \n",
       "79608  2428  338  738     150      8       62  1090  395    36    14  ...  22   \n",
       "79705   217   23   51      10      0        7    82   37     3     1  ...   6   \n",
       "99606   184   22   54      11      0        4    77   28     0     1  ...   0   \n",
       "99810   283   40   90      17      1        3   118   39     2     1  ...   1   \n",
       "\n",
       "       sf    pit    avli   re24    wpa    avg    obp    slg    ops  \n",
       "code                                                                \n",
       "50007   0     24    0.41  -1.70 -0.041  0.200  0.200  0.200  0.400  \n",
       "50054   0    446   67.28  -7.20 -0.159  0.234  0.315  0.270  0.585  \n",
       "50066   0    396   38.60  -8.83 -1.007  0.223  0.263  0.362  0.624  \n",
       "50150   1    472   39.47   3.92 -0.109  0.269  0.318  0.420  0.738  \n",
       "50165   4   2867  167.76  19.61  2.339  0.268  0.355  0.545  0.901  \n",
       "...    ..    ...     ...    ...    ...    ...    ...    ...    ...  \n",
       "79530   1    242   17.32  -8.29 -0.805  0.172  0.210  0.241  0.451  \n",
       "79608  33  10315  721.70  71.37  8.549  0.304  0.372  0.449  0.821  \n",
       "79705   2    992  106.59  -3.12  0.015  0.235  0.323  0.378  0.700  \n",
       "99606   1    845  105.65  -1.70 -0.331  0.293  0.367  0.418  0.786  \n",
       "99810   3   1139  134.14  10.24  1.457  0.318  0.372  0.417  0.789  \n",
       "\n",
       "[506 rows x 25 columns]"
      ]
     },
     "execution_count": 7,
     "metadata": {},
     "output_type": "execute_result"
    }
   ],
   "source": [
    "# 'avg', 'obp',\t'slg', 'ops'\n",
    "\n",
    "# 타율(avg)\n",
    "hit_avg = hit_sum['hit'] / hit_sum['pa']\n",
    "hit_sum['avg'] = round(hit_avg, 3)\n",
    "\n",
    "# 출루율(obp) / 출루율 = (안타 + 볼넷 + 사구) ÷ (타수 + 볼넷 + 사구 + 희생플라이)\n",
    "hit_obp = (hit_sum['hit']+ hit_sum['bb'] + hit_sum['hbp'] + hit_sum['ibb']) / (hit_sum['pa'] + hit_sum['bb'] + hit_sum['hbp'] + hit_sum['ibb'] + hit_sum['sf'])\n",
    "hit_sum['obp'] = round(hit_obp, 3)\n",
    "\n",
    "# 장타율(slg)\n",
    "hit_slg = (hit_sum['hit'] + hit_sum['second'] + 2*hit_sum['third'] + 3*hit_sum['homerun']) / hit_sum['pa']\n",
    "hit_sum['slg'] = round(hit_slg, 3)\n",
    "\n",
    "# 출루율 + 장타율 (ops)\n",
    "hit_ops = (hit_obp + hit_slg)\n",
    "hit_sum['ops'] = round(hit_ops, 3)\n",
    "\n",
    "hit_sum['avli'] = round(hit_sum['avli'], 3) \n",
    "hit_sum['re24'] = round(hit_sum['re24'], 3) \n",
    "hit_sum['wpa'] = round(hit_sum['wpa'], 3) \n",
    "hit_sum"
   ]
  },
  {
   "cell_type": "code",
   "execution_count": 8,
   "id": "85fa9381-1e39-44aa-a272-c13f708d6ca0",
   "metadata": {},
   "outputs": [
    {
     "data": {
      "text/plain": [
       "Index(['pa', 'run', 'hit', 'second', 'third', 'homerun', 'luta', 'rbi', 'sb_s',\n",
       "       'sb_f', 'bb', 'hbp', 'ibb', 'k', 'dp', 'sh', 'sf', 'pit', 'avli',\n",
       "       're24', 'wpa', 'avg', 'obp', 'slg', 'ops'],\n",
       "      dtype='object')"
      ]
     },
     "execution_count": 8,
     "metadata": {},
     "output_type": "execute_result"
    }
   ],
   "source": [
    "hit_sum.columns"
   ]
  },
  {
   "cell_type": "code",
   "execution_count": 9,
   "id": "df5e9826-9d7e-421f-abbf-e6dd37eddab4",
   "metadata": {
    "collapsed": true,
    "jupyter": {
     "outputs_hidden": true
    },
    "tags": []
   },
   "outputs": [
    {
     "data": {
      "text/html": [
       "<div>\n",
       "<style scoped>\n",
       "    .dataframe tbody tr th:only-of-type {\n",
       "        vertical-align: middle;\n",
       "    }\n",
       "\n",
       "    .dataframe tbody tr th {\n",
       "        vertical-align: top;\n",
       "    }\n",
       "\n",
       "    .dataframe thead th {\n",
       "        text-align: right;\n",
       "    }\n",
       "</style>\n",
       "<table border=\"1\" class=\"dataframe\">\n",
       "  <thead>\n",
       "    <tr style=\"text-align: right;\">\n",
       "      <th></th>\n",
       "      <th>re24</th>\n",
       "      <th>wpa</th>\n",
       "      <th>avg</th>\n",
       "      <th>obp</th>\n",
       "      <th>slg</th>\n",
       "      <th>ops</th>\n",
       "    </tr>\n",
       "    <tr>\n",
       "      <th>code</th>\n",
       "      <th></th>\n",
       "      <th></th>\n",
       "      <th></th>\n",
       "      <th></th>\n",
       "      <th></th>\n",
       "      <th></th>\n",
       "    </tr>\n",
       "  </thead>\n",
       "  <tbody>\n",
       "    <tr>\n",
       "      <th>50007</th>\n",
       "      <td>-1.70</td>\n",
       "      <td>-0.041</td>\n",
       "      <td>0.200</td>\n",
       "      <td>0.200</td>\n",
       "      <td>0.200</td>\n",
       "      <td>0.400</td>\n",
       "    </tr>\n",
       "    <tr>\n",
       "      <th>50054</th>\n",
       "      <td>-7.20</td>\n",
       "      <td>-0.159</td>\n",
       "      <td>0.234</td>\n",
       "      <td>0.315</td>\n",
       "      <td>0.270</td>\n",
       "      <td>0.585</td>\n",
       "    </tr>\n",
       "    <tr>\n",
       "      <th>50066</th>\n",
       "      <td>-8.83</td>\n",
       "      <td>-1.007</td>\n",
       "      <td>0.223</td>\n",
       "      <td>0.263</td>\n",
       "      <td>0.362</td>\n",
       "      <td>0.624</td>\n",
       "    </tr>\n",
       "    <tr>\n",
       "      <th>50150</th>\n",
       "      <td>3.92</td>\n",
       "      <td>-0.109</td>\n",
       "      <td>0.269</td>\n",
       "      <td>0.318</td>\n",
       "      <td>0.420</td>\n",
       "      <td>0.738</td>\n",
       "    </tr>\n",
       "    <tr>\n",
       "      <th>50165</th>\n",
       "      <td>19.61</td>\n",
       "      <td>2.339</td>\n",
       "      <td>0.268</td>\n",
       "      <td>0.355</td>\n",
       "      <td>0.545</td>\n",
       "      <td>0.901</td>\n",
       "    </tr>\n",
       "    <tr>\n",
       "      <th>...</th>\n",
       "      <td>...</td>\n",
       "      <td>...</td>\n",
       "      <td>...</td>\n",
       "      <td>...</td>\n",
       "      <td>...</td>\n",
       "      <td>...</td>\n",
       "    </tr>\n",
       "    <tr>\n",
       "      <th>79530</th>\n",
       "      <td>-8.29</td>\n",
       "      <td>-0.805</td>\n",
       "      <td>0.172</td>\n",
       "      <td>0.210</td>\n",
       "      <td>0.241</td>\n",
       "      <td>0.451</td>\n",
       "    </tr>\n",
       "    <tr>\n",
       "      <th>79608</th>\n",
       "      <td>71.37</td>\n",
       "      <td>8.549</td>\n",
       "      <td>0.304</td>\n",
       "      <td>0.372</td>\n",
       "      <td>0.449</td>\n",
       "      <td>0.821</td>\n",
       "    </tr>\n",
       "    <tr>\n",
       "      <th>79705</th>\n",
       "      <td>-3.12</td>\n",
       "      <td>0.015</td>\n",
       "      <td>0.235</td>\n",
       "      <td>0.323</td>\n",
       "      <td>0.378</td>\n",
       "      <td>0.700</td>\n",
       "    </tr>\n",
       "    <tr>\n",
       "      <th>99606</th>\n",
       "      <td>-1.70</td>\n",
       "      <td>-0.331</td>\n",
       "      <td>0.293</td>\n",
       "      <td>0.367</td>\n",
       "      <td>0.418</td>\n",
       "      <td>0.786</td>\n",
       "    </tr>\n",
       "    <tr>\n",
       "      <th>99810</th>\n",
       "      <td>10.24</td>\n",
       "      <td>1.457</td>\n",
       "      <td>0.318</td>\n",
       "      <td>0.372</td>\n",
       "      <td>0.417</td>\n",
       "      <td>0.789</td>\n",
       "    </tr>\n",
       "  </tbody>\n",
       "</table>\n",
       "<p>506 rows × 6 columns</p>\n",
       "</div>"
      ],
      "text/plain": [
       "        re24    wpa    avg    obp    slg    ops\n",
       "code                                           \n",
       "50007  -1.70 -0.041  0.200  0.200  0.200  0.400\n",
       "50054  -7.20 -0.159  0.234  0.315  0.270  0.585\n",
       "50066  -8.83 -1.007  0.223  0.263  0.362  0.624\n",
       "50150   3.92 -0.109  0.269  0.318  0.420  0.738\n",
       "50165  19.61  2.339  0.268  0.355  0.545  0.901\n",
       "...      ...    ...    ...    ...    ...    ...\n",
       "79530  -8.29 -0.805  0.172  0.210  0.241  0.451\n",
       "79608  71.37  8.549  0.304  0.372  0.449  0.821\n",
       "79705  -3.12  0.015  0.235  0.323  0.378  0.700\n",
       "99606  -1.70 -0.331  0.293  0.367  0.418  0.786\n",
       "99810  10.24  1.457  0.318  0.372  0.417  0.789\n",
       "\n",
       "[506 rows x 6 columns]"
      ]
     },
     "execution_count": 9,
     "metadata": {},
     "output_type": "execute_result"
    }
   ],
   "source": [
    "# 타자의 6개 지표 데이터프레임으로 추출\n",
    "\n",
    "df_hit = hit_sum.drop(['pa', 'run', 'hit', 'second', 'third', 'homerun', 'luta', 'rbi', 'sb_s',\n",
    "       'sb_f', 'bb', 'hbp', 'ibb', 'k', 'dp', 'sh', 'sf', 'pit', 'avli'], axis=1)\n",
    "df_hit"
   ]
  },
  {
   "cell_type": "code",
   "execution_count": 10,
   "id": "d66c1429-5ba2-4832-93ce-6d68d0650c8d",
   "metadata": {},
   "outputs": [
    {
     "data": {
      "text/html": [
       "<div>\n",
       "<style scoped>\n",
       "    .dataframe tbody tr th:only-of-type {\n",
       "        vertical-align: middle;\n",
       "    }\n",
       "\n",
       "    .dataframe tbody tr th {\n",
       "        vertical-align: top;\n",
       "    }\n",
       "\n",
       "    .dataframe thead th {\n",
       "        text-align: right;\n",
       "    }\n",
       "</style>\n",
       "<table border=\"1\" class=\"dataframe\">\n",
       "  <thead>\n",
       "    <tr style=\"text-align: right;\">\n",
       "      <th></th>\n",
       "      <th>re24</th>\n",
       "      <th>wpa</th>\n",
       "      <th>avg</th>\n",
       "      <th>obp</th>\n",
       "      <th>slg</th>\n",
       "      <th>ops</th>\n",
       "    </tr>\n",
       "    <tr>\n",
       "      <th>code</th>\n",
       "      <th></th>\n",
       "      <th></th>\n",
       "      <th></th>\n",
       "      <th></th>\n",
       "      <th></th>\n",
       "      <th></th>\n",
       "    </tr>\n",
       "  </thead>\n",
       "  <tbody>\n",
       "    <tr>\n",
       "      <th>79705</th>\n",
       "      <td>-3.12</td>\n",
       "      <td>0.015</td>\n",
       "      <td>0.235</td>\n",
       "      <td>0.323</td>\n",
       "      <td>0.378</td>\n",
       "      <td>0.7</td>\n",
       "    </tr>\n",
       "  </tbody>\n",
       "</table>\n",
       "</div>"
      ],
      "text/plain": [
       "       re24    wpa    avg    obp    slg  ops\n",
       "code                                        \n",
       "79705 -3.12  0.015  0.235  0.323  0.378  0.7"
      ]
     },
     "execution_count": 10,
     "metadata": {},
     "output_type": "execute_result"
    }
   ],
   "source": [
    "df_hit.query('code==79705')"
   ]
  },
  {
   "cell_type": "code",
   "execution_count": null,
   "id": "0c4f2be6-db07-456e-bccd-e8298dcd9ffd",
   "metadata": {},
   "outputs": [],
   "source": []
  },
  {
   "cell_type": "markdown",
   "id": "c2a02793-a996-485a-993a-7af29659c6ff",
   "metadata": {},
   "source": [
    "### 그래프를 그리기 위해 스케일링"
   ]
  },
  {
   "cell_type": "code",
   "execution_count": 11,
   "id": "b534168f-5d76-42db-92e4-6de5982f5022",
   "metadata": {
    "collapsed": true,
    "jupyter": {
     "outputs_hidden": true
    },
    "tags": []
   },
   "outputs": [
    {
     "data": {
      "text/html": [
       "<div>\n",
       "<style scoped>\n",
       "    .dataframe tbody tr th:only-of-type {\n",
       "        vertical-align: middle;\n",
       "    }\n",
       "\n",
       "    .dataframe tbody tr th {\n",
       "        vertical-align: top;\n",
       "    }\n",
       "\n",
       "    .dataframe thead th {\n",
       "        text-align: right;\n",
       "    }\n",
       "</style>\n",
       "<table border=\"1\" class=\"dataframe\">\n",
       "  <thead>\n",
       "    <tr style=\"text-align: right;\">\n",
       "      <th></th>\n",
       "      <th>code</th>\n",
       "      <th>re24</th>\n",
       "      <th>wpa</th>\n",
       "      <th>avg</th>\n",
       "      <th>obp</th>\n",
       "      <th>slg</th>\n",
       "      <th>ops</th>\n",
       "    </tr>\n",
       "  </thead>\n",
       "  <tbody>\n",
       "    <tr>\n",
       "      <th>0</th>\n",
       "      <td>50007</td>\n",
       "      <td>2.683527</td>\n",
       "      <td>2.052276</td>\n",
       "      <td>2.998501</td>\n",
       "      <td>2.998501</td>\n",
       "      <td>2.666667</td>\n",
       "      <td>2.822865</td>\n",
       "    </tr>\n",
       "    <tr>\n",
       "      <th>1</th>\n",
       "      <td>50054</td>\n",
       "      <td>2.500748</td>\n",
       "      <td>2.011425</td>\n",
       "      <td>3.508246</td>\n",
       "      <td>4.722639</td>\n",
       "      <td>3.600000</td>\n",
       "      <td>4.128440</td>\n",
       "    </tr>\n",
       "    <tr>\n",
       "      <th>2</th>\n",
       "      <td>50066</td>\n",
       "      <td>2.446579</td>\n",
       "      <td>1.717847</td>\n",
       "      <td>3.343328</td>\n",
       "      <td>3.943028</td>\n",
       "      <td>4.826667</td>\n",
       "      <td>4.403670</td>\n",
       "    </tr>\n",
       "    <tr>\n",
       "      <th>3</th>\n",
       "      <td>50150</td>\n",
       "      <td>2.870293</td>\n",
       "      <td>2.028735</td>\n",
       "      <td>4.032984</td>\n",
       "      <td>4.767616</td>\n",
       "      <td>5.600000</td>\n",
       "      <td>5.208186</td>\n",
       "    </tr>\n",
       "    <tr>\n",
       "      <th>4</th>\n",
       "      <td>50165</td>\n",
       "      <td>3.391712</td>\n",
       "      <td>2.876233</td>\n",
       "      <td>4.017991</td>\n",
       "      <td>5.322339</td>\n",
       "      <td>7.266667</td>\n",
       "      <td>6.358504</td>\n",
       "    </tr>\n",
       "    <tr>\n",
       "      <th>...</th>\n",
       "      <td>...</td>\n",
       "      <td>...</td>\n",
       "      <td>...</td>\n",
       "      <td>...</td>\n",
       "      <td>...</td>\n",
       "      <td>...</td>\n",
       "      <td>...</td>\n",
       "    </tr>\n",
       "    <tr>\n",
       "      <th>501</th>\n",
       "      <td>79530</td>\n",
       "      <td>2.464524</td>\n",
       "      <td>1.787779</td>\n",
       "      <td>2.578711</td>\n",
       "      <td>3.148426</td>\n",
       "      <td>3.213333</td>\n",
       "      <td>3.182781</td>\n",
       "    </tr>\n",
       "    <tr>\n",
       "      <th>502</th>\n",
       "      <td>79608</td>\n",
       "      <td>5.111827</td>\n",
       "      <td>5.026138</td>\n",
       "      <td>4.557721</td>\n",
       "      <td>5.577211</td>\n",
       "      <td>5.986667</td>\n",
       "      <td>5.793931</td>\n",
       "    </tr>\n",
       "    <tr>\n",
       "      <th>503</th>\n",
       "      <td>79705</td>\n",
       "      <td>2.636336</td>\n",
       "      <td>2.071663</td>\n",
       "      <td>3.523238</td>\n",
       "      <td>4.842579</td>\n",
       "      <td>5.040000</td>\n",
       "      <td>4.940014</td>\n",
       "    </tr>\n",
       "    <tr>\n",
       "      <th>504</th>\n",
       "      <td>99606</td>\n",
       "      <td>2.683527</td>\n",
       "      <td>1.951878</td>\n",
       "      <td>4.392804</td>\n",
       "      <td>5.502249</td>\n",
       "      <td>5.573333</td>\n",
       "      <td>5.546930</td>\n",
       "    </tr>\n",
       "    <tr>\n",
       "      <th>505</th>\n",
       "      <td>99810</td>\n",
       "      <td>3.080323</td>\n",
       "      <td>2.570885</td>\n",
       "      <td>4.767616</td>\n",
       "      <td>5.577211</td>\n",
       "      <td>5.560000</td>\n",
       "      <td>5.568102</td>\n",
       "    </tr>\n",
       "  </tbody>\n",
       "</table>\n",
       "<p>506 rows × 7 columns</p>\n",
       "</div>"
      ],
      "text/plain": [
       "      code      re24       wpa       avg       obp       slg       ops\n",
       "0    50007  2.683527  2.052276  2.998501  2.998501  2.666667  2.822865\n",
       "1    50054  2.500748  2.011425  3.508246  4.722639  3.600000  4.128440\n",
       "2    50066  2.446579  1.717847  3.343328  3.943028  4.826667  4.403670\n",
       "3    50150  2.870293  2.028735  4.032984  4.767616  5.600000  5.208186\n",
       "4    50165  3.391712  2.876233  4.017991  5.322339  7.266667  6.358504\n",
       "..     ...       ...       ...       ...       ...       ...       ...\n",
       "501  79530  2.464524  1.787779  2.578711  3.148426  3.213333  3.182781\n",
       "502  79608  5.111827  5.026138  4.557721  5.577211  5.986667  5.793931\n",
       "503  79705  2.636336  2.071663  3.523238  4.842579  5.040000  4.940014\n",
       "504  99606  2.683527  1.951878  4.392804  5.502249  5.573333  5.546930\n",
       "505  99810  3.080323  2.570885  4.767616  5.577211  5.560000  5.568102\n",
       "\n",
       "[506 rows x 7 columns]"
      ]
     },
     "execution_count": 11,
     "metadata": {},
     "output_type": "execute_result"
    }
   ],
   "source": [
    "from sklearn.preprocessing import MinMaxScaler\n",
    "\n",
    "scaler = MinMaxScaler()\n",
    "df_scaled = pd.DataFrame(scaler.fit_transform(df_hit), columns=df_hit.columns, index=df_hit.index)*10\n",
    "df_scaled.reset_index(inplace=True)\n",
    "df_scaled"
   ]
  },
  {
   "cell_type": "markdown",
   "id": "43ab733b-018d-43a5-b864-45b659468629",
   "metadata": {},
   "source": [
    "### 통산기록(6년치)육각형 그래프 그리기"
   ]
  },
  {
   "cell_type": "code",
   "execution_count": 37,
   "id": "ba9f1324-d000-4dcc-8bc5-127cfb42991f",
   "metadata": {
    "jupyter": {
     "source_hidden": true
    },
    "tags": []
   },
   "outputs": [],
   "source": [
    "import plotly.graph_objects as go\n",
    "import plotly.express as px\n",
    "import math\n",
    "\n",
    "def plot_hex_chart(df_scaled, code):\n",
    "    df_player = df_scaled[df_scaled['code'] == code]\n",
    "    fig = px.line_polar(df_player, r = list(df_scaled[df_scaled['code'] == code][df_scaled.columns.difference(['code'])].iloc[0]),\n",
    "                       theta = ['re24', 'wpa', 'avg', 'obp', 'slg', 'ops'], line_close=True, color_discrete_sequence=px.colors.sequential.Plasma_r,\n",
    "                       template='plotly_dark')\n",
    "    fig.update_traces(fill='toself')\n",
    "    fig.show()"
   ]
  },
  {
   "cell_type": "code",
   "execution_count": 42,
   "id": "a72bb4dd-7df7-4166-a4dd-6553fba5bb35",
   "metadata": {
    "tags": []
   },
   "outputs": [
    {
     "data": {
      "application/vnd.plotly.v1+json": {
       "config": {
        "plotlyServerURL": "https://plot.ly"
       },
       "data": [
        {
         "fill": "toself",
         "hovertemplate": "r=%{r}<br>theta=%{theta}<extra></extra>",
         "legendgroup": "",
         "line": {
          "color": "#f0f921",
          "dash": "solid"
         },
         "marker": {
          "symbol": "circle"
         },
         "mode": "lines",
         "name": "",
         "r": [
          4.557721139430285,
          5.577211394302848,
          5.793930839802398,
          5.111827456714632,
          5.986666666666666,
          5.026138133979573,
          4.557721139430285
         ],
         "showlegend": false,
         "subplot": "polar",
         "theta": [
          "re24",
          "wpa",
          "avg",
          "obp",
          "slg",
          "ops",
          "re24"
         ],
         "type": "scatterpolar"
        }
       ],
       "layout": {
        "autosize": true,
        "legend": {
         "tracegroupgap": 0
        },
        "margin": {
         "t": 60
        },
        "polar": {
         "angularaxis": {
          "direction": "clockwise",
          "rotation": 90,
          "type": "category"
         },
         "domain": {
          "x": [
           0,
           1
          ],
          "y": [
           0,
           1
          ]
         },
         "radialaxis": {
          "autorange": true,
          "range": [
           0,
           5.986666666666666
          ],
          "type": "linear"
         }
        },
        "template": {
         "data": {
          "bar": [
           {
            "error_x": {
             "color": "#f2f5fa"
            },
            "error_y": {
             "color": "#f2f5fa"
            },
            "marker": {
             "line": {
              "color": "rgb(17,17,17)",
              "width": 0.5
             },
             "pattern": {
              "fillmode": "overlay",
              "size": 10,
              "solidity": 0.2
             }
            },
            "type": "bar"
           }
          ],
          "barpolar": [
           {
            "marker": {
             "line": {
              "color": "rgb(17,17,17)",
              "width": 0.5
             },
             "pattern": {
              "fillmode": "overlay",
              "size": 10,
              "solidity": 0.2
             }
            },
            "type": "barpolar"
           }
          ],
          "carpet": [
           {
            "aaxis": {
             "endlinecolor": "#A2B1C6",
             "gridcolor": "#506784",
             "linecolor": "#506784",
             "minorgridcolor": "#506784",
             "startlinecolor": "#A2B1C6"
            },
            "baxis": {
             "endlinecolor": "#A2B1C6",
             "gridcolor": "#506784",
             "linecolor": "#506784",
             "minorgridcolor": "#506784",
             "startlinecolor": "#A2B1C6"
            },
            "type": "carpet"
           }
          ],
          "choropleth": [
           {
            "colorbar": {
             "outlinewidth": 0,
             "ticks": ""
            },
            "type": "choropleth"
           }
          ],
          "contour": [
           {
            "colorbar": {
             "outlinewidth": 0,
             "ticks": ""
            },
            "colorscale": [
             [
              0,
              "#0d0887"
             ],
             [
              0.1111111111111111,
              "#46039f"
             ],
             [
              0.2222222222222222,
              "#7201a8"
             ],
             [
              0.3333333333333333,
              "#9c179e"
             ],
             [
              0.4444444444444444,
              "#bd3786"
             ],
             [
              0.5555555555555556,
              "#d8576b"
             ],
             [
              0.6666666666666666,
              "#ed7953"
             ],
             [
              0.7777777777777778,
              "#fb9f3a"
             ],
             [
              0.8888888888888888,
              "#fdca26"
             ],
             [
              1,
              "#f0f921"
             ]
            ],
            "type": "contour"
           }
          ],
          "contourcarpet": [
           {
            "colorbar": {
             "outlinewidth": 0,
             "ticks": ""
            },
            "type": "contourcarpet"
           }
          ],
          "heatmap": [
           {
            "colorbar": {
             "outlinewidth": 0,
             "ticks": ""
            },
            "colorscale": [
             [
              0,
              "#0d0887"
             ],
             [
              0.1111111111111111,
              "#46039f"
             ],
             [
              0.2222222222222222,
              "#7201a8"
             ],
             [
              0.3333333333333333,
              "#9c179e"
             ],
             [
              0.4444444444444444,
              "#bd3786"
             ],
             [
              0.5555555555555556,
              "#d8576b"
             ],
             [
              0.6666666666666666,
              "#ed7953"
             ],
             [
              0.7777777777777778,
              "#fb9f3a"
             ],
             [
              0.8888888888888888,
              "#fdca26"
             ],
             [
              1,
              "#f0f921"
             ]
            ],
            "type": "heatmap"
           }
          ],
          "heatmapgl": [
           {
            "colorbar": {
             "outlinewidth": 0,
             "ticks": ""
            },
            "colorscale": [
             [
              0,
              "#0d0887"
             ],
             [
              0.1111111111111111,
              "#46039f"
             ],
             [
              0.2222222222222222,
              "#7201a8"
             ],
             [
              0.3333333333333333,
              "#9c179e"
             ],
             [
              0.4444444444444444,
              "#bd3786"
             ],
             [
              0.5555555555555556,
              "#d8576b"
             ],
             [
              0.6666666666666666,
              "#ed7953"
             ],
             [
              0.7777777777777778,
              "#fb9f3a"
             ],
             [
              0.8888888888888888,
              "#fdca26"
             ],
             [
              1,
              "#f0f921"
             ]
            ],
            "type": "heatmapgl"
           }
          ],
          "histogram": [
           {
            "marker": {
             "pattern": {
              "fillmode": "overlay",
              "size": 10,
              "solidity": 0.2
             }
            },
            "type": "histogram"
           }
          ],
          "histogram2d": [
           {
            "colorbar": {
             "outlinewidth": 0,
             "ticks": ""
            },
            "colorscale": [
             [
              0,
              "#0d0887"
             ],
             [
              0.1111111111111111,
              "#46039f"
             ],
             [
              0.2222222222222222,
              "#7201a8"
             ],
             [
              0.3333333333333333,
              "#9c179e"
             ],
             [
              0.4444444444444444,
              "#bd3786"
             ],
             [
              0.5555555555555556,
              "#d8576b"
             ],
             [
              0.6666666666666666,
              "#ed7953"
             ],
             [
              0.7777777777777778,
              "#fb9f3a"
             ],
             [
              0.8888888888888888,
              "#fdca26"
             ],
             [
              1,
              "#f0f921"
             ]
            ],
            "type": "histogram2d"
           }
          ],
          "histogram2dcontour": [
           {
            "colorbar": {
             "outlinewidth": 0,
             "ticks": ""
            },
            "colorscale": [
             [
              0,
              "#0d0887"
             ],
             [
              0.1111111111111111,
              "#46039f"
             ],
             [
              0.2222222222222222,
              "#7201a8"
             ],
             [
              0.3333333333333333,
              "#9c179e"
             ],
             [
              0.4444444444444444,
              "#bd3786"
             ],
             [
              0.5555555555555556,
              "#d8576b"
             ],
             [
              0.6666666666666666,
              "#ed7953"
             ],
             [
              0.7777777777777778,
              "#fb9f3a"
             ],
             [
              0.8888888888888888,
              "#fdca26"
             ],
             [
              1,
              "#f0f921"
             ]
            ],
            "type": "histogram2dcontour"
           }
          ],
          "mesh3d": [
           {
            "colorbar": {
             "outlinewidth": 0,
             "ticks": ""
            },
            "type": "mesh3d"
           }
          ],
          "parcoords": [
           {
            "line": {
             "colorbar": {
              "outlinewidth": 0,
              "ticks": ""
             }
            },
            "type": "parcoords"
           }
          ],
          "pie": [
           {
            "automargin": true,
            "type": "pie"
           }
          ],
          "scatter": [
           {
            "marker": {
             "line": {
              "color": "#283442"
             }
            },
            "type": "scatter"
           }
          ],
          "scatter3d": [
           {
            "line": {
             "colorbar": {
              "outlinewidth": 0,
              "ticks": ""
             }
            },
            "marker": {
             "colorbar": {
              "outlinewidth": 0,
              "ticks": ""
             }
            },
            "type": "scatter3d"
           }
          ],
          "scattercarpet": [
           {
            "marker": {
             "colorbar": {
              "outlinewidth": 0,
              "ticks": ""
             }
            },
            "type": "scattercarpet"
           }
          ],
          "scattergeo": [
           {
            "marker": {
             "colorbar": {
              "outlinewidth": 0,
              "ticks": ""
             }
            },
            "type": "scattergeo"
           }
          ],
          "scattergl": [
           {
            "marker": {
             "line": {
              "color": "#283442"
             }
            },
            "type": "scattergl"
           }
          ],
          "scattermapbox": [
           {
            "marker": {
             "colorbar": {
              "outlinewidth": 0,
              "ticks": ""
             }
            },
            "type": "scattermapbox"
           }
          ],
          "scatterpolar": [
           {
            "marker": {
             "colorbar": {
              "outlinewidth": 0,
              "ticks": ""
             }
            },
            "type": "scatterpolar"
           }
          ],
          "scatterpolargl": [
           {
            "marker": {
             "colorbar": {
              "outlinewidth": 0,
              "ticks": ""
             }
            },
            "type": "scatterpolargl"
           }
          ],
          "scatterternary": [
           {
            "marker": {
             "colorbar": {
              "outlinewidth": 0,
              "ticks": ""
             }
            },
            "type": "scatterternary"
           }
          ],
          "surface": [
           {
            "colorbar": {
             "outlinewidth": 0,
             "ticks": ""
            },
            "colorscale": [
             [
              0,
              "#0d0887"
             ],
             [
              0.1111111111111111,
              "#46039f"
             ],
             [
              0.2222222222222222,
              "#7201a8"
             ],
             [
              0.3333333333333333,
              "#9c179e"
             ],
             [
              0.4444444444444444,
              "#bd3786"
             ],
             [
              0.5555555555555556,
              "#d8576b"
             ],
             [
              0.6666666666666666,
              "#ed7953"
             ],
             [
              0.7777777777777778,
              "#fb9f3a"
             ],
             [
              0.8888888888888888,
              "#fdca26"
             ],
             [
              1,
              "#f0f921"
             ]
            ],
            "type": "surface"
           }
          ],
          "table": [
           {
            "cells": {
             "fill": {
              "color": "#506784"
             },
             "line": {
              "color": "rgb(17,17,17)"
             }
            },
            "header": {
             "fill": {
              "color": "#2a3f5f"
             },
             "line": {
              "color": "rgb(17,17,17)"
             }
            },
            "type": "table"
           }
          ]
         },
         "layout": {
          "annotationdefaults": {
           "arrowcolor": "#f2f5fa",
           "arrowhead": 0,
           "arrowwidth": 1
          },
          "autotypenumbers": "strict",
          "coloraxis": {
           "colorbar": {
            "outlinewidth": 0,
            "ticks": ""
           }
          },
          "colorscale": {
           "diverging": [
            [
             0,
             "#8e0152"
            ],
            [
             0.1,
             "#c51b7d"
            ],
            [
             0.2,
             "#de77ae"
            ],
            [
             0.3,
             "#f1b6da"
            ],
            [
             0.4,
             "#fde0ef"
            ],
            [
             0.5,
             "#f7f7f7"
            ],
            [
             0.6,
             "#e6f5d0"
            ],
            [
             0.7,
             "#b8e186"
            ],
            [
             0.8,
             "#7fbc41"
            ],
            [
             0.9,
             "#4d9221"
            ],
            [
             1,
             "#276419"
            ]
           ],
           "sequential": [
            [
             0,
             "#0d0887"
            ],
            [
             0.1111111111111111,
             "#46039f"
            ],
            [
             0.2222222222222222,
             "#7201a8"
            ],
            [
             0.3333333333333333,
             "#9c179e"
            ],
            [
             0.4444444444444444,
             "#bd3786"
            ],
            [
             0.5555555555555556,
             "#d8576b"
            ],
            [
             0.6666666666666666,
             "#ed7953"
            ],
            [
             0.7777777777777778,
             "#fb9f3a"
            ],
            [
             0.8888888888888888,
             "#fdca26"
            ],
            [
             1,
             "#f0f921"
            ]
           ],
           "sequentialminus": [
            [
             0,
             "#0d0887"
            ],
            [
             0.1111111111111111,
             "#46039f"
            ],
            [
             0.2222222222222222,
             "#7201a8"
            ],
            [
             0.3333333333333333,
             "#9c179e"
            ],
            [
             0.4444444444444444,
             "#bd3786"
            ],
            [
             0.5555555555555556,
             "#d8576b"
            ],
            [
             0.6666666666666666,
             "#ed7953"
            ],
            [
             0.7777777777777778,
             "#fb9f3a"
            ],
            [
             0.8888888888888888,
             "#fdca26"
            ],
            [
             1,
             "#f0f921"
            ]
           ]
          },
          "colorway": [
           "#636efa",
           "#EF553B",
           "#00cc96",
           "#ab63fa",
           "#FFA15A",
           "#19d3f3",
           "#FF6692",
           "#B6E880",
           "#FF97FF",
           "#FECB52"
          ],
          "font": {
           "color": "#f2f5fa"
          },
          "geo": {
           "bgcolor": "rgb(17,17,17)",
           "lakecolor": "rgb(17,17,17)",
           "landcolor": "rgb(17,17,17)",
           "showlakes": true,
           "showland": true,
           "subunitcolor": "#506784"
          },
          "hoverlabel": {
           "align": "left"
          },
          "hovermode": "closest",
          "mapbox": {
           "style": "dark"
          },
          "paper_bgcolor": "rgb(17,17,17)",
          "plot_bgcolor": "rgb(17,17,17)",
          "polar": {
           "angularaxis": {
            "gridcolor": "#506784",
            "linecolor": "#506784",
            "ticks": ""
           },
           "bgcolor": "rgb(17,17,17)",
           "radialaxis": {
            "gridcolor": "#506784",
            "linecolor": "#506784",
            "ticks": ""
           }
          },
          "scene": {
           "xaxis": {
            "backgroundcolor": "rgb(17,17,17)",
            "gridcolor": "#506784",
            "gridwidth": 2,
            "linecolor": "#506784",
            "showbackground": true,
            "ticks": "",
            "zerolinecolor": "#C8D4E3"
           },
           "yaxis": {
            "backgroundcolor": "rgb(17,17,17)",
            "gridcolor": "#506784",
            "gridwidth": 2,
            "linecolor": "#506784",
            "showbackground": true,
            "ticks": "",
            "zerolinecolor": "#C8D4E3"
           },
           "zaxis": {
            "backgroundcolor": "rgb(17,17,17)",
            "gridcolor": "#506784",
            "gridwidth": 2,
            "linecolor": "#506784",
            "showbackground": true,
            "ticks": "",
            "zerolinecolor": "#C8D4E3"
           }
          },
          "shapedefaults": {
           "line": {
            "color": "#f2f5fa"
           }
          },
          "sliderdefaults": {
           "bgcolor": "#C8D4E3",
           "bordercolor": "rgb(17,17,17)",
           "borderwidth": 1,
           "tickwidth": 0
          },
          "ternary": {
           "aaxis": {
            "gridcolor": "#506784",
            "linecolor": "#506784",
            "ticks": ""
           },
           "baxis": {
            "gridcolor": "#506784",
            "linecolor": "#506784",
            "ticks": ""
           },
           "bgcolor": "rgb(17,17,17)",
           "caxis": {
            "gridcolor": "#506784",
            "linecolor": "#506784",
            "ticks": ""
           }
          },
          "title": {
           "x": 0.05
          },
          "updatemenudefaults": {
           "bgcolor": "#506784",
           "borderwidth": 0
          },
          "xaxis": {
           "automargin": true,
           "gridcolor": "#283442",
           "linecolor": "#506784",
           "ticks": "",
           "title": {
            "standoff": 15
           },
           "zerolinecolor": "#283442",
           "zerolinewidth": 2
          },
          "yaxis": {
           "automargin": true,
           "gridcolor": "#283442",
           "linecolor": "#506784",
           "ticks": "",
           "title": {
            "standoff": 15
           },
           "zerolinecolor": "#283442",
           "zerolinewidth": 2
          }
         }
        }
       }
      },
      "image/png": "[encoded data removed]",
      "text/html": [
       "<div>                            <div id=\"90ea37d9-878e-4c3e-8d5f-c3fc50297815\" class=\"plotly-graph-div\" style=\"height:525px; width:100%;\"></div>            <script type=\"text/javascript\">                require([\"plotly\"], function(Plotly) {                    window.PLOTLYENV=window.PLOTLYENV || {};                                    if (document.getElementById(\"90ea37d9-878e-4c3e-8d5f-c3fc50297815\")) {                    Plotly.newPlot(                        \"90ea37d9-878e-4c3e-8d5f-c3fc50297815\",                        [{\"hovertemplate\":\"r=%{r}<br>theta=%{theta}<extra></extra>\",\"legendgroup\":\"\",\"line\":{\"color\":\"#f0f921\",\"dash\":\"solid\"},\"marker\":{\"symbol\":\"circle\"},\"mode\":\"lines\",\"name\":\"\",\"r\":[4.557721139430285,5.577211394302848,5.793930839802398,5.111827456714632,5.986666666666666,5.026138133979573,4.557721139430285],\"showlegend\":false,\"subplot\":\"polar\",\"theta\":[\"re24\",\"wpa\",\"avg\",\"obp\",\"slg\",\"ops\",\"re24\"],\"type\":\"scatterpolar\",\"fill\":\"toself\"}],                        {\"template\":{\"data\":{\"barpolar\":[{\"marker\":{\"line\":{\"color\":\"rgb(17,17,17)\",\"width\":0.5},\"pattern\":{\"fillmode\":\"overlay\",\"size\":10,\"solidity\":0.2}},\"type\":\"barpolar\"}],\"bar\":[{\"error_x\":{\"color\":\"#f2f5fa\"},\"error_y\":{\"color\":\"#f2f5fa\"},\"marker\":{\"line\":{\"color\":\"rgb(17,17,17)\",\"width\":0.5},\"pattern\":{\"fillmode\":\"overlay\",\"size\":10,\"solidity\":0.2}},\"type\":\"bar\"}],\"carpet\":[{\"aaxis\":{\"endlinecolor\":\"#A2B1C6\",\"gridcolor\":\"#506784\",\"linecolor\":\"#506784\",\"minorgridcolor\":\"#506784\",\"startlinecolor\":\"#A2B1C6\"},\"baxis\":{\"endlinecolor\":\"#A2B1C6\",\"gridcolor\":\"#506784\",\"linecolor\":\"#506784\",\"minorgridcolor\":\"#506784\",\"startlinecolor\":\"#A2B1C6\"},\"type\":\"carpet\"}],\"choropleth\":[{\"colorbar\":{\"outlinewidth\":0,\"ticks\":\"\"},\"type\":\"choropleth\"}],\"contourcarpet\":[{\"colorbar\":{\"outlinewidth\":0,\"ticks\":\"\"},\"type\":\"contourcarpet\"}],\"contour\":[{\"colorbar\":{\"outlinewidth\":0,\"ticks\":\"\"},\"colorscale\":[[0.0,\"#0d0887\"],[0.1111111111111111,\"#46039f\"],[0.2222222222222222,\"#7201a8\"],[0.3333333333333333,\"#9c179e\"],[0.4444444444444444,\"#bd3786\"],[0.5555555555555556,\"#d8576b\"],[0.6666666666666666,\"#ed7953\"],[0.7777777777777778,\"#fb9f3a\"],[0.8888888888888888,\"#fdca26\"],[1.0,\"#f0f921\"]],\"type\":\"contour\"}],\"heatmapgl\":[{\"colorbar\":{\"outlinewidth\":0,\"ticks\":\"\"},\"colorscale\":[[0.0,\"#0d0887\"],[0.1111111111111111,\"#46039f\"],[0.2222222222222222,\"#7201a8\"],[0.3333333333333333,\"#9c179e\"],[0.4444444444444444,\"#bd3786\"],[0.5555555555555556,\"#d8576b\"],[0.6666666666666666,\"#ed7953\"],[0.7777777777777778,\"#fb9f3a\"],[0.8888888888888888,\"#fdca26\"],[1.0,\"#f0f921\"]],\"type\":\"heatmapgl\"}],\"heatmap\":[{\"colorbar\":{\"outlinewidth\":0,\"ticks\":\"\"},\"colorscale\":[[0.0,\"#0d0887\"],[0.1111111111111111,\"#46039f\"],[0.2222222222222222,\"#7201a8\"],[0.3333333333333333,\"#9c179e\"],[0.4444444444444444,\"#bd3786\"],[0.5555555555555556,\"#d8576b\"],[0.6666666666666666,\"#ed7953\"],[0.7777777777777778,\"#fb9f3a\"],[0.8888888888888888,\"#fdca26\"],[1.0,\"#f0f921\"]],\"type\":\"heatmap\"}],\"histogram2dcontour\":[{\"colorbar\":{\"outlinewidth\":0,\"ticks\":\"\"},\"colorscale\":[[0.0,\"#0d0887\"],[0.1111111111111111,\"#46039f\"],[0.2222222222222222,\"#7201a8\"],[0.3333333333333333,\"#9c179e\"],[0.4444444444444444,\"#bd3786\"],[0.5555555555555556,\"#d8576b\"],[0.6666666666666666,\"#ed7953\"],[0.7777777777777778,\"#fb9f3a\"],[0.8888888888888888,\"#fdca26\"],[1.0,\"#f0f921\"]],\"type\":\"histogram2dcontour\"}],\"histogram2d\":[{\"colorbar\":{\"outlinewidth\":0,\"ticks\":\"\"},\"colorscale\":[[0.0,\"#0d0887\"],[0.1111111111111111,\"#46039f\"],[0.2222222222222222,\"#7201a8\"],[0.3333333333333333,\"#9c179e\"],[0.4444444444444444,\"#bd3786\"],[0.5555555555555556,\"#d8576b\"],[0.6666666666666666,\"#ed7953\"],[0.7777777777777778,\"#fb9f3a\"],[0.8888888888888888,\"#fdca26\"],[1.0,\"#f0f921\"]],\"type\":\"histogram2d\"}],\"histogram\":[{\"marker\":{\"pattern\":{\"fillmode\":\"overlay\",\"size\":10,\"solidity\":0.2}},\"type\":\"histogram\"}],\"mesh3d\":[{\"colorbar\":{\"outlinewidth\":0,\"ticks\":\"\"},\"type\":\"mesh3d\"}],\"parcoords\":[{\"line\":{\"colorbar\":{\"outlinewidth\":0,\"ticks\":\"\"}},\"type\":\"parcoords\"}],\"pie\":[{\"automargin\":true,\"type\":\"pie\"}],\"scatter3d\":[{\"line\":{\"colorbar\":{\"outlinewidth\":0,\"ticks\":\"\"}},\"marker\":{\"colorbar\":{\"outlinewidth\":0,\"ticks\":\"\"}},\"type\":\"scatter3d\"}],\"scattercarpet\":[{\"marker\":{\"colorbar\":{\"outlinewidth\":0,\"ticks\":\"\"}},\"type\":\"scattercarpet\"}],\"scattergeo\":[{\"marker\":{\"colorbar\":{\"outlinewidth\":0,\"ticks\":\"\"}},\"type\":\"scattergeo\"}],\"scattergl\":[{\"marker\":{\"line\":{\"color\":\"#283442\"}},\"type\":\"scattergl\"}],\"scattermapbox\":[{\"marker\":{\"colorbar\":{\"outlinewidth\":0,\"ticks\":\"\"}},\"type\":\"scattermapbox\"}],\"scatterpolargl\":[{\"marker\":{\"colorbar\":{\"outlinewidth\":0,\"ticks\":\"\"}},\"type\":\"scatterpolargl\"}],\"scatterpolar\":[{\"marker\":{\"colorbar\":{\"outlinewidth\":0,\"ticks\":\"\"}},\"type\":\"scatterpolar\"}],\"scatter\":[{\"marker\":{\"line\":{\"color\":\"#283442\"}},\"type\":\"scatter\"}],\"scatterternary\":[{\"marker\":{\"colorbar\":{\"outlinewidth\":0,\"ticks\":\"\"}},\"type\":\"scatterternary\"}],\"surface\":[{\"colorbar\":{\"outlinewidth\":0,\"ticks\":\"\"},\"colorscale\":[[0.0,\"#0d0887\"],[0.1111111111111111,\"#46039f\"],[0.2222222222222222,\"#7201a8\"],[0.3333333333333333,\"#9c179e\"],[0.4444444444444444,\"#bd3786\"],[0.5555555555555556,\"#d8576b\"],[0.6666666666666666,\"#ed7953\"],[0.7777777777777778,\"#fb9f3a\"],[0.8888888888888888,\"#fdca26\"],[1.0,\"#f0f921\"]],\"type\":\"surface\"}],\"table\":[{\"cells\":{\"fill\":{\"color\":\"#506784\"},\"line\":{\"color\":\"rgb(17,17,17)\"}},\"header\":{\"fill\":{\"color\":\"#2a3f5f\"},\"line\":{\"color\":\"rgb(17,17,17)\"}},\"type\":\"table\"}]},\"layout\":{\"annotationdefaults\":{\"arrowcolor\":\"#f2f5fa\",\"arrowhead\":0,\"arrowwidth\":1},\"autotypenumbers\":\"strict\",\"coloraxis\":{\"colorbar\":{\"outlinewidth\":0,\"ticks\":\"\"}},\"colorscale\":{\"diverging\":[[0,\"#8e0152\"],[0.1,\"#c51b7d\"],[0.2,\"#de77ae\"],[0.3,\"#f1b6da\"],[0.4,\"#fde0ef\"],[0.5,\"#f7f7f7\"],[0.6,\"#e6f5d0\"],[0.7,\"#b8e186\"],[0.8,\"#7fbc41\"],[0.9,\"#4d9221\"],[1,\"#276419\"]],\"sequential\":[[0.0,\"#0d0887\"],[0.1111111111111111,\"#46039f\"],[0.2222222222222222,\"#7201a8\"],[0.3333333333333333,\"#9c179e\"],[0.4444444444444444,\"#bd3786\"],[0.5555555555555556,\"#d8576b\"],[0.6666666666666666,\"#ed7953\"],[0.7777777777777778,\"#fb9f3a\"],[0.8888888888888888,\"#fdca26\"],[1.0,\"#f0f921\"]],\"sequentialminus\":[[0.0,\"#0d0887\"],[0.1111111111111111,\"#46039f\"],[0.2222222222222222,\"#7201a8\"],[0.3333333333333333,\"#9c179e\"],[0.4444444444444444,\"#bd3786\"],[0.5555555555555556,\"#d8576b\"],[0.6666666666666666,\"#ed7953\"],[0.7777777777777778,\"#fb9f3a\"],[0.8888888888888888,\"#fdca26\"],[1.0,\"#f0f921\"]]},\"colorway\":[\"#636efa\",\"#EF553B\",\"#00cc96\",\"#ab63fa\",\"#FFA15A\",\"#19d3f3\",\"#FF6692\",\"#B6E880\",\"#FF97FF\",\"#FECB52\"],\"font\":{\"color\":\"#f2f5fa\"},\"geo\":{\"bgcolor\":\"rgb(17,17,17)\",\"lakecolor\":\"rgb(17,17,17)\",\"landcolor\":\"rgb(17,17,17)\",\"showlakes\":true,\"showland\":true,\"subunitcolor\":\"#506784\"},\"hoverlabel\":{\"align\":\"left\"},\"hovermode\":\"closest\",\"mapbox\":{\"style\":\"dark\"},\"paper_bgcolor\":\"rgb(17,17,17)\",\"plot_bgcolor\":\"rgb(17,17,17)\",\"polar\":{\"angularaxis\":{\"gridcolor\":\"#506784\",\"linecolor\":\"#506784\",\"ticks\":\"\"},\"bgcolor\":\"rgb(17,17,17)\",\"radialaxis\":{\"gridcolor\":\"#506784\",\"linecolor\":\"#506784\",\"ticks\":\"\"}},\"scene\":{\"xaxis\":{\"backgroundcolor\":\"rgb(17,17,17)\",\"gridcolor\":\"#506784\",\"gridwidth\":2,\"linecolor\":\"#506784\",\"showbackground\":true,\"ticks\":\"\",\"zerolinecolor\":\"#C8D4E3\"},\"yaxis\":{\"backgroundcolor\":\"rgb(17,17,17)\",\"gridcolor\":\"#506784\",\"gridwidth\":2,\"linecolor\":\"#506784\",\"showbackground\":true,\"ticks\":\"\",\"zerolinecolor\":\"#C8D4E3\"},\"zaxis\":{\"backgroundcolor\":\"rgb(17,17,17)\",\"gridcolor\":\"#506784\",\"gridwidth\":2,\"linecolor\":\"#506784\",\"showbackground\":true,\"ticks\":\"\",\"zerolinecolor\":\"#C8D4E3\"}},\"shapedefaults\":{\"line\":{\"color\":\"#f2f5fa\"}},\"sliderdefaults\":{\"bgcolor\":\"#C8D4E3\",\"bordercolor\":\"rgb(17,17,17)\",\"borderwidth\":1,\"tickwidth\":0},\"ternary\":{\"aaxis\":{\"gridcolor\":\"#506784\",\"linecolor\":\"#506784\",\"ticks\":\"\"},\"baxis\":{\"gridcolor\":\"#506784\",\"linecolor\":\"#506784\",\"ticks\":\"\"},\"bgcolor\":\"rgb(17,17,17)\",\"caxis\":{\"gridcolor\":\"#506784\",\"linecolor\":\"#506784\",\"ticks\":\"\"}},\"title\":{\"x\":0.05},\"updatemenudefaults\":{\"bgcolor\":\"#506784\",\"borderwidth\":0},\"xaxis\":{\"automargin\":true,\"gridcolor\":\"#283442\",\"linecolor\":\"#506784\",\"ticks\":\"\",\"title\":{\"standoff\":15},\"zerolinecolor\":\"#283442\",\"zerolinewidth\":2},\"yaxis\":{\"automargin\":true,\"gridcolor\":\"#283442\",\"linecolor\":\"#506784\",\"ticks\":\"\",\"title\":{\"standoff\":15},\"zerolinecolor\":\"#283442\",\"zerolinewidth\":2}}},\"polar\":{\"domain\":{\"x\":[0.0,1.0],\"y\":[0.0,1.0]},\"angularaxis\":{\"direction\":\"clockwise\",\"rotation\":90}},\"legend\":{\"tracegroupgap\":0},\"margin\":{\"t\":60}},                        {\"responsive\": true}                    ).then(function(){\n",
       "                            \n",
       "var gd = document.getElementById('90ea37d9-878e-4c3e-8d5f-c3fc50297815');\n",
       "var x = new MutationObserver(function (mutations, observer) {{\n",
       "        var display = window.getComputedStyle(gd).display;\n",
       "        if (!display || display === 'none') {{\n",
       "            console.log([gd, 'removed!']);\n",
       "            Plotly.purge(gd);\n",
       "            observer.disconnect();\n",
       "        }}\n",
       "}});\n",
       "\n",
       "// Listen for the removal of the full notebook cells\n",
       "var notebookContainer = gd.closest('#notebook-container');\n",
       "if (notebookContainer) {{\n",
       "    x.observe(notebookContainer, {childList: true});\n",
       "}}\n",
       "\n",
       "// Listen for the clearing of the current output cell\n",
       "var outputEl = gd.closest('.output');\n",
       "if (outputEl) {{\n",
       "    x.observe(outputEl, {childList: true});\n",
       "}}\n",
       "\n",
       "                        })                };                });            </script>        </div>"
      ]
     },
     "metadata": {},
     "output_type": "display_data"
    }
   ],
   "source": [
    "plot_hex_chart(df_scaled, 79608)"
   ]
  },
  {
   "cell_type": "code",
   "execution_count": null,
   "id": "a38d0f47-eb33-48a7-bb5b-46d944402fab",
   "metadata": {},
   "outputs": [],
   "source": []
  },
  {
   "cell_type": "markdown",
   "id": "c11313a9-7e95-49b1-be28-8051c2f5dc76",
   "metadata": {},
   "source": [
    "### 시즌 별 기록 육각형 그래프 그리기 (2018)"
   ]
  },
  {
   "cell_type": "code",
   "execution_count": 59,
   "id": "c0ae6f00-718a-42ea-b9b7-6cc03bdd9cc1",
   "metadata": {},
   "outputs": [
    {
     "data": {
      "text/html": [
       "<div>\n",
       "<style scoped>\n",
       "    .dataframe tbody tr th:only-of-type {\n",
       "        vertical-align: middle;\n",
       "    }\n",
       "\n",
       "    .dataframe tbody tr th {\n",
       "        vertical-align: top;\n",
       "    }\n",
       "\n",
       "    .dataframe thead th {\n",
       "        text-align: right;\n",
       "    }\n",
       "</style>\n",
       "<table border=\"1\" class=\"dataframe\">\n",
       "  <thead>\n",
       "    <tr style=\"text-align: right;\">\n",
       "      <th></th>\n",
       "      <th>idx</th>\n",
       "      <th>code</th>\n",
       "      <th>year</th>\n",
       "      <th>date</th>\n",
       "      <th>result</th>\n",
       "      <th>h_order</th>\n",
       "      <th>position</th>\n",
       "      <th>startup</th>\n",
       "      <th>pa</th>\n",
       "      <th>run</th>\n",
       "      <th>...</th>\n",
       "      <th>sh</th>\n",
       "      <th>sf</th>\n",
       "      <th>avg</th>\n",
       "      <th>obp</th>\n",
       "      <th>slg</th>\n",
       "      <th>ops</th>\n",
       "      <th>pit</th>\n",
       "      <th>avli</th>\n",
       "      <th>re24</th>\n",
       "      <th>wpa</th>\n",
       "    </tr>\n",
       "  </thead>\n",
       "  <tbody>\n",
       "    <tr>\n",
       "      <th>0</th>\n",
       "      <td>0</td>\n",
       "      <td>78168</td>\n",
       "      <td>2018</td>\n",
       "      <td>03-24</td>\n",
       "      <td>W 6:3</td>\n",
       "      <td>1</td>\n",
       "      <td>2B</td>\n",
       "      <td>1</td>\n",
       "      <td>5</td>\n",
       "      <td>0</td>\n",
       "      <td>...</td>\n",
       "      <td>0</td>\n",
       "      <td>0</td>\n",
       "      <td>0.200</td>\n",
       "      <td>0.200</td>\n",
       "      <td>0.200</td>\n",
       "      <td>0.400</td>\n",
       "      <td>24</td>\n",
       "      <td>0.73</td>\n",
       "      <td>-0.78</td>\n",
       "      <td>-0.032</td>\n",
       "    </tr>\n",
       "    <tr>\n",
       "      <th>1</th>\n",
       "      <td>1</td>\n",
       "      <td>78168</td>\n",
       "      <td>2018</td>\n",
       "      <td>03-25</td>\n",
       "      <td>L 1:4</td>\n",
       "      <td>1</td>\n",
       "      <td>2B</td>\n",
       "      <td>1</td>\n",
       "      <td>4</td>\n",
       "      <td>0</td>\n",
       "      <td>...</td>\n",
       "      <td>0</td>\n",
       "      <td>0</td>\n",
       "      <td>0.111</td>\n",
       "      <td>0.111</td>\n",
       "      <td>0.111</td>\n",
       "      <td>0.222</td>\n",
       "      <td>13</td>\n",
       "      <td>1.00</td>\n",
       "      <td>-1.27</td>\n",
       "      <td>-0.127</td>\n",
       "    </tr>\n",
       "    <tr>\n",
       "      <th>2</th>\n",
       "      <td>2</td>\n",
       "      <td>78168</td>\n",
       "      <td>2018</td>\n",
       "      <td>03-27</td>\n",
       "      <td>W 5:4</td>\n",
       "      <td>3</td>\n",
       "      <td>2B</td>\n",
       "      <td>1</td>\n",
       "      <td>5</td>\n",
       "      <td>2</td>\n",
       "      <td>...</td>\n",
       "      <td>0</td>\n",
       "      <td>0</td>\n",
       "      <td>0.286</td>\n",
       "      <td>0.286</td>\n",
       "      <td>0.357</td>\n",
       "      <td>0.643</td>\n",
       "      <td>21</td>\n",
       "      <td>1.51</td>\n",
       "      <td>0.90</td>\n",
       "      <td>0.118</td>\n",
       "    </tr>\n",
       "    <tr>\n",
       "      <th>3</th>\n",
       "      <td>3</td>\n",
       "      <td>78168</td>\n",
       "      <td>2018</td>\n",
       "      <td>03-28</td>\n",
       "      <td>L 3:9</td>\n",
       "      <td>3</td>\n",
       "      <td>2B</td>\n",
       "      <td>1</td>\n",
       "      <td>3</td>\n",
       "      <td>1</td>\n",
       "      <td>...</td>\n",
       "      <td>0</td>\n",
       "      <td>0</td>\n",
       "      <td>0.235</td>\n",
       "      <td>0.278</td>\n",
       "      <td>0.294</td>\n",
       "      <td>0.572</td>\n",
       "      <td>13</td>\n",
       "      <td>1.11</td>\n",
       "      <td>-0.91</td>\n",
       "      <td>-0.073</td>\n",
       "    </tr>\n",
       "    <tr>\n",
       "      <th>4</th>\n",
       "      <td>4</td>\n",
       "      <td>78168</td>\n",
       "      <td>2018</td>\n",
       "      <td>03-29</td>\n",
       "      <td>W 9:4</td>\n",
       "      <td>3</td>\n",
       "      <td>2B</td>\n",
       "      <td>1</td>\n",
       "      <td>3</td>\n",
       "      <td>1</td>\n",
       "      <td>...</td>\n",
       "      <td>0</td>\n",
       "      <td>0</td>\n",
       "      <td>0.250</td>\n",
       "      <td>0.348</td>\n",
       "      <td>0.300</td>\n",
       "      <td>0.648</td>\n",
       "      <td>16</td>\n",
       "      <td>0.73</td>\n",
       "      <td>0.79</td>\n",
       "      <td>0.016</td>\n",
       "    </tr>\n",
       "    <tr>\n",
       "      <th>...</th>\n",
       "      <td>...</td>\n",
       "      <td>...</td>\n",
       "      <td>...</td>\n",
       "      <td>...</td>\n",
       "      <td>...</td>\n",
       "      <td>...</td>\n",
       "      <td>...</td>\n",
       "      <td>...</td>\n",
       "      <td>...</td>\n",
       "      <td>...</td>\n",
       "      <td>...</td>\n",
       "      <td>...</td>\n",
       "      <td>...</td>\n",
       "      <td>...</td>\n",
       "      <td>...</td>\n",
       "      <td>...</td>\n",
       "      <td>...</td>\n",
       "      <td>...</td>\n",
       "      <td>...</td>\n",
       "      <td>...</td>\n",
       "      <td>...</td>\n",
       "    </tr>\n",
       "    <tr>\n",
       "      <th>18019</th>\n",
       "      <td>18019</td>\n",
       "      <td>65586</td>\n",
       "      <td>2018</td>\n",
       "      <td>10-10</td>\n",
       "      <td>L 0:7</td>\n",
       "      <td>7</td>\n",
       "      <td>2B</td>\n",
       "      <td>1</td>\n",
       "      <td>3</td>\n",
       "      <td>0</td>\n",
       "      <td>...</td>\n",
       "      <td>0</td>\n",
       "      <td>0</td>\n",
       "      <td>0.365</td>\n",
       "      <td>0.459</td>\n",
       "      <td>0.635</td>\n",
       "      <td>1.094</td>\n",
       "      <td>17</td>\n",
       "      <td>0.57</td>\n",
       "      <td>-0.70</td>\n",
       "      <td>-0.043</td>\n",
       "    </tr>\n",
       "    <tr>\n",
       "      <th>18020</th>\n",
       "      <td>18020</td>\n",
       "      <td>65586</td>\n",
       "      <td>2018</td>\n",
       "      <td>10-11</td>\n",
       "      <td>W 4:0</td>\n",
       "      <td>7</td>\n",
       "      <td>3B</td>\n",
       "      <td>1</td>\n",
       "      <td>4</td>\n",
       "      <td>0</td>\n",
       "      <td>...</td>\n",
       "      <td>0</td>\n",
       "      <td>0</td>\n",
       "      <td>0.339</td>\n",
       "      <td>0.431</td>\n",
       "      <td>0.589</td>\n",
       "      <td>1.020</td>\n",
       "      <td>16</td>\n",
       "      <td>0.47</td>\n",
       "      <td>0.05</td>\n",
       "      <td>0.012</td>\n",
       "    </tr>\n",
       "    <tr>\n",
       "      <th>18021</th>\n",
       "      <td>18021</td>\n",
       "      <td>65586</td>\n",
       "      <td>2018</td>\n",
       "      <td>10-12</td>\n",
       "      <td>L 4:6</td>\n",
       "      <td>7</td>\n",
       "      <td>3B</td>\n",
       "      <td>1</td>\n",
       "      <td>4</td>\n",
       "      <td>1</td>\n",
       "      <td>...</td>\n",
       "      <td>0</td>\n",
       "      <td>0</td>\n",
       "      <td>0.367</td>\n",
       "      <td>0.449</td>\n",
       "      <td>0.617</td>\n",
       "      <td>1.066</td>\n",
       "      <td>18</td>\n",
       "      <td>1.05</td>\n",
       "      <td>1.30</td>\n",
       "      <td>0.154</td>\n",
       "    </tr>\n",
       "    <tr>\n",
       "      <th>18022</th>\n",
       "      <td>18022</td>\n",
       "      <td>65586</td>\n",
       "      <td>2018</td>\n",
       "      <td>10-13</td>\n",
       "      <td>W 5:1</td>\n",
       "      <td>3</td>\n",
       "      <td>SS</td>\n",
       "      <td>1</td>\n",
       "      <td>3</td>\n",
       "      <td>0</td>\n",
       "      <td>...</td>\n",
       "      <td>0</td>\n",
       "      <td>1</td>\n",
       "      <td>0.365</td>\n",
       "      <td>0.438</td>\n",
       "      <td>0.603</td>\n",
       "      <td>1.042</td>\n",
       "      <td>17</td>\n",
       "      <td>0.93</td>\n",
       "      <td>-0.44</td>\n",
       "      <td>-0.020</td>\n",
       "    </tr>\n",
       "    <tr>\n",
       "      <th>18023</th>\n",
       "      <td>18023</td>\n",
       "      <td>65586</td>\n",
       "      <td>2018</td>\n",
       "      <td>10-14</td>\n",
       "      <td>L 1:5</td>\n",
       "      <td>6</td>\n",
       "      <td>SS</td>\n",
       "      <td>1</td>\n",
       "      <td>3</td>\n",
       "      <td>0</td>\n",
       "      <td>...</td>\n",
       "      <td>0</td>\n",
       "      <td>0</td>\n",
       "      <td>0.364</td>\n",
       "      <td>0.442</td>\n",
       "      <td>0.606</td>\n",
       "      <td>1.048</td>\n",
       "      <td>11</td>\n",
       "      <td>1.17</td>\n",
       "      <td>-0.42</td>\n",
       "      <td>-0.077</td>\n",
       "    </tr>\n",
       "  </tbody>\n",
       "</table>\n",
       "<p>18024 rows × 33 columns</p>\n",
       "</div>"
      ],
      "text/plain": [
       "         idx   code  year   date result  h_order position  startup  pa  run  \\\n",
       "0          0  78168  2018  03-24  W 6:3        1       2B        1   5    0   \n",
       "1          1  78168  2018  03-25  L 1:4        1       2B        1   4    0   \n",
       "2          2  78168  2018  03-27  W 5:4        3       2B        1   5    2   \n",
       "3          3  78168  2018  03-28  L 3:9        3       2B        1   3    1   \n",
       "4          4  78168  2018  03-29  W 9:4        3       2B        1   3    1   \n",
       "...      ...    ...   ...    ...    ...      ...      ...      ...  ..  ...   \n",
       "18019  18019  65586  2018  10-10  L 0:7        7       2B        1   3    0   \n",
       "18020  18020  65586  2018  10-11  W 4:0        7       3B        1   4    0   \n",
       "18021  18021  65586  2018  10-12  L 4:6        7       3B        1   4    1   \n",
       "18022  18022  65586  2018  10-13  W 5:1        3       SS        1   3    0   \n",
       "18023  18023  65586  2018  10-14  L 1:5        6       SS        1   3    0   \n",
       "\n",
       "       ...  sh  sf    avg    obp    slg    ops  pit  avli  re24    wpa  \n",
       "0      ...   0   0  0.200  0.200  0.200  0.400   24  0.73 -0.78 -0.032  \n",
       "1      ...   0   0  0.111  0.111  0.111  0.222   13  1.00 -1.27 -0.127  \n",
       "2      ...   0   0  0.286  0.286  0.357  0.643   21  1.51  0.90  0.118  \n",
       "3      ...   0   0  0.235  0.278  0.294  0.572   13  1.11 -0.91 -0.073  \n",
       "4      ...   0   0  0.250  0.348  0.300  0.648   16  0.73  0.79  0.016  \n",
       "...    ...  ..  ..    ...    ...    ...    ...  ...   ...   ...    ...  \n",
       "18019  ...   0   0  0.365  0.459  0.635  1.094   17  0.57 -0.70 -0.043  \n",
       "18020  ...   0   0  0.339  0.431  0.589  1.020   16  0.47  0.05  0.012  \n",
       "18021  ...   0   0  0.367  0.449  0.617  1.066   18  1.05  1.30  0.154  \n",
       "18022  ...   0   1  0.365  0.438  0.603  1.042   17  0.93 -0.44 -0.020  \n",
       "18023  ...   0   0  0.364  0.442  0.606  1.048   11  1.17 -0.42 -0.077  \n",
       "\n",
       "[18024 rows x 33 columns]"
      ]
     },
     "execution_count": 59,
     "metadata": {},
     "output_type": "execute_result"
    }
   ],
   "source": [
    "# 2018년 선수별 데이터 뽑아내기\n",
    "\n",
    "hit_2018 = df[df['year'] == 2018]\n",
    "hit_2018"
   ]
  },
  {
   "cell_type": "code",
   "execution_count": 60,
   "id": "4788b598-4127-4481-b849-89f62030d9b4",
   "metadata": {},
   "outputs": [
    {
     "data": {
      "text/html": [
       "<div>\n",
       "<style scoped>\n",
       "    .dataframe tbody tr th:only-of-type {\n",
       "        vertical-align: middle;\n",
       "    }\n",
       "\n",
       "    .dataframe tbody tr th {\n",
       "        vertical-align: top;\n",
       "    }\n",
       "\n",
       "    .dataframe thead th {\n",
       "        text-align: right;\n",
       "    }\n",
       "</style>\n",
       "<table border=\"1\" class=\"dataframe\">\n",
       "  <thead>\n",
       "    <tr style=\"text-align: right;\">\n",
       "      <th></th>\n",
       "      <th>pa</th>\n",
       "      <th>run</th>\n",
       "      <th>hit</th>\n",
       "      <th>second</th>\n",
       "      <th>third</th>\n",
       "      <th>homerun</th>\n",
       "      <th>luta</th>\n",
       "      <th>rbi</th>\n",
       "      <th>sb_s</th>\n",
       "      <th>sb_f</th>\n",
       "      <th>...</th>\n",
       "      <th>hbp</th>\n",
       "      <th>ibb</th>\n",
       "      <th>k</th>\n",
       "      <th>dp</th>\n",
       "      <th>sh</th>\n",
       "      <th>sf</th>\n",
       "      <th>pit</th>\n",
       "      <th>avli</th>\n",
       "      <th>re24</th>\n",
       "      <th>wpa</th>\n",
       "    </tr>\n",
       "    <tr>\n",
       "      <th>code</th>\n",
       "      <th></th>\n",
       "      <th></th>\n",
       "      <th></th>\n",
       "      <th></th>\n",
       "      <th></th>\n",
       "      <th></th>\n",
       "      <th></th>\n",
       "      <th></th>\n",
       "      <th></th>\n",
       "      <th></th>\n",
       "      <th></th>\n",
       "      <th></th>\n",
       "      <th></th>\n",
       "      <th></th>\n",
       "      <th></th>\n",
       "      <th></th>\n",
       "      <th></th>\n",
       "      <th></th>\n",
       "      <th></th>\n",
       "      <th></th>\n",
       "      <th></th>\n",
       "    </tr>\n",
       "  </thead>\n",
       "  <tbody>\n",
       "    <tr>\n",
       "      <th>60184</th>\n",
       "      <td>10</td>\n",
       "      <td>1</td>\n",
       "      <td>2</td>\n",
       "      <td>1</td>\n",
       "      <td>0</td>\n",
       "      <td>0</td>\n",
       "      <td>3</td>\n",
       "      <td>0</td>\n",
       "      <td>0</td>\n",
       "      <td>0</td>\n",
       "      <td>...</td>\n",
       "      <td>0</td>\n",
       "      <td>0</td>\n",
       "      <td>3</td>\n",
       "      <td>0</td>\n",
       "      <td>0</td>\n",
       "      <td>0</td>\n",
       "      <td>32</td>\n",
       "      <td>4.93</td>\n",
       "      <td>-1.45</td>\n",
       "      <td>0.025</td>\n",
       "    </tr>\n",
       "    <tr>\n",
       "      <th>60343</th>\n",
       "      <td>162</td>\n",
       "      <td>19</td>\n",
       "      <td>35</td>\n",
       "      <td>4</td>\n",
       "      <td>0</td>\n",
       "      <td>8</td>\n",
       "      <td>63</td>\n",
       "      <td>24</td>\n",
       "      <td>0</td>\n",
       "      <td>3</td>\n",
       "      <td>...</td>\n",
       "      <td>3</td>\n",
       "      <td>0</td>\n",
       "      <td>49</td>\n",
       "      <td>3</td>\n",
       "      <td>1</td>\n",
       "      <td>0</td>\n",
       "      <td>660</td>\n",
       "      <td>64.14</td>\n",
       "      <td>-6.68</td>\n",
       "      <td>-0.693</td>\n",
       "    </tr>\n",
       "    <tr>\n",
       "      <th>60456</th>\n",
       "      <td>6</td>\n",
       "      <td>1</td>\n",
       "      <td>3</td>\n",
       "      <td>0</td>\n",
       "      <td>0</td>\n",
       "      <td>0</td>\n",
       "      <td>3</td>\n",
       "      <td>2</td>\n",
       "      <td>0</td>\n",
       "      <td>0</td>\n",
       "      <td>...</td>\n",
       "      <td>0</td>\n",
       "      <td>0</td>\n",
       "      <td>0</td>\n",
       "      <td>0</td>\n",
       "      <td>0</td>\n",
       "      <td>0</td>\n",
       "      <td>39</td>\n",
       "      <td>2.98</td>\n",
       "      <td>3.52</td>\n",
       "      <td>0.176</td>\n",
       "    </tr>\n",
       "    <tr>\n",
       "      <th>60523</th>\n",
       "      <td>174</td>\n",
       "      <td>33</td>\n",
       "      <td>53</td>\n",
       "      <td>10</td>\n",
       "      <td>1</td>\n",
       "      <td>7</td>\n",
       "      <td>86</td>\n",
       "      <td>26</td>\n",
       "      <td>4</td>\n",
       "      <td>2</td>\n",
       "      <td>...</td>\n",
       "      <td>1</td>\n",
       "      <td>1</td>\n",
       "      <td>39</td>\n",
       "      <td>4</td>\n",
       "      <td>0</td>\n",
       "      <td>3</td>\n",
       "      <td>800</td>\n",
       "      <td>85.19</td>\n",
       "      <td>3.65</td>\n",
       "      <td>-0.308</td>\n",
       "    </tr>\n",
       "    <tr>\n",
       "      <th>60558</th>\n",
       "      <td>342</td>\n",
       "      <td>55</td>\n",
       "      <td>87</td>\n",
       "      <td>17</td>\n",
       "      <td>2</td>\n",
       "      <td>12</td>\n",
       "      <td>144</td>\n",
       "      <td>39</td>\n",
       "      <td>13</td>\n",
       "      <td>8</td>\n",
       "      <td>...</td>\n",
       "      <td>4</td>\n",
       "      <td>0</td>\n",
       "      <td>92</td>\n",
       "      <td>7</td>\n",
       "      <td>3</td>\n",
       "      <td>1</td>\n",
       "      <td>1403</td>\n",
       "      <td>118.78</td>\n",
       "      <td>-7.96</td>\n",
       "      <td>-0.028</td>\n",
       "    </tr>\n",
       "    <tr>\n",
       "      <th>...</th>\n",
       "      <td>...</td>\n",
       "      <td>...</td>\n",
       "      <td>...</td>\n",
       "      <td>...</td>\n",
       "      <td>...</td>\n",
       "      <td>...</td>\n",
       "      <td>...</td>\n",
       "      <td>...</td>\n",
       "      <td>...</td>\n",
       "      <td>...</td>\n",
       "      <td>...</td>\n",
       "      <td>...</td>\n",
       "      <td>...</td>\n",
       "      <td>...</td>\n",
       "      <td>...</td>\n",
       "      <td>...</td>\n",
       "      <td>...</td>\n",
       "      <td>...</td>\n",
       "      <td>...</td>\n",
       "      <td>...</td>\n",
       "      <td>...</td>\n",
       "    </tr>\n",
       "    <tr>\n",
       "      <th>79530</th>\n",
       "      <td>14</td>\n",
       "      <td>5</td>\n",
       "      <td>4</td>\n",
       "      <td>0</td>\n",
       "      <td>1</td>\n",
       "      <td>0</td>\n",
       "      <td>6</td>\n",
       "      <td>1</td>\n",
       "      <td>0</td>\n",
       "      <td>0</td>\n",
       "      <td>...</td>\n",
       "      <td>0</td>\n",
       "      <td>0</td>\n",
       "      <td>5</td>\n",
       "      <td>1</td>\n",
       "      <td>0</td>\n",
       "      <td>0</td>\n",
       "      <td>57</td>\n",
       "      <td>2.81</td>\n",
       "      <td>-0.24</td>\n",
       "      <td>-0.046</td>\n",
       "    </tr>\n",
       "    <tr>\n",
       "      <th>79608</th>\n",
       "      <td>498</td>\n",
       "      <td>88</td>\n",
       "      <td>170</td>\n",
       "      <td>38</td>\n",
       "      <td>1</td>\n",
       "      <td>23</td>\n",
       "      <td>279</td>\n",
       "      <td>118</td>\n",
       "      <td>5</td>\n",
       "      <td>1</td>\n",
       "      <td>...</td>\n",
       "      <td>10</td>\n",
       "      <td>1</td>\n",
       "      <td>57</td>\n",
       "      <td>13</td>\n",
       "      <td>0</td>\n",
       "      <td>9</td>\n",
       "      <td>1897</td>\n",
       "      <td>143.14</td>\n",
       "      <td>44.85</td>\n",
       "      <td>4.044</td>\n",
       "    </tr>\n",
       "    <tr>\n",
       "      <th>79705</th>\n",
       "      <td>95</td>\n",
       "      <td>15</td>\n",
       "      <td>24</td>\n",
       "      <td>5</td>\n",
       "      <td>0</td>\n",
       "      <td>4</td>\n",
       "      <td>41</td>\n",
       "      <td>18</td>\n",
       "      <td>1</td>\n",
       "      <td>0</td>\n",
       "      <td>...</td>\n",
       "      <td>3</td>\n",
       "      <td>0</td>\n",
       "      <td>27</td>\n",
       "      <td>4</td>\n",
       "      <td>3</td>\n",
       "      <td>0</td>\n",
       "      <td>427</td>\n",
       "      <td>35.87</td>\n",
       "      <td>4.00</td>\n",
       "      <td>0.074</td>\n",
       "    </tr>\n",
       "    <tr>\n",
       "      <th>99606</th>\n",
       "      <td>184</td>\n",
       "      <td>22</td>\n",
       "      <td>54</td>\n",
       "      <td>11</td>\n",
       "      <td>0</td>\n",
       "      <td>4</td>\n",
       "      <td>77</td>\n",
       "      <td>28</td>\n",
       "      <td>0</td>\n",
       "      <td>1</td>\n",
       "      <td>...</td>\n",
       "      <td>5</td>\n",
       "      <td>1</td>\n",
       "      <td>49</td>\n",
       "      <td>5</td>\n",
       "      <td>0</td>\n",
       "      <td>1</td>\n",
       "      <td>845</td>\n",
       "      <td>105.65</td>\n",
       "      <td>-1.70</td>\n",
       "      <td>-0.331</td>\n",
       "    </tr>\n",
       "    <tr>\n",
       "      <th>99810</th>\n",
       "      <td>283</td>\n",
       "      <td>40</td>\n",
       "      <td>90</td>\n",
       "      <td>17</td>\n",
       "      <td>1</td>\n",
       "      <td>3</td>\n",
       "      <td>118</td>\n",
       "      <td>39</td>\n",
       "      <td>2</td>\n",
       "      <td>1</td>\n",
       "      <td>...</td>\n",
       "      <td>0</td>\n",
       "      <td>1</td>\n",
       "      <td>35</td>\n",
       "      <td>3</td>\n",
       "      <td>1</td>\n",
       "      <td>3</td>\n",
       "      <td>1139</td>\n",
       "      <td>134.14</td>\n",
       "      <td>10.24</td>\n",
       "      <td>1.457</td>\n",
       "    </tr>\n",
       "  </tbody>\n",
       "</table>\n",
       "<p>238 rows × 21 columns</p>\n",
       "</div>"
      ],
      "text/plain": [
       "        pa  run  hit  second  third  homerun  luta  rbi  sb_s  sb_f  ...  hbp  \\\n",
       "code                                                                 ...        \n",
       "60184   10    1    2       1      0        0     3    0     0     0  ...    0   \n",
       "60343  162   19   35       4      0        8    63   24     0     3  ...    3   \n",
       "60456    6    1    3       0      0        0     3    2     0     0  ...    0   \n",
       "60523  174   33   53      10      1        7    86   26     4     2  ...    1   \n",
       "60558  342   55   87      17      2       12   144   39    13     8  ...    4   \n",
       "...    ...  ...  ...     ...    ...      ...   ...  ...   ...   ...  ...  ...   \n",
       "79530   14    5    4       0      1        0     6    1     0     0  ...    0   \n",
       "79608  498   88  170      38      1       23   279  118     5     1  ...   10   \n",
       "79705   95   15   24       5      0        4    41   18     1     0  ...    3   \n",
       "99606  184   22   54      11      0        4    77   28     0     1  ...    5   \n",
       "99810  283   40   90      17      1        3   118   39     2     1  ...    0   \n",
       "\n",
       "       ibb   k  dp  sh  sf   pit    avli   re24    wpa  \n",
       "code                                                    \n",
       "60184    0   3   0   0   0    32    4.93  -1.45  0.025  \n",
       "60343    0  49   3   1   0   660   64.14  -6.68 -0.693  \n",
       "60456    0   0   0   0   0    39    2.98   3.52  0.176  \n",
       "60523    1  39   4   0   3   800   85.19   3.65 -0.308  \n",
       "60558    0  92   7   3   1  1403  118.78  -7.96 -0.028  \n",
       "...    ...  ..  ..  ..  ..   ...     ...    ...    ...  \n",
       "79530    0   5   1   0   0    57    2.81  -0.24 -0.046  \n",
       "79608    1  57  13   0   9  1897  143.14  44.85  4.044  \n",
       "79705    0  27   4   3   0   427   35.87   4.00  0.074  \n",
       "99606    1  49   5   0   1   845  105.65  -1.70 -0.331  \n",
       "99810    1  35   3   1   3  1139  134.14  10.24  1.457  \n",
       "\n",
       "[238 rows x 21 columns]"
      ]
     },
     "execution_count": 60,
     "metadata": {},
     "output_type": "execute_result"
    }
   ],
   "source": [
    "# 2018시즌 선수들의 지표 합산\n",
    "\n",
    "hit_drop_2018 = hit_2018.drop(['idx', 'year', 'date', 'result', 'h_order', 'position',\n",
    "       'startup', 'avg', 'obp',\t'slg', 'ops'], axis=1)\n",
    "hit_sum_2018 = hit_drop_2018.groupby('code').sum()\n",
    "hit_sum_2018"
   ]
  },
  {
   "cell_type": "code",
   "execution_count": 61,
   "id": "6efa8b62-f35a-4a69-b389-e1a1cce7bef4",
   "metadata": {},
   "outputs": [
    {
     "data": {
      "text/html": [
       "<div>\n",
       "<style scoped>\n",
       "    .dataframe tbody tr th:only-of-type {\n",
       "        vertical-align: middle;\n",
       "    }\n",
       "\n",
       "    .dataframe tbody tr th {\n",
       "        vertical-align: top;\n",
       "    }\n",
       "\n",
       "    .dataframe thead th {\n",
       "        text-align: right;\n",
       "    }\n",
       "</style>\n",
       "<table border=\"1\" class=\"dataframe\">\n",
       "  <thead>\n",
       "    <tr style=\"text-align: right;\">\n",
       "      <th></th>\n",
       "      <th>pa</th>\n",
       "      <th>run</th>\n",
       "      <th>hit</th>\n",
       "      <th>second</th>\n",
       "      <th>third</th>\n",
       "      <th>homerun</th>\n",
       "      <th>luta</th>\n",
       "      <th>rbi</th>\n",
       "      <th>sb_s</th>\n",
       "      <th>sb_f</th>\n",
       "      <th>...</th>\n",
       "      <th>sh</th>\n",
       "      <th>sf</th>\n",
       "      <th>pit</th>\n",
       "      <th>avli</th>\n",
       "      <th>re24</th>\n",
       "      <th>wpa</th>\n",
       "      <th>avg</th>\n",
       "      <th>obp</th>\n",
       "      <th>slg</th>\n",
       "      <th>ops</th>\n",
       "    </tr>\n",
       "    <tr>\n",
       "      <th>code</th>\n",
       "      <th></th>\n",
       "      <th></th>\n",
       "      <th></th>\n",
       "      <th></th>\n",
       "      <th></th>\n",
       "      <th></th>\n",
       "      <th></th>\n",
       "      <th></th>\n",
       "      <th></th>\n",
       "      <th></th>\n",
       "      <th></th>\n",
       "      <th></th>\n",
       "      <th></th>\n",
       "      <th></th>\n",
       "      <th></th>\n",
       "      <th></th>\n",
       "      <th></th>\n",
       "      <th></th>\n",
       "      <th></th>\n",
       "      <th></th>\n",
       "      <th></th>\n",
       "    </tr>\n",
       "  </thead>\n",
       "  <tbody>\n",
       "    <tr>\n",
       "      <th>60184</th>\n",
       "      <td>10</td>\n",
       "      <td>1</td>\n",
       "      <td>2</td>\n",
       "      <td>1</td>\n",
       "      <td>0</td>\n",
       "      <td>0</td>\n",
       "      <td>3</td>\n",
       "      <td>0</td>\n",
       "      <td>0</td>\n",
       "      <td>0</td>\n",
       "      <td>...</td>\n",
       "      <td>0</td>\n",
       "      <td>0</td>\n",
       "      <td>32</td>\n",
       "      <td>4.93</td>\n",
       "      <td>-1.45</td>\n",
       "      <td>0.025</td>\n",
       "      <td>0.200</td>\n",
       "      <td>0.200</td>\n",
       "      <td>0.300</td>\n",
       "      <td>0.500</td>\n",
       "    </tr>\n",
       "    <tr>\n",
       "      <th>60343</th>\n",
       "      <td>162</td>\n",
       "      <td>19</td>\n",
       "      <td>35</td>\n",
       "      <td>4</td>\n",
       "      <td>0</td>\n",
       "      <td>8</td>\n",
       "      <td>63</td>\n",
       "      <td>24</td>\n",
       "      <td>0</td>\n",
       "      <td>3</td>\n",
       "      <td>...</td>\n",
       "      <td>1</td>\n",
       "      <td>0</td>\n",
       "      <td>660</td>\n",
       "      <td>64.14</td>\n",
       "      <td>-6.68</td>\n",
       "      <td>-0.693</td>\n",
       "      <td>0.216</td>\n",
       "      <td>0.266</td>\n",
       "      <td>0.389</td>\n",
       "      <td>0.655</td>\n",
       "    </tr>\n",
       "    <tr>\n",
       "      <th>60456</th>\n",
       "      <td>6</td>\n",
       "      <td>1</td>\n",
       "      <td>3</td>\n",
       "      <td>0</td>\n",
       "      <td>0</td>\n",
       "      <td>0</td>\n",
       "      <td>3</td>\n",
       "      <td>2</td>\n",
       "      <td>0</td>\n",
       "      <td>0</td>\n",
       "      <td>...</td>\n",
       "      <td>0</td>\n",
       "      <td>0</td>\n",
       "      <td>39</td>\n",
       "      <td>2.98</td>\n",
       "      <td>3.52</td>\n",
       "      <td>0.176</td>\n",
       "      <td>0.500</td>\n",
       "      <td>0.625</td>\n",
       "      <td>0.500</td>\n",
       "      <td>1.125</td>\n",
       "    </tr>\n",
       "    <tr>\n",
       "      <th>60523</th>\n",
       "      <td>174</td>\n",
       "      <td>33</td>\n",
       "      <td>53</td>\n",
       "      <td>10</td>\n",
       "      <td>1</td>\n",
       "      <td>7</td>\n",
       "      <td>86</td>\n",
       "      <td>26</td>\n",
       "      <td>4</td>\n",
       "      <td>2</td>\n",
       "      <td>...</td>\n",
       "      <td>0</td>\n",
       "      <td>3</td>\n",
       "      <td>800</td>\n",
       "      <td>85.19</td>\n",
       "      <td>3.65</td>\n",
       "      <td>-0.308</td>\n",
       "      <td>0.305</td>\n",
       "      <td>0.364</td>\n",
       "      <td>0.494</td>\n",
       "      <td>0.858</td>\n",
       "    </tr>\n",
       "    <tr>\n",
       "      <th>60558</th>\n",
       "      <td>342</td>\n",
       "      <td>55</td>\n",
       "      <td>87</td>\n",
       "      <td>17</td>\n",
       "      <td>2</td>\n",
       "      <td>12</td>\n",
       "      <td>144</td>\n",
       "      <td>39</td>\n",
       "      <td>13</td>\n",
       "      <td>8</td>\n",
       "      <td>...</td>\n",
       "      <td>3</td>\n",
       "      <td>1</td>\n",
       "      <td>1403</td>\n",
       "      <td>118.78</td>\n",
       "      <td>-7.96</td>\n",
       "      <td>-0.028</td>\n",
       "      <td>0.254</td>\n",
       "      <td>0.310</td>\n",
       "      <td>0.421</td>\n",
       "      <td>0.731</td>\n",
       "    </tr>\n",
       "    <tr>\n",
       "      <th>...</th>\n",
       "      <td>...</td>\n",
       "      <td>...</td>\n",
       "      <td>...</td>\n",
       "      <td>...</td>\n",
       "      <td>...</td>\n",
       "      <td>...</td>\n",
       "      <td>...</td>\n",
       "      <td>...</td>\n",
       "      <td>...</td>\n",
       "      <td>...</td>\n",
       "      <td>...</td>\n",
       "      <td>...</td>\n",
       "      <td>...</td>\n",
       "      <td>...</td>\n",
       "      <td>...</td>\n",
       "      <td>...</td>\n",
       "      <td>...</td>\n",
       "      <td>...</td>\n",
       "      <td>...</td>\n",
       "      <td>...</td>\n",
       "      <td>...</td>\n",
       "    </tr>\n",
       "    <tr>\n",
       "      <th>79530</th>\n",
       "      <td>14</td>\n",
       "      <td>5</td>\n",
       "      <td>4</td>\n",
       "      <td>0</td>\n",
       "      <td>1</td>\n",
       "      <td>0</td>\n",
       "      <td>6</td>\n",
       "      <td>1</td>\n",
       "      <td>0</td>\n",
       "      <td>0</td>\n",
       "      <td>...</td>\n",
       "      <td>0</td>\n",
       "      <td>0</td>\n",
       "      <td>57</td>\n",
       "      <td>2.81</td>\n",
       "      <td>-0.24</td>\n",
       "      <td>-0.046</td>\n",
       "      <td>0.286</td>\n",
       "      <td>0.333</td>\n",
       "      <td>0.429</td>\n",
       "      <td>0.762</td>\n",
       "    </tr>\n",
       "    <tr>\n",
       "      <th>79608</th>\n",
       "      <td>498</td>\n",
       "      <td>88</td>\n",
       "      <td>170</td>\n",
       "      <td>38</td>\n",
       "      <td>1</td>\n",
       "      <td>23</td>\n",
       "      <td>279</td>\n",
       "      <td>118</td>\n",
       "      <td>5</td>\n",
       "      <td>1</td>\n",
       "      <td>...</td>\n",
       "      <td>0</td>\n",
       "      <td>9</td>\n",
       "      <td>1897</td>\n",
       "      <td>143.14</td>\n",
       "      <td>44.85</td>\n",
       "      <td>4.044</td>\n",
       "      <td>0.341</td>\n",
       "      <td>0.392</td>\n",
       "      <td>0.560</td>\n",
       "      <td>0.952</td>\n",
       "    </tr>\n",
       "    <tr>\n",
       "      <th>79705</th>\n",
       "      <td>95</td>\n",
       "      <td>15</td>\n",
       "      <td>24</td>\n",
       "      <td>5</td>\n",
       "      <td>0</td>\n",
       "      <td>4</td>\n",
       "      <td>41</td>\n",
       "      <td>18</td>\n",
       "      <td>1</td>\n",
       "      <td>0</td>\n",
       "      <td>...</td>\n",
       "      <td>3</td>\n",
       "      <td>0</td>\n",
       "      <td>427</td>\n",
       "      <td>35.87</td>\n",
       "      <td>4.00</td>\n",
       "      <td>0.074</td>\n",
       "      <td>0.253</td>\n",
       "      <td>0.349</td>\n",
       "      <td>0.432</td>\n",
       "      <td>0.780</td>\n",
       "    </tr>\n",
       "    <tr>\n",
       "      <th>99606</th>\n",
       "      <td>184</td>\n",
       "      <td>22</td>\n",
       "      <td>54</td>\n",
       "      <td>11</td>\n",
       "      <td>0</td>\n",
       "      <td>4</td>\n",
       "      <td>77</td>\n",
       "      <td>28</td>\n",
       "      <td>0</td>\n",
       "      <td>1</td>\n",
       "      <td>...</td>\n",
       "      <td>0</td>\n",
       "      <td>1</td>\n",
       "      <td>845</td>\n",
       "      <td>105.65</td>\n",
       "      <td>-1.70</td>\n",
       "      <td>-0.331</td>\n",
       "      <td>0.293</td>\n",
       "      <td>0.367</td>\n",
       "      <td>0.418</td>\n",
       "      <td>0.786</td>\n",
       "    </tr>\n",
       "    <tr>\n",
       "      <th>99810</th>\n",
       "      <td>283</td>\n",
       "      <td>40</td>\n",
       "      <td>90</td>\n",
       "      <td>17</td>\n",
       "      <td>1</td>\n",
       "      <td>3</td>\n",
       "      <td>118</td>\n",
       "      <td>39</td>\n",
       "      <td>2</td>\n",
       "      <td>1</td>\n",
       "      <td>...</td>\n",
       "      <td>1</td>\n",
       "      <td>3</td>\n",
       "      <td>1139</td>\n",
       "      <td>134.14</td>\n",
       "      <td>10.24</td>\n",
       "      <td>1.457</td>\n",
       "      <td>0.318</td>\n",
       "      <td>0.372</td>\n",
       "      <td>0.417</td>\n",
       "      <td>0.789</td>\n",
       "    </tr>\n",
       "  </tbody>\n",
       "</table>\n",
       "<p>238 rows × 25 columns</p>\n",
       "</div>"
      ],
      "text/plain": [
       "        pa  run  hit  second  third  homerun  luta  rbi  sb_s  sb_f  ...  sh  \\\n",
       "code                                                                 ...       \n",
       "60184   10    1    2       1      0        0     3    0     0     0  ...   0   \n",
       "60343  162   19   35       4      0        8    63   24     0     3  ...   1   \n",
       "60456    6    1    3       0      0        0     3    2     0     0  ...   0   \n",
       "60523  174   33   53      10      1        7    86   26     4     2  ...   0   \n",
       "60558  342   55   87      17      2       12   144   39    13     8  ...   3   \n",
       "...    ...  ...  ...     ...    ...      ...   ...  ...   ...   ...  ...  ..   \n",
       "79530   14    5    4       0      1        0     6    1     0     0  ...   0   \n",
       "79608  498   88  170      38      1       23   279  118     5     1  ...   0   \n",
       "79705   95   15   24       5      0        4    41   18     1     0  ...   3   \n",
       "99606  184   22   54      11      0        4    77   28     0     1  ...   0   \n",
       "99810  283   40   90      17      1        3   118   39     2     1  ...   1   \n",
       "\n",
       "       sf   pit    avli   re24    wpa    avg    obp    slg    ops  \n",
       "code                                                               \n",
       "60184   0    32    4.93  -1.45  0.025  0.200  0.200  0.300  0.500  \n",
       "60343   0   660   64.14  -6.68 -0.693  0.216  0.266  0.389  0.655  \n",
       "60456   0    39    2.98   3.52  0.176  0.500  0.625  0.500  1.125  \n",
       "60523   3   800   85.19   3.65 -0.308  0.305  0.364  0.494  0.858  \n",
       "60558   1  1403  118.78  -7.96 -0.028  0.254  0.310  0.421  0.731  \n",
       "...    ..   ...     ...    ...    ...    ...    ...    ...    ...  \n",
       "79530   0    57    2.81  -0.24 -0.046  0.286  0.333  0.429  0.762  \n",
       "79608   9  1897  143.14  44.85  4.044  0.341  0.392  0.560  0.952  \n",
       "79705   0   427   35.87   4.00  0.074  0.253  0.349  0.432  0.780  \n",
       "99606   1   845  105.65  -1.70 -0.331  0.293  0.367  0.418  0.786  \n",
       "99810   3  1139  134.14  10.24  1.457  0.318  0.372  0.417  0.789  \n",
       "\n",
       "[238 rows x 25 columns]"
      ]
     },
     "execution_count": 61,
     "metadata": {},
     "output_type": "execute_result"
    }
   ],
   "source": [
    "# 2018 시즌 'avg', 'obp',\t'slg', 'ops' 계산하기\n",
    "\n",
    "# 타율(avg)\n",
    "hit_avg = hit_sum_2018['hit'] / hit_sum_2018['pa']\n",
    "hit_sum_2018['avg'] = round(hit_avg, 3)\n",
    "\n",
    "# 출루율(obp) / 출루율 = (안타 + 볼넷 + 사구) ÷ (타수 + 볼넷 + 사구 + 희생플라이)\n",
    "hit_obp = (hit_sum_2018['hit']+ hit_sum_2018['bb'] + hit_sum_2018['hbp'] + hit_sum_2018['ibb']) / (hit_sum_2018['pa'] + hit_sum_2018['bb'] + hit_sum_2018['hbp'] + hit_sum_2018['ibb'] + hit_sum_2018['sf'])\n",
    "hit_sum_2018['obp'] = round(hit_obp, 3)\n",
    "\n",
    "# 장타율(slg)\n",
    "hit_slg = (hit_sum_2018['hit'] + hit_sum_2018['second'] + 2*hit_sum_2018['third'] + 3*hit_sum_2018['homerun']) / hit_sum_2018['pa']\n",
    "hit_sum_2018['slg'] = round(hit_slg, 3)\n",
    "\n",
    "# 출루율 + 장타율 (ops)\n",
    "hit_ops = (hit_obp + hit_slg)\n",
    "hit_sum_2018['ops'] = round(hit_ops, 3)\n",
    "\n",
    "hit_sum_2018['avli'] = round(hit_sum_2018['avli'], 3) \n",
    "hit_sum_2018['re24'] = round(hit_sum_2018['re24'], 3) \n",
    "hit_sum_2018['wpa'] = round(hit_sum_2018['wpa'], 3) \n",
    "hit_sum_2018"
   ]
  },
  {
   "cell_type": "code",
   "execution_count": 62,
   "id": "b094e1a9-3d2f-47c1-b7aa-ece9c62e4859",
   "metadata": {},
   "outputs": [
    {
     "data": {
      "text/html": [
       "<div>\n",
       "<style scoped>\n",
       "    .dataframe tbody tr th:only-of-type {\n",
       "        vertical-align: middle;\n",
       "    }\n",
       "\n",
       "    .dataframe tbody tr th {\n",
       "        vertical-align: top;\n",
       "    }\n",
       "\n",
       "    .dataframe thead th {\n",
       "        text-align: right;\n",
       "    }\n",
       "</style>\n",
       "<table border=\"1\" class=\"dataframe\">\n",
       "  <thead>\n",
       "    <tr style=\"text-align: right;\">\n",
       "      <th></th>\n",
       "      <th>re24</th>\n",
       "      <th>wpa</th>\n",
       "      <th>avg</th>\n",
       "      <th>obp</th>\n",
       "      <th>slg</th>\n",
       "      <th>ops</th>\n",
       "    </tr>\n",
       "    <tr>\n",
       "      <th>code</th>\n",
       "      <th></th>\n",
       "      <th></th>\n",
       "      <th></th>\n",
       "      <th></th>\n",
       "      <th></th>\n",
       "      <th></th>\n",
       "    </tr>\n",
       "  </thead>\n",
       "  <tbody>\n",
       "    <tr>\n",
       "      <th>60184</th>\n",
       "      <td>-1.45</td>\n",
       "      <td>0.025</td>\n",
       "      <td>0.200</td>\n",
       "      <td>0.200</td>\n",
       "      <td>0.300</td>\n",
       "      <td>0.500</td>\n",
       "    </tr>\n",
       "    <tr>\n",
       "      <th>60343</th>\n",
       "      <td>-6.68</td>\n",
       "      <td>-0.693</td>\n",
       "      <td>0.216</td>\n",
       "      <td>0.266</td>\n",
       "      <td>0.389</td>\n",
       "      <td>0.655</td>\n",
       "    </tr>\n",
       "    <tr>\n",
       "      <th>60456</th>\n",
       "      <td>3.52</td>\n",
       "      <td>0.176</td>\n",
       "      <td>0.500</td>\n",
       "      <td>0.625</td>\n",
       "      <td>0.500</td>\n",
       "      <td>1.125</td>\n",
       "    </tr>\n",
       "    <tr>\n",
       "      <th>60523</th>\n",
       "      <td>3.65</td>\n",
       "      <td>-0.308</td>\n",
       "      <td>0.305</td>\n",
       "      <td>0.364</td>\n",
       "      <td>0.494</td>\n",
       "      <td>0.858</td>\n",
       "    </tr>\n",
       "    <tr>\n",
       "      <th>60558</th>\n",
       "      <td>-7.96</td>\n",
       "      <td>-0.028</td>\n",
       "      <td>0.254</td>\n",
       "      <td>0.310</td>\n",
       "      <td>0.421</td>\n",
       "      <td>0.731</td>\n",
       "    </tr>\n",
       "    <tr>\n",
       "      <th>...</th>\n",
       "      <td>...</td>\n",
       "      <td>...</td>\n",
       "      <td>...</td>\n",
       "      <td>...</td>\n",
       "      <td>...</td>\n",
       "      <td>...</td>\n",
       "    </tr>\n",
       "    <tr>\n",
       "      <th>79530</th>\n",
       "      <td>-0.24</td>\n",
       "      <td>-0.046</td>\n",
       "      <td>0.286</td>\n",
       "      <td>0.333</td>\n",
       "      <td>0.429</td>\n",
       "      <td>0.762</td>\n",
       "    </tr>\n",
       "    <tr>\n",
       "      <th>79608</th>\n",
       "      <td>44.85</td>\n",
       "      <td>4.044</td>\n",
       "      <td>0.341</td>\n",
       "      <td>0.392</td>\n",
       "      <td>0.560</td>\n",
       "      <td>0.952</td>\n",
       "    </tr>\n",
       "    <tr>\n",
       "      <th>79705</th>\n",
       "      <td>4.00</td>\n",
       "      <td>0.074</td>\n",
       "      <td>0.253</td>\n",
       "      <td>0.349</td>\n",
       "      <td>0.432</td>\n",
       "      <td>0.780</td>\n",
       "    </tr>\n",
       "    <tr>\n",
       "      <th>99606</th>\n",
       "      <td>-1.70</td>\n",
       "      <td>-0.331</td>\n",
       "      <td>0.293</td>\n",
       "      <td>0.367</td>\n",
       "      <td>0.418</td>\n",
       "      <td>0.786</td>\n",
       "    </tr>\n",
       "    <tr>\n",
       "      <th>99810</th>\n",
       "      <td>10.24</td>\n",
       "      <td>1.457</td>\n",
       "      <td>0.318</td>\n",
       "      <td>0.372</td>\n",
       "      <td>0.417</td>\n",
       "      <td>0.789</td>\n",
       "    </tr>\n",
       "  </tbody>\n",
       "</table>\n",
       "<p>238 rows × 6 columns</p>\n",
       "</div>"
      ],
      "text/plain": [
       "        re24    wpa    avg    obp    slg    ops\n",
       "code                                           \n",
       "60184  -1.45  0.025  0.200  0.200  0.300  0.500\n",
       "60343  -6.68 -0.693  0.216  0.266  0.389  0.655\n",
       "60456   3.52  0.176  0.500  0.625  0.500  1.125\n",
       "60523   3.65 -0.308  0.305  0.364  0.494  0.858\n",
       "60558  -7.96 -0.028  0.254  0.310  0.421  0.731\n",
       "...      ...    ...    ...    ...    ...    ...\n",
       "79530  -0.24 -0.046  0.286  0.333  0.429  0.762\n",
       "79608  44.85  4.044  0.341  0.392  0.560  0.952\n",
       "79705   4.00  0.074  0.253  0.349  0.432  0.780\n",
       "99606  -1.70 -0.331  0.293  0.367  0.418  0.786\n",
       "99810  10.24  1.457  0.318  0.372  0.417  0.789\n",
       "\n",
       "[238 rows x 6 columns]"
      ]
     },
     "execution_count": 62,
     "metadata": {},
     "output_type": "execute_result"
    }
   ],
   "source": [
    "# 타자의 6개 지표 데이터프레임으로 추출\n",
    "\n",
    "df_2018_hit = hit_sum_2018.drop(['pa', 'run', 'hit', 'second', 'third', 'homerun', 'luta', 'rbi', 'sb_s',\n",
    "       'sb_f', 'bb', 'hbp', 'ibb', 'k', 'dp', 'sh', 'sf', 'pit', 'avli'], axis=1)\n",
    "df_2018_hit"
   ]
  },
  {
   "cell_type": "code",
   "execution_count": 64,
   "id": "fc0016a5-66ce-4a9c-a874-0ad7c4e148b7",
   "metadata": {},
   "outputs": [
    {
     "data": {
      "text/html": [
       "<div>\n",
       "<style scoped>\n",
       "    .dataframe tbody tr th:only-of-type {\n",
       "        vertical-align: middle;\n",
       "    }\n",
       "\n",
       "    .dataframe tbody tr th {\n",
       "        vertical-align: top;\n",
       "    }\n",
       "\n",
       "    .dataframe thead th {\n",
       "        text-align: right;\n",
       "    }\n",
       "</style>\n",
       "<table border=\"1\" class=\"dataframe\">\n",
       "  <thead>\n",
       "    <tr style=\"text-align: right;\">\n",
       "      <th></th>\n",
       "      <th>code</th>\n",
       "      <th>re24</th>\n",
       "      <th>wpa</th>\n",
       "      <th>avg</th>\n",
       "      <th>obp</th>\n",
       "      <th>slg</th>\n",
       "      <th>ops</th>\n",
       "    </tr>\n",
       "  </thead>\n",
       "  <tbody>\n",
       "    <tr>\n",
       "      <th>0</th>\n",
       "      <td>60184</td>\n",
       "      <td>2.101784</td>\n",
       "      <td>2.243369</td>\n",
       "      <td>4.00</td>\n",
       "      <td>3.200</td>\n",
       "      <td>4.043127</td>\n",
       "      <td>4.194631</td>\n",
       "    </tr>\n",
       "    <tr>\n",
       "      <th>1</th>\n",
       "      <td>60343</td>\n",
       "      <td>1.552991</td>\n",
       "      <td>1.389318</td>\n",
       "      <td>4.32</td>\n",
       "      <td>4.256</td>\n",
       "      <td>5.242588</td>\n",
       "      <td>5.494966</td>\n",
       "    </tr>\n",
       "    <tr>\n",
       "      <th>2</th>\n",
       "      <td>60456</td>\n",
       "      <td>2.623295</td>\n",
       "      <td>2.422981</td>\n",
       "      <td>10.00</td>\n",
       "      <td>10.000</td>\n",
       "      <td>6.738544</td>\n",
       "      <td>9.437919</td>\n",
       "    </tr>\n",
       "    <tr>\n",
       "      <th>3</th>\n",
       "      <td>60523</td>\n",
       "      <td>2.636936</td>\n",
       "      <td>1.847270</td>\n",
       "      <td>6.10</td>\n",
       "      <td>5.824</td>\n",
       "      <td>6.657682</td>\n",
       "      <td>7.197987</td>\n",
       "    </tr>\n",
       "    <tr>\n",
       "      <th>4</th>\n",
       "      <td>60558</td>\n",
       "      <td>1.418678</td>\n",
       "      <td>2.180326</td>\n",
       "      <td>5.08</td>\n",
       "      <td>4.960</td>\n",
       "      <td>5.673854</td>\n",
       "      <td>6.132550</td>\n",
       "    </tr>\n",
       "    <tr>\n",
       "      <th>...</th>\n",
       "      <td>...</td>\n",
       "      <td>...</td>\n",
       "      <td>...</td>\n",
       "      <td>...</td>\n",
       "      <td>...</td>\n",
       "      <td>...</td>\n",
       "      <td>...</td>\n",
       "    </tr>\n",
       "    <tr>\n",
       "      <th>233</th>\n",
       "      <td>79530</td>\n",
       "      <td>2.228751</td>\n",
       "      <td>2.158915</td>\n",
       "      <td>5.72</td>\n",
       "      <td>5.328</td>\n",
       "      <td>5.781671</td>\n",
       "      <td>6.392617</td>\n",
       "    </tr>\n",
       "    <tr>\n",
       "      <th>234</th>\n",
       "      <td>79608</td>\n",
       "      <td>6.960126</td>\n",
       "      <td>7.023909</td>\n",
       "      <td>6.82</td>\n",
       "      <td>6.272</td>\n",
       "      <td>7.547170</td>\n",
       "      <td>7.986577</td>\n",
       "    </tr>\n",
       "    <tr>\n",
       "      <th>235</th>\n",
       "      <td>79705</td>\n",
       "      <td>2.673662</td>\n",
       "      <td>2.301653</td>\n",
       "      <td>5.06</td>\n",
       "      <td>5.584</td>\n",
       "      <td>5.822102</td>\n",
       "      <td>6.543624</td>\n",
       "    </tr>\n",
       "    <tr>\n",
       "      <th>236</th>\n",
       "      <td>99606</td>\n",
       "      <td>2.075551</td>\n",
       "      <td>1.819912</td>\n",
       "      <td>5.86</td>\n",
       "      <td>5.872</td>\n",
       "      <td>5.633423</td>\n",
       "      <td>6.593960</td>\n",
       "    </tr>\n",
       "    <tr>\n",
       "      <th>237</th>\n",
       "      <td>99810</td>\n",
       "      <td>3.328437</td>\n",
       "      <td>3.946711</td>\n",
       "      <td>6.36</td>\n",
       "      <td>5.952</td>\n",
       "      <td>5.619946</td>\n",
       "      <td>6.619128</td>\n",
       "    </tr>\n",
       "  </tbody>\n",
       "</table>\n",
       "<p>238 rows × 7 columns</p>\n",
       "</div>"
      ],
      "text/plain": [
       "      code      re24       wpa    avg     obp       slg       ops\n",
       "0    60184  2.101784  2.243369   4.00   3.200  4.043127  4.194631\n",
       "1    60343  1.552991  1.389318   4.32   4.256  5.242588  5.494966\n",
       "2    60456  2.623295  2.422981  10.00  10.000  6.738544  9.437919\n",
       "3    60523  2.636936  1.847270   6.10   5.824  6.657682  7.197987\n",
       "4    60558  1.418678  2.180326   5.08   4.960  5.673854  6.132550\n",
       "..     ...       ...       ...    ...     ...       ...       ...\n",
       "233  79530  2.228751  2.158915   5.72   5.328  5.781671  6.392617\n",
       "234  79608  6.960126  7.023909   6.82   6.272  7.547170  7.986577\n",
       "235  79705  2.673662  2.301653   5.06   5.584  5.822102  6.543624\n",
       "236  99606  2.075551  1.819912   5.86   5.872  5.633423  6.593960\n",
       "237  99810  3.328437  3.946711   6.36   5.952  5.619946  6.619128\n",
       "\n",
       "[238 rows x 7 columns]"
      ]
     },
     "execution_count": 64,
     "metadata": {},
     "output_type": "execute_result"
    }
   ],
   "source": [
    "# 시각화위해 scaling\n",
    "\n",
    "scaler = MinMaxScaler()\n",
    "hit_scaled_2018 = pd.DataFrame(scaler.fit_transform(df_2018_hit), columns=df_2018_hit.columns, index=df_2018_hit.index)*10\n",
    "hit_scaled_2018.reset_index(inplace=True)\n",
    "hit_scaled_2018"
   ]
  },
  {
   "cell_type": "code",
   "execution_count": 65,
   "id": "24b9d93e-c201-4ab1-8ad9-905bbf9e265d",
   "metadata": {},
   "outputs": [],
   "source": [
    "def hex_2018_chart(hit_scaled_2018, code):\n",
    "    df_player = hit_scaled_2018[hit_scaled_2018['code'] == code]\n",
    "    fig = px.line_polar(df_player, r = list(hit_scaled_2018[hit_scaled_2018['code'] == code][hit_scaled_2018.columns.difference(['code'])].iloc[0]),\n",
    "                       theta = ['re24', 'wpa', 'avg', 'obp', 'slg', 'ops'], line_close=True, color_discrete_sequence=px.colors.sequential.Plasma_r,\n",
    "                       template='plotly_dark')\n",
    "    fig.update_traces(fill='toself')\n",
    "    fig.show()"
   ]
  },
  {
   "cell_type": "code",
   "execution_count": 66,
   "id": "d0cd4bf4-5c3c-4283-85f7-2120adf276ca",
   "metadata": {
    "tags": []
   },
   "outputs": [
    {
     "data": {
      "application/vnd.plotly.v1+json": {
       "config": {
        "plotlyServerURL": "https://plot.ly"
       },
       "data": [
        {
         "fill": "toself",
         "hovertemplate": "r=%{r}<br>theta=%{theta}<extra></extra>",
         "legendgroup": "",
         "line": {
          "color": "#f0f921",
          "dash": "solid"
         },
         "marker": {
          "symbol": "circle"
         },
         "mode": "lines",
         "name": "",
         "r": [
          6.82,
          6.272000000000001,
          7.9865771812080535,
          6.960125918153201,
          7.547169811320755,
          7.023908647555608,
          6.82
         ],
         "showlegend": false,
         "subplot": "polar",
         "theta": [
          "re24",
          "wpa",
          "avg",
          "obp",
          "slg",
          "ops",
          "re24"
         ],
         "type": "scatterpolar"
        }
       ],
       "layout": {
        "autosize": true,
        "legend": {
         "tracegroupgap": 0
        },
        "margin": {
         "t": 60
        },
        "polar": {
         "angularaxis": {
          "direction": "clockwise",
          "rotation": 90,
          "type": "category"
         },
         "domain": {
          "x": [
           0,
           1
          ],
          "y": [
           0,
           1
          ]
         },
         "radialaxis": {
          "autorange": true,
          "range": [
           0,
           7.9865771812080535
          ],
          "type": "linear"
         }
        },
        "template": {
         "data": {
          "bar": [
           {
            "error_x": {
             "color": "#f2f5fa"
            },
            "error_y": {
             "color": "#f2f5fa"
            },
            "marker": {
             "line": {
              "color": "rgb(17,17,17)",
              "width": 0.5
             },
             "pattern": {
              "fillmode": "overlay",
              "size": 10,
              "solidity": 0.2
             }
            },
            "type": "bar"
           }
          ],
          "barpolar": [
           {
            "marker": {
             "line": {
              "color": "rgb(17,17,17)",
              "width": 0.5
             },
             "pattern": {
              "fillmode": "overlay",
              "size": 10,
              "solidity": 0.2
             }
            },
            "type": "barpolar"
           }
          ],
          "carpet": [
           {
            "aaxis": {
             "endlinecolor": "#A2B1C6",
             "gridcolor": "#506784",
             "linecolor": "#506784",
             "minorgridcolor": "#506784",
             "startlinecolor": "#A2B1C6"
            },
            "baxis": {
             "endlinecolor": "#A2B1C6",
             "gridcolor": "#506784",
             "linecolor": "#506784",
             "minorgridcolor": "#506784",
             "startlinecolor": "#A2B1C6"
            },
            "type": "carpet"
           }
          ],
          "choropleth": [
           {
            "colorbar": {
             "outlinewidth": 0,
             "ticks": ""
            },
            "type": "choropleth"
           }
          ],
          "contour": [
           {
            "colorbar": {
             "outlinewidth": 0,
             "ticks": ""
            },
            "colorscale": [
             [
              0,
              "#0d0887"
             ],
             [
              0.1111111111111111,
              "#46039f"
             ],
             [
              0.2222222222222222,
              "#7201a8"
             ],
             [
              0.3333333333333333,
              "#9c179e"
             ],
             [
              0.4444444444444444,
              "#bd3786"
             ],
             [
              0.5555555555555556,
              "#d8576b"
             ],
             [
              0.6666666666666666,
              "#ed7953"
             ],
             [
              0.7777777777777778,
              "#fb9f3a"
             ],
             [
              0.8888888888888888,
              "#fdca26"
             ],
             [
              1,
              "#f0f921"
             ]
            ],
            "type": "contour"
           }
          ],
          "contourcarpet": [
           {
            "colorbar": {
             "outlinewidth": 0,
             "ticks": ""
            },
            "type": "contourcarpet"
           }
          ],
          "heatmap": [
           {
            "colorbar": {
             "outlinewidth": 0,
             "ticks": ""
            },
            "colorscale": [
             [
              0,
              "#0d0887"
             ],
             [
              0.1111111111111111,
              "#46039f"
             ],
             [
              0.2222222222222222,
              "#7201a8"
             ],
             [
              0.3333333333333333,
              "#9c179e"
             ],
             [
              0.4444444444444444,
              "#bd3786"
             ],
             [
              0.5555555555555556,
              "#d8576b"
             ],
             [
              0.6666666666666666,
              "#ed7953"
             ],
             [
              0.7777777777777778,
              "#fb9f3a"
             ],
             [
              0.8888888888888888,
              "#fdca26"
             ],
             [
              1,
              "#f0f921"
             ]
            ],
            "type": "heatmap"
           }
          ],
          "heatmapgl": [
           {
            "colorbar": {
             "outlinewidth": 0,
             "ticks": ""
            },
            "colorscale": [
             [
              0,
              "#0d0887"
             ],
             [
              0.1111111111111111,
              "#46039f"
             ],
             [
              0.2222222222222222,
              "#7201a8"
             ],
             [
              0.3333333333333333,
              "#9c179e"
             ],
             [
              0.4444444444444444,
              "#bd3786"
             ],
             [
              0.5555555555555556,
              "#d8576b"
             ],
             [
              0.6666666666666666,
              "#ed7953"
             ],
             [
              0.7777777777777778,
              "#fb9f3a"
             ],
             [
              0.8888888888888888,
              "#fdca26"
             ],
             [
              1,
              "#f0f921"
             ]
            ],
            "type": "heatmapgl"
           }
          ],
          "histogram": [
           {
            "marker": {
             "pattern": {
              "fillmode": "overlay",
              "size": 10,
              "solidity": 0.2
             }
            },
            "type": "histogram"
           }
          ],
          "histogram2d": [
           {
            "colorbar": {
             "outlinewidth": 0,
             "ticks": ""
            },
            "colorscale": [
             [
              0,
              "#0d0887"
             ],
             [
              0.1111111111111111,
              "#46039f"
             ],
             [
              0.2222222222222222,
              "#7201a8"
             ],
             [
              0.3333333333333333,
              "#9c179e"
             ],
             [
              0.4444444444444444,
              "#bd3786"
             ],
             [
              0.5555555555555556,
              "#d8576b"
             ],
             [
              0.6666666666666666,
              "#ed7953"
             ],
             [
              0.7777777777777778,
              "#fb9f3a"
             ],
             [
              0.8888888888888888,
              "#fdca26"
             ],
             [
              1,
              "#f0f921"
             ]
            ],
            "type": "histogram2d"
           }
          ],
          "histogram2dcontour": [
           {
            "colorbar": {
             "outlinewidth": 0,
             "ticks": ""
            },
            "colorscale": [
             [
              0,
              "#0d0887"
             ],
             [
              0.1111111111111111,
              "#46039f"
             ],
             [
              0.2222222222222222,
              "#7201a8"
             ],
             [
              0.3333333333333333,
              "#9c179e"
             ],
             [
              0.4444444444444444,
              "#bd3786"
             ],
             [
              0.5555555555555556,
              "#d8576b"
             ],
             [
              0.6666666666666666,
              "#ed7953"
             ],
             [
              0.7777777777777778,
              "#fb9f3a"
             ],
             [
              0.8888888888888888,
              "#fdca26"
             ],
             [
              1,
              "#f0f921"
             ]
            ],
            "type": "histogram2dcontour"
           }
          ],
          "mesh3d": [
           {
            "colorbar": {
             "outlinewidth": 0,
             "ticks": ""
            },
            "type": "mesh3d"
           }
          ],
          "parcoords": [
           {
            "line": {
             "colorbar": {
              "outlinewidth": 0,
              "ticks": ""
             }
            },
            "type": "parcoords"
           }
          ],
          "pie": [
           {
            "automargin": true,
            "type": "pie"
           }
          ],
          "scatter": [
           {
            "marker": {
             "line": {
              "color": "#283442"
             }
            },
            "type": "scatter"
           }
          ],
          "scatter3d": [
           {
            "line": {
             "colorbar": {
              "outlinewidth": 0,
              "ticks": ""
             }
            },
            "marker": {
             "colorbar": {
              "outlinewidth": 0,
              "ticks": ""
             }
            },
            "type": "scatter3d"
           }
          ],
          "scattercarpet": [
           {
            "marker": {
             "colorbar": {
              "outlinewidth": 0,
              "ticks": ""
             }
            },
            "type": "scattercarpet"
           }
          ],
          "scattergeo": [
           {
            "marker": {
             "colorbar": {
              "outlinewidth": 0,
              "ticks": ""
             }
            },
            "type": "scattergeo"
           }
          ],
          "scattergl": [
           {
            "marker": {
             "line": {
              "color": "#283442"
             }
            },
            "type": "scattergl"
           }
          ],
          "scattermapbox": [
           {
            "marker": {
             "colorbar": {
              "outlinewidth": 0,
              "ticks": ""
             }
            },
            "type": "scattermapbox"
           }
          ],
          "scatterpolar": [
           {
            "marker": {
             "colorbar": {
              "outlinewidth": 0,
              "ticks": ""
             }
            },
            "type": "scatterpolar"
           }
          ],
          "scatterpolargl": [
           {
            "marker": {
             "colorbar": {
              "outlinewidth": 0,
              "ticks": ""
             }
            },
            "type": "scatterpolargl"
           }
          ],
          "scatterternary": [
           {
            "marker": {
             "colorbar": {
              "outlinewidth": 0,
              "ticks": ""
             }
            },
            "type": "scatterternary"
           }
          ],
          "surface": [
           {
            "colorbar": {
             "outlinewidth": 0,
             "ticks": ""
            },
            "colorscale": [
             [
              0,
              "#0d0887"
             ],
             [
              0.1111111111111111,
              "#46039f"
             ],
             [
              0.2222222222222222,
              "#7201a8"
             ],
             [
              0.3333333333333333,
              "#9c179e"
             ],
             [
              0.4444444444444444,
              "#bd3786"
             ],
             [
              0.5555555555555556,
              "#d8576b"
             ],
             [
              0.6666666666666666,
              "#ed7953"
             ],
             [
              0.7777777777777778,
              "#fb9f3a"
             ],
             [
              0.8888888888888888,
              "#fdca26"
             ],
             [
              1,
              "#f0f921"
             ]
            ],
            "type": "surface"
           }
          ],
          "table": [
           {
            "cells": {
             "fill": {
              "color": "#506784"
             },
             "line": {
              "color": "rgb(17,17,17)"
             }
            },
            "header": {
             "fill": {
              "color": "#2a3f5f"
             },
             "line": {
              "color": "rgb(17,17,17)"
             }
            },
            "type": "table"
           }
          ]
         },
         "layout": {
          "annotationdefaults": {
           "arrowcolor": "#f2f5fa",
           "arrowhead": 0,
           "arrowwidth": 1
          },
          "autotypenumbers": "strict",
          "coloraxis": {
           "colorbar": {
            "outlinewidth": 0,
            "ticks": ""
           }
          },
          "colorscale": {
           "diverging": [
            [
             0,
             "#8e0152"
            ],
            [
             0.1,
             "#c51b7d"
            ],
            [
             0.2,
             "#de77ae"
            ],
            [
             0.3,
             "#f1b6da"
            ],
            [
             0.4,
             "#fde0ef"
            ],
            [
             0.5,
             "#f7f7f7"
            ],
            [
             0.6,
             "#e6f5d0"
            ],
            [
             0.7,
             "#b8e186"
            ],
            [
             0.8,
             "#7fbc41"
            ],
            [
             0.9,
             "#4d9221"
            ],
            [
             1,
             "#276419"
            ]
           ],
           "sequential": [
            [
             0,
             "#0d0887"
            ],
            [
             0.1111111111111111,
             "#46039f"
            ],
            [
             0.2222222222222222,
             "#7201a8"
            ],
            [
             0.3333333333333333,
             "#9c179e"
            ],
            [
             0.4444444444444444,
             "#bd3786"
            ],
            [
             0.5555555555555556,
             "#d8576b"
            ],
            [
             0.6666666666666666,
             "#ed7953"
            ],
            [
             0.7777777777777778,
             "#fb9f3a"
            ],
            [
             0.8888888888888888,
             "#fdca26"
            ],
            [
             1,
             "#f0f921"
            ]
           ],
           "sequentialminus": [
            [
             0,
             "#0d0887"
            ],
            [
             0.1111111111111111,
             "#46039f"
            ],
            [
             0.2222222222222222,
             "#7201a8"
            ],
            [
             0.3333333333333333,
             "#9c179e"
            ],
            [
             0.4444444444444444,
             "#bd3786"
            ],
            [
             0.5555555555555556,
             "#d8576b"
            ],
            [
             0.6666666666666666,
             "#ed7953"
            ],
            [
             0.7777777777777778,
             "#fb9f3a"
            ],
            [
             0.8888888888888888,
             "#fdca26"
            ],
            [
             1,
             "#f0f921"
            ]
           ]
          },
          "colorway": [
           "#636efa",
           "#EF553B",
           "#00cc96",
           "#ab63fa",
           "#FFA15A",
           "#19d3f3",
           "#FF6692",
           "#B6E880",
           "#FF97FF",
           "#FECB52"
          ],
          "font": {
           "color": "#f2f5fa"
          },
          "geo": {
           "bgcolor": "rgb(17,17,17)",
           "lakecolor": "rgb(17,17,17)",
           "landcolor": "rgb(17,17,17)",
           "showlakes": true,
           "showland": true,
           "subunitcolor": "#506784"
          },
          "hoverlabel": {
           "align": "left"
          },
          "hovermode": "closest",
          "mapbox": {
           "style": "dark"
          },
          "paper_bgcolor": "rgb(17,17,17)",
          "plot_bgcolor": "rgb(17,17,17)",
          "polar": {
           "angularaxis": {
            "gridcolor": "#506784",
            "linecolor": "#506784",
            "ticks": ""
           },
           "bgcolor": "rgb(17,17,17)",
           "radialaxis": {
            "gridcolor": "#506784",
            "linecolor": "#506784",
            "ticks": ""
           }
          },
          "scene": {
           "xaxis": {
            "backgroundcolor": "rgb(17,17,17)",
            "gridcolor": "#506784",
            "gridwidth": 2,
            "linecolor": "#506784",
            "showbackground": true,
            "ticks": "",
            "zerolinecolor": "#C8D4E3"
           },
           "yaxis": {
            "backgroundcolor": "rgb(17,17,17)",
            "gridcolor": "#506784",
            "gridwidth": 2,
            "linecolor": "#506784",
            "showbackground": true,
            "ticks": "",
            "zerolinecolor": "#C8D4E3"
           },
           "zaxis": {
            "backgroundcolor": "rgb(17,17,17)",
            "gridcolor": "#506784",
            "gridwidth": 2,
            "linecolor": "#506784",
            "showbackground": true,
            "ticks": "",
            "zerolinecolor": "#C8D4E3"
           }
          },
          "shapedefaults": {
           "line": {
            "color": "#f2f5fa"
           }
          },
          "sliderdefaults": {
           "bgcolor": "#C8D4E3",
           "bordercolor": "rgb(17,17,17)",
           "borderwidth": 1,
           "tickwidth": 0
          },
          "ternary": {
           "aaxis": {
            "gridcolor": "#506784",
            "linecolor": "#506784",
            "ticks": ""
           },
           "baxis": {
            "gridcolor": "#506784",
            "linecolor": "#506784",
            "ticks": ""
           },
           "bgcolor": "rgb(17,17,17)",
           "caxis": {
            "gridcolor": "#506784",
            "linecolor": "#506784",
            "ticks": ""
           }
          },
          "title": {
           "x": 0.05
          },
          "updatemenudefaults": {
           "bgcolor": "#506784",
           "borderwidth": 0
          },
          "xaxis": {
           "automargin": true,
           "gridcolor": "#283442",
           "linecolor": "#506784",
           "ticks": "",
           "title": {
            "standoff": 15
           },
           "zerolinecolor": "#283442",
           "zerolinewidth": 2
          },
          "yaxis": {
           "automargin": true,
           "gridcolor": "#283442",
           "linecolor": "#506784",
           "ticks": "",
           "title": {
            "standoff": 15
           },
           "zerolinecolor": "#283442",
           "zerolinewidth": 2
          }
         }
        }
       }
      },
      "image/png": "[encoded data removed]",
      "text/html": [
       "<div>                            <div id=\"567005f4-49ef-4094-b605-994ccea956c3\" class=\"plotly-graph-div\" style=\"height:525px; width:100%;\"></div>            <script type=\"text/javascript\">                require([\"plotly\"], function(Plotly) {                    window.PLOTLYENV=window.PLOTLYENV || {};                                    if (document.getElementById(\"567005f4-49ef-4094-b605-994ccea956c3\")) {                    Plotly.newPlot(                        \"567005f4-49ef-4094-b605-994ccea956c3\",                        [{\"hovertemplate\":\"r=%{r}<br>theta=%{theta}<extra></extra>\",\"legendgroup\":\"\",\"line\":{\"color\":\"#f0f921\",\"dash\":\"solid\"},\"marker\":{\"symbol\":\"circle\"},\"mode\":\"lines\",\"name\":\"\",\"r\":[6.82,6.272000000000001,7.9865771812080535,6.960125918153201,7.547169811320755,7.023908647555608,6.82],\"showlegend\":false,\"subplot\":\"polar\",\"theta\":[\"re24\",\"wpa\",\"avg\",\"obp\",\"slg\",\"ops\",\"re24\"],\"type\":\"scatterpolar\",\"fill\":\"toself\"}],                        {\"template\":{\"data\":{\"barpolar\":[{\"marker\":{\"line\":{\"color\":\"rgb(17,17,17)\",\"width\":0.5},\"pattern\":{\"fillmode\":\"overlay\",\"size\":10,\"solidity\":0.2}},\"type\":\"barpolar\"}],\"bar\":[{\"error_x\":{\"color\":\"#f2f5fa\"},\"error_y\":{\"color\":\"#f2f5fa\"},\"marker\":{\"line\":{\"color\":\"rgb(17,17,17)\",\"width\":0.5},\"pattern\":{\"fillmode\":\"overlay\",\"size\":10,\"solidity\":0.2}},\"type\":\"bar\"}],\"carpet\":[{\"aaxis\":{\"endlinecolor\":\"#A2B1C6\",\"gridcolor\":\"#506784\",\"linecolor\":\"#506784\",\"minorgridcolor\":\"#506784\",\"startlinecolor\":\"#A2B1C6\"},\"baxis\":{\"endlinecolor\":\"#A2B1C6\",\"gridcolor\":\"#506784\",\"linecolor\":\"#506784\",\"minorgridcolor\":\"#506784\",\"startlinecolor\":\"#A2B1C6\"},\"type\":\"carpet\"}],\"choropleth\":[{\"colorbar\":{\"outlinewidth\":0,\"ticks\":\"\"},\"type\":\"choropleth\"}],\"contourcarpet\":[{\"colorbar\":{\"outlinewidth\":0,\"ticks\":\"\"},\"type\":\"contourcarpet\"}],\"contour\":[{\"colorbar\":{\"outlinewidth\":0,\"ticks\":\"\"},\"colorscale\":[[0.0,\"#0d0887\"],[0.1111111111111111,\"#46039f\"],[0.2222222222222222,\"#7201a8\"],[0.3333333333333333,\"#9c179e\"],[0.4444444444444444,\"#bd3786\"],[0.5555555555555556,\"#d8576b\"],[0.6666666666666666,\"#ed7953\"],[0.7777777777777778,\"#fb9f3a\"],[0.8888888888888888,\"#fdca26\"],[1.0,\"#f0f921\"]],\"type\":\"contour\"}],\"heatmapgl\":[{\"colorbar\":{\"outlinewidth\":0,\"ticks\":\"\"},\"colorscale\":[[0.0,\"#0d0887\"],[0.1111111111111111,\"#46039f\"],[0.2222222222222222,\"#7201a8\"],[0.3333333333333333,\"#9c179e\"],[0.4444444444444444,\"#bd3786\"],[0.5555555555555556,\"#d8576b\"],[0.6666666666666666,\"#ed7953\"],[0.7777777777777778,\"#fb9f3a\"],[0.8888888888888888,\"#fdca26\"],[1.0,\"#f0f921\"]],\"type\":\"heatmapgl\"}],\"heatmap\":[{\"colorbar\":{\"outlinewidth\":0,\"ticks\":\"\"},\"colorscale\":[[0.0,\"#0d0887\"],[0.1111111111111111,\"#46039f\"],[0.2222222222222222,\"#7201a8\"],[0.3333333333333333,\"#9c179e\"],[0.4444444444444444,\"#bd3786\"],[0.5555555555555556,\"#d8576b\"],[0.6666666666666666,\"#ed7953\"],[0.7777777777777778,\"#fb9f3a\"],[0.8888888888888888,\"#fdca26\"],[1.0,\"#f0f921\"]],\"type\":\"heatmap\"}],\"histogram2dcontour\":[{\"colorbar\":{\"outlinewidth\":0,\"ticks\":\"\"},\"colorscale\":[[0.0,\"#0d0887\"],[0.1111111111111111,\"#46039f\"],[0.2222222222222222,\"#7201a8\"],[0.3333333333333333,\"#9c179e\"],[0.4444444444444444,\"#bd3786\"],[0.5555555555555556,\"#d8576b\"],[0.6666666666666666,\"#ed7953\"],[0.7777777777777778,\"#fb9f3a\"],[0.8888888888888888,\"#fdca26\"],[1.0,\"#f0f921\"]],\"type\":\"histogram2dcontour\"}],\"histogram2d\":[{\"colorbar\":{\"outlinewidth\":0,\"ticks\":\"\"},\"colorscale\":[[0.0,\"#0d0887\"],[0.1111111111111111,\"#46039f\"],[0.2222222222222222,\"#7201a8\"],[0.3333333333333333,\"#9c179e\"],[0.4444444444444444,\"#bd3786\"],[0.5555555555555556,\"#d8576b\"],[0.6666666666666666,\"#ed7953\"],[0.7777777777777778,\"#fb9f3a\"],[0.8888888888888888,\"#fdca26\"],[1.0,\"#f0f921\"]],\"type\":\"histogram2d\"}],\"histogram\":[{\"marker\":{\"pattern\":{\"fillmode\":\"overlay\",\"size\":10,\"solidity\":0.2}},\"type\":\"histogram\"}],\"mesh3d\":[{\"colorbar\":{\"outlinewidth\":0,\"ticks\":\"\"},\"type\":\"mesh3d\"}],\"parcoords\":[{\"line\":{\"colorbar\":{\"outlinewidth\":0,\"ticks\":\"\"}},\"type\":\"parcoords\"}],\"pie\":[{\"automargin\":true,\"type\":\"pie\"}],\"scatter3d\":[{\"line\":{\"colorbar\":{\"outlinewidth\":0,\"ticks\":\"\"}},\"marker\":{\"colorbar\":{\"outlinewidth\":0,\"ticks\":\"\"}},\"type\":\"scatter3d\"}],\"scattercarpet\":[{\"marker\":{\"colorbar\":{\"outlinewidth\":0,\"ticks\":\"\"}},\"type\":\"scattercarpet\"}],\"scattergeo\":[{\"marker\":{\"colorbar\":{\"outlinewidth\":0,\"ticks\":\"\"}},\"type\":\"scattergeo\"}],\"scattergl\":[{\"marker\":{\"line\":{\"color\":\"#283442\"}},\"type\":\"scattergl\"}],\"scattermapbox\":[{\"marker\":{\"colorbar\":{\"outlinewidth\":0,\"ticks\":\"\"}},\"type\":\"scattermapbox\"}],\"scatterpolargl\":[{\"marker\":{\"colorbar\":{\"outlinewidth\":0,\"ticks\":\"\"}},\"type\":\"scatterpolargl\"}],\"scatterpolar\":[{\"marker\":{\"colorbar\":{\"outlinewidth\":0,\"ticks\":\"\"}},\"type\":\"scatterpolar\"}],\"scatter\":[{\"marker\":{\"line\":{\"color\":\"#283442\"}},\"type\":\"scatter\"}],\"scatterternary\":[{\"marker\":{\"colorbar\":{\"outlinewidth\":0,\"ticks\":\"\"}},\"type\":\"scatterternary\"}],\"surface\":[{\"colorbar\":{\"outlinewidth\":0,\"ticks\":\"\"},\"colorscale\":[[0.0,\"#0d0887\"],[0.1111111111111111,\"#46039f\"],[0.2222222222222222,\"#7201a8\"],[0.3333333333333333,\"#9c179e\"],[0.4444444444444444,\"#bd3786\"],[0.5555555555555556,\"#d8576b\"],[0.6666666666666666,\"#ed7953\"],[0.7777777777777778,\"#fb9f3a\"],[0.8888888888888888,\"#fdca26\"],[1.0,\"#f0f921\"]],\"type\":\"surface\"}],\"table\":[{\"cells\":{\"fill\":{\"color\":\"#506784\"},\"line\":{\"color\":\"rgb(17,17,17)\"}},\"header\":{\"fill\":{\"color\":\"#2a3f5f\"},\"line\":{\"color\":\"rgb(17,17,17)\"}},\"type\":\"table\"}]},\"layout\":{\"annotationdefaults\":{\"arrowcolor\":\"#f2f5fa\",\"arrowhead\":0,\"arrowwidth\":1},\"autotypenumbers\":\"strict\",\"coloraxis\":{\"colorbar\":{\"outlinewidth\":0,\"ticks\":\"\"}},\"colorscale\":{\"diverging\":[[0,\"#8e0152\"],[0.1,\"#c51b7d\"],[0.2,\"#de77ae\"],[0.3,\"#f1b6da\"],[0.4,\"#fde0ef\"],[0.5,\"#f7f7f7\"],[0.6,\"#e6f5d0\"],[0.7,\"#b8e186\"],[0.8,\"#7fbc41\"],[0.9,\"#4d9221\"],[1,\"#276419\"]],\"sequential\":[[0.0,\"#0d0887\"],[0.1111111111111111,\"#46039f\"],[0.2222222222222222,\"#7201a8\"],[0.3333333333333333,\"#9c179e\"],[0.4444444444444444,\"#bd3786\"],[0.5555555555555556,\"#d8576b\"],[0.6666666666666666,\"#ed7953\"],[0.7777777777777778,\"#fb9f3a\"],[0.8888888888888888,\"#fdca26\"],[1.0,\"#f0f921\"]],\"sequentialminus\":[[0.0,\"#0d0887\"],[0.1111111111111111,\"#46039f\"],[0.2222222222222222,\"#7201a8\"],[0.3333333333333333,\"#9c179e\"],[0.4444444444444444,\"#bd3786\"],[0.5555555555555556,\"#d8576b\"],[0.6666666666666666,\"#ed7953\"],[0.7777777777777778,\"#fb9f3a\"],[0.8888888888888888,\"#fdca26\"],[1.0,\"#f0f921\"]]},\"colorway\":[\"#636efa\",\"#EF553B\",\"#00cc96\",\"#ab63fa\",\"#FFA15A\",\"#19d3f3\",\"#FF6692\",\"#B6E880\",\"#FF97FF\",\"#FECB52\"],\"font\":{\"color\":\"#f2f5fa\"},\"geo\":{\"bgcolor\":\"rgb(17,17,17)\",\"lakecolor\":\"rgb(17,17,17)\",\"landcolor\":\"rgb(17,17,17)\",\"showlakes\":true,\"showland\":true,\"subunitcolor\":\"#506784\"},\"hoverlabel\":{\"align\":\"left\"},\"hovermode\":\"closest\",\"mapbox\":{\"style\":\"dark\"},\"paper_bgcolor\":\"rgb(17,17,17)\",\"plot_bgcolor\":\"rgb(17,17,17)\",\"polar\":{\"angularaxis\":{\"gridcolor\":\"#506784\",\"linecolor\":\"#506784\",\"ticks\":\"\"},\"bgcolor\":\"rgb(17,17,17)\",\"radialaxis\":{\"gridcolor\":\"#506784\",\"linecolor\":\"#506784\",\"ticks\":\"\"}},\"scene\":{\"xaxis\":{\"backgroundcolor\":\"rgb(17,17,17)\",\"gridcolor\":\"#506784\",\"gridwidth\":2,\"linecolor\":\"#506784\",\"showbackground\":true,\"ticks\":\"\",\"zerolinecolor\":\"#C8D4E3\"},\"yaxis\":{\"backgroundcolor\":\"rgb(17,17,17)\",\"gridcolor\":\"#506784\",\"gridwidth\":2,\"linecolor\":\"#506784\",\"showbackground\":true,\"ticks\":\"\",\"zerolinecolor\":\"#C8D4E3\"},\"zaxis\":{\"backgroundcolor\":\"rgb(17,17,17)\",\"gridcolor\":\"#506784\",\"gridwidth\":2,\"linecolor\":\"#506784\",\"showbackground\":true,\"ticks\":\"\",\"zerolinecolor\":\"#C8D4E3\"}},\"shapedefaults\":{\"line\":{\"color\":\"#f2f5fa\"}},\"sliderdefaults\":{\"bgcolor\":\"#C8D4E3\",\"bordercolor\":\"rgb(17,17,17)\",\"borderwidth\":1,\"tickwidth\":0},\"ternary\":{\"aaxis\":{\"gridcolor\":\"#506784\",\"linecolor\":\"#506784\",\"ticks\":\"\"},\"baxis\":{\"gridcolor\":\"#506784\",\"linecolor\":\"#506784\",\"ticks\":\"\"},\"bgcolor\":\"rgb(17,17,17)\",\"caxis\":{\"gridcolor\":\"#506784\",\"linecolor\":\"#506784\",\"ticks\":\"\"}},\"title\":{\"x\":0.05},\"updatemenudefaults\":{\"bgcolor\":\"#506784\",\"borderwidth\":0},\"xaxis\":{\"automargin\":true,\"gridcolor\":\"#283442\",\"linecolor\":\"#506784\",\"ticks\":\"\",\"title\":{\"standoff\":15},\"zerolinecolor\":\"#283442\",\"zerolinewidth\":2},\"yaxis\":{\"automargin\":true,\"gridcolor\":\"#283442\",\"linecolor\":\"#506784\",\"ticks\":\"\",\"title\":{\"standoff\":15},\"zerolinecolor\":\"#283442\",\"zerolinewidth\":2}}},\"polar\":{\"domain\":{\"x\":[0.0,1.0],\"y\":[0.0,1.0]},\"angularaxis\":{\"direction\":\"clockwise\",\"rotation\":90}},\"legend\":{\"tracegroupgap\":0},\"margin\":{\"t\":60}},                        {\"responsive\": true}                    ).then(function(){\n",
       "                            \n",
       "var gd = document.getElementById('567005f4-49ef-4094-b605-994ccea956c3');\n",
       "var x = new MutationObserver(function (mutations, observer) {{\n",
       "        var display = window.getComputedStyle(gd).display;\n",
       "        if (!display || display === 'none') {{\n",
       "            console.log([gd, 'removed!']);\n",
       "            Plotly.purge(gd);\n",
       "            observer.disconnect();\n",
       "        }}\n",
       "}});\n",
       "\n",
       "// Listen for the removal of the full notebook cells\n",
       "var notebookContainer = gd.closest('#notebook-container');\n",
       "if (notebookContainer) {{\n",
       "    x.observe(notebookContainer, {childList: true});\n",
       "}}\n",
       "\n",
       "// Listen for the clearing of the current output cell\n",
       "var outputEl = gd.closest('.output');\n",
       "if (outputEl) {{\n",
       "    x.observe(outputEl, {childList: true});\n",
       "}}\n",
       "\n",
       "                        })                };                });            </script>        </div>"
      ]
     },
     "metadata": {},
     "output_type": "display_data"
    }
   ],
   "source": [
    "hex_2018_chart(hit_scaled_2018, 79608)"
   ]
  },
  {
   "cell_type": "code",
   "execution_count": null,
   "id": "2436ee33-09de-4271-9b1c-33d7ce0ea59c",
   "metadata": {},
   "outputs": [],
   "source": []
  },
  {
   "cell_type": "code",
   "execution_count": 5,
   "id": "d21b3122-30eb-4f85-8f42-cea9ee0a3d48",
   "metadata": {},
   "outputs": [
    {
     "data": {
      "text/html": [
       "<div>\n",
       "<style scoped>\n",
       "    .dataframe tbody tr th:only-of-type {\n",
       "        vertical-align: middle;\n",
       "    }\n",
       "\n",
       "    .dataframe tbody tr th {\n",
       "        vertical-align: top;\n",
       "    }\n",
       "\n",
       "    .dataframe thead th {\n",
       "        text-align: right;\n",
       "    }\n",
       "</style>\n",
       "<table border=\"1\" class=\"dataframe\">\n",
       "  <thead>\n",
       "    <tr style=\"text-align: right;\">\n",
       "      <th></th>\n",
       "      <th>idx</th>\n",
       "      <th>code</th>\n",
       "      <th>year</th>\n",
       "      <th>date</th>\n",
       "      <th>result</th>\n",
       "      <th>startup</th>\n",
       "      <th>ip</th>\n",
       "      <th>run</th>\n",
       "      <th>er</th>\n",
       "      <th>bf</th>\n",
       "      <th>...</th>\n",
       "      <th>avg</th>\n",
       "      <th>obp</th>\n",
       "      <th>ops</th>\n",
       "      <th>era</th>\n",
       "      <th>avli</th>\n",
       "      <th>re24</th>\n",
       "      <th>wpa</th>\n",
       "      <th>gsc</th>\n",
       "      <th>decision</th>\n",
       "      <th>itv</th>\n",
       "    </tr>\n",
       "  </thead>\n",
       "  <tbody>\n",
       "    <tr>\n",
       "      <th>0</th>\n",
       "      <td>0</td>\n",
       "      <td>65742</td>\n",
       "      <td>2018</td>\n",
       "      <td>03-24</td>\n",
       "      <td>W 6:3</td>\n",
       "      <td>1</td>\n",
       "      <td>6.2</td>\n",
       "      <td>3</td>\n",
       "      <td>2</td>\n",
       "      <td>27</td>\n",
       "      <td>...</td>\n",
       "      <td>0.346</td>\n",
       "      <td>0.36</td>\n",
       "      <td>0.78</td>\n",
       "      <td>2.70</td>\n",
       "      <td>0.84</td>\n",
       "      <td>0.35</td>\n",
       "      <td>0.070</td>\n",
       "      <td>51</td>\n",
       "      <td>W</td>\n",
       "      <td>7+</td>\n",
       "    </tr>\n",
       "    <tr>\n",
       "      <th>1</th>\n",
       "      <td>1</td>\n",
       "      <td>65742</td>\n",
       "      <td>2018</td>\n",
       "      <td>03-30</td>\n",
       "      <td>W 10:8</td>\n",
       "      <td>1</td>\n",
       "      <td>6.1</td>\n",
       "      <td>6</td>\n",
       "      <td>6</td>\n",
       "      <td>29</td>\n",
       "      <td>...</td>\n",
       "      <td>0.321</td>\n",
       "      <td>0.33</td>\n",
       "      <td>0.94</td>\n",
       "      <td>8.53</td>\n",
       "      <td>0.76</td>\n",
       "      <td>-1.84</td>\n",
       "      <td>-0.123</td>\n",
       "      <td>38</td>\n",
       "      <td>NaN</td>\n",
       "      <td>6</td>\n",
       "    </tr>\n",
       "    <tr>\n",
       "      <th>2</th>\n",
       "      <td>2</td>\n",
       "      <td>65742</td>\n",
       "      <td>2018</td>\n",
       "      <td>04-05</td>\n",
       "      <td>W 4:3</td>\n",
       "      <td>1</td>\n",
       "      <td>7.0</td>\n",
       "      <td>2</td>\n",
       "      <td>2</td>\n",
       "      <td>27</td>\n",
       "      <td>...</td>\n",
       "      <td>0.200</td>\n",
       "      <td>0.21</td>\n",
       "      <td>0.57</td>\n",
       "      <td>2.57</td>\n",
       "      <td>0.93</td>\n",
       "      <td>1.89</td>\n",
       "      <td>0.148</td>\n",
       "      <td>63</td>\n",
       "      <td>NaN</td>\n",
       "      <td>6</td>\n",
       "    </tr>\n",
       "    <tr>\n",
       "      <th>3</th>\n",
       "      <td>3</td>\n",
       "      <td>65742</td>\n",
       "      <td>2018</td>\n",
       "      <td>04-11</td>\n",
       "      <td>L 0:12</td>\n",
       "      <td>1</td>\n",
       "      <td>4.1</td>\n",
       "      <td>5</td>\n",
       "      <td>5</td>\n",
       "      <td>24</td>\n",
       "      <td>...</td>\n",
       "      <td>0.421</td>\n",
       "      <td>0.41</td>\n",
       "      <td>0.88</td>\n",
       "      <td>10.38</td>\n",
       "      <td>0.89</td>\n",
       "      <td>-3.88</td>\n",
       "      <td>-0.214</td>\n",
       "      <td>29</td>\n",
       "      <td>L</td>\n",
       "      <td>6</td>\n",
       "    </tr>\n",
       "    <tr>\n",
       "      <th>4</th>\n",
       "      <td>4</td>\n",
       "      <td>65742</td>\n",
       "      <td>2018</td>\n",
       "      <td>04-17</td>\n",
       "      <td>L 2:3</td>\n",
       "      <td>1</td>\n",
       "      <td>7.0</td>\n",
       "      <td>2</td>\n",
       "      <td>2</td>\n",
       "      <td>26</td>\n",
       "      <td>...</td>\n",
       "      <td>0.208</td>\n",
       "      <td>0.22</td>\n",
       "      <td>0.47</td>\n",
       "      <td>2.57</td>\n",
       "      <td>1.14</td>\n",
       "      <td>1.89</td>\n",
       "      <td>0.160</td>\n",
       "      <td>62</td>\n",
       "      <td>NaN</td>\n",
       "      <td>6</td>\n",
       "    </tr>\n",
       "    <tr>\n",
       "      <th>...</th>\n",
       "      <td>...</td>\n",
       "      <td>...</td>\n",
       "      <td>...</td>\n",
       "      <td>...</td>\n",
       "      <td>...</td>\n",
       "      <td>...</td>\n",
       "      <td>...</td>\n",
       "      <td>...</td>\n",
       "      <td>...</td>\n",
       "      <td>...</td>\n",
       "      <td>...</td>\n",
       "      <td>...</td>\n",
       "      <td>...</td>\n",
       "      <td>...</td>\n",
       "      <td>...</td>\n",
       "      <td>...</td>\n",
       "      <td>...</td>\n",
       "      <td>...</td>\n",
       "      <td>...</td>\n",
       "      <td>...</td>\n",
       "      <td>...</td>\n",
       "    </tr>\n",
       "    <tr>\n",
       "      <th>13248</th>\n",
       "      <td>13248</td>\n",
       "      <td>53825</td>\n",
       "      <td>2023</td>\n",
       "      <td>06-24</td>\n",
       "      <td>W 13:10</td>\n",
       "      <td>1</td>\n",
       "      <td>5.0</td>\n",
       "      <td>6</td>\n",
       "      <td>6</td>\n",
       "      <td>26</td>\n",
       "      <td>...</td>\n",
       "      <td>0.450</td>\n",
       "      <td>0.45</td>\n",
       "      <td>1.05</td>\n",
       "      <td>10.80</td>\n",
       "      <td>1.56</td>\n",
       "      <td>-3.23</td>\n",
       "      <td>-0.327</td>\n",
       "      <td>22</td>\n",
       "      <td>NaN</td>\n",
       "      <td>6</td>\n",
       "    </tr>\n",
       "    <tr>\n",
       "      <th>13249</th>\n",
       "      <td>13249</td>\n",
       "      <td>68419</td>\n",
       "      <td>2023</td>\n",
       "      <td>06-24</td>\n",
       "      <td>L 10:13</td>\n",
       "      <td>1</td>\n",
       "      <td>4.2</td>\n",
       "      <td>6</td>\n",
       "      <td>6</td>\n",
       "      <td>23</td>\n",
       "      <td>...</td>\n",
       "      <td>0.409</td>\n",
       "      <td>0.42</td>\n",
       "      <td>1.10</td>\n",
       "      <td>11.57</td>\n",
       "      <td>0.89</td>\n",
       "      <td>-2.04</td>\n",
       "      <td>-0.049</td>\n",
       "      <td>24</td>\n",
       "      <td>NaN</td>\n",
       "      <td>6</td>\n",
       "    </tr>\n",
       "    <tr>\n",
       "      <th>13250</th>\n",
       "      <td>13250</td>\n",
       "      <td>53322</td>\n",
       "      <td>2023</td>\n",
       "      <td>06-25</td>\n",
       "      <td>L 2:17</td>\n",
       "      <td>1</td>\n",
       "      <td>4.0</td>\n",
       "      <td>2</td>\n",
       "      <td>2</td>\n",
       "      <td>19</td>\n",
       "      <td>...</td>\n",
       "      <td>0.312</td>\n",
       "      <td>0.36</td>\n",
       "      <td>0.67</td>\n",
       "      <td>4.50</td>\n",
       "      <td>1.11</td>\n",
       "      <td>0.22</td>\n",
       "      <td>-0.036</td>\n",
       "      <td>43</td>\n",
       "      <td>L</td>\n",
       "      <td>7+</td>\n",
       "    </tr>\n",
       "    <tr>\n",
       "      <th>13251</th>\n",
       "      <td>13251</td>\n",
       "      <td>69134</td>\n",
       "      <td>2023</td>\n",
       "      <td>06-20</td>\n",
       "      <td>L 4:8</td>\n",
       "      <td>0</td>\n",
       "      <td>1.0</td>\n",
       "      <td>2</td>\n",
       "      <td>2</td>\n",
       "      <td>7</td>\n",
       "      <td>...</td>\n",
       "      <td>0.600</td>\n",
       "      <td>0.50</td>\n",
       "      <td>1.10</td>\n",
       "      <td>18.00</td>\n",
       "      <td>0.58</td>\n",
       "      <td>-1.45</td>\n",
       "      <td>-0.076</td>\n",
       "      <td>NaN</td>\n",
       "      <td>NaN</td>\n",
       "      <td>3</td>\n",
       "    </tr>\n",
       "    <tr>\n",
       "      <th>13252</th>\n",
       "      <td>13252</td>\n",
       "      <td>69134</td>\n",
       "      <td>2023</td>\n",
       "      <td>06-25</td>\n",
       "      <td>W 7:3</td>\n",
       "      <td>1</td>\n",
       "      <td>2.0</td>\n",
       "      <td>1</td>\n",
       "      <td>1</td>\n",
       "      <td>10</td>\n",
       "      <td>...</td>\n",
       "      <td>0.333</td>\n",
       "      <td>0.36</td>\n",
       "      <td>0.69</td>\n",
       "      <td>4.50</td>\n",
       "      <td>1.24</td>\n",
       "      <td>0.71</td>\n",
       "      <td>0.059</td>\n",
       "      <td>45</td>\n",
       "      <td>NaN</td>\n",
       "      <td>5</td>\n",
       "    </tr>\n",
       "  </tbody>\n",
       "</table>\n",
       "<p>13253 rows × 31 columns</p>\n",
       "</div>"
      ],
      "text/plain": [
       "         idx   code  year   date   result  startup   ip  run  er  bf  ...  \\\n",
       "0          0  65742  2018  03-24    W 6:3        1  6.2    3   2  27  ...   \n",
       "1          1  65742  2018  03-30   W 10:8        1  6.1    6   6  29  ...   \n",
       "2          2  65742  2018  04-05    W 4:3        1  7.0    2   2  27  ...   \n",
       "3          3  65742  2018  04-11   L 0:12        1  4.1    5   5  24  ...   \n",
       "4          4  65742  2018  04-17    L 2:3        1  7.0    2   2  26  ...   \n",
       "...      ...    ...   ...    ...      ...      ...  ...  ...  ..  ..  ...   \n",
       "13248  13248  53825  2023  06-24  W 13:10        1  5.0    6   6  26  ...   \n",
       "13249  13249  68419  2023  06-24  L 10:13        1  4.2    6   6  23  ...   \n",
       "13250  13250  53322  2023  06-25   L 2:17        1  4.0    2   2  19  ...   \n",
       "13251  13251  69134  2023  06-20    L 4:8        0  1.0    2   2   7  ...   \n",
       "13252  13252  69134  2023  06-25    W 7:3        1  2.0    1   1  10  ...   \n",
       "\n",
       "         avg   obp   ops    era  avli  re24    wpa  gsc  decision  itv  \n",
       "0      0.346  0.36  0.78   2.70  0.84  0.35  0.070   51         W   7+  \n",
       "1      0.321  0.33  0.94   8.53  0.76 -1.84 -0.123   38       NaN    6  \n",
       "2      0.200  0.21  0.57   2.57  0.93  1.89  0.148   63       NaN    6  \n",
       "3      0.421  0.41  0.88  10.38  0.89 -3.88 -0.214   29         L    6  \n",
       "4      0.208  0.22  0.47   2.57  1.14  1.89  0.160   62       NaN    6  \n",
       "...      ...   ...   ...    ...   ...   ...    ...  ...       ...  ...  \n",
       "13248  0.450  0.45  1.05  10.80  1.56 -3.23 -0.327   22       NaN    6  \n",
       "13249  0.409  0.42  1.10  11.57  0.89 -2.04 -0.049   24       NaN    6  \n",
       "13250  0.312  0.36  0.67   4.50  1.11  0.22 -0.036   43         L   7+  \n",
       "13251  0.600  0.50  1.10  18.00  0.58 -1.45 -0.076  NaN       NaN    3  \n",
       "13252  0.333  0.36  0.69   4.50  1.24  0.71  0.059   45       NaN    5  \n",
       "\n",
       "[13253 rows x 31 columns]"
      ]
     },
     "execution_count": 5,
     "metadata": {},
     "output_type": "execute_result"
    }
   ],
   "source": [
    "# 투수\n",
    "\n",
    "df_pit = pd.read_csv('Base_pit.csv')\n",
    "df_pit"
   ]
  },
  {
   "cell_type": "code",
   "execution_count": 6,
   "id": "da1ad3c7-d019-48d2-84f0-021162a4859d",
   "metadata": {},
   "outputs": [
    {
     "data": {
      "text/plain": [
       "Index(['idx', 'code', 'year', 'date', 'result', 'startup', 'ip', 'run', 'er',\n",
       "       'bf', 'ab', 'hit', 'second', 'third', 'homerun', 'bb', 'ibb', 'hbp',\n",
       "       'k', 'pit', 'whip', 'avg', 'obp', 'ops', 'era', 'avli', 're24', 'wpa',\n",
       "       'gsc', 'decision', 'itv'],\n",
       "      dtype='object')"
      ]
     },
     "execution_count": 6,
     "metadata": {},
     "output_type": "execute_result"
    }
   ],
   "source": [
    "df_pit.columns"
   ]
  }
 ],
 "metadata": {
  "kernelspec": {
   "display_name": "Python 3 (ipykernel)",
   "language": "python",
   "name": "python3"
  },
  "language_info": {
   "codemirror_mode": {
    "name": "ipython",
    "version": 3
   },
   "file_extension": ".py",
   "mimetype": "text/x-python",
   "name": "python",
   "nbconvert_exporter": "python",
   "pygments_lexer": "ipython3",
   "version": "3.10.7"
  }
 },
 "nbformat": 4,
 "nbformat_minor": 5
}
